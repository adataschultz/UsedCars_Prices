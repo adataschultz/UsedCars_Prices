{
  "cells": [
    {
      "cell_type": "markdown",
      "source": [
        "# Used Car Prices CarGurus: KNeighborsRegressor GPU\n",
        "## Optuna Hyperparameter Optimization"
      ],
      "metadata": {
        "id": "HkJ7rG5dy6G5"
      }
    },
    {
      "cell_type": "markdown",
      "source": [
        "## Set Up Environment, Read Data, Split Train/Test Sets"
      ],
      "metadata": {
        "id": "7d9gmYCOt1MT"
      }
    },
    {
      "cell_type": "code",
      "execution_count": null,
      "metadata": {
        "colab": {
          "base_uri": "https://localhost:8080/"
        },
        "id": "0GM0SPJvbtpp",
        "outputId": "c9ff31f9-328d-4e62-b0f3-0e2b706e9927"
      },
      "outputs": [
        {
          "output_type": "stream",
          "name": "stdout",
          "text": [
            "Drive already mounted at /content/drive; to attempt to forcibly remount, call drive.mount(\"/content/drive\", force_remount=True).\n"
          ]
        }
      ],
      "source": [
        "from google.colab import drive \n",
        "drive.mount('/content/drive')"
      ]
    },
    {
      "cell_type": "code",
      "execution_count": null,
      "metadata": {
        "colab": {
          "base_uri": "https://localhost:8080/"
        },
        "id": "1QgtURR8bxcc",
        "outputId": "6aed5156-a91e-4121-9d25-4085b53df108"
      },
      "outputs": [
        {
          "output_type": "stream",
          "name": "stdout",
          "text": [
            "/content/drive/MyDrive/RAPIDS\n"
          ]
        }
      ],
      "source": [
        "%cd /content/drive/MyDrive/RAPIDS"
      ]
    },
    {
      "cell_type": "code",
      "execution_count": null,
      "metadata": {
        "colab": {
          "base_uri": "https://localhost:8080/"
        },
        "id": "nE-jTvqUZwaz",
        "outputId": "987d68d7-94c9-4561-84d2-00e10ad0eade"
      },
      "outputs": [
        {
          "output_type": "stream",
          "name": "stdout",
          "text": [
            "Looking in indexes: https://pypi.org/simple, https://us-python.pkg.dev/colab-wheels/public/simple/\n",
            "Requirement already satisfied: pynvml==11.4.1 in /usr/local/lib/python3.8/site-packages (11.4.1)\n",
            "\u001b[33mWARNING: Running pip as the 'root' user can result in broken permissions and conflicting behaviour with the system package manager. It is recommended to use a virtual environment instead: https://pip.pypa.io/warnings/venv\u001b[0m\u001b[33m\n",
            "\u001b[0m***********************************************************************\n",
            "Woo! Your instance has the right kind of GPU, a Tesla T4!\n",
            "***********************************************************************\n",
            "\n"
          ]
        }
      ],
      "source": [
        "!pip install pynvml==11.4.1\n",
        "# Clone RAPIDS-Colab install files and see if GPU is compatible\n",
        "#!git clone https://github.com/rapidsai/rapidsai-csp-utils.git\n",
        "!python rapidsai-csp-utils/colab/env-check.py"
      ]
    },
    {
      "cell_type": "code",
      "execution_count": null,
      "metadata": {
        "id": "JI7UTXbhaBon"
      },
      "outputs": [],
      "source": [
        "# Update the Colab environment and restart the kernel\n",
        "!bash rapidsai-csp-utils/colab/update_gcc.sh\n",
        "import os\n",
        "os._exit(00)"
      ]
    },
    {
      "cell_type": "code",
      "execution_count": null,
      "metadata": {
        "colab": {
          "base_uri": "https://localhost:8080/"
        },
        "id": "qg2SasWKaBsB",
        "outputId": "7443ebab-7b68-45dc-f792-d5770a466d56"
      },
      "outputs": [
        {
          "output_type": "stream",
          "name": "stdout",
          "text": [
            "⏬ Downloading https://github.com/jaimergp/miniforge/releases/latest/download/Mambaforge-colab-Linux-x86_64.sh...\n",
            "📦 Installing...\n",
            "📌 Adjusting configuration...\n",
            "🩹 Patching environment...\n",
            "⏲ Done in 0:00:30\n",
            "🔁 Restarting kernel...\n"
          ]
        }
      ],
      "source": [
        "# Install CondaColab and restart the kernel \n",
        "import condacolab\n",
        "condacolab.install()"
      ]
    },
    {
      "cell_type": "code",
      "execution_count": null,
      "metadata": {
        "colab": {
          "base_uri": "https://localhost:8080/"
        },
        "id": "fKSMDrN_aB-v",
        "outputId": "5776e720-430e-475f-b724-e2be22fafdb9"
      },
      "outputs": [
        {
          "output_type": "stream",
          "name": "stdout",
          "text": [
            "✨🍰✨ Everything looks OK!\n"
          ]
        }
      ],
      "source": [
        "# See if environment is ready to install RAPIDS\n",
        "import condacolab\n",
        "condacolab.check()"
      ]
    },
    {
      "cell_type": "code",
      "execution_count": null,
      "metadata": {
        "id": "m0jdXBRiDSzj"
      },
      "outputs": [],
      "source": [
        "# Install RAPIDS using the 'stable' release\n",
        "!python rapidsai-csp-utils/colab/install_rapids.py stable\n",
        "import os\n",
        "os.environ['NUMBAPRO_NVVM'] = '/usr/local/cuda/nvvm/lib64/libnvvm.so'\n",
        "os.environ['NUMBAPRO_LIBDEVICE'] = '/usr/local/cuda/nvvm/libdevice/'\n",
        "os.environ['CONDA_PREFIX'] = '/usr/local'"
      ]
    },
    {
      "cell_type": "code",
      "source": [
        "# Install/import dependencies\n",
        "!pip install optuna\n",
        "!pip install dask_optuna\n",
        "import os\n",
        "import random\n",
        "import numpy as np\n",
        "import time\n",
        "from contextlib import contextmanager\n",
        "import cupy as cp\n",
        "import cudf\n",
        "import cuml\n",
        "from cuml.model_selection import train_test_split\n",
        "from cuml.neighbors import KNeighborsRegressor\n",
        "import optuna\n",
        "from optuna import Trial\n",
        "import dask\n",
        "import dask_cudf\n",
        "import dask_optuna\n",
        "from dask_cuda import LocalCUDACluster\n",
        "from dask.distributed import Client, wait, performance_report\n",
        "import joblib\n",
        "from joblib import parallel_backend\n",
        "import pickle\n",
        "from datetime import datetime, timedelta\n",
        "from timeit import default_timer as timer\n",
        "import pandas as pd\n",
        "from sklearn.metrics import mean_absolute_error, mean_squared_error, r2_score\n",
        "import plotly.offline as py\n",
        "import matplotlib.pyplot as plt\n",
        "import seaborn as sns\n",
        "optuna.logging.set_verbosity(optuna.logging.WARNING) \n",
        "my_dpi = 96\n",
        "\n",
        "# Set seed \n",
        "seed_value = 42\n",
        "os.environ['KNR_GPU'] = str(seed_value)\n",
        "cp.random.seed(seed_value)\n",
        "random.seed(seed_value)\n",
        "np.random.seed(seed_value)\n",
        "\n",
        "# Define function to time code blocks\n",
        "@contextmanager\n",
        "def timed(name):\n",
        "    t0 = time.time()\n",
        "    yield\n",
        "    t1 = time.time()\n",
        "    print('..%-24s:  %8.4f' % (name, t1 - t0))\n",
        "\n",
        "print('\\n')\n",
        "!/usr/local/cuda/bin/nvcc --version\n",
        "!nvidia-smi"
      ],
      "metadata": {
        "id": "nsuOuJ0miBOs",
        "colab": {
          "base_uri": "https://localhost:8080/"
        },
        "outputId": "2b4f4764-b3f7-4b57-92f6-695e38bacf6e"
      },
      "execution_count": null,
      "outputs": [
        {
          "output_type": "stream",
          "name": "stdout",
          "text": [
            "Looking in indexes: https://pypi.org/simple, https://us-python.pkg.dev/colab-wheels/public/simple/\n",
            "Requirement already satisfied: optuna in /usr/local/lib/python3.8/site-packages (3.1.0)\n",
            "Requirement already satisfied: alembic>=1.5.0 in /usr/local/lib/python3.8/site-packages (from optuna) (1.9.4)\n",
            "Requirement already satisfied: cmaes>=0.9.1 in /usr/local/lib/python3.8/site-packages (from optuna) (0.9.1)\n",
            "Requirement already satisfied: tqdm in /usr/local/lib/python3.8/site-packages (from optuna) (4.64.1)\n",
            "Requirement already satisfied: colorlog in /usr/local/lib/python3.8/site-packages (from optuna) (6.7.0)\n",
            "Requirement already satisfied: packaging>=20.0 in /usr/local/lib/python3.8/site-packages (from optuna) (23.0)\n",
            "Requirement already satisfied: PyYAML in /usr/local/lib/python3.8/site-packages (from optuna) (6.0)\n",
            "Requirement already satisfied: numpy in /usr/local/lib/python3.8/site-packages (from optuna) (1.23.5)\n",
            "Requirement already satisfied: sqlalchemy>=1.3.0 in /usr/local/lib/python3.8/site-packages (from optuna) (2.0.4)\n",
            "Requirement already satisfied: importlib-metadata in /usr/local/lib/python3.8/site-packages (from alembic>=1.5.0->optuna) (6.0.0)\n",
            "Requirement already satisfied: Mako in /usr/local/lib/python3.8/site-packages (from alembic>=1.5.0->optuna) (1.2.4)\n",
            "Requirement already satisfied: importlib-resources in /usr/local/lib/python3.8/site-packages (from alembic>=1.5.0->optuna) (5.12.0)\n",
            "Requirement already satisfied: typing-extensions>=4.2.0 in /usr/local/lib/python3.8/site-packages (from sqlalchemy>=1.3.0->optuna) (4.4.0)\n",
            "Requirement already satisfied: greenlet!=0.4.17 in /usr/local/lib/python3.8/site-packages (from sqlalchemy>=1.3.0->optuna) (2.0.2)\n",
            "Requirement already satisfied: zipp>=0.5 in /usr/local/lib/python3.8/site-packages (from importlib-metadata->alembic>=1.5.0->optuna) (3.14.0)\n",
            "Requirement already satisfied: MarkupSafe>=0.9.2 in /usr/local/lib/python3.8/site-packages (from Mako->alembic>=1.5.0->optuna) (2.1.2)\n",
            "\u001b[33mWARNING: Running pip as the 'root' user can result in broken permissions and conflicting behaviour with the system package manager. It is recommended to use a virtual environment instead: https://pip.pypa.io/warnings/venv\u001b[0m\u001b[33m\n",
            "\u001b[0mLooking in indexes: https://pypi.org/simple, https://us-python.pkg.dev/colab-wheels/public/simple/\n",
            "Requirement already satisfied: dask_optuna in /usr/local/lib/python3.8/site-packages (0.0.2)\n",
            "Requirement already satisfied: distributed in /usr/local/lib/python3.8/site-packages (from dask_optuna) (2021.11.2)\n",
            "Requirement already satisfied: optuna>=2.1.0 in /usr/local/lib/python3.8/site-packages (from dask_optuna) (3.1.0)\n",
            "Requirement already satisfied: dask in /usr/local/lib/python3.8/site-packages (from dask_optuna) (2021.11.2)\n",
            "Requirement already satisfied: numpy in /usr/local/lib/python3.8/site-packages (from optuna>=2.1.0->dask_optuna) (1.23.5)\n",
            "Requirement already satisfied: colorlog in /usr/local/lib/python3.8/site-packages (from optuna>=2.1.0->dask_optuna) (6.7.0)\n",
            "Requirement already satisfied: sqlalchemy>=1.3.0 in /usr/local/lib/python3.8/site-packages (from optuna>=2.1.0->dask_optuna) (2.0.4)\n",
            "Requirement already satisfied: alembic>=1.5.0 in /usr/local/lib/python3.8/site-packages (from optuna>=2.1.0->dask_optuna) (1.9.4)\n",
            "Requirement already satisfied: PyYAML in /usr/local/lib/python3.8/site-packages (from optuna>=2.1.0->dask_optuna) (6.0)\n",
            "Requirement already satisfied: cmaes>=0.9.1 in /usr/local/lib/python3.8/site-packages (from optuna>=2.1.0->dask_optuna) (0.9.1)\n",
            "Requirement already satisfied: tqdm in /usr/local/lib/python3.8/site-packages (from optuna>=2.1.0->dask_optuna) (4.64.1)\n",
            "Requirement already satisfied: packaging>=20.0 in /usr/local/lib/python3.8/site-packages (from optuna>=2.1.0->dask_optuna) (23.0)\n",
            "Requirement already satisfied: fsspec>=0.6.0 in /usr/local/lib/python3.8/site-packages (from dask->dask_optuna) (2023.1.0)\n",
            "Requirement already satisfied: cloudpickle>=1.1.1 in /usr/local/lib/python3.8/site-packages (from dask->dask_optuna) (2.2.1)\n",
            "Requirement already satisfied: toolz>=0.8.2 in /usr/local/lib/python3.8/site-packages (from dask->dask_optuna) (0.12.0)\n",
            "Requirement already satisfied: partd>=0.3.10 in /usr/local/lib/python3.8/site-packages (from dask->dask_optuna) (1.3.0)\n",
            "Requirement already satisfied: psutil>=5.0 in /usr/local/lib/python3.8/site-packages (from distributed->dask_optuna) (5.9.4)\n",
            "Requirement already satisfied: click>=6.6 in /usr/local/lib/python3.8/site-packages (from distributed->dask_optuna) (8.0.4)\n",
            "Requirement already satisfied: zict>=0.1.3 in /usr/local/lib/python3.8/site-packages (from distributed->dask_optuna) (2.2.0)\n",
            "Requirement already satisfied: msgpack>=0.6.0 in /usr/local/lib/python3.8/site-packages (from distributed->dask_optuna) (1.0.4)\n",
            "Requirement already satisfied: sortedcontainers!=2.0.0,!=2.0.1 in /usr/local/lib/python3.8/site-packages (from distributed->dask_optuna) (2.4.0)\n",
            "Requirement already satisfied: jinja2 in /usr/local/lib/python3.8/site-packages (from distributed->dask_optuna) (3.1.2)\n",
            "Requirement already satisfied: tblib>=1.6.0 in /usr/local/lib/python3.8/site-packages (from distributed->dask_optuna) (1.7.0)\n",
            "Requirement already satisfied: setuptools in /usr/local/lib/python3.8/site-packages (from distributed->dask_optuna) (59.8.0)\n",
            "Requirement already satisfied: tornado>=6.0.3 in /usr/local/lib/python3.8/site-packages (from distributed->dask_optuna) (6.1)\n",
            "Requirement already satisfied: importlib-metadata in /usr/local/lib/python3.8/site-packages (from alembic>=1.5.0->optuna>=2.1.0->dask_optuna) (6.0.0)\n",
            "Requirement already satisfied: importlib-resources in /usr/local/lib/python3.8/site-packages (from alembic>=1.5.0->optuna>=2.1.0->dask_optuna) (5.12.0)\n",
            "Requirement already satisfied: Mako in /usr/local/lib/python3.8/site-packages (from alembic>=1.5.0->optuna>=2.1.0->dask_optuna) (1.2.4)\n",
            "Requirement already satisfied: locket in /usr/local/lib/python3.8/site-packages (from partd>=0.3.10->dask->dask_optuna) (1.0.0)\n",
            "Requirement already satisfied: typing-extensions>=4.2.0 in /usr/local/lib/python3.8/site-packages (from sqlalchemy>=1.3.0->optuna>=2.1.0->dask_optuna) (4.4.0)\n",
            "Requirement already satisfied: greenlet!=0.4.17 in /usr/local/lib/python3.8/site-packages (from sqlalchemy>=1.3.0->optuna>=2.1.0->dask_optuna) (2.0.2)\n",
            "Requirement already satisfied: heapdict in /usr/local/lib/python3.8/site-packages (from zict>=0.1.3->distributed->dask_optuna) (1.0.1)\n",
            "Requirement already satisfied: MarkupSafe>=2.0 in /usr/local/lib/python3.8/site-packages (from jinja2->distributed->dask_optuna) (2.1.2)\n",
            "Requirement already satisfied: zipp>=0.5 in /usr/local/lib/python3.8/site-packages (from importlib-metadata->alembic>=1.5.0->optuna>=2.1.0->dask_optuna) (3.14.0)\n",
            "\u001b[33mWARNING: Running pip as the 'root' user can result in broken permissions and conflicting behaviour with the system package manager. It is recommended to use a virtual environment instead: https://pip.pypa.io/warnings/venv\u001b[0m\u001b[33m\n",
            "\u001b[0m\n",
            "\n",
            "nvcc: NVIDIA (R) Cuda compiler driver\n",
            "Copyright (c) 2005-2022 NVIDIA Corporation\n",
            "Built on Wed_Sep_21_10:33:58_PDT_2022\n",
            "Cuda compilation tools, release 11.8, V11.8.89\n",
            "Build cuda_11.8.r11.8/compiler.31833905_0\n",
            "Sat Feb 25 04:49:10 2023       \n",
            "+-----------------------------------------------------------------------------+\n",
            "| NVIDIA-SMI 525.85.12    Driver Version: 525.85.12    CUDA Version: 12.0     |\n",
            "|-------------------------------+----------------------+----------------------+\n",
            "| GPU  Name        Persistence-M| Bus-Id        Disp.A | Volatile Uncorr. ECC |\n",
            "| Fan  Temp  Perf  Pwr:Usage/Cap|         Memory-Usage | GPU-Util  Compute M. |\n",
            "|                               |                      |               MIG M. |\n",
            "|===============================+======================+======================|\n",
            "|   0  Tesla T4            Off  | 00000000:00:04.0 Off |                    0 |\n",
            "| N/A   48C    P0    27W /  70W |    107MiB / 15360MiB |      2%      Default |\n",
            "|                               |                      |                  N/A |\n",
            "+-------------------------------+----------------------+----------------------+\n",
            "                                                                               \n",
            "+-----------------------------------------------------------------------------+\n",
            "| Processes:                                                                  |\n",
            "|  GPU   GI   CI        PID   Type   Process name                  GPU Memory |\n",
            "|        ID   ID                                                   Usage      |\n",
            "|=============================================================================|\n",
            "+-----------------------------------------------------------------------------+\n"
          ]
        }
      ]
    },
    {
      "cell_type": "code",
      "source": [
        "# Set up CUDA cluster\n",
        "cluster = LocalCUDACluster(threads_per_worker=1, ip='', \n",
        "                           dashboard_address='8081') \n",
        "c = Client(cluster)\n",
        "\n",
        "# Query the client for all connected workers\n",
        "workers = c.has_what().keys()\n",
        "n_workers = len(workers)\n",
        "c"
      ],
      "metadata": {
        "id": "gJUVg8LoHTnT",
        "colab": {
          "base_uri": "https://localhost:8080/",
          "height": 353
        },
        "outputId": "f75f4c8a-0677-4403-8116-bf4664999b85"
      },
      "execution_count": null,
      "outputs": [
        {
          "output_type": "stream",
          "name": "stderr",
          "text": [
            "/usr/local/lib/python3.8/site-packages/distributed/client.py:1131: VersionMismatchWarning:\n",
            "\n",
            "Mismatched versions found\n",
            "\n",
            "+---------+--------+-----------+---------+\n",
            "| Package | client | scheduler | workers |\n",
            "+---------+--------+-----------+---------+\n",
            "| numpy   | 1.22.4 | 1.22.4    | 1.23.5  |\n",
            "| tornado | 6.2    | 6.2       | 6.1     |\n",
            "+---------+--------+-----------+---------+\n",
            "\n"
          ]
        },
        {
          "output_type": "execute_result",
          "data": {
            "text/plain": [
              "<Client: 'tcp://172.28.0.12:43963' processes=1 threads=1, memory=25.45 GiB>"
            ],
            "text/html": [
              "<div>\n",
              "    <div style=\"width: 24px; height: 24px; background-color: #e1e1e1; border: 3px solid #9D9D9D; border-radius: 5px; position: absolute;\"> </div>\n",
              "    <div style=\"margin-left: 48px;\">\n",
              "        <h3 style=\"margin-bottom: 0px;\">Client</h3>\n",
              "        <p style=\"color: #9D9D9D; margin-bottom: 0px;\">Client-c0da2c70-b4c7-11ed-958f-0242ac1c000c</p>\n",
              "        <table style=\"width: 100%; text-align: left;\">\n",
              "\n",
              "        <tr>\n",
              "        \n",
              "            <td style=\"text-align: left;\"><strong>Connection method:</strong> Cluster object</td>\n",
              "            <td style=\"text-align: left;\"><strong>Cluster type:</strong> dask_cuda.LocalCUDACluster</td>\n",
              "        \n",
              "        </tr>\n",
              "\n",
              "        \n",
              "            <tr>\n",
              "                <td style=\"text-align: left;\">\n",
              "                    <strong>Dashboard: </strong> <a href=\"http://172.28.0.12:8081/status\" target=\"_blank\">http://172.28.0.12:8081/status</a>\n",
              "                </td>\n",
              "                <td style=\"text-align: left;\"></td>\n",
              "            </tr>\n",
              "        \n",
              "\n",
              "        </table>\n",
              "\n",
              "        \n",
              "            <details>\n",
              "            <summary style=\"margin-bottom: 20px;\"><h3 style=\"display: inline;\">Cluster Info</h3></summary>\n",
              "            <div class=\"jp-RenderedHTMLCommon jp-RenderedHTML jp-mod-trusted jp-OutputArea-output\">\n",
              "    <div style=\"width: 24px; height: 24px; background-color: #e1e1e1; border: 3px solid #9D9D9D; border-radius: 5px; position: absolute;\">\n",
              "    </div>\n",
              "    <div style=\"margin-left: 48px;\">\n",
              "        <h3 style=\"margin-bottom: 0px; margin-top: 0px;\">LocalCUDACluster</h3>\n",
              "        <p style=\"color: #9D9D9D; margin-bottom: 0px;\">5c6a83d4</p>\n",
              "        <table style=\"width: 100%; text-align: left;\">\n",
              "            <tr>\n",
              "                <td style=\"text-align: left;\">\n",
              "                    <strong>Dashboard:</strong> <a href=\"http://172.28.0.12:8081/status\" target=\"_blank\">http://172.28.0.12:8081/status</a>\n",
              "                </td>\n",
              "                <td style=\"text-align: left;\">\n",
              "                    <strong>Workers:</strong> 1\n",
              "                </td>\n",
              "            </tr>\n",
              "            <tr>\n",
              "                <td style=\"text-align: left;\">\n",
              "                    <strong>Total threads:</strong> 1\n",
              "                </td>\n",
              "                <td style=\"text-align: left;\">\n",
              "                    <strong>Total memory:</strong> 25.45 GiB\n",
              "                </td>\n",
              "            </tr>\n",
              "            \n",
              "            <tr>\n",
              "    <td style=\"text-align: left;\"><strong>Status:</strong> running</td>\n",
              "    <td style=\"text-align: left;\"><strong>Using processes:</strong> True</td>\n",
              "</tr>\n",
              "\n",
              "            \n",
              "        </table>\n",
              "\n",
              "        <details>\n",
              "            <summary style=\"margin-bottom: 20px;\">\n",
              "                <h3 style=\"display: inline;\">Scheduler Info</h3>\n",
              "            </summary>\n",
              "\n",
              "            <div style=\"\">\n",
              "    <div>\n",
              "        <div style=\"width: 24px; height: 24px; background-color: #FFF7E5; border: 3px solid #FF6132; border-radius: 5px; position: absolute;\"> </div>\n",
              "        <div style=\"margin-left: 48px;\">\n",
              "            <h3 style=\"margin-bottom: 0px;\">Scheduler</h3>\n",
              "            <p style=\"color: #9D9D9D; margin-bottom: 0px;\">Scheduler-4101ee31-8858-4694-bf92-905aec93eb5c</p>\n",
              "            <table style=\"width: 100%; text-align: left;\">\n",
              "                <tr>\n",
              "                    <td style=\"text-align: left;\">\n",
              "                        <strong>Comm:</strong> tcp://172.28.0.12:43963\n",
              "                    </td>\n",
              "                    <td style=\"text-align: left;\">\n",
              "                        <strong>Workers:</strong> 1\n",
              "                    </td>\n",
              "                </tr>\n",
              "                <tr>\n",
              "                    <td style=\"text-align: left;\">\n",
              "                        <strong>Dashboard:</strong> <a href=\"http://172.28.0.12:8081/status\" target=\"_blank\">http://172.28.0.12:8081/status</a>\n",
              "                    </td>\n",
              "                    <td style=\"text-align: left;\">\n",
              "                        <strong>Total threads:</strong> 1\n",
              "                    </td>\n",
              "                </tr>\n",
              "                <tr>\n",
              "                    <td style=\"text-align: left;\">\n",
              "                        <strong>Started:</strong> Just now\n",
              "                    </td>\n",
              "                    <td style=\"text-align: left;\">\n",
              "                        <strong>Total memory:</strong> 25.45 GiB\n",
              "                    </td>\n",
              "                </tr>\n",
              "            </table>\n",
              "        </div>\n",
              "    </div>\n",
              "\n",
              "    <details style=\"margin-left: 48px;\">\n",
              "        <summary style=\"margin-bottom: 20px;\">\n",
              "            <h3 style=\"display: inline;\">Workers</h3>\n",
              "        </summary>\n",
              "\n",
              "        \n",
              "        <div style=\"margin-bottom: 20px;\">\n",
              "            <div style=\"width: 24px; height: 24px; background-color: #DBF5FF; border: 3px solid #4CC9FF; border-radius: 5px; position: absolute;\"> </div>\n",
              "            <div style=\"margin-left: 48px;\">\n",
              "            <details>\n",
              "                <summary>\n",
              "                    <h4 style=\"margin-bottom: 0px; display: inline;\">Worker: 0</h4>\n",
              "                </summary>\n",
              "                <table style=\"width: 100%; text-align: left;\">\n",
              "                    <tr>\n",
              "                        <td style=\"text-align: left;\">\n",
              "                            <strong>Comm: </strong> tcp://172.28.0.12:36191\n",
              "                        </td>\n",
              "                        <td style=\"text-align: left;\">\n",
              "                            <strong>Total threads: </strong> 1\n",
              "                        </td>\n",
              "                    </tr>\n",
              "                    <tr>\n",
              "                        <td style=\"text-align: left;\">\n",
              "                            <strong>Dashboard: </strong> <a href=\"http://172.28.0.12:44631/status\" target=\"_blank\">http://172.28.0.12:44631/status</a>\n",
              "                        </td>\n",
              "                        <td style=\"text-align: left;\">\n",
              "                            <strong>Memory: </strong> 25.45 GiB\n",
              "                        </td>\n",
              "                    </tr>\n",
              "                    <tr>\n",
              "                        <td style=\"text-align: left;\">\n",
              "                            <strong>Nanny: </strong> tcp://172.28.0.12:34243\n",
              "                        </td>\n",
              "                        <td style=\"text-align: left;\"></td>\n",
              "                    </tr>\n",
              "                    <tr>\n",
              "                        <td colspan=\"2\" style=\"text-align: left;\">\n",
              "                            <strong>Local directory: </strong> /content/drive/MyDrive/RAPIDS/dask-worker-space/worker-bhyqvokh\n",
              "                        </td>\n",
              "                    </tr>\n",
              "\n",
              "                    \n",
              "                    <tr>\n",
              "                        <td style=\"text-align: left;\">\n",
              "                            <strong>GPU: </strong>Tesla T4\n",
              "                        </td>\n",
              "                        <td style=\"text-align: left;\">\n",
              "                            <strong>GPU memory: </strong> 15.00 GiB\n",
              "                        </td>\n",
              "                    </tr>\n",
              "                    \n",
              "\n",
              "                    \n",
              "\n",
              "                </table>\n",
              "            </details>\n",
              "            </div>\n",
              "        </div>\n",
              "        \n",
              "\n",
              "    </details>\n",
              "</div>\n",
              "\n",
              "        </details>\n",
              "    </div>\n",
              "</div>\n",
              "            </details>\n",
              "        \n",
              "\n",
              "    </div>\n",
              "</div>"
            ]
          },
          "metadata": {},
          "execution_count": 7
        }
      ]
    },
    {
      "cell_type": "code",
      "execution_count": null,
      "metadata": {
        "id": "nzT30kAv4ouf",
        "colab": {
          "base_uri": "https://localhost:8080/"
        },
        "outputId": "23f59c2f-22e6-48ab-c4db-2497bc3ea42e"
      },
      "outputs": [
        {
          "output_type": "stream",
          "name": "stdout",
          "text": [
            "/content/drive/MyDrive/UsedCarsCarGurus/Data\n"
          ]
        }
      ],
      "source": [
        "%cd /content/drive/MyDrive/UsedCarsCarGurus/Data/"
      ]
    },
    {
      "cell_type": "code",
      "execution_count": null,
      "metadata": {
        "id": "boK6SYJNkhKs",
        "colab": {
          "base_uri": "https://localhost:8080/"
        },
        "outputId": "ff293447-a7b0-4fac-d335-b4887a7a9a7e"
      },
      "outputs": [
        {
          "output_type": "stream",
          "name": "stdout",
          "text": [
            "Train set: Number of rows and columns: (262329, 54)\n",
            "Test set: Number of rows and columns: (262329, 54)\n"
          ]
        }
      ],
      "source": [
        "trainDF = cudf.read_csv('usedCars_trainSet.csv', low_memory=False)\n",
        "print('Train set: Number of rows and columns:', trainDF.shape)\n",
        "\n",
        "testDF  = cudf.read_csv('usedCars_trainSet.csv', low_memory=False)\n",
        "print('Test set: Number of rows and columns:', testDF.shape)\n",
        "\n",
        "X_train, y_train = trainDF.drop('price', \n",
        "                                axis=1), trainDF['price'].astype('int32')\n",
        "X_test, y_test = testDF.drop('price', \n",
        "                             axis=1), testDF['price'].astype('int32')\n",
        "\n",
        "X_train = cudf.get_dummies(X_train)\n",
        "X_test = cudf.get_dummies(X_test)\n",
        "\n",
        "X_train = X_train.astype('float32')\n",
        "X_test = X_test.astype('float32')"
      ]
    },
    {
      "cell_type": "markdown",
      "source": [
        "## 100 Trials"
      ],
      "metadata": {
        "id": "xQ9FZfNycqrf"
      }
    },
    {
      "cell_type": "code",
      "execution_count": null,
      "metadata": {
        "id": "4vHOPtxXKkjT",
        "colab": {
          "base_uri": "https://localhost:8080/"
        },
        "outputId": "ad4f0e5c-40e2-4b1a-f379-c571fd7101aa"
      },
      "outputs": [
        {
          "output_type": "stream",
          "name": "stdout",
          "text": [
            "[Errno 2] No such file or directory: '/content/drive/MyDrive/UsedCarsCarGurus/Models/ML/KNR/Optuna/Model_PKL/'\n",
            "/content/drive/MyDrive/UsedCarsCarGurus/Data\n"
          ]
        }
      ],
      "source": [
        "# Write results to ML Results\n",
        "%cd /content/drive/MyDrive/UsedCarsCarGurus/Models/ML/KNR/Optuna/Model_PKL/\n",
        "\n",
        "# Define a name for the trials\n",
        "study_name = 'dask_optuna_knr_rmse_tpe'"
      ]
    },
    {
      "cell_type": "code",
      "source": [
        "# Define function to train/evaluate the model\n",
        "def train_and_eval(X_param, y_param, n_neighbors=10, \n",
        "                   metric='euclidean', verbose=False): \n",
        "    \"\"\"\n",
        "        Partition data into train/test sets, train and evaluate the model\n",
        "        for the given parameters.\n",
        "        \n",
        "        Params\n",
        "        ______\n",
        "        \n",
        "        X_param:  DataFrame. \n",
        "                  The data to use for training and testing. \n",
        "        y_param:  Series. \n",
        "                  The label for training\n",
        "\n",
        "        Returns\n",
        "        score: RMSE of the fitted model\n",
        "    \"\"\"\n",
        "    # Prepare the data for modeling\n",
        "    X_train, y_train = trainDF.drop('price', \n",
        "                                axis=1), trainDF['price'].astype('int32')\n",
        "    X_train = cudf.get_dummies(X_train)\n",
        "    X_train = X_train.astype('float32')\n",
        "\n",
        "    X_test, y_test = testDF.drop('price', \n",
        "                             axis=1), testDF['price'].astype('int32')\n",
        "    X_test = cudf.get_dummies(X_test)\n",
        "    X_test = X_test.astype('float32')\n",
        "    \n",
        "    # Define model\n",
        "    model = KNeighborsRegressor(n_neighbors=n_neighbors, \n",
        "                                metric=metric,\n",
        "                                verbose=verbose)\n",
        "    \n",
        "    # Start timer for each trial\n",
        "    start = timer()\n",
        "\n",
        "    # Fit model\n",
        "    model.fit(X_train, y_train)\n",
        "    run_time = timer() - start\n",
        "\n",
        "    # Predict on the model\n",
        "    y_pred = model.predict(X_test)\n",
        "    score = mean_squared_error(y_test.to_numpy(), y_pred.to_numpy(), \n",
        "                               squared=False)     \n",
        "    print('- Trial RMSE:', score)\n",
        "    \n",
        "    return score"
      ],
      "metadata": {
        "id": "bFjjmC2yplme"
      },
      "execution_count": null,
      "outputs": []
    },
    {
      "cell_type": "code",
      "source": [
        "# Fit model with default parameters\n",
        "print('Score with default parameters : ', train_and_eval(X_train, y_train))"
      ],
      "metadata": {
        "id": "h9cV31iJptQb",
        "colab": {
          "base_uri": "https://localhost:8080/"
        },
        "outputId": "0ce1760f-e46a-4fff-b981-028aaa61313c"
      },
      "execution_count": null,
      "outputs": [
        {
          "output_type": "stream",
          "name": "stdout",
          "text": [
            "- Trial RMSE: 4384.845258618256\n",
            "Score with default parameters :  4384.845258618256\n"
          ]
        }
      ]
    },
    {
      "cell_type": "code",
      "source": [
        "# Define objective function with the parameters to be tested\n",
        "def objective(trial, X_param, y_param):\n",
        "    \n",
        "    joblib.dump(study, 'KNR_Optuna_100_GPU.pkl')\n",
        "    \n",
        "    # Search parameters\n",
        "    n_neighbors = trial.suggest_int('n_neighbors', 3, 100) \n",
        "    metric = trial.suggest_categorical('metric', ['euclidean', 'manhattan', \n",
        "                                                  'chebyshev', 'minkowski'])\n",
        "\n",
        "    score = train_and_eval(X_param, y_param,\n",
        "                           n_neighbors=n_neighbors, \n",
        "                           verbose=False)\n",
        "\n",
        "    return score"
      ],
      "metadata": {
        "id": "a5M_m496Hs3p"
      },
      "execution_count": null,
      "outputs": []
    },
    {
      "cell_type": "code",
      "source": [
        "with timed('dask_optuna'):\n",
        "    # Begin HPO trials \n",
        "    # Start timer for experiment\n",
        "    start_time = datetime.now()\n",
        "    print('%-20s %s' % ('Start Time', start_time))\n",
        "    if os.path.isfile('KNR_Optuna_100_GPU.pkl'): \n",
        "      study = joblib.load('KNR_Optuna_100_GPU.pkl')\n",
        "    else: \n",
        "      study = optuna.create_study(sampler=optuna.samplers.TPESampler(), \n",
        "                                  study_name=study_name,\n",
        "                                  direction='minimize')\n",
        "      \n",
        "    # Optimize in parallel on Dask cluster\n",
        "    with parallel_backend('dask'):\n",
        "        study.optimize(lambda trial: objective(trial, X_train, y_train), \n",
        "                       n_trials=100,\n",
        "                       n_jobs=n_workers)\n",
        "\n",
        "# End timer for experiment\n",
        "end_time = datetime.now()\n",
        "print('%-20s %s' % ('Start Time', start_time))\n",
        "print('%-20s %s' % ('End Time', end_time))\n",
        "print(str(timedelta(seconds=(end_time-start_time).seconds)))\n",
        "print('\\n')\n",
        "print('Number of finished trials:', len(study.trials))\n",
        "print('Best trial:', study.best_trial.params)\n",
        "print('Lowest RMSE', study.best_value)"
      ],
      "metadata": {
        "id": "wxKCZjGMHs3r",
        "colab": {
          "base_uri": "https://localhost:8080/"
        },
        "outputId": "6222beb8-6f49-4ac9-f9bd-bba4ae1ca34e"
      },
      "execution_count": null,
      "outputs": [
        {
          "output_type": "stream",
          "name": "stdout",
          "text": [
            "Start Time           2023-02-25 04:52:30.332772\n",
            "- Trial RMSE: 4121.887446545337\n",
            "- Trial RMSE: 5095.414951314923\n",
            "- Trial RMSE: 4923.542907063325\n",
            "- Trial RMSE: 4835.219970698422\n",
            "- Trial RMSE: 4723.126229647229\n",
            "- Trial RMSE: 4603.356006636722\n",
            "- Trial RMSE: 4916.2527198382495\n",
            "- Trial RMSE: 5022.1737579728415\n",
            "- Trial RMSE: 5037.345727529945\n",
            "- Trial RMSE: 4774.027433856023\n",
            "- Trial RMSE: 3586.325763235942\n",
            "- Trial RMSE: 3586.325763235942\n",
            "- Trial RMSE: 4121.887446545337\n",
            "- Trial RMSE: 5164.754262546907\n",
            "- Trial RMSE: 4005.9150305658145\n",
            "- Trial RMSE: 4625.044663202976\n",
            "- Trial RMSE: 4861.583489139057\n",
            "- Trial RMSE: 4625.044663202976\n",
            "- Trial RMSE: 3841.009957328154\n",
            "- Trial RMSE: 4996.091784624338\n",
            "- Trial RMSE: 5090.938813479511\n",
            "- Trial RMSE: 3586.325763235942\n",
            "- Trial RMSE: 4555.016986871412\n",
            "- Trial RMSE: 4497.798438248811\n",
            "- Trial RMSE: 4774.027433856023\n",
            "- Trial RMSE: 4464.551264729626\n",
            "- Trial RMSE: 4694.141815359486\n",
            "- Trial RMSE: 3586.325763235942\n",
            "- Trial RMSE: 4428.045308086619\n",
            "- Trial RMSE: 4835.219970698422\n",
            "- Trial RMSE: 4384.845258618256\n",
            "- Trial RMSE: 3841.009957328154\n",
            "- Trial RMSE: 3586.325763235942\n",
            "- Trial RMSE: 4334.884684584816\n",
            "- Trial RMSE: 4736.6277143147345\n",
            "- Trial RMSE: 4642.452428150509\n",
            "- Trial RMSE: 5168.263875443831\n",
            "- Trial RMSE: 4948.504046510185\n",
            "- Trial RMSE: 4334.884684584816\n",
            "- Trial RMSE: 4886.360554442493\n",
            "- Trial RMSE: 4785.651199627076\n",
            "- Trial RMSE: 3586.325763235942\n",
            "- Trial RMSE: 3586.325763235942\n",
            "- Trial RMSE: 4334.884684584816\n",
            "- Trial RMSE: 4555.016986871412\n",
            "- Trial RMSE: 4276.457684983897\n",
            "- Trial RMSE: 4709.442632738852\n",
            "- Trial RMSE: 5146.540508397751\n",
            "- Trial RMSE: 4528.5810284713225\n",
            "- Trial RMSE: 4642.452428150509\n",
            "- Trial RMSE: 5069.328959463296\n",
            "- Trial RMSE: 3586.325763235942\n",
            "- Trial RMSE: 4121.887446545337\n",
            "- Trial RMSE: 3586.325763235942\n",
            "- Trial RMSE: 4121.887446545337\n",
            "- Trial RMSE: 4464.551264729626\n",
            "- Trial RMSE: 4206.458287027927\n",
            "- Trial RMSE: 4580.496166314265\n",
            "- Trial RMSE: 4677.786791115154\n",
            "- Trial RMSE: 4464.551264729626\n",
            "- Trial RMSE: 4206.458287027927\n",
            "- Trial RMSE: 3586.325763235942\n",
            "- Trial RMSE: 3586.325763235942\n",
            "- Trial RMSE: 4206.458287027927\n",
            "- Trial RMSE: 4428.045308086619\n",
            "- Trial RMSE: 4555.016986871412\n",
            "- Trial RMSE: 4121.887446545337\n",
            "- Trial RMSE: 5016.75113924875\n",
            "- Trial RMSE: 4384.845258618256\n",
            "- Trial RMSE: 4603.356006636722\n",
            "- Trial RMSE: 3586.325763235942\n",
            "- Trial RMSE: 3586.325763235942\n",
            "- Trial RMSE: 4334.884684584816\n",
            "- Trial RMSE: 4005.9150305658145\n",
            "- Trial RMSE: 4464.551264729626\n",
            "- Trial RMSE: 4121.887446545337\n",
            "- Trial RMSE: 5131.276571430833\n",
            "- Trial RMSE: 4334.884684584816\n",
            "- Trial RMSE: 4528.5810284713225\n",
            "- Trial RMSE: 4736.6277143147345\n",
            "- Trial RMSE: 4005.9150305658145\n",
            "- Trial RMSE: 3586.325763235942\n",
            "- Trial RMSE: 3586.325763235942\n",
            "- Trial RMSE: 4334.884684584816\n",
            "- Trial RMSE: 4206.458287027927\n",
            "- Trial RMSE: 4497.798438248811\n",
            "- Trial RMSE: 4005.9150305658145\n",
            "- Trial RMSE: 4935.916210924576\n",
            "- Trial RMSE: 4973.073511290455\n",
            "- Trial RMSE: 4428.045308086619\n",
            "- Trial RMSE: 4642.452428150509\n",
            "- Trial RMSE: 3841.009957328154\n",
            "- Trial RMSE: 4276.457684983897\n",
            "- Trial RMSE: 4005.9150305658145\n",
            "- Trial RMSE: 4276.457684983897\n",
            "- Trial RMSE: 3586.325763235942\n",
            "- Trial RMSE: 4428.045308086619\n",
            "- Trial RMSE: 4121.887446545337\n",
            "- Trial RMSE: 3586.325763235942\n",
            "- Trial RMSE: 4580.496166314265\n",
            "..dask_optuna             :  469.8398\n",
            "Start Time           2023-02-25 04:52:30.332772\n",
            "End Time             2023-02-25 05:00:20.172788\n",
            "0:07:49\n",
            "\n",
            "\n",
            "Number of finished trials: 100\n",
            "Best trial: {'n_neighbors': 3, 'metric': 'minkowski'}\n",
            "Lowest RMSE 3586.325763235942\n"
          ]
        }
      ]
    },
    {
      "cell_type": "code",
      "execution_count": null,
      "metadata": {
        "id": "nsqkUNEhHs3r",
        "colab": {
          "base_uri": "https://localhost:8080/"
        },
        "outputId": "6aa700fa-4b98-414b-9310-5fcd693bfdab"
      },
      "outputs": [
        {
          "output_type": "stream",
          "name": "stdout",
          "text": [
            "/content/drive/MyDrive/UsedCarsCarGurus/Models/ML/KNR/Optuna/trialOptions\n"
          ]
        }
      ],
      "source": [
        "# Write results to ML Results\n",
        "%cd /content/drive/MyDrive/UsedCarsCarGurus/Models/ML/KNR/Optuna/trialOptions/"
      ]
    },
    {
      "cell_type": "code",
      "execution_count": null,
      "metadata": {
        "id": "Fyi2099bHs3s",
        "colab": {
          "base_uri": "https://localhost:8080/"
        },
        "outputId": "79adb757-80f9-4632-cc29-4da9da9e35ec"
      },
      "outputs": [
        {
          "output_type": "stream",
          "name": "stdout",
          "text": [
            "    iteration         rmse             datetime_start  \\\n",
            "61         61  3586.325763 2023-02-25 04:57:14.523899   \n",
            "82         82  3586.325763 2023-02-25 04:58:54.395995   \n",
            "41         41  3586.325763 2023-02-25 04:55:38.878378   \n",
            "42         42  3586.325763 2023-02-25 04:55:43.655548   \n",
            "27         27  3586.325763 2023-02-25 04:54:32.188775   \n",
            "..        ...          ...                        ...   \n",
            "1           1  5095.414951 2023-02-25 04:52:34.495580   \n",
            "76         76  5131.276571 2023-02-25 04:58:25.412660   \n",
            "47         47  5146.540508 2023-02-25 04:56:07.477462   \n",
            "13         13  5164.754263 2023-02-25 04:53:27.862256   \n",
            "36         36  5168.263875 2023-02-25 04:55:13.569818   \n",
            "\n",
            "            datetime_complete               duration     metric  n_neighbors  \\\n",
            "61 2023-02-25 04:57:19.198371 0 days 00:00:04.674472  chebyshev            3   \n",
            "82 2023-02-25 04:58:59.094776 0 days 00:00:04.698781  chebyshev            3   \n",
            "41 2023-02-25 04:55:43.655324 0 days 00:00:04.776946  chebyshev            3   \n",
            "42 2023-02-25 04:55:48.419607 0 days 00:00:04.764059  chebyshev            3   \n",
            "27 2023-02-25 04:54:36.658194 0 days 00:00:04.469419  chebyshev            3   \n",
            "..                        ...                    ...        ...          ...   \n",
            "1  2023-02-25 04:52:39.155649 0 days 00:00:04.660069  minkowski           78   \n",
            "76 2023-02-25 04:58:30.694267 0 days 00:00:05.281607  chebyshev           87   \n",
            "47 2023-02-25 04:56:12.806340 0 days 00:00:05.328878  minkowski           91   \n",
            "13 2023-02-25 04:53:32.835254 0 days 00:00:04.972998  minkowski           96   \n",
            "36 2023-02-25 04:55:18.786623 0 days 00:00:05.216805  chebyshev           97   \n",
            "\n",
            "       state  \n",
            "61  COMPLETE  \n",
            "82  COMPLETE  \n",
            "41  COMPLETE  \n",
            "42  COMPLETE  \n",
            "27  COMPLETE  \n",
            "..       ...  \n",
            "1   COMPLETE  \n",
            "76  COMPLETE  \n",
            "47  COMPLETE  \n",
            "13  COMPLETE  \n",
            "36  COMPLETE  \n",
            "\n",
            "[100 rows x 8 columns]\n"
          ]
        }
      ],
      "source": [
        "# Output from HPO trials\n",
        "trials_df = study.trials_dataframe()\n",
        "trials_df.rename(columns={'number': 'iteration'}, inplace=True)\n",
        "trials_df.rename(columns={'value': 'rmse'}, inplace=True)\n",
        "trials_df.rename(columns={'params_metric': 'metric'}, inplace=True)\n",
        "trials_df.rename(columns={'params_n_neighbors': 'n_neighbors'}, inplace=True)\n",
        "trials_df = trials_df.sort_values('rmse', ascending=True)\n",
        "print(trials_df) \n",
        "\n",
        "# Write processed data to csv\n",
        "trials_df.to_csv('KNR_Optuna_100_GPU.csv', index=False)"
      ]
    },
    {
      "cell_type": "code",
      "execution_count": null,
      "metadata": {
        "id": "ttyAOiF9Hs3s",
        "colab": {
          "base_uri": "https://localhost:8080/"
        },
        "outputId": "bc7feb55-06e3-4983-bb5c-9eacdc0d8638"
      },
      "outputs": [
        {
          "output_type": "stream",
          "name": "stdout",
          "text": [
            "/content/drive/MyDrive/UsedCarsCarGurus/Models/ML/KNR/Optuna/Model_Explanations\n"
          ]
        }
      ],
      "source": [
        "# Write results to ML Results\n",
        "%cd /content/drive/MyDrive/UsedCarsCarGurus/Models/ML/KNR/Optuna/Model_Explanations/"
      ]
    },
    {
      "cell_type": "code",
      "execution_count": null,
      "metadata": {
        "id": "aiZ3YtWzHs3s",
        "colab": {
          "base_uri": "https://localhost:8080/",
          "height": 542
        },
        "outputId": "c5d1daeb-8aad-4e5e-baa9-756cbb6486d9"
      },
      "outputs": [
        {
          "output_type": "display_data",
          "data": {
            "text/html": [
              "<html>\n",
              "<head><meta charset=\"utf-8\" /></head>\n",
              "<body>\n",
              "    <div>            <script src=\"https://cdnjs.cloudflare.com/ajax/libs/mathjax/2.7.5/MathJax.js?config=TeX-AMS-MML_SVG\"></script><script type=\"text/javascript\">if (window.MathJax) {MathJax.Hub.Config({SVG: {font: \"STIX-Web\"}});}</script>                <script type=\"text/javascript\">window.PlotlyConfig = {MathJaxConfig: 'local'};</script>\n",
              "        <script src=\"https://cdn.plot.ly/plotly-2.8.3.min.js\"></script>                <div id=\"789ae29e-7722-43c4-a2ee-4b461e1cde06\" class=\"plotly-graph-div\" style=\"height:525px; width:100%;\"></div>            <script type=\"text/javascript\">                                    window.PLOTLYENV=window.PLOTLYENV || {};                                    if (document.getElementById(\"789ae29e-7722-43c4-a2ee-4b461e1cde06\")) {                    Plotly.newPlot(                        \"789ae29e-7722-43c4-a2ee-4b461e1cde06\",                        [{\"mode\":\"markers\",\"name\":\"Objective Value\",\"x\":[0,1,2,3,4,5,6,7,8,9,10,11,12,13,14,15,16,17,18,19,20,21,22,23,24,25,26,27,28,29,30,31,32,33,34,35,36,37,38,39,40,41,42,43,44,45,46,47,48,49,50,51,52,53,54,55,56,57,58,59,60,61,62,63,64,65,66,67,68,69,70,71,72,73,74,75,76,77,78,79,80,81,82,83,84,85,86,87,88,89,90,91,92,93,94,95,96,97,98,99],\"y\":[4121.887446545337,5095.414951314923,4923.542907063325,4835.219970698422,4723.126229647229,4603.356006636722,4916.2527198382495,5022.1737579728415,5037.345727529945,4774.027433856023,3586.325763235942,3586.325763235942,4121.887446545337,5164.754262546907,4005.9150305658145,4625.044663202976,4861.583489139057,4625.044663202976,3841.009957328154,4996.091784624338,5090.938813479511,3586.325763235942,4555.016986871412,4497.798438248811,4774.027433856023,4464.551264729626,4694.141815359486,3586.325763235942,4428.045308086619,4835.219970698422,4384.845258618256,3841.009957328154,3586.325763235942,4334.884684584816,4736.6277143147345,4642.452428150509,5168.263875443831,4948.504046510185,4334.884684584816,4886.360554442493,4785.651199627076,3586.325763235942,3586.325763235942,4334.884684584816,4555.016986871412,4276.457684983897,4709.442632738852,5146.540508397751,4528.5810284713225,4642.452428150509,5069.328959463296,3586.325763235942,4121.887446545337,3586.325763235942,4121.887446545337,4464.551264729626,4206.458287027927,4580.496166314265,4677.786791115154,4464.551264729626,4206.458287027927,3586.325763235942,3586.325763235942,4206.458287027927,4428.045308086619,4555.016986871412,4121.887446545337,5016.75113924875,4384.845258618256,4603.356006636722,3586.325763235942,3586.325763235942,4334.884684584816,4005.9150305658145,4464.551264729626,4121.887446545337,5131.276571430833,4334.884684584816,4528.5810284713225,4736.6277143147345,4005.9150305658145,3586.325763235942,3586.325763235942,4334.884684584816,4206.458287027927,4497.798438248811,4005.9150305658145,4935.916210924576,4973.073511290455,4428.045308086619,4642.452428150509,3841.009957328154,4276.457684983897,4005.9150305658145,4276.457684983897,3586.325763235942,4428.045308086619,4121.887446545337,3586.325763235942,4580.496166314265],\"type\":\"scatter\"},{\"name\":\"Best Value\",\"x\":[0,1,2,3,4,5,6,7,8,9,10,11,12,13,14,15,16,17,18,19,20,21,22,23,24,25,26,27,28,29,30,31,32,33,34,35,36,37,38,39,40,41,42,43,44,45,46,47,48,49,50,51,52,53,54,55,56,57,58,59,60,61,62,63,64,65,66,67,68,69,70,71,72,73,74,75,76,77,78,79,80,81,82,83,84,85,86,87,88,89,90,91,92,93,94,95,96,97,98,99],\"y\":[4121.887446545337,4121.887446545337,4121.887446545337,4121.887446545337,4121.887446545337,4121.887446545337,4121.887446545337,4121.887446545337,4121.887446545337,4121.887446545337,3586.325763235942,3586.325763235942,3586.325763235942,3586.325763235942,3586.325763235942,3586.325763235942,3586.325763235942,3586.325763235942,3586.325763235942,3586.325763235942,3586.325763235942,3586.325763235942,3586.325763235942,3586.325763235942,3586.325763235942,3586.325763235942,3586.325763235942,3586.325763235942,3586.325763235942,3586.325763235942,3586.325763235942,3586.325763235942,3586.325763235942,3586.325763235942,3586.325763235942,3586.325763235942,3586.325763235942,3586.325763235942,3586.325763235942,3586.325763235942,3586.325763235942,3586.325763235942,3586.325763235942,3586.325763235942,3586.325763235942,3586.325763235942,3586.325763235942,3586.325763235942,3586.325763235942,3586.325763235942,3586.325763235942,3586.325763235942,3586.325763235942,3586.325763235942,3586.325763235942,3586.325763235942,3586.325763235942,3586.325763235942,3586.325763235942,3586.325763235942,3586.325763235942,3586.325763235942,3586.325763235942,3586.325763235942,3586.325763235942,3586.325763235942,3586.325763235942,3586.325763235942,3586.325763235942,3586.325763235942,3586.325763235942,3586.325763235942,3586.325763235942,3586.325763235942,3586.325763235942,3586.325763235942,3586.325763235942,3586.325763235942,3586.325763235942,3586.325763235942,3586.325763235942,3586.325763235942,3586.325763235942,3586.325763235942,3586.325763235942,3586.325763235942,3586.325763235942,3586.325763235942,3586.325763235942,3586.325763235942,3586.325763235942,3586.325763235942,3586.325763235942,3586.325763235942,3586.325763235942,3586.325763235942,3586.325763235942,3586.325763235942,3586.325763235942,3586.325763235942],\"type\":\"scatter\"}],                        {\"title\":{\"text\":\"Optimization History Plot\"},\"xaxis\":{\"title\":{\"text\":\"Trial\"}},\"yaxis\":{\"title\":{\"text\":\"Objective Value\"}},\"template\":{\"data\":{\"bar\":[{\"error_x\":{\"color\":\"#2a3f5f\"},\"error_y\":{\"color\":\"#2a3f5f\"},\"marker\":{\"line\":{\"color\":\"#E5ECF6\",\"width\":0.5},\"pattern\":{\"fillmode\":\"overlay\",\"size\":10,\"solidity\":0.2}},\"type\":\"bar\"}],\"barpolar\":[{\"marker\":{\"line\":{\"color\":\"#E5ECF6\",\"width\":0.5},\"pattern\":{\"fillmode\":\"overlay\",\"size\":10,\"solidity\":0.2}},\"type\":\"barpolar\"}],\"carpet\":[{\"aaxis\":{\"endlinecolor\":\"#2a3f5f\",\"gridcolor\":\"white\",\"linecolor\":\"white\",\"minorgridcolor\":\"white\",\"startlinecolor\":\"#2a3f5f\"},\"baxis\":{\"endlinecolor\":\"#2a3f5f\",\"gridcolor\":\"white\",\"linecolor\":\"white\",\"minorgridcolor\":\"white\",\"startlinecolor\":\"#2a3f5f\"},\"type\":\"carpet\"}],\"choropleth\":[{\"colorbar\":{\"outlinewidth\":0,\"ticks\":\"\"},\"type\":\"choropleth\"}],\"contour\":[{\"colorbar\":{\"outlinewidth\":0,\"ticks\":\"\"},\"colorscale\":[[0.0,\"#0d0887\"],[0.1111111111111111,\"#46039f\"],[0.2222222222222222,\"#7201a8\"],[0.3333333333333333,\"#9c179e\"],[0.4444444444444444,\"#bd3786\"],[0.5555555555555556,\"#d8576b\"],[0.6666666666666666,\"#ed7953\"],[0.7777777777777778,\"#fb9f3a\"],[0.8888888888888888,\"#fdca26\"],[1.0,\"#f0f921\"]],\"type\":\"contour\"}],\"contourcarpet\":[{\"colorbar\":{\"outlinewidth\":0,\"ticks\":\"\"},\"type\":\"contourcarpet\"}],\"heatmap\":[{\"colorbar\":{\"outlinewidth\":0,\"ticks\":\"\"},\"colorscale\":[[0.0,\"#0d0887\"],[0.1111111111111111,\"#46039f\"],[0.2222222222222222,\"#7201a8\"],[0.3333333333333333,\"#9c179e\"],[0.4444444444444444,\"#bd3786\"],[0.5555555555555556,\"#d8576b\"],[0.6666666666666666,\"#ed7953\"],[0.7777777777777778,\"#fb9f3a\"],[0.8888888888888888,\"#fdca26\"],[1.0,\"#f0f921\"]],\"type\":\"heatmap\"}],\"heatmapgl\":[{\"colorbar\":{\"outlinewidth\":0,\"ticks\":\"\"},\"colorscale\":[[0.0,\"#0d0887\"],[0.1111111111111111,\"#46039f\"],[0.2222222222222222,\"#7201a8\"],[0.3333333333333333,\"#9c179e\"],[0.4444444444444444,\"#bd3786\"],[0.5555555555555556,\"#d8576b\"],[0.6666666666666666,\"#ed7953\"],[0.7777777777777778,\"#fb9f3a\"],[0.8888888888888888,\"#fdca26\"],[1.0,\"#f0f921\"]],\"type\":\"heatmapgl\"}],\"histogram\":[{\"marker\":{\"pattern\":{\"fillmode\":\"overlay\",\"size\":10,\"solidity\":0.2}},\"type\":\"histogram\"}],\"histogram2d\":[{\"colorbar\":{\"outlinewidth\":0,\"ticks\":\"\"},\"colorscale\":[[0.0,\"#0d0887\"],[0.1111111111111111,\"#46039f\"],[0.2222222222222222,\"#7201a8\"],[0.3333333333333333,\"#9c179e\"],[0.4444444444444444,\"#bd3786\"],[0.5555555555555556,\"#d8576b\"],[0.6666666666666666,\"#ed7953\"],[0.7777777777777778,\"#fb9f3a\"],[0.8888888888888888,\"#fdca26\"],[1.0,\"#f0f921\"]],\"type\":\"histogram2d\"}],\"histogram2dcontour\":[{\"colorbar\":{\"outlinewidth\":0,\"ticks\":\"\"},\"colorscale\":[[0.0,\"#0d0887\"],[0.1111111111111111,\"#46039f\"],[0.2222222222222222,\"#7201a8\"],[0.3333333333333333,\"#9c179e\"],[0.4444444444444444,\"#bd3786\"],[0.5555555555555556,\"#d8576b\"],[0.6666666666666666,\"#ed7953\"],[0.7777777777777778,\"#fb9f3a\"],[0.8888888888888888,\"#fdca26\"],[1.0,\"#f0f921\"]],\"type\":\"histogram2dcontour\"}],\"mesh3d\":[{\"colorbar\":{\"outlinewidth\":0,\"ticks\":\"\"},\"type\":\"mesh3d\"}],\"parcoords\":[{\"line\":{\"colorbar\":{\"outlinewidth\":0,\"ticks\":\"\"}},\"type\":\"parcoords\"}],\"pie\":[{\"automargin\":true,\"type\":\"pie\"}],\"scatter\":[{\"marker\":{\"colorbar\":{\"outlinewidth\":0,\"ticks\":\"\"}},\"type\":\"scatter\"}],\"scatter3d\":[{\"line\":{\"colorbar\":{\"outlinewidth\":0,\"ticks\":\"\"}},\"marker\":{\"colorbar\":{\"outlinewidth\":0,\"ticks\":\"\"}},\"type\":\"scatter3d\"}],\"scattercarpet\":[{\"marker\":{\"colorbar\":{\"outlinewidth\":0,\"ticks\":\"\"}},\"type\":\"scattercarpet\"}],\"scattergeo\":[{\"marker\":{\"colorbar\":{\"outlinewidth\":0,\"ticks\":\"\"}},\"type\":\"scattergeo\"}],\"scattergl\":[{\"marker\":{\"colorbar\":{\"outlinewidth\":0,\"ticks\":\"\"}},\"type\":\"scattergl\"}],\"scattermapbox\":[{\"marker\":{\"colorbar\":{\"outlinewidth\":0,\"ticks\":\"\"}},\"type\":\"scattermapbox\"}],\"scatterpolar\":[{\"marker\":{\"colorbar\":{\"outlinewidth\":0,\"ticks\":\"\"}},\"type\":\"scatterpolar\"}],\"scatterpolargl\":[{\"marker\":{\"colorbar\":{\"outlinewidth\":0,\"ticks\":\"\"}},\"type\":\"scatterpolargl\"}],\"scatterternary\":[{\"marker\":{\"colorbar\":{\"outlinewidth\":0,\"ticks\":\"\"}},\"type\":\"scatterternary\"}],\"surface\":[{\"colorbar\":{\"outlinewidth\":0,\"ticks\":\"\"},\"colorscale\":[[0.0,\"#0d0887\"],[0.1111111111111111,\"#46039f\"],[0.2222222222222222,\"#7201a8\"],[0.3333333333333333,\"#9c179e\"],[0.4444444444444444,\"#bd3786\"],[0.5555555555555556,\"#d8576b\"],[0.6666666666666666,\"#ed7953\"],[0.7777777777777778,\"#fb9f3a\"],[0.8888888888888888,\"#fdca26\"],[1.0,\"#f0f921\"]],\"type\":\"surface\"}],\"table\":[{\"cells\":{\"fill\":{\"color\":\"#EBF0F8\"},\"line\":{\"color\":\"white\"}},\"header\":{\"fill\":{\"color\":\"#C8D4E3\"},\"line\":{\"color\":\"white\"}},\"type\":\"table\"}]},\"layout\":{\"annotationdefaults\":{\"arrowcolor\":\"#2a3f5f\",\"arrowhead\":0,\"arrowwidth\":1},\"autotypenumbers\":\"strict\",\"coloraxis\":{\"colorbar\":{\"outlinewidth\":0,\"ticks\":\"\"}},\"colorscale\":{\"diverging\":[[0,\"#8e0152\"],[0.1,\"#c51b7d\"],[0.2,\"#de77ae\"],[0.3,\"#f1b6da\"],[0.4,\"#fde0ef\"],[0.5,\"#f7f7f7\"],[0.6,\"#e6f5d0\"],[0.7,\"#b8e186\"],[0.8,\"#7fbc41\"],[0.9,\"#4d9221\"],[1,\"#276419\"]],\"sequential\":[[0.0,\"#0d0887\"],[0.1111111111111111,\"#46039f\"],[0.2222222222222222,\"#7201a8\"],[0.3333333333333333,\"#9c179e\"],[0.4444444444444444,\"#bd3786\"],[0.5555555555555556,\"#d8576b\"],[0.6666666666666666,\"#ed7953\"],[0.7777777777777778,\"#fb9f3a\"],[0.8888888888888888,\"#fdca26\"],[1.0,\"#f0f921\"]],\"sequentialminus\":[[0.0,\"#0d0887\"],[0.1111111111111111,\"#46039f\"],[0.2222222222222222,\"#7201a8\"],[0.3333333333333333,\"#9c179e\"],[0.4444444444444444,\"#bd3786\"],[0.5555555555555556,\"#d8576b\"],[0.6666666666666666,\"#ed7953\"],[0.7777777777777778,\"#fb9f3a\"],[0.8888888888888888,\"#fdca26\"],[1.0,\"#f0f921\"]]},\"colorway\":[\"#636efa\",\"#EF553B\",\"#00cc96\",\"#ab63fa\",\"#FFA15A\",\"#19d3f3\",\"#FF6692\",\"#B6E880\",\"#FF97FF\",\"#FECB52\"],\"font\":{\"color\":\"#2a3f5f\"},\"geo\":{\"bgcolor\":\"white\",\"lakecolor\":\"white\",\"landcolor\":\"#E5ECF6\",\"showlakes\":true,\"showland\":true,\"subunitcolor\":\"white\"},\"hoverlabel\":{\"align\":\"left\"},\"hovermode\":\"closest\",\"mapbox\":{\"style\":\"light\"},\"paper_bgcolor\":\"white\",\"plot_bgcolor\":\"#E5ECF6\",\"polar\":{\"angularaxis\":{\"gridcolor\":\"white\",\"linecolor\":\"white\",\"ticks\":\"\"},\"bgcolor\":\"#E5ECF6\",\"radialaxis\":{\"gridcolor\":\"white\",\"linecolor\":\"white\",\"ticks\":\"\"}},\"scene\":{\"xaxis\":{\"backgroundcolor\":\"#E5ECF6\",\"gridcolor\":\"white\",\"gridwidth\":2,\"linecolor\":\"white\",\"showbackground\":true,\"ticks\":\"\",\"zerolinecolor\":\"white\"},\"yaxis\":{\"backgroundcolor\":\"#E5ECF6\",\"gridcolor\":\"white\",\"gridwidth\":2,\"linecolor\":\"white\",\"showbackground\":true,\"ticks\":\"\",\"zerolinecolor\":\"white\"},\"zaxis\":{\"backgroundcolor\":\"#E5ECF6\",\"gridcolor\":\"white\",\"gridwidth\":2,\"linecolor\":\"white\",\"showbackground\":true,\"ticks\":\"\",\"zerolinecolor\":\"white\"}},\"shapedefaults\":{\"line\":{\"color\":\"#2a3f5f\"}},\"ternary\":{\"aaxis\":{\"gridcolor\":\"white\",\"linecolor\":\"white\",\"ticks\":\"\"},\"baxis\":{\"gridcolor\":\"white\",\"linecolor\":\"white\",\"ticks\":\"\"},\"bgcolor\":\"#E5ECF6\",\"caxis\":{\"gridcolor\":\"white\",\"linecolor\":\"white\",\"ticks\":\"\"}},\"title\":{\"x\":0.05},\"xaxis\":{\"automargin\":true,\"gridcolor\":\"white\",\"linecolor\":\"white\",\"ticks\":\"\",\"title\":{\"standoff\":15},\"zerolinecolor\":\"white\",\"zerolinewidth\":2},\"yaxis\":{\"automargin\":true,\"gridcolor\":\"white\",\"linecolor\":\"white\",\"ticks\":\"\",\"title\":{\"standoff\":15},\"zerolinecolor\":\"white\",\"zerolinewidth\":2}}}},                        {\"responsive\": true}                    ).then(function(){\n",
              "                            \n",
              "var gd = document.getElementById('789ae29e-7722-43c4-a2ee-4b461e1cde06');\n",
              "var x = new MutationObserver(function (mutations, observer) {{\n",
              "        var display = window.getComputedStyle(gd).display;\n",
              "        if (!display || display === 'none') {{\n",
              "            console.log([gd, 'removed!']);\n",
              "            Plotly.purge(gd);\n",
              "            observer.disconnect();\n",
              "        }}\n",
              "}});\n",
              "\n",
              "// Listen for the removal of the full notebook cells\n",
              "var notebookContainer = gd.closest('#notebook-container');\n",
              "if (notebookContainer) {{\n",
              "    x.observe(notebookContainer, {childList: true});\n",
              "}}\n",
              "\n",
              "// Listen for the clearing of the current output cell\n",
              "var outputEl = gd.closest('.output');\n",
              "if (outputEl) {{\n",
              "    x.observe(outputEl, {childList: true});\n",
              "}}\n",
              "\n",
              "                        })                };                            </script>        </div>\n",
              "</body>\n",
              "</html>"
            ]
          },
          "metadata": {}
        }
      ],
      "source": [
        "# Plot_optimization_history: shows the scores from all trials as well as the best score so far at each point.\n",
        "fig = optuna.visualization.plot_optimization_history(study)\n",
        "py.plot(fig, filename='optimizationHistory_KNR_Optuna_100_GPU.pkl.html')\n",
        "fig.show()"
      ]
    },
    {
      "cell_type": "code",
      "execution_count": null,
      "metadata": {
        "id": "za0al45EHs3t",
        "colab": {
          "base_uri": "https://localhost:8080/",
          "height": 542
        },
        "outputId": "fe3928c4-ad08-451c-af85-3579aad98181"
      },
      "outputs": [
        {
          "output_type": "display_data",
          "data": {
            "text/html": [
              "<html>\n",
              "<head><meta charset=\"utf-8\" /></head>\n",
              "<body>\n",
              "    <div>            <script src=\"https://cdnjs.cloudflare.com/ajax/libs/mathjax/2.7.5/MathJax.js?config=TeX-AMS-MML_SVG\"></script><script type=\"text/javascript\">if (window.MathJax) {MathJax.Hub.Config({SVG: {font: \"STIX-Web\"}});}</script>                <script type=\"text/javascript\">window.PlotlyConfig = {MathJaxConfig: 'local'};</script>\n",
              "        <script src=\"https://cdn.plot.ly/plotly-2.8.3.min.js\"></script>                <div id=\"46360631-27da-427b-959d-baf5bf83c134\" class=\"plotly-graph-div\" style=\"height:525px; width:100%;\"></div>            <script type=\"text/javascript\">                                    window.PLOTLYENV=window.PLOTLYENV || {};                                    if (document.getElementById(\"46360631-27da-427b-959d-baf5bf83c134\")) {                    Plotly.newPlot(                        \"46360631-27da-427b-959d-baf5bf83c134\",                        [{\"dimensions\":[{\"label\":\"Objective Value\",\"range\":[3586.325763235942,5168.263875443831],\"values\":[4121.887446545337,5095.414951314923,4923.542907063325,4835.219970698422,4723.126229647229,4603.356006636722,4916.2527198382495,5022.1737579728415,5037.345727529945,4774.027433856023,3586.325763235942,3586.325763235942,4121.887446545337,5164.754262546907,4005.9150305658145,4625.044663202976,4861.583489139057,4625.044663202976,3841.009957328154,4996.091784624338,5090.938813479511,3586.325763235942,4555.016986871412,4497.798438248811,4774.027433856023,4464.551264729626,4694.141815359486,3586.325763235942,4428.045308086619,4835.219970698422,4384.845258618256,3841.009957328154,3586.325763235942,4334.884684584816,4736.6277143147345,4642.452428150509,5168.263875443831,4948.504046510185,4334.884684584816,4886.360554442493,4785.651199627076,3586.325763235942,3586.325763235942,4334.884684584816,4555.016986871412,4276.457684983897,4709.442632738852,5146.540508397751,4528.5810284713225,4642.452428150509,5069.328959463296,3586.325763235942,4121.887446545337,3586.325763235942,4121.887446545337,4464.551264729626,4206.458287027927,4580.496166314265,4677.786791115154,4464.551264729626,4206.458287027927,3586.325763235942,3586.325763235942,4206.458287027927,4428.045308086619,4555.016986871412,4121.887446545337,5016.75113924875,4384.845258618256,4603.356006636722,3586.325763235942,3586.325763235942,4334.884684584816,4005.9150305658145,4464.551264729626,4121.887446545337,5131.276571430833,4334.884684584816,4528.5810284713225,4736.6277143147345,4005.9150305658145,3586.325763235942,3586.325763235942,4334.884684584816,4206.458287027927,4497.798438248811,4005.9150305658145,4935.916210924576,4973.073511290455,4428.045308086619,4642.452428150509,3841.009957328154,4276.457684983897,4005.9150305658145,4276.457684983897,3586.325763235942,4428.045308086619,4121.887446545337,3586.325763235942,4580.496166314265]},{\"label\":\"metric\",\"range\":[0,3],\"ticktext\":[\"minkowski\",\"manhattan\",\"chebyshev\",\"euclidean\"],\"tickvals\":[0,1,2,3],\"values\":[0,0,1,0,0,2,2,3,1,3,0,0,0,0,0,0,2,3,1,0,0,1,1,1,1,1,3,2,0,0,1,2,2,0,2,2,2,0,1,2,0,2,2,2,2,3,2,0,0,1,3,2,2,2,2,2,0,1,2,0,1,2,2,2,2,2,3,0,2,1,0,2,2,2,2,2,2,0,1,2,3,2,2,2,2,0,2,2,1,0,2,2,2,2,2,2,2,0,1,2]},{\"label\":\"n_neighbors\",\"range\":[3,97],\"values\":[6,78,45,34,24,17,44,62,65,28,3,3,6,96,5,18,37,18,4,57,77,3,15,13,28,12,22,3,11,34,10,4,3,9,25,19,97,49,9,40,29,3,3,9,15,8,23,91,14,19,72,3,6,3,6,12,7,16,21,12,7,3,3,7,11,15,6,61,10,17,3,3,9,5,12,6,87,9,14,25,5,3,3,9,7,13,5,47,53,11,19,4,8,5,8,3,11,6,3,16]}],\"labelangle\":30,\"labelside\":\"bottom\",\"line\":{\"color\":[4121.887446545337,5095.414951314923,4923.542907063325,4835.219970698422,4723.126229647229,4603.356006636722,4916.2527198382495,5022.1737579728415,5037.345727529945,4774.027433856023,3586.325763235942,3586.325763235942,4121.887446545337,5164.754262546907,4005.9150305658145,4625.044663202976,4861.583489139057,4625.044663202976,3841.009957328154,4996.091784624338,5090.938813479511,3586.325763235942,4555.016986871412,4497.798438248811,4774.027433856023,4464.551264729626,4694.141815359486,3586.325763235942,4428.045308086619,4835.219970698422,4384.845258618256,3841.009957328154,3586.325763235942,4334.884684584816,4736.6277143147345,4642.452428150509,5168.263875443831,4948.504046510185,4334.884684584816,4886.360554442493,4785.651199627076,3586.325763235942,3586.325763235942,4334.884684584816,4555.016986871412,4276.457684983897,4709.442632738852,5146.540508397751,4528.5810284713225,4642.452428150509,5069.328959463296,3586.325763235942,4121.887446545337,3586.325763235942,4121.887446545337,4464.551264729626,4206.458287027927,4580.496166314265,4677.786791115154,4464.551264729626,4206.458287027927,3586.325763235942,3586.325763235942,4206.458287027927,4428.045308086619,4555.016986871412,4121.887446545337,5016.75113924875,4384.845258618256,4603.356006636722,3586.325763235942,3586.325763235942,4334.884684584816,4005.9150305658145,4464.551264729626,4121.887446545337,5131.276571430833,4334.884684584816,4528.5810284713225,4736.6277143147345,4005.9150305658145,3586.325763235942,3586.325763235942,4334.884684584816,4206.458287027927,4497.798438248811,4005.9150305658145,4935.916210924576,4973.073511290455,4428.045308086619,4642.452428150509,3841.009957328154,4276.457684983897,4005.9150305658145,4276.457684983897,3586.325763235942,4428.045308086619,4121.887446545337,3586.325763235942,4580.496166314265],\"colorbar\":{\"title\":{\"text\":\"Objective Value\"}},\"colorscale\":[[0.0,\"rgb(247,251,255)\"],[0.125,\"rgb(222,235,247)\"],[0.25,\"rgb(198,219,239)\"],[0.375,\"rgb(158,202,225)\"],[0.5,\"rgb(107,174,214)\"],[0.625,\"rgb(66,146,198)\"],[0.75,\"rgb(33,113,181)\"],[0.875,\"rgb(8,81,156)\"],[1.0,\"rgb(8,48,107)\"]],\"reversescale\":true,\"showscale\":true},\"type\":\"parcoords\"}],                        {\"title\":{\"text\":\"Parallel Coordinate Plot\"},\"template\":{\"data\":{\"bar\":[{\"error_x\":{\"color\":\"#2a3f5f\"},\"error_y\":{\"color\":\"#2a3f5f\"},\"marker\":{\"line\":{\"color\":\"#E5ECF6\",\"width\":0.5},\"pattern\":{\"fillmode\":\"overlay\",\"size\":10,\"solidity\":0.2}},\"type\":\"bar\"}],\"barpolar\":[{\"marker\":{\"line\":{\"color\":\"#E5ECF6\",\"width\":0.5},\"pattern\":{\"fillmode\":\"overlay\",\"size\":10,\"solidity\":0.2}},\"type\":\"barpolar\"}],\"carpet\":[{\"aaxis\":{\"endlinecolor\":\"#2a3f5f\",\"gridcolor\":\"white\",\"linecolor\":\"white\",\"minorgridcolor\":\"white\",\"startlinecolor\":\"#2a3f5f\"},\"baxis\":{\"endlinecolor\":\"#2a3f5f\",\"gridcolor\":\"white\",\"linecolor\":\"white\",\"minorgridcolor\":\"white\",\"startlinecolor\":\"#2a3f5f\"},\"type\":\"carpet\"}],\"choropleth\":[{\"colorbar\":{\"outlinewidth\":0,\"ticks\":\"\"},\"type\":\"choropleth\"}],\"contour\":[{\"colorbar\":{\"outlinewidth\":0,\"ticks\":\"\"},\"colorscale\":[[0.0,\"#0d0887\"],[0.1111111111111111,\"#46039f\"],[0.2222222222222222,\"#7201a8\"],[0.3333333333333333,\"#9c179e\"],[0.4444444444444444,\"#bd3786\"],[0.5555555555555556,\"#d8576b\"],[0.6666666666666666,\"#ed7953\"],[0.7777777777777778,\"#fb9f3a\"],[0.8888888888888888,\"#fdca26\"],[1.0,\"#f0f921\"]],\"type\":\"contour\"}],\"contourcarpet\":[{\"colorbar\":{\"outlinewidth\":0,\"ticks\":\"\"},\"type\":\"contourcarpet\"}],\"heatmap\":[{\"colorbar\":{\"outlinewidth\":0,\"ticks\":\"\"},\"colorscale\":[[0.0,\"#0d0887\"],[0.1111111111111111,\"#46039f\"],[0.2222222222222222,\"#7201a8\"],[0.3333333333333333,\"#9c179e\"],[0.4444444444444444,\"#bd3786\"],[0.5555555555555556,\"#d8576b\"],[0.6666666666666666,\"#ed7953\"],[0.7777777777777778,\"#fb9f3a\"],[0.8888888888888888,\"#fdca26\"],[1.0,\"#f0f921\"]],\"type\":\"heatmap\"}],\"heatmapgl\":[{\"colorbar\":{\"outlinewidth\":0,\"ticks\":\"\"},\"colorscale\":[[0.0,\"#0d0887\"],[0.1111111111111111,\"#46039f\"],[0.2222222222222222,\"#7201a8\"],[0.3333333333333333,\"#9c179e\"],[0.4444444444444444,\"#bd3786\"],[0.5555555555555556,\"#d8576b\"],[0.6666666666666666,\"#ed7953\"],[0.7777777777777778,\"#fb9f3a\"],[0.8888888888888888,\"#fdca26\"],[1.0,\"#f0f921\"]],\"type\":\"heatmapgl\"}],\"histogram\":[{\"marker\":{\"pattern\":{\"fillmode\":\"overlay\",\"size\":10,\"solidity\":0.2}},\"type\":\"histogram\"}],\"histogram2d\":[{\"colorbar\":{\"outlinewidth\":0,\"ticks\":\"\"},\"colorscale\":[[0.0,\"#0d0887\"],[0.1111111111111111,\"#46039f\"],[0.2222222222222222,\"#7201a8\"],[0.3333333333333333,\"#9c179e\"],[0.4444444444444444,\"#bd3786\"],[0.5555555555555556,\"#d8576b\"],[0.6666666666666666,\"#ed7953\"],[0.7777777777777778,\"#fb9f3a\"],[0.8888888888888888,\"#fdca26\"],[1.0,\"#f0f921\"]],\"type\":\"histogram2d\"}],\"histogram2dcontour\":[{\"colorbar\":{\"outlinewidth\":0,\"ticks\":\"\"},\"colorscale\":[[0.0,\"#0d0887\"],[0.1111111111111111,\"#46039f\"],[0.2222222222222222,\"#7201a8\"],[0.3333333333333333,\"#9c179e\"],[0.4444444444444444,\"#bd3786\"],[0.5555555555555556,\"#d8576b\"],[0.6666666666666666,\"#ed7953\"],[0.7777777777777778,\"#fb9f3a\"],[0.8888888888888888,\"#fdca26\"],[1.0,\"#f0f921\"]],\"type\":\"histogram2dcontour\"}],\"mesh3d\":[{\"colorbar\":{\"outlinewidth\":0,\"ticks\":\"\"},\"type\":\"mesh3d\"}],\"parcoords\":[{\"line\":{\"colorbar\":{\"outlinewidth\":0,\"ticks\":\"\"}},\"type\":\"parcoords\"}],\"pie\":[{\"automargin\":true,\"type\":\"pie\"}],\"scatter\":[{\"marker\":{\"colorbar\":{\"outlinewidth\":0,\"ticks\":\"\"}},\"type\":\"scatter\"}],\"scatter3d\":[{\"line\":{\"colorbar\":{\"outlinewidth\":0,\"ticks\":\"\"}},\"marker\":{\"colorbar\":{\"outlinewidth\":0,\"ticks\":\"\"}},\"type\":\"scatter3d\"}],\"scattercarpet\":[{\"marker\":{\"colorbar\":{\"outlinewidth\":0,\"ticks\":\"\"}},\"type\":\"scattercarpet\"}],\"scattergeo\":[{\"marker\":{\"colorbar\":{\"outlinewidth\":0,\"ticks\":\"\"}},\"type\":\"scattergeo\"}],\"scattergl\":[{\"marker\":{\"colorbar\":{\"outlinewidth\":0,\"ticks\":\"\"}},\"type\":\"scattergl\"}],\"scattermapbox\":[{\"marker\":{\"colorbar\":{\"outlinewidth\":0,\"ticks\":\"\"}},\"type\":\"scattermapbox\"}],\"scatterpolar\":[{\"marker\":{\"colorbar\":{\"outlinewidth\":0,\"ticks\":\"\"}},\"type\":\"scatterpolar\"}],\"scatterpolargl\":[{\"marker\":{\"colorbar\":{\"outlinewidth\":0,\"ticks\":\"\"}},\"type\":\"scatterpolargl\"}],\"scatterternary\":[{\"marker\":{\"colorbar\":{\"outlinewidth\":0,\"ticks\":\"\"}},\"type\":\"scatterternary\"}],\"surface\":[{\"colorbar\":{\"outlinewidth\":0,\"ticks\":\"\"},\"colorscale\":[[0.0,\"#0d0887\"],[0.1111111111111111,\"#46039f\"],[0.2222222222222222,\"#7201a8\"],[0.3333333333333333,\"#9c179e\"],[0.4444444444444444,\"#bd3786\"],[0.5555555555555556,\"#d8576b\"],[0.6666666666666666,\"#ed7953\"],[0.7777777777777778,\"#fb9f3a\"],[0.8888888888888888,\"#fdca26\"],[1.0,\"#f0f921\"]],\"type\":\"surface\"}],\"table\":[{\"cells\":{\"fill\":{\"color\":\"#EBF0F8\"},\"line\":{\"color\":\"white\"}},\"header\":{\"fill\":{\"color\":\"#C8D4E3\"},\"line\":{\"color\":\"white\"}},\"type\":\"table\"}]},\"layout\":{\"annotationdefaults\":{\"arrowcolor\":\"#2a3f5f\",\"arrowhead\":0,\"arrowwidth\":1},\"autotypenumbers\":\"strict\",\"coloraxis\":{\"colorbar\":{\"outlinewidth\":0,\"ticks\":\"\"}},\"colorscale\":{\"diverging\":[[0,\"#8e0152\"],[0.1,\"#c51b7d\"],[0.2,\"#de77ae\"],[0.3,\"#f1b6da\"],[0.4,\"#fde0ef\"],[0.5,\"#f7f7f7\"],[0.6,\"#e6f5d0\"],[0.7,\"#b8e186\"],[0.8,\"#7fbc41\"],[0.9,\"#4d9221\"],[1,\"#276419\"]],\"sequential\":[[0.0,\"#0d0887\"],[0.1111111111111111,\"#46039f\"],[0.2222222222222222,\"#7201a8\"],[0.3333333333333333,\"#9c179e\"],[0.4444444444444444,\"#bd3786\"],[0.5555555555555556,\"#d8576b\"],[0.6666666666666666,\"#ed7953\"],[0.7777777777777778,\"#fb9f3a\"],[0.8888888888888888,\"#fdca26\"],[1.0,\"#f0f921\"]],\"sequentialminus\":[[0.0,\"#0d0887\"],[0.1111111111111111,\"#46039f\"],[0.2222222222222222,\"#7201a8\"],[0.3333333333333333,\"#9c179e\"],[0.4444444444444444,\"#bd3786\"],[0.5555555555555556,\"#d8576b\"],[0.6666666666666666,\"#ed7953\"],[0.7777777777777778,\"#fb9f3a\"],[0.8888888888888888,\"#fdca26\"],[1.0,\"#f0f921\"]]},\"colorway\":[\"#636efa\",\"#EF553B\",\"#00cc96\",\"#ab63fa\",\"#FFA15A\",\"#19d3f3\",\"#FF6692\",\"#B6E880\",\"#FF97FF\",\"#FECB52\"],\"font\":{\"color\":\"#2a3f5f\"},\"geo\":{\"bgcolor\":\"white\",\"lakecolor\":\"white\",\"landcolor\":\"#E5ECF6\",\"showlakes\":true,\"showland\":true,\"subunitcolor\":\"white\"},\"hoverlabel\":{\"align\":\"left\"},\"hovermode\":\"closest\",\"mapbox\":{\"style\":\"light\"},\"paper_bgcolor\":\"white\",\"plot_bgcolor\":\"#E5ECF6\",\"polar\":{\"angularaxis\":{\"gridcolor\":\"white\",\"linecolor\":\"white\",\"ticks\":\"\"},\"bgcolor\":\"#E5ECF6\",\"radialaxis\":{\"gridcolor\":\"white\",\"linecolor\":\"white\",\"ticks\":\"\"}},\"scene\":{\"xaxis\":{\"backgroundcolor\":\"#E5ECF6\",\"gridcolor\":\"white\",\"gridwidth\":2,\"linecolor\":\"white\",\"showbackground\":true,\"ticks\":\"\",\"zerolinecolor\":\"white\"},\"yaxis\":{\"backgroundcolor\":\"#E5ECF6\",\"gridcolor\":\"white\",\"gridwidth\":2,\"linecolor\":\"white\",\"showbackground\":true,\"ticks\":\"\",\"zerolinecolor\":\"white\"},\"zaxis\":{\"backgroundcolor\":\"#E5ECF6\",\"gridcolor\":\"white\",\"gridwidth\":2,\"linecolor\":\"white\",\"showbackground\":true,\"ticks\":\"\",\"zerolinecolor\":\"white\"}},\"shapedefaults\":{\"line\":{\"color\":\"#2a3f5f\"}},\"ternary\":{\"aaxis\":{\"gridcolor\":\"white\",\"linecolor\":\"white\",\"ticks\":\"\"},\"baxis\":{\"gridcolor\":\"white\",\"linecolor\":\"white\",\"ticks\":\"\"},\"bgcolor\":\"#E5ECF6\",\"caxis\":{\"gridcolor\":\"white\",\"linecolor\":\"white\",\"ticks\":\"\"}},\"title\":{\"x\":0.05},\"xaxis\":{\"automargin\":true,\"gridcolor\":\"white\",\"linecolor\":\"white\",\"ticks\":\"\",\"title\":{\"standoff\":15},\"zerolinecolor\":\"white\",\"zerolinewidth\":2},\"yaxis\":{\"automargin\":true,\"gridcolor\":\"white\",\"linecolor\":\"white\",\"ticks\":\"\",\"title\":{\"standoff\":15},\"zerolinecolor\":\"white\",\"zerolinewidth\":2}}}},                        {\"responsive\": true}                    ).then(function(){\n",
              "                            \n",
              "var gd = document.getElementById('46360631-27da-427b-959d-baf5bf83c134');\n",
              "var x = new MutationObserver(function (mutations, observer) {{\n",
              "        var display = window.getComputedStyle(gd).display;\n",
              "        if (!display || display === 'none') {{\n",
              "            console.log([gd, 'removed!']);\n",
              "            Plotly.purge(gd);\n",
              "            observer.disconnect();\n",
              "        }}\n",
              "}});\n",
              "\n",
              "// Listen for the removal of the full notebook cells\n",
              "var notebookContainer = gd.closest('#notebook-container');\n",
              "if (notebookContainer) {{\n",
              "    x.observe(notebookContainer, {childList: true});\n",
              "}}\n",
              "\n",
              "// Listen for the clearing of the current output cell\n",
              "var outputEl = gd.closest('.output');\n",
              "if (outputEl) {{\n",
              "    x.observe(outputEl, {childList: true});\n",
              "}}\n",
              "\n",
              "                        })                };                            </script>        </div>\n",
              "</body>\n",
              "</html>"
            ]
          },
          "metadata": {}
        }
      ],
      "source": [
        "# plot_parallel_coordinate: interactively visualizes the hyperparameters and scores\n",
        "fig = optuna.visualization.plot_parallel_coordinate(study)\n",
        "py.plot(fig, filename='parallelCoordinate_KNR_Optuna_100_GPU.pkl.html')\n",
        "fig.show()"
      ]
    },
    {
      "cell_type": "code",
      "execution_count": null,
      "metadata": {
        "id": "T4heVyLuHs3t",
        "colab": {
          "base_uri": "https://localhost:8080/",
          "height": 542
        },
        "outputId": "5c6d48a0-c707-4a9d-a9bb-44fda432b6cc"
      },
      "outputs": [
        {
          "output_type": "display_data",
          "data": {
            "text/html": [
              "<html>\n",
              "<head><meta charset=\"utf-8\" /></head>\n",
              "<body>\n",
              "    <div>            <script src=\"https://cdnjs.cloudflare.com/ajax/libs/mathjax/2.7.5/MathJax.js?config=TeX-AMS-MML_SVG\"></script><script type=\"text/javascript\">if (window.MathJax) {MathJax.Hub.Config({SVG: {font: \"STIX-Web\"}});}</script>                <script type=\"text/javascript\">window.PlotlyConfig = {MathJaxConfig: 'local'};</script>\n",
              "        <script src=\"https://cdn.plot.ly/plotly-2.8.3.min.js\"></script>                <div id=\"d2c4410e-cd87-47e7-b277-9a38d5b8b7ed\" class=\"plotly-graph-div\" style=\"height:525px; width:100%;\"></div>            <script type=\"text/javascript\">                                    window.PLOTLYENV=window.PLOTLYENV || {};                                    if (document.getElementById(\"d2c4410e-cd87-47e7-b277-9a38d5b8b7ed\")) {                    Plotly.newPlot(                        \"d2c4410e-cd87-47e7-b277-9a38d5b8b7ed\",                        [{\"marker\":{\"color\":[0,1,2,3,4,5,6,7,8,9,10,11,12,13,14,15,16,17,18,19,20,21,22,23,24,25,26,27,28,29,30,31,32,33,34,35,36,37,38,39,40,41,42,43,44,45,46,47,48,49,50,51,52,53,54,55,56,57,58,59,60,61,62,63,64,65,66,67,68,69,70,71,72,73,74,75,76,77,78,79,80,81,82,83,84,85,86,87,88,89,90,91,92,93,94,95,96,97,98,99],\"colorbar\":{\"title\":{\"text\":\"Trial\"},\"x\":1.0,\"xpad\":40},\"colorscale\":[[0.0,\"rgb(247,251,255)\"],[0.125,\"rgb(222,235,247)\"],[0.25,\"rgb(198,219,239)\"],[0.375,\"rgb(158,202,225)\"],[0.5,\"rgb(107,174,214)\"],[0.625,\"rgb(66,146,198)\"],[0.75,\"rgb(33,113,181)\"],[0.875,\"rgb(8,81,156)\"],[1.0,\"rgb(8,48,107)\"]],\"line\":{\"color\":\"Grey\",\"width\":0.5},\"showscale\":true},\"mode\":\"markers\",\"showlegend\":false,\"x\":[\"minkowski\",\"minkowski\",\"manhattan\",\"minkowski\",\"minkowski\",\"chebyshev\",\"chebyshev\",\"euclidean\",\"manhattan\",\"euclidean\",\"minkowski\",\"minkowski\",\"minkowski\",\"minkowski\",\"minkowski\",\"minkowski\",\"chebyshev\",\"euclidean\",\"manhattan\",\"minkowski\",\"minkowski\",\"manhattan\",\"manhattan\",\"manhattan\",\"manhattan\",\"manhattan\",\"euclidean\",\"chebyshev\",\"minkowski\",\"minkowski\",\"manhattan\",\"chebyshev\",\"chebyshev\",\"minkowski\",\"chebyshev\",\"chebyshev\",\"chebyshev\",\"minkowski\",\"manhattan\",\"chebyshev\",\"minkowski\",\"chebyshev\",\"chebyshev\",\"chebyshev\",\"chebyshev\",\"euclidean\",\"chebyshev\",\"minkowski\",\"minkowski\",\"manhattan\",\"euclidean\",\"chebyshev\",\"chebyshev\",\"chebyshev\",\"chebyshev\",\"chebyshev\",\"minkowski\",\"manhattan\",\"chebyshev\",\"minkowski\",\"manhattan\",\"chebyshev\",\"chebyshev\",\"chebyshev\",\"chebyshev\",\"chebyshev\",\"euclidean\",\"minkowski\",\"chebyshev\",\"manhattan\",\"minkowski\",\"chebyshev\",\"chebyshev\",\"chebyshev\",\"chebyshev\",\"chebyshev\",\"chebyshev\",\"minkowski\",\"manhattan\",\"chebyshev\",\"euclidean\",\"chebyshev\",\"chebyshev\",\"chebyshev\",\"chebyshev\",\"minkowski\",\"chebyshev\",\"chebyshev\",\"manhattan\",\"minkowski\",\"chebyshev\",\"chebyshev\",\"chebyshev\",\"chebyshev\",\"chebyshev\",\"chebyshev\",\"chebyshev\",\"minkowski\",\"manhattan\",\"chebyshev\"],\"y\":[4121.887446545337,5095.414951314923,4923.542907063325,4835.219970698422,4723.126229647229,4603.356006636722,4916.2527198382495,5022.1737579728415,5037.345727529945,4774.027433856023,3586.325763235942,3586.325763235942,4121.887446545337,5164.754262546907,4005.9150305658145,4625.044663202976,4861.583489139057,4625.044663202976,3841.009957328154,4996.091784624338,5090.938813479511,3586.325763235942,4555.016986871412,4497.798438248811,4774.027433856023,4464.551264729626,4694.141815359486,3586.325763235942,4428.045308086619,4835.219970698422,4384.845258618256,3841.009957328154,3586.325763235942,4334.884684584816,4736.6277143147345,4642.452428150509,5168.263875443831,4948.504046510185,4334.884684584816,4886.360554442493,4785.651199627076,3586.325763235942,3586.325763235942,4334.884684584816,4555.016986871412,4276.457684983897,4709.442632738852,5146.540508397751,4528.5810284713225,4642.452428150509,5069.328959463296,3586.325763235942,4121.887446545337,3586.325763235942,4121.887446545337,4464.551264729626,4206.458287027927,4580.496166314265,4677.786791115154,4464.551264729626,4206.458287027927,3586.325763235942,3586.325763235942,4206.458287027927,4428.045308086619,4555.016986871412,4121.887446545337,5016.75113924875,4384.845258618256,4603.356006636722,3586.325763235942,3586.325763235942,4334.884684584816,4005.9150305658145,4464.551264729626,4121.887446545337,5131.276571430833,4334.884684584816,4528.5810284713225,4736.6277143147345,4005.9150305658145,3586.325763235942,3586.325763235942,4334.884684584816,4206.458287027927,4497.798438248811,4005.9150305658145,4935.916210924576,4973.073511290455,4428.045308086619,4642.452428150509,3841.009957328154,4276.457684983897,4005.9150305658145,4276.457684983897,3586.325763235942,4428.045308086619,4121.887446545337,3586.325763235942,4580.496166314265],\"type\":\"scatter\",\"xaxis\":\"x\",\"yaxis\":\"y\"},{\"marker\":{\"color\":[0,1,2,3,4,5,6,7,8,9,10,11,12,13,14,15,16,17,18,19,20,21,22,23,24,25,26,27,28,29,30,31,32,33,34,35,36,37,38,39,40,41,42,43,44,45,46,47,48,49,50,51,52,53,54,55,56,57,58,59,60,61,62,63,64,65,66,67,68,69,70,71,72,73,74,75,76,77,78,79,80,81,82,83,84,85,86,87,88,89,90,91,92,93,94,95,96,97,98,99],\"colorbar\":{\"title\":{\"text\":\"Trial\"},\"x\":1.0,\"xpad\":40},\"colorscale\":[[0.0,\"rgb(247,251,255)\"],[0.125,\"rgb(222,235,247)\"],[0.25,\"rgb(198,219,239)\"],[0.375,\"rgb(158,202,225)\"],[0.5,\"rgb(107,174,214)\"],[0.625,\"rgb(66,146,198)\"],[0.75,\"rgb(33,113,181)\"],[0.875,\"rgb(8,81,156)\"],[1.0,\"rgb(8,48,107)\"]],\"line\":{\"color\":\"Grey\",\"width\":0.5},\"showscale\":false},\"mode\":\"markers\",\"showlegend\":false,\"x\":[6,78,45,34,24,17,44,62,65,28,3,3,6,96,5,18,37,18,4,57,77,3,15,13,28,12,22,3,11,34,10,4,3,9,25,19,97,49,9,40,29,3,3,9,15,8,23,91,14,19,72,3,6,3,6,12,7,16,21,12,7,3,3,7,11,15,6,61,10,17,3,3,9,5,12,6,87,9,14,25,5,3,3,9,7,13,5,47,53,11,19,4,8,5,8,3,11,6,3,16],\"y\":[4121.887446545337,5095.414951314923,4923.542907063325,4835.219970698422,4723.126229647229,4603.356006636722,4916.2527198382495,5022.1737579728415,5037.345727529945,4774.027433856023,3586.325763235942,3586.325763235942,4121.887446545337,5164.754262546907,4005.9150305658145,4625.044663202976,4861.583489139057,4625.044663202976,3841.009957328154,4996.091784624338,5090.938813479511,3586.325763235942,4555.016986871412,4497.798438248811,4774.027433856023,4464.551264729626,4694.141815359486,3586.325763235942,4428.045308086619,4835.219970698422,4384.845258618256,3841.009957328154,3586.325763235942,4334.884684584816,4736.6277143147345,4642.452428150509,5168.263875443831,4948.504046510185,4334.884684584816,4886.360554442493,4785.651199627076,3586.325763235942,3586.325763235942,4334.884684584816,4555.016986871412,4276.457684983897,4709.442632738852,5146.540508397751,4528.5810284713225,4642.452428150509,5069.328959463296,3586.325763235942,4121.887446545337,3586.325763235942,4121.887446545337,4464.551264729626,4206.458287027927,4580.496166314265,4677.786791115154,4464.551264729626,4206.458287027927,3586.325763235942,3586.325763235942,4206.458287027927,4428.045308086619,4555.016986871412,4121.887446545337,5016.75113924875,4384.845258618256,4603.356006636722,3586.325763235942,3586.325763235942,4334.884684584816,4005.9150305658145,4464.551264729626,4121.887446545337,5131.276571430833,4334.884684584816,4528.5810284713225,4736.6277143147345,4005.9150305658145,3586.325763235942,3586.325763235942,4334.884684584816,4206.458287027927,4497.798438248811,4005.9150305658145,4935.916210924576,4973.073511290455,4428.045308086619,4642.452428150509,3841.009957328154,4276.457684983897,4005.9150305658145,4276.457684983897,3586.325763235942,4428.045308086619,4121.887446545337,3586.325763235942,4580.496166314265],\"type\":\"scatter\",\"xaxis\":\"x2\",\"yaxis\":\"y2\"}],                        {\"template\":{\"data\":{\"bar\":[{\"error_x\":{\"color\":\"#2a3f5f\"},\"error_y\":{\"color\":\"#2a3f5f\"},\"marker\":{\"line\":{\"color\":\"#E5ECF6\",\"width\":0.5},\"pattern\":{\"fillmode\":\"overlay\",\"size\":10,\"solidity\":0.2}},\"type\":\"bar\"}],\"barpolar\":[{\"marker\":{\"line\":{\"color\":\"#E5ECF6\",\"width\":0.5},\"pattern\":{\"fillmode\":\"overlay\",\"size\":10,\"solidity\":0.2}},\"type\":\"barpolar\"}],\"carpet\":[{\"aaxis\":{\"endlinecolor\":\"#2a3f5f\",\"gridcolor\":\"white\",\"linecolor\":\"white\",\"minorgridcolor\":\"white\",\"startlinecolor\":\"#2a3f5f\"},\"baxis\":{\"endlinecolor\":\"#2a3f5f\",\"gridcolor\":\"white\",\"linecolor\":\"white\",\"minorgridcolor\":\"white\",\"startlinecolor\":\"#2a3f5f\"},\"type\":\"carpet\"}],\"choropleth\":[{\"colorbar\":{\"outlinewidth\":0,\"ticks\":\"\"},\"type\":\"choropleth\"}],\"contour\":[{\"colorbar\":{\"outlinewidth\":0,\"ticks\":\"\"},\"colorscale\":[[0.0,\"#0d0887\"],[0.1111111111111111,\"#46039f\"],[0.2222222222222222,\"#7201a8\"],[0.3333333333333333,\"#9c179e\"],[0.4444444444444444,\"#bd3786\"],[0.5555555555555556,\"#d8576b\"],[0.6666666666666666,\"#ed7953\"],[0.7777777777777778,\"#fb9f3a\"],[0.8888888888888888,\"#fdca26\"],[1.0,\"#f0f921\"]],\"type\":\"contour\"}],\"contourcarpet\":[{\"colorbar\":{\"outlinewidth\":0,\"ticks\":\"\"},\"type\":\"contourcarpet\"}],\"heatmap\":[{\"colorbar\":{\"outlinewidth\":0,\"ticks\":\"\"},\"colorscale\":[[0.0,\"#0d0887\"],[0.1111111111111111,\"#46039f\"],[0.2222222222222222,\"#7201a8\"],[0.3333333333333333,\"#9c179e\"],[0.4444444444444444,\"#bd3786\"],[0.5555555555555556,\"#d8576b\"],[0.6666666666666666,\"#ed7953\"],[0.7777777777777778,\"#fb9f3a\"],[0.8888888888888888,\"#fdca26\"],[1.0,\"#f0f921\"]],\"type\":\"heatmap\"}],\"heatmapgl\":[{\"colorbar\":{\"outlinewidth\":0,\"ticks\":\"\"},\"colorscale\":[[0.0,\"#0d0887\"],[0.1111111111111111,\"#46039f\"],[0.2222222222222222,\"#7201a8\"],[0.3333333333333333,\"#9c179e\"],[0.4444444444444444,\"#bd3786\"],[0.5555555555555556,\"#d8576b\"],[0.6666666666666666,\"#ed7953\"],[0.7777777777777778,\"#fb9f3a\"],[0.8888888888888888,\"#fdca26\"],[1.0,\"#f0f921\"]],\"type\":\"heatmapgl\"}],\"histogram\":[{\"marker\":{\"pattern\":{\"fillmode\":\"overlay\",\"size\":10,\"solidity\":0.2}},\"type\":\"histogram\"}],\"histogram2d\":[{\"colorbar\":{\"outlinewidth\":0,\"ticks\":\"\"},\"colorscale\":[[0.0,\"#0d0887\"],[0.1111111111111111,\"#46039f\"],[0.2222222222222222,\"#7201a8\"],[0.3333333333333333,\"#9c179e\"],[0.4444444444444444,\"#bd3786\"],[0.5555555555555556,\"#d8576b\"],[0.6666666666666666,\"#ed7953\"],[0.7777777777777778,\"#fb9f3a\"],[0.8888888888888888,\"#fdca26\"],[1.0,\"#f0f921\"]],\"type\":\"histogram2d\"}],\"histogram2dcontour\":[{\"colorbar\":{\"outlinewidth\":0,\"ticks\":\"\"},\"colorscale\":[[0.0,\"#0d0887\"],[0.1111111111111111,\"#46039f\"],[0.2222222222222222,\"#7201a8\"],[0.3333333333333333,\"#9c179e\"],[0.4444444444444444,\"#bd3786\"],[0.5555555555555556,\"#d8576b\"],[0.6666666666666666,\"#ed7953\"],[0.7777777777777778,\"#fb9f3a\"],[0.8888888888888888,\"#fdca26\"],[1.0,\"#f0f921\"]],\"type\":\"histogram2dcontour\"}],\"mesh3d\":[{\"colorbar\":{\"outlinewidth\":0,\"ticks\":\"\"},\"type\":\"mesh3d\"}],\"parcoords\":[{\"line\":{\"colorbar\":{\"outlinewidth\":0,\"ticks\":\"\"}},\"type\":\"parcoords\"}],\"pie\":[{\"automargin\":true,\"type\":\"pie\"}],\"scatter\":[{\"marker\":{\"colorbar\":{\"outlinewidth\":0,\"ticks\":\"\"}},\"type\":\"scatter\"}],\"scatter3d\":[{\"line\":{\"colorbar\":{\"outlinewidth\":0,\"ticks\":\"\"}},\"marker\":{\"colorbar\":{\"outlinewidth\":0,\"ticks\":\"\"}},\"type\":\"scatter3d\"}],\"scattercarpet\":[{\"marker\":{\"colorbar\":{\"outlinewidth\":0,\"ticks\":\"\"}},\"type\":\"scattercarpet\"}],\"scattergeo\":[{\"marker\":{\"colorbar\":{\"outlinewidth\":0,\"ticks\":\"\"}},\"type\":\"scattergeo\"}],\"scattergl\":[{\"marker\":{\"colorbar\":{\"outlinewidth\":0,\"ticks\":\"\"}},\"type\":\"scattergl\"}],\"scattermapbox\":[{\"marker\":{\"colorbar\":{\"outlinewidth\":0,\"ticks\":\"\"}},\"type\":\"scattermapbox\"}],\"scatterpolar\":[{\"marker\":{\"colorbar\":{\"outlinewidth\":0,\"ticks\":\"\"}},\"type\":\"scatterpolar\"}],\"scatterpolargl\":[{\"marker\":{\"colorbar\":{\"outlinewidth\":0,\"ticks\":\"\"}},\"type\":\"scatterpolargl\"}],\"scatterternary\":[{\"marker\":{\"colorbar\":{\"outlinewidth\":0,\"ticks\":\"\"}},\"type\":\"scatterternary\"}],\"surface\":[{\"colorbar\":{\"outlinewidth\":0,\"ticks\":\"\"},\"colorscale\":[[0.0,\"#0d0887\"],[0.1111111111111111,\"#46039f\"],[0.2222222222222222,\"#7201a8\"],[0.3333333333333333,\"#9c179e\"],[0.4444444444444444,\"#bd3786\"],[0.5555555555555556,\"#d8576b\"],[0.6666666666666666,\"#ed7953\"],[0.7777777777777778,\"#fb9f3a\"],[0.8888888888888888,\"#fdca26\"],[1.0,\"#f0f921\"]],\"type\":\"surface\"}],\"table\":[{\"cells\":{\"fill\":{\"color\":\"#EBF0F8\"},\"line\":{\"color\":\"white\"}},\"header\":{\"fill\":{\"color\":\"#C8D4E3\"},\"line\":{\"color\":\"white\"}},\"type\":\"table\"}]},\"layout\":{\"annotationdefaults\":{\"arrowcolor\":\"#2a3f5f\",\"arrowhead\":0,\"arrowwidth\":1},\"autotypenumbers\":\"strict\",\"coloraxis\":{\"colorbar\":{\"outlinewidth\":0,\"ticks\":\"\"}},\"colorscale\":{\"diverging\":[[0,\"#8e0152\"],[0.1,\"#c51b7d\"],[0.2,\"#de77ae\"],[0.3,\"#f1b6da\"],[0.4,\"#fde0ef\"],[0.5,\"#f7f7f7\"],[0.6,\"#e6f5d0\"],[0.7,\"#b8e186\"],[0.8,\"#7fbc41\"],[0.9,\"#4d9221\"],[1,\"#276419\"]],\"sequential\":[[0.0,\"#0d0887\"],[0.1111111111111111,\"#46039f\"],[0.2222222222222222,\"#7201a8\"],[0.3333333333333333,\"#9c179e\"],[0.4444444444444444,\"#bd3786\"],[0.5555555555555556,\"#d8576b\"],[0.6666666666666666,\"#ed7953\"],[0.7777777777777778,\"#fb9f3a\"],[0.8888888888888888,\"#fdca26\"],[1.0,\"#f0f921\"]],\"sequentialminus\":[[0.0,\"#0d0887\"],[0.1111111111111111,\"#46039f\"],[0.2222222222222222,\"#7201a8\"],[0.3333333333333333,\"#9c179e\"],[0.4444444444444444,\"#bd3786\"],[0.5555555555555556,\"#d8576b\"],[0.6666666666666666,\"#ed7953\"],[0.7777777777777778,\"#fb9f3a\"],[0.8888888888888888,\"#fdca26\"],[1.0,\"#f0f921\"]]},\"colorway\":[\"#636efa\",\"#EF553B\",\"#00cc96\",\"#ab63fa\",\"#FFA15A\",\"#19d3f3\",\"#FF6692\",\"#B6E880\",\"#FF97FF\",\"#FECB52\"],\"font\":{\"color\":\"#2a3f5f\"},\"geo\":{\"bgcolor\":\"white\",\"lakecolor\":\"white\",\"landcolor\":\"#E5ECF6\",\"showlakes\":true,\"showland\":true,\"subunitcolor\":\"white\"},\"hoverlabel\":{\"align\":\"left\"},\"hovermode\":\"closest\",\"mapbox\":{\"style\":\"light\"},\"paper_bgcolor\":\"white\",\"plot_bgcolor\":\"#E5ECF6\",\"polar\":{\"angularaxis\":{\"gridcolor\":\"white\",\"linecolor\":\"white\",\"ticks\":\"\"},\"bgcolor\":\"#E5ECF6\",\"radialaxis\":{\"gridcolor\":\"white\",\"linecolor\":\"white\",\"ticks\":\"\"}},\"scene\":{\"xaxis\":{\"backgroundcolor\":\"#E5ECF6\",\"gridcolor\":\"white\",\"gridwidth\":2,\"linecolor\":\"white\",\"showbackground\":true,\"ticks\":\"\",\"zerolinecolor\":\"white\"},\"yaxis\":{\"backgroundcolor\":\"#E5ECF6\",\"gridcolor\":\"white\",\"gridwidth\":2,\"linecolor\":\"white\",\"showbackground\":true,\"ticks\":\"\",\"zerolinecolor\":\"white\"},\"zaxis\":{\"backgroundcolor\":\"#E5ECF6\",\"gridcolor\":\"white\",\"gridwidth\":2,\"linecolor\":\"white\",\"showbackground\":true,\"ticks\":\"\",\"zerolinecolor\":\"white\"}},\"shapedefaults\":{\"line\":{\"color\":\"#2a3f5f\"}},\"ternary\":{\"aaxis\":{\"gridcolor\":\"white\",\"linecolor\":\"white\",\"ticks\":\"\"},\"baxis\":{\"gridcolor\":\"white\",\"linecolor\":\"white\",\"ticks\":\"\"},\"bgcolor\":\"#E5ECF6\",\"caxis\":{\"gridcolor\":\"white\",\"linecolor\":\"white\",\"ticks\":\"\"}},\"title\":{\"x\":0.05},\"xaxis\":{\"automargin\":true,\"gridcolor\":\"white\",\"linecolor\":\"white\",\"ticks\":\"\",\"title\":{\"standoff\":15},\"zerolinecolor\":\"white\",\"zerolinewidth\":2},\"yaxis\":{\"automargin\":true,\"gridcolor\":\"white\",\"linecolor\":\"white\",\"ticks\":\"\",\"title\":{\"standoff\":15},\"zerolinecolor\":\"white\",\"zerolinewidth\":2}}},\"xaxis\":{\"anchor\":\"y\",\"domain\":[0.0,0.45],\"title\":{\"text\":\"metric\"}},\"yaxis\":{\"anchor\":\"x\",\"domain\":[0.0,1.0],\"title\":{\"text\":\"Objective Value\"}},\"xaxis2\":{\"anchor\":\"y2\",\"domain\":[0.55,1.0],\"title\":{\"text\":\"n_neighbors\"}},\"yaxis2\":{\"anchor\":\"x2\",\"domain\":[0.0,1.0],\"matches\":\"y\",\"showticklabels\":false},\"title\":{\"text\":\"Slice Plot\"}},                        {\"responsive\": true}                    ).then(function(){\n",
              "                            \n",
              "var gd = document.getElementById('d2c4410e-cd87-47e7-b277-9a38d5b8b7ed');\n",
              "var x = new MutationObserver(function (mutations, observer) {{\n",
              "        var display = window.getComputedStyle(gd).display;\n",
              "        if (!display || display === 'none') {{\n",
              "            console.log([gd, 'removed!']);\n",
              "            Plotly.purge(gd);\n",
              "            observer.disconnect();\n",
              "        }}\n",
              "}});\n",
              "\n",
              "// Listen for the removal of the full notebook cells\n",
              "var notebookContainer = gd.closest('#notebook-container');\n",
              "if (notebookContainer) {{\n",
              "    x.observe(notebookContainer, {childList: true});\n",
              "}}\n",
              "\n",
              "// Listen for the clearing of the current output cell\n",
              "var outputEl = gd.closest('.output');\n",
              "if (outputEl) {{\n",
              "    x.observe(outputEl, {childList: true});\n",
              "}}\n",
              "\n",
              "                        })                };                            </script>        </div>\n",
              "</body>\n",
              "</html>"
            ]
          },
          "metadata": {}
        }
      ],
      "source": [
        "# plot_slice: shows the change of the hyperparamters space over the search. \n",
        "fig = optuna.visualization.plot_slice(study)\n",
        "py.plot(fig, filename='slice_KNR_Optuna_100_GPU.pkl.html')\n",
        "fig.show()"
      ]
    },
    {
      "cell_type": "code",
      "execution_count": null,
      "metadata": {
        "id": "LnP_RBCiHs3x",
        "colab": {
          "base_uri": "https://localhost:8080/",
          "height": 542
        },
        "outputId": "1915cc32-3688-4fee-e8c7-91cffb8c2f5c"
      },
      "outputs": [
        {
          "output_type": "display_data",
          "data": {
            "text/html": [
              "<html>\n",
              "<head><meta charset=\"utf-8\" /></head>\n",
              "<body>\n",
              "    <div>            <script src=\"https://cdnjs.cloudflare.com/ajax/libs/mathjax/2.7.5/MathJax.js?config=TeX-AMS-MML_SVG\"></script><script type=\"text/javascript\">if (window.MathJax) {MathJax.Hub.Config({SVG: {font: \"STIX-Web\"}});}</script>                <script type=\"text/javascript\">window.PlotlyConfig = {MathJaxConfig: 'local'};</script>\n",
              "        <script src=\"https://cdn.plot.ly/plotly-2.8.3.min.js\"></script>                <div id=\"bb7dec4c-7ceb-41b0-bf9a-77764b4031b8\" class=\"plotly-graph-div\" style=\"height:525px; width:100%;\"></div>            <script type=\"text/javascript\">                                    window.PLOTLYENV=window.PLOTLYENV || {};                                    if (document.getElementById(\"bb7dec4c-7ceb-41b0-bf9a-77764b4031b8\")) {                    Plotly.newPlot(                        \"bb7dec4c-7ceb-41b0-bf9a-77764b4031b8\",                        [{\"mode\":\"lines\",\"name\":\"dask_optuna_knr_rmse_tpe\",\"x\":[3586.325763235942,3602.3049360865266,3618.2841089371113,3634.263281787696,3650.242454638281,3666.2216274888656,3682.2008003394503,3698.179973190035,3714.15914604062,3730.1383188912046,3746.1174917417893,3762.096664592374,3778.075837442959,3794.0550102935435,3810.0341831441283,3826.013355994713,3841.992528845298,3857.9717016958825,3873.9508745464673,3889.930047397052,3905.9092202476368,3921.8883930982215,3937.8675659488063,3953.846738799391,3969.8259116499758,3985.8050845005605,4001.7842573511452,4017.76343020173,4033.7426030523147,4049.7217759028995,4065.700948753484,4081.680121604069,4097.659294454654,4113.638467305238,4129.617640155823,4145.5968130064075,4161.575985856993,4177.555158707577,4193.534331558162,4209.5135044087465,4225.492677259332,4241.471850109916,4257.451022960501,4273.4301958110855,4289.409368661671,4305.388541512255,4321.36771436284,4337.346887213424,4353.32606006401,4369.305232914594,4385.284405765179,4401.263578615763,4417.242751466349,4433.221924316933,4449.201097167518,4465.180270018102,4481.159442868688,4497.138615719272,4513.117788569857,4529.096961420441,4545.076134271027,4561.055307121611,4577.034479972196,4593.01365282278,4608.992825673366,4624.97199852395,4640.951171374534,4656.930344225119,4672.909517075705,4688.888689926289,4704.867862776873,4720.847035627458,4736.826208478044,4752.805381328628,4768.784554179212,4784.763727029797,4800.7428998803825,4816.722072730967,4832.701245581551,4848.680418432136,4864.6595912827215,4880.638764133306,4896.61793698389,4912.597109834475,4928.5762826850605,4944.555455535645,4960.534628386229,4976.513801236814,4992.4929740873995,5008.472146937984,5024.451319788568,5040.430492639153,5056.4096654897385,5072.388838340323,5088.368011190907,5104.347184041492,5120.3263568920775,5136.305529742662,5152.284702593246,5168.263875443831],\"y\":[0.17,0.17,0.17,0.17,0.17,0.17,0.17,0.17,0.17,0.17,0.17,0.17,0.17,0.17,0.17,0.17,0.2,0.2,0.2,0.2,0.2,0.2,0.2,0.2,0.2,0.2,0.2,0.25,0.25,0.25,0.25,0.25,0.25,0.25,0.32,0.32,0.32,0.32,0.32,0.36,0.36,0.36,0.36,0.36,0.39,0.39,0.39,0.45,0.45,0.45,0.47,0.47,0.47,0.51,0.51,0.55,0.55,0.55,0.57,0.59,0.59,0.62,0.62,0.64,0.66,0.66,0.68,0.71,0.71,0.72,0.73,0.74,0.77,0.77,0.77,0.79,0.8,0.8,0.8,0.82,0.83,0.83,0.84,0.84,0.86,0.87,0.88,0.89,0.89,0.9,0.92,0.93,0.93,0.94,0.94,0.96,0.96,0.97,0.98,1.0],\"type\":\"scatter\"}],                        {\"title\":{\"text\":\"Empirical Distribution Function Plot\"},\"xaxis\":{\"title\":{\"text\":\"Objective Value\"}},\"yaxis\":{\"title\":{\"text\":\"Cumulative Probability\"},\"range\":[0,1]},\"template\":{\"data\":{\"bar\":[{\"error_x\":{\"color\":\"#2a3f5f\"},\"error_y\":{\"color\":\"#2a3f5f\"},\"marker\":{\"line\":{\"color\":\"#E5ECF6\",\"width\":0.5},\"pattern\":{\"fillmode\":\"overlay\",\"size\":10,\"solidity\":0.2}},\"type\":\"bar\"}],\"barpolar\":[{\"marker\":{\"line\":{\"color\":\"#E5ECF6\",\"width\":0.5},\"pattern\":{\"fillmode\":\"overlay\",\"size\":10,\"solidity\":0.2}},\"type\":\"barpolar\"}],\"carpet\":[{\"aaxis\":{\"endlinecolor\":\"#2a3f5f\",\"gridcolor\":\"white\",\"linecolor\":\"white\",\"minorgridcolor\":\"white\",\"startlinecolor\":\"#2a3f5f\"},\"baxis\":{\"endlinecolor\":\"#2a3f5f\",\"gridcolor\":\"white\",\"linecolor\":\"white\",\"minorgridcolor\":\"white\",\"startlinecolor\":\"#2a3f5f\"},\"type\":\"carpet\"}],\"choropleth\":[{\"colorbar\":{\"outlinewidth\":0,\"ticks\":\"\"},\"type\":\"choropleth\"}],\"contour\":[{\"colorbar\":{\"outlinewidth\":0,\"ticks\":\"\"},\"colorscale\":[[0.0,\"#0d0887\"],[0.1111111111111111,\"#46039f\"],[0.2222222222222222,\"#7201a8\"],[0.3333333333333333,\"#9c179e\"],[0.4444444444444444,\"#bd3786\"],[0.5555555555555556,\"#d8576b\"],[0.6666666666666666,\"#ed7953\"],[0.7777777777777778,\"#fb9f3a\"],[0.8888888888888888,\"#fdca26\"],[1.0,\"#f0f921\"]],\"type\":\"contour\"}],\"contourcarpet\":[{\"colorbar\":{\"outlinewidth\":0,\"ticks\":\"\"},\"type\":\"contourcarpet\"}],\"heatmap\":[{\"colorbar\":{\"outlinewidth\":0,\"ticks\":\"\"},\"colorscale\":[[0.0,\"#0d0887\"],[0.1111111111111111,\"#46039f\"],[0.2222222222222222,\"#7201a8\"],[0.3333333333333333,\"#9c179e\"],[0.4444444444444444,\"#bd3786\"],[0.5555555555555556,\"#d8576b\"],[0.6666666666666666,\"#ed7953\"],[0.7777777777777778,\"#fb9f3a\"],[0.8888888888888888,\"#fdca26\"],[1.0,\"#f0f921\"]],\"type\":\"heatmap\"}],\"heatmapgl\":[{\"colorbar\":{\"outlinewidth\":0,\"ticks\":\"\"},\"colorscale\":[[0.0,\"#0d0887\"],[0.1111111111111111,\"#46039f\"],[0.2222222222222222,\"#7201a8\"],[0.3333333333333333,\"#9c179e\"],[0.4444444444444444,\"#bd3786\"],[0.5555555555555556,\"#d8576b\"],[0.6666666666666666,\"#ed7953\"],[0.7777777777777778,\"#fb9f3a\"],[0.8888888888888888,\"#fdca26\"],[1.0,\"#f0f921\"]],\"type\":\"heatmapgl\"}],\"histogram\":[{\"marker\":{\"pattern\":{\"fillmode\":\"overlay\",\"size\":10,\"solidity\":0.2}},\"type\":\"histogram\"}],\"histogram2d\":[{\"colorbar\":{\"outlinewidth\":0,\"ticks\":\"\"},\"colorscale\":[[0.0,\"#0d0887\"],[0.1111111111111111,\"#46039f\"],[0.2222222222222222,\"#7201a8\"],[0.3333333333333333,\"#9c179e\"],[0.4444444444444444,\"#bd3786\"],[0.5555555555555556,\"#d8576b\"],[0.6666666666666666,\"#ed7953\"],[0.7777777777777778,\"#fb9f3a\"],[0.8888888888888888,\"#fdca26\"],[1.0,\"#f0f921\"]],\"type\":\"histogram2d\"}],\"histogram2dcontour\":[{\"colorbar\":{\"outlinewidth\":0,\"ticks\":\"\"},\"colorscale\":[[0.0,\"#0d0887\"],[0.1111111111111111,\"#46039f\"],[0.2222222222222222,\"#7201a8\"],[0.3333333333333333,\"#9c179e\"],[0.4444444444444444,\"#bd3786\"],[0.5555555555555556,\"#d8576b\"],[0.6666666666666666,\"#ed7953\"],[0.7777777777777778,\"#fb9f3a\"],[0.8888888888888888,\"#fdca26\"],[1.0,\"#f0f921\"]],\"type\":\"histogram2dcontour\"}],\"mesh3d\":[{\"colorbar\":{\"outlinewidth\":0,\"ticks\":\"\"},\"type\":\"mesh3d\"}],\"parcoords\":[{\"line\":{\"colorbar\":{\"outlinewidth\":0,\"ticks\":\"\"}},\"type\":\"parcoords\"}],\"pie\":[{\"automargin\":true,\"type\":\"pie\"}],\"scatter\":[{\"marker\":{\"colorbar\":{\"outlinewidth\":0,\"ticks\":\"\"}},\"type\":\"scatter\"}],\"scatter3d\":[{\"line\":{\"colorbar\":{\"outlinewidth\":0,\"ticks\":\"\"}},\"marker\":{\"colorbar\":{\"outlinewidth\":0,\"ticks\":\"\"}},\"type\":\"scatter3d\"}],\"scattercarpet\":[{\"marker\":{\"colorbar\":{\"outlinewidth\":0,\"ticks\":\"\"}},\"type\":\"scattercarpet\"}],\"scattergeo\":[{\"marker\":{\"colorbar\":{\"outlinewidth\":0,\"ticks\":\"\"}},\"type\":\"scattergeo\"}],\"scattergl\":[{\"marker\":{\"colorbar\":{\"outlinewidth\":0,\"ticks\":\"\"}},\"type\":\"scattergl\"}],\"scattermapbox\":[{\"marker\":{\"colorbar\":{\"outlinewidth\":0,\"ticks\":\"\"}},\"type\":\"scattermapbox\"}],\"scatterpolar\":[{\"marker\":{\"colorbar\":{\"outlinewidth\":0,\"ticks\":\"\"}},\"type\":\"scatterpolar\"}],\"scatterpolargl\":[{\"marker\":{\"colorbar\":{\"outlinewidth\":0,\"ticks\":\"\"}},\"type\":\"scatterpolargl\"}],\"scatterternary\":[{\"marker\":{\"colorbar\":{\"outlinewidth\":0,\"ticks\":\"\"}},\"type\":\"scatterternary\"}],\"surface\":[{\"colorbar\":{\"outlinewidth\":0,\"ticks\":\"\"},\"colorscale\":[[0.0,\"#0d0887\"],[0.1111111111111111,\"#46039f\"],[0.2222222222222222,\"#7201a8\"],[0.3333333333333333,\"#9c179e\"],[0.4444444444444444,\"#bd3786\"],[0.5555555555555556,\"#d8576b\"],[0.6666666666666666,\"#ed7953\"],[0.7777777777777778,\"#fb9f3a\"],[0.8888888888888888,\"#fdca26\"],[1.0,\"#f0f921\"]],\"type\":\"surface\"}],\"table\":[{\"cells\":{\"fill\":{\"color\":\"#EBF0F8\"},\"line\":{\"color\":\"white\"}},\"header\":{\"fill\":{\"color\":\"#C8D4E3\"},\"line\":{\"color\":\"white\"}},\"type\":\"table\"}]},\"layout\":{\"annotationdefaults\":{\"arrowcolor\":\"#2a3f5f\",\"arrowhead\":0,\"arrowwidth\":1},\"autotypenumbers\":\"strict\",\"coloraxis\":{\"colorbar\":{\"outlinewidth\":0,\"ticks\":\"\"}},\"colorscale\":{\"diverging\":[[0,\"#8e0152\"],[0.1,\"#c51b7d\"],[0.2,\"#de77ae\"],[0.3,\"#f1b6da\"],[0.4,\"#fde0ef\"],[0.5,\"#f7f7f7\"],[0.6,\"#e6f5d0\"],[0.7,\"#b8e186\"],[0.8,\"#7fbc41\"],[0.9,\"#4d9221\"],[1,\"#276419\"]],\"sequential\":[[0.0,\"#0d0887\"],[0.1111111111111111,\"#46039f\"],[0.2222222222222222,\"#7201a8\"],[0.3333333333333333,\"#9c179e\"],[0.4444444444444444,\"#bd3786\"],[0.5555555555555556,\"#d8576b\"],[0.6666666666666666,\"#ed7953\"],[0.7777777777777778,\"#fb9f3a\"],[0.8888888888888888,\"#fdca26\"],[1.0,\"#f0f921\"]],\"sequentialminus\":[[0.0,\"#0d0887\"],[0.1111111111111111,\"#46039f\"],[0.2222222222222222,\"#7201a8\"],[0.3333333333333333,\"#9c179e\"],[0.4444444444444444,\"#bd3786\"],[0.5555555555555556,\"#d8576b\"],[0.6666666666666666,\"#ed7953\"],[0.7777777777777778,\"#fb9f3a\"],[0.8888888888888888,\"#fdca26\"],[1.0,\"#f0f921\"]]},\"colorway\":[\"#636efa\",\"#EF553B\",\"#00cc96\",\"#ab63fa\",\"#FFA15A\",\"#19d3f3\",\"#FF6692\",\"#B6E880\",\"#FF97FF\",\"#FECB52\"],\"font\":{\"color\":\"#2a3f5f\"},\"geo\":{\"bgcolor\":\"white\",\"lakecolor\":\"white\",\"landcolor\":\"#E5ECF6\",\"showlakes\":true,\"showland\":true,\"subunitcolor\":\"white\"},\"hoverlabel\":{\"align\":\"left\"},\"hovermode\":\"closest\",\"mapbox\":{\"style\":\"light\"},\"paper_bgcolor\":\"white\",\"plot_bgcolor\":\"#E5ECF6\",\"polar\":{\"angularaxis\":{\"gridcolor\":\"white\",\"linecolor\":\"white\",\"ticks\":\"\"},\"bgcolor\":\"#E5ECF6\",\"radialaxis\":{\"gridcolor\":\"white\",\"linecolor\":\"white\",\"ticks\":\"\"}},\"scene\":{\"xaxis\":{\"backgroundcolor\":\"#E5ECF6\",\"gridcolor\":\"white\",\"gridwidth\":2,\"linecolor\":\"white\",\"showbackground\":true,\"ticks\":\"\",\"zerolinecolor\":\"white\"},\"yaxis\":{\"backgroundcolor\":\"#E5ECF6\",\"gridcolor\":\"white\",\"gridwidth\":2,\"linecolor\":\"white\",\"showbackground\":true,\"ticks\":\"\",\"zerolinecolor\":\"white\"},\"zaxis\":{\"backgroundcolor\":\"#E5ECF6\",\"gridcolor\":\"white\",\"gridwidth\":2,\"linecolor\":\"white\",\"showbackground\":true,\"ticks\":\"\",\"zerolinecolor\":\"white\"}},\"shapedefaults\":{\"line\":{\"color\":\"#2a3f5f\"}},\"ternary\":{\"aaxis\":{\"gridcolor\":\"white\",\"linecolor\":\"white\",\"ticks\":\"\"},\"baxis\":{\"gridcolor\":\"white\",\"linecolor\":\"white\",\"ticks\":\"\"},\"bgcolor\":\"#E5ECF6\",\"caxis\":{\"gridcolor\":\"white\",\"linecolor\":\"white\",\"ticks\":\"\"}},\"title\":{\"x\":0.05},\"xaxis\":{\"automargin\":true,\"gridcolor\":\"white\",\"linecolor\":\"white\",\"ticks\":\"\",\"title\":{\"standoff\":15},\"zerolinecolor\":\"white\",\"zerolinewidth\":2},\"yaxis\":{\"automargin\":true,\"gridcolor\":\"white\",\"linecolor\":\"white\",\"ticks\":\"\",\"title\":{\"standoff\":15},\"zerolinecolor\":\"white\",\"zerolinewidth\":2}}}},                        {\"responsive\": true}                    ).then(function(){\n",
              "                            \n",
              "var gd = document.getElementById('bb7dec4c-7ceb-41b0-bf9a-77764b4031b8');\n",
              "var x = new MutationObserver(function (mutations, observer) {{\n",
              "        var display = window.getComputedStyle(gd).display;\n",
              "        if (!display || display === 'none') {{\n",
              "            console.log([gd, 'removed!']);\n",
              "            Plotly.purge(gd);\n",
              "            observer.disconnect();\n",
              "        }}\n",
              "}});\n",
              "\n",
              "// Listen for the removal of the full notebook cells\n",
              "var notebookContainer = gd.closest('#notebook-container');\n",
              "if (notebookContainer) {{\n",
              "    x.observe(notebookContainer, {childList: true});\n",
              "}}\n",
              "\n",
              "// Listen for the clearing of the current output cell\n",
              "var outputEl = gd.closest('.output');\n",
              "if (outputEl) {{\n",
              "    x.observe(outputEl, {childList: true});\n",
              "}}\n",
              "\n",
              "                        })                };                            </script>        </div>\n",
              "</body>\n",
              "</html>"
            ]
          },
          "metadata": {}
        }
      ],
      "source": [
        "# Visualize empirical distribution function\n",
        "fig = optuna.visualization.plot_edf(study)\n",
        "py.plot(fig, filename='edf_KNR_Optuna_100_GPU.html')\n",
        "fig.show()"
      ]
    },
    {
      "cell_type": "code",
      "execution_count": null,
      "metadata": {
        "id": "rzPkL7ZMHs3x",
        "colab": {
          "base_uri": "https://localhost:8080/"
        },
        "outputId": "6c6abfab-fcd0-4cd2-e3d6-fa660a8105d5"
      },
      "outputs": [
        {
          "output_type": "execute_result",
          "data": {
            "text/plain": [
              "{'n_neighbors': 3, 'metric': 'minkowski'}"
            ]
          },
          "metadata": {},
          "execution_count": 24
        }
      ],
      "source": [
        "# Arrange best parameters to fit model for model metrics\n",
        "params = study.best_params   \n",
        "params"
      ]
    },
    {
      "cell_type": "code",
      "execution_count": null,
      "metadata": {
        "id": "KIbblRGzo7r4",
        "colab": {
          "base_uri": "https://localhost:8080/"
        },
        "outputId": "42cc3021-1baa-408d-ed70-6005a57cf93c"
      },
      "outputs": [
        {
          "output_type": "stream",
          "name": "stdout",
          "text": [
            "/content/drive/MyDrive/UsedCarsCarGurus/Models/ML/KNR/Optuna/Model_PKL\n"
          ]
        }
      ],
      "source": [
        "# Write results to ML Results\n",
        "%cd /content/drive/MyDrive/UsedCarsCarGurus/Models/ML/KNR/Optuna/Model_PKL/"
      ]
    },
    {
      "cell_type": "code",
      "source": [
        "# Re-create the best model and train on the training data\n",
        "best_model = KNeighborsRegressor(n_neighbors=3, metric='minkowski')\n",
        "\n",
        "# Fit the model\n",
        "best_model.fit(X_train, y_train)\n",
        "\n",
        "# Save model\n",
        "Pkl_Filename = 'KNR_Optuna_trials100_GPU.pkl'  \n",
        "\n",
        "with open(Pkl_Filename, 'wb') as file:  \n",
        "    pickle.dump(best_model, file)\n",
        "\n",
        "# =============================================================================\n",
        "# # To load saved model\n",
        "# model = joblib.load('KNR_Optuna_trials100_GPU.pkl')\n",
        "# print(model)\n",
        "# ============================================================================="
      ],
      "metadata": {
        "id": "JCXx2cQqh0Gp"
      },
      "execution_count": null,
      "outputs": []
    },
    {
      "cell_type": "code",
      "execution_count": null,
      "metadata": {
        "id": "CwwwQXv1Pf1l",
        "colab": {
          "base_uri": "https://localhost:8080/"
        },
        "outputId": "fa9963fc-2c7b-4e8b-f5d0-9a2552cb99db"
      },
      "outputs": [
        {
          "output_type": "stream",
          "name": "stdout",
          "text": [
            "\n",
            "Model Metrics for KNR HPO 100 GPU trials\n",
            "MAE train: 2602.515, test: 2602.515\n",
            "MSE train: 12861732.480, test: 12861732.480\n",
            "RMSE train: 3586.326, test: 3586.326\n",
            "R^2 train: 0.860, test: 0.860\n"
          ]
        }
      ],
      "source": [
        "print('\\nModel Metrics for KNR HPO 100 GPU trials')\n",
        "y_train_pred = best_model.predict(X_train)\n",
        "y_test_pred = best_model.predict(X_test)\n",
        "\n",
        "print('MAE train: %.3f, test: %.3f' % (\n",
        "        mean_absolute_error(y_train.to_numpy(), y_train_pred.to_numpy()),\n",
        "        mean_absolute_error(y_test.to_numpy(), y_test_pred.to_numpy())))\n",
        "print('MSE train: %.3f, test: %.3f' % (\n",
        "        mean_squared_error(y_train.to_numpy(), y_train_pred.to_numpy()),\n",
        "        mean_squared_error(y_test.to_numpy(), y_test_pred.to_numpy())))\n",
        "print('RMSE train: %.3f, test: %.3f' % (\n",
        "        mean_squared_error(y_train.to_numpy(), y_train_pred.to_numpy(), \n",
        "                           squared=False),\n",
        "        mean_squared_error(y_test.to_numpy(), y_test_pred.to_numpy(), \n",
        "                           squared=False)))\n",
        "print('R^2 train: %.3f, test: %.3f' % (\n",
        "        r2_score(y_train.to_numpy(), y_train_pred.to_numpy()),\n",
        "        r2_score(y_test.to_numpy(), y_test_pred.to_numpy())))"
      ]
    },
    {
      "cell_type": "code",
      "execution_count": null,
      "metadata": {
        "id": "oZk4s7L9Pf1m",
        "colab": {
          "base_uri": "https://localhost:8080/"
        },
        "outputId": "b5e4c317-688c-420d-b2c1-d2f9eec8b655"
      },
      "outputs": [
        {
          "output_type": "stream",
          "name": "stdout",
          "text": [
            "The best model from optimization scores 12861732.48005 MSE on the test set.\n",
            "This was achieved using these conditions:\n",
            "iteration                                    61\n",
            "rmse                                3586.325763\n",
            "datetime_start       2023-02-25 04:57:14.523899\n",
            "datetime_complete    2023-02-25 04:57:19.198371\n",
            "duration                 0 days 00:00:04.674472\n",
            "metric                                chebyshev\n",
            "n_neighbors                                   3\n",
            "state                                  COMPLETE\n",
            "Name: 61, dtype: object\n"
          ]
        }
      ],
      "source": [
        "# Evaluate on the testing data \n",
        "print('The best model from optimization scores {:.5f} MSE on the test set.'.format(mean_squared_error(y_test.to_numpy(), \n",
        "                                                                                                      y_test_pred.to_numpy())))\n",
        "print('This was achieved using these conditions:')\n",
        "print(trials_df.iloc[0])"
      ]
    },
    {
      "cell_type": "markdown",
      "source": [
        "## 1000 Trials"
      ],
      "metadata": {
        "id": "49S35NjRciXx"
      }
    },
    {
      "cell_type": "code",
      "source": [
        "# Write results to ML Results\n",
        "%cd /content/drive/MyDrive/UsedCarsCarGurus/Models/ML/KNR/Optuna/Model_PKL/"
      ],
      "metadata": {
        "id": "xypPVzV13OiA",
        "colab": {
          "base_uri": "https://localhost:8080/"
        },
        "outputId": "460406c3-1b0d-46a2-db59-6748287f4c24"
      },
      "execution_count": null,
      "outputs": [
        {
          "output_type": "stream",
          "name": "stdout",
          "text": [
            "/content/drive/MyDrive/UsedCarsCarGurus/Models/ML/KNR/Optuna/Model_PKL\n"
          ]
        }
      ]
    },
    {
      "cell_type": "code",
      "source": [
        "def objective(trial, X_param, y_param):\n",
        "    \n",
        "    joblib.dump(study, 'KNR_Optuna_1000_GPU.pkl')\n",
        "    \n",
        "    # Parameter searcg\n",
        "    n_neighbors = trial.suggest_int('n_neighbors', 2, 100) \n",
        "    metric = trial.suggest_categorical('metric', ['euclidean', 'manhattan', \n",
        "                                                  'chebyshev', 'minkowski'])\n",
        "\n",
        "    score = train_and_eval(X_param, y_param,\n",
        "                           n_neighbors=n_neighbors, \n",
        "                           verbose=False)\n",
        "\n",
        "    return score"
      ],
      "metadata": {
        "id": "kyh5oojG14XZ"
      },
      "execution_count": null,
      "outputs": []
    },
    {
      "cell_type": "code",
      "source": [
        "with timed('dask_optuna'):\n",
        "    # Begin HPO trials \n",
        "    # Start timer for experiment\n",
        "    start_time = datetime.now()\n",
        "    print('%-20s %s' % ('Start Time', start_time))\n",
        "    if os.path.isfile('KNR_Optuna_1000_GPU.pkl'): \n",
        "      study = joblib.load('KNR_Optuna_1000_GPU.pkl')\n",
        "    else: \n",
        "      study = optuna.create_study(sampler=optuna.samplers.TPESampler(), \n",
        "                                  study_name=study_name,\n",
        "                                  direction='minimize')\n",
        "      \n",
        "    # Optimize in parallel on your Dask cluster\n",
        "    with parallel_backend('dask'):\n",
        "        study.optimize(lambda trial: objective(trial, X_train, y_train), \n",
        "                       n_trials=1000,\n",
        "                       n_jobs=n_workers)\n",
        "\n",
        "# End timer for experiment\n",
        "end_time = datetime.now()\n",
        "print('%-20s %s' % ('Start Time', start_time))\n",
        "print('%-20s %s' % ('End Time', end_time))\n",
        "print(str(timedelta(seconds=(end_time-start_time).seconds)))\n",
        "print('\\n')\n",
        "print('Number of finished trials:', len(study.trials))\n",
        "print('Best trial:', study.best_trial.params)\n",
        "print('Lowest RMSE', study.best_value)"
      ],
      "metadata": {
        "id": "xmJOHxZY14Xa",
        "colab": {
          "base_uri": "https://localhost:8080/"
        },
        "outputId": "5c004bbe-9196-45f7-c39e-c9a4ca4b253c"
      },
      "execution_count": null,
      "outputs": [
        {
          "output_type": "stream",
          "name": "stdout",
          "text": [
            "Start Time           2023-02-25 05:09:57.615216\n",
            "- Trial RMSE: 4886.360554442493\n",
            "- Trial RMSE: 5154.069020265029\n",
            "- Trial RMSE: 4935.916210924576\n",
            "- Trial RMSE: 5146.540508397751\n",
            "- Trial RMSE: 4774.027433856023\n",
            "- Trial RMSE: 4973.073511290455\n",
            "- Trial RMSE: 4121.887446545337\n",
            "- Trial RMSE: 4826.124233021871\n",
            "- Trial RMSE: 5168.263875443831\n",
            "- Trial RMSE: 4762.8956379763695\n",
            "- Trial RMSE: 3070.8987010700253\n",
            "- Trial RMSE: 3841.009957328154\n",
            "- Trial RMSE: 3070.8987010700253\n",
            "- Trial RMSE: 4603.356006636722\n",
            "- Trial RMSE: 3070.8987010700253\n",
            "- Trial RMSE: 5078.173747653229\n",
            "- Trial RMSE: 4660.48534988204\n",
            "- Trial RMSE: 5006.560109271813\n",
            "- Trial RMSE: 4528.5810284713225\n",
            "- Trial RMSE: 5037.345727529945\n",
            "- Trial RMSE: 4528.5810284713225\n",
            "- Trial RMSE: 3070.8987010700253\n",
            "- Trial RMSE: 4384.845258618256\n",
            "- Trial RMSE: 4709.442632738852\n",
            "- Trial RMSE: 3586.325763235942\n",
            "- Trial RMSE: 4853.149485004742\n",
            "- Trial RMSE: 4428.045308086619\n",
            "- Trial RMSE: 4603.356006636722\n",
            "- Trial RMSE: 5082.400732729732\n",
            "- Trial RMSE: 4916.2527198382495\n",
            "- Trial RMSE: 4334.884684584816\n",
            "- Trial RMSE: 3586.325763235942\n",
            "- Trial RMSE: 3070.8987010700253\n",
            "- Trial RMSE: 4694.141815359486\n",
            "- Trial RMSE: 4384.845258618256\n",
            "- Trial RMSE: 4774.027433856023\n",
            "- Trial RMSE: 3070.8987010700253\n",
            "- Trial RMSE: 4334.884684584816\n",
            "- Trial RMSE: 4555.016986871412\n",
            "- Trial RMSE: 4835.219970698422\n",
            "- Trial RMSE: 4736.6277143147345\n",
            "- Trial RMSE: 4206.458287027927\n",
            "- Trial RMSE: 3070.8987010700253\n",
            "- Trial RMSE: 4121.887446545337\n",
            "- Trial RMSE: 4625.044663202976\n",
            "- Trial RMSE: 4497.798438248811\n",
            "- Trial RMSE: 4206.458287027927\n",
            "- Trial RMSE: 5142.519701979853\n",
            "- Trial RMSE: 4966.944556356028\n",
            "- Trial RMSE: 4785.651199627076\n",
            "- Trial RMSE: 4642.452428150509\n",
            "- Trial RMSE: 3070.8987010700253\n",
            "- Trial RMSE: 4005.9150305658145\n",
            "- Trial RMSE: 3070.8987010700253\n",
            "- Trial RMSE: 4497.798438248811\n",
            "- Trial RMSE: 4206.458287027927\n",
            "- Trial RMSE: 4464.551264729626\n",
            "- Trial RMSE: 4121.887446545337\n",
            "- Trial RMSE: 4555.016986871412\n",
            "- Trial RMSE: 3070.8987010700253\n",
            "- Trial RMSE: 4384.845258618256\n",
            "- Trial RMSE: 3070.8987010700253\n",
            "- Trial RMSE: 4005.9150305658145\n",
            "- Trial RMSE: 4206.458287027927\n",
            "- Trial RMSE: 4384.845258618256\n",
            "- Trial RMSE: 4580.496166314265\n",
            "- Trial RMSE: 4677.786791115154\n",
            "- Trial RMSE: 5001.20520844586\n",
            "- Trial RMSE: 3841.009957328154\n",
            "- Trial RMSE: 4334.884684584816\n",
            "- Trial RMSE: 4893.97251570672\n",
            "- Trial RMSE: 3070.8987010700253\n",
            "- Trial RMSE: 3070.8987010700253\n",
            "- Trial RMSE: 4005.9150305658145\n",
            "- Trial RMSE: 4464.551264729626\n",
            "- Trial RMSE: 4334.884684584816\n",
            "- Trial RMSE: 5078.173747653229\n",
            "- Trial RMSE: 4005.9150305658145\n",
            "- Trial RMSE: 5107.52968095669\n",
            "- Trial RMSE: 4276.457684983897\n",
            "- Trial RMSE: 4580.496166314265\n",
            "- Trial RMSE: 3070.8987010700253\n",
            "- Trial RMSE: 3841.009957328154\n",
            "- Trial RMSE: 3070.8987010700253\n",
            "- Trial RMSE: 4206.458287027927\n",
            "- Trial RMSE: 4428.045308086619\n",
            "- Trial RMSE: 4005.9150305658145\n",
            "- Trial RMSE: 4497.798438248811\n",
            "- Trial RMSE: 3841.009957328154\n",
            "- Trial RMSE: 4276.457684983897\n",
            "- Trial RMSE: 4428.045308086619\n",
            "- Trial RMSE: 3070.8987010700253\n",
            "- Trial RMSE: 3841.009957328154\n",
            "- Trial RMSE: 4206.458287027927\n",
            "- Trial RMSE: 3070.8987010700253\n",
            "- Trial RMSE: 4121.887446545337\n",
            "- Trial RMSE: 4942.141027134422\n",
            "- Trial RMSE: 4528.5810284713225\n",
            "- Trial RMSE: 4334.884684584816\n",
            "- Trial RMSE: 3841.009957328154\n",
            "- Trial RMSE: 4121.887446545337\n",
            "- Trial RMSE: 3070.8987010700253\n",
            "- Trial RMSE: 3070.8987010700253\n",
            "- Trial RMSE: 3841.009957328154\n",
            "- Trial RMSE: 4276.457684983897\n",
            "- Trial RMSE: 4428.045308086619\n",
            "- Trial RMSE: 5032.508288143288\n",
            "- Trial RMSE: 4121.887446545337\n",
            "- Trial RMSE: 3841.009957328154\n",
            "- Trial RMSE: 5175.166948373778\n",
            "- Trial RMSE: 4276.457684983897\n",
            "- Trial RMSE: 3070.8987010700253\n",
            "- Trial RMSE: 3070.8987010700253\n",
            "- Trial RMSE: 3841.009957328154\n",
            "- Trial RMSE: 4121.887446545337\n",
            "- Trial RMSE: 4384.845258618256\n",
            "- Trial RMSE: 3841.009957328154\n",
            "- Trial RMSE: 4276.457684983897\n",
            "- Trial RMSE: 3070.8987010700253\n",
            "- Trial RMSE: 4464.551264729626\n",
            "- Trial RMSE: 4625.044663202976\n",
            "- Trial RMSE: 3070.8987010700253\n",
            "- Trial RMSE: 4005.9150305658145\n",
            "- Trial RMSE: 4121.887446545337\n",
            "- Trial RMSE: 3841.009957328154\n",
            "- Trial RMSE: 4334.884684584816\n",
            "- Trial RMSE: 3070.8987010700253\n",
            "- Trial RMSE: 4807.574189280954\n",
            "- Trial RMSE: 4206.458287027927\n",
            "- Trial RMSE: 3841.009957328154\n",
            "- Trial RMSE: 4121.887446545337\n",
            "- Trial RMSE: 3070.8987010700253\n",
            "- Trial RMSE: 3070.8987010700253\n",
            "- Trial RMSE: 3841.009957328154\n",
            "- Trial RMSE: 4870.27708156853\n",
            "- Trial RMSE: 4334.884684584816\n",
            "- Trial RMSE: 4121.887446545337\n",
            "- Trial RMSE: 3070.8987010700253\n",
            "- Trial RMSE: 4206.458287027927\n",
            "- Trial RMSE: 3841.009957328154\n",
            "- Trial RMSE: 4428.045308086619\n",
            "- Trial RMSE: 3070.8987010700253\n",
            "- Trial RMSE: 3841.009957328154\n",
            "- Trial RMSE: 4121.887446545337\n",
            "- Trial RMSE: 4276.457684983897\n",
            "- Trial RMSE: 3070.8987010700253\n",
            "- Trial RMSE: 3841.009957328154\n",
            "- Trial RMSE: 4005.9150305658145\n",
            "- Trial RMSE: 3070.8987010700253\n",
            "- Trial RMSE: 4384.845258618256\n",
            "- Trial RMSE: 5103.483581188891\n",
            "- Trial RMSE: 3070.8987010700253\n",
            "- Trial RMSE: 3841.009957328154\n",
            "- Trial RMSE: 4206.458287027927\n",
            "- Trial RMSE: 3070.8987010700253\n",
            "- Trial RMSE: 4121.887446545337\n",
            "- Trial RMSE: 3841.009957328154\n",
            "- Trial RMSE: 4005.9150305658145\n",
            "- Trial RMSE: 4276.457684983897\n",
            "- Trial RMSE: 3070.8987010700253\n",
            "- Trial RMSE: 4121.887446545337\n",
            "- Trial RMSE: 3070.8987010700253\n",
            "- Trial RMSE: 3841.009957328154\n",
            "- Trial RMSE: 3070.8987010700253\n",
            "- Trial RMSE: 3841.009957328154\n",
            "- Trial RMSE: 4206.458287027927\n",
            "- Trial RMSE: 3070.8987010700253\n",
            "- Trial RMSE: 4334.884684584816\n",
            "- Trial RMSE: 4984.3211891501915\n",
            "- Trial RMSE: 4005.9150305658145\n",
            "- Trial RMSE: 3841.009957328154\n",
            "- Trial RMSE: 3070.8987010700253\n",
            "- Trial RMSE: 5154.069020265029\n",
            "- Trial RMSE: 3070.8987010700253\n",
            "- Trial RMSE: 4121.887446545337\n",
            "- Trial RMSE: 3841.009957328154\n",
            "- Trial RMSE: 3070.8987010700253\n",
            "- Trial RMSE: 4276.457684983897\n",
            "- Trial RMSE: 4121.887446545337\n",
            "- Trial RMSE: 3841.009957328154\n",
            "- Trial RMSE: 3841.009957328154\n",
            "- Trial RMSE: 3070.8987010700253\n",
            "- Trial RMSE: 3070.8987010700253\n",
            "- Trial RMSE: 4121.887446545337\n",
            "- Trial RMSE: 3841.009957328154\n",
            "- Trial RMSE: 3070.8987010700253\n",
            "- Trial RMSE: 5051.261603566716\n",
            "- Trial RMSE: 4121.887446545337\n",
            "- Trial RMSE: 3841.009957328154\n",
            "- Trial RMSE: 4276.457684983897\n",
            "- Trial RMSE: 3070.8987010700253\n",
            "- Trial RMSE: 3070.8987010700253\n",
            "- Trial RMSE: 3841.009957328154\n",
            "- Trial RMSE: 4005.9150305658145\n",
            "- Trial RMSE: 3070.8987010700253\n",
            "- Trial RMSE: 3841.009957328154\n",
            "- Trial RMSE: 4121.887446545337\n",
            "- Trial RMSE: 3070.8987010700253\n",
            "- Trial RMSE: 4206.458287027927\n",
            "- Trial RMSE: 3841.009957328154\n",
            "- Trial RMSE: 3070.8987010700253\n",
            "- Trial RMSE: 3070.8987010700253\n",
            "- Trial RMSE: 3841.009957328154\n",
            "- Trial RMSE: 4005.9150305658145\n",
            "- Trial RMSE: 3070.8987010700253\n",
            "- Trial RMSE: 3841.009957328154\n",
            "- Trial RMSE: 4206.458287027927\n",
            "- Trial RMSE: 3070.8987010700253\n",
            "- Trial RMSE: 4121.887446545337\n",
            "- Trial RMSE: 3841.009957328154\n",
            "- Trial RMSE: 4334.884684584816\n",
            "- Trial RMSE: 3070.8987010700253\n",
            "- Trial RMSE: 3070.8987010700253\n",
            "- Trial RMSE: 3841.009957328154\n",
            "- Trial RMSE: 3841.009957328154\n",
            "- Trial RMSE: 4736.6277143147345\n",
            "- Trial RMSE: 4121.887446545337\n",
            "- Trial RMSE: 3070.8987010700253\n",
            "- Trial RMSE: 3841.009957328154\n",
            "- Trial RMSE: 3070.8987010700253\n",
            "- Trial RMSE: 4121.887446545337\n",
            "- Trial RMSE: 3070.8987010700253\n",
            "- Trial RMSE: 3841.009957328154\n",
            "- Trial RMSE: 3070.8987010700253\n",
            "- Trial RMSE: 4935.916210924576\n",
            "- Trial RMSE: 3841.009957328154\n",
            "- Trial RMSE: 4121.887446545337\n",
            "- Trial RMSE: 3070.8987010700253\n",
            "- Trial RMSE: 3841.009957328154\n",
            "- Trial RMSE: 4908.764163529728\n",
            "- Trial RMSE: 3070.8987010700253\n",
            "- Trial RMSE: 3070.8987010700253\n",
            "- Trial RMSE: 3841.009957328154\n",
            "- Trial RMSE: 4005.9150305658145\n",
            "- Trial RMSE: 3070.8987010700253\n",
            "- Trial RMSE: 3841.009957328154\n",
            "- Trial RMSE: 4206.458287027927\n",
            "- Trial RMSE: 3070.8987010700253\n",
            "- Trial RMSE: 4005.9150305658145\n",
            "- Trial RMSE: 3841.009957328154\n",
            "- Trial RMSE: 3070.8987010700253\n",
            "- Trial RMSE: 3070.8987010700253\n",
            "- Trial RMSE: 3841.009957328154\n",
            "- Trial RMSE: 3070.8987010700253\n",
            "- Trial RMSE: 4121.887446545337\n",
            "- Trial RMSE: 3841.009957328154\n",
            "- Trial RMSE: 3070.8987010700253\n",
            "- Trial RMSE: 3841.009957328154\n",
            "- Trial RMSE: 4121.887446545337\n",
            "- Trial RMSE: 3070.8987010700253\n",
            "- Trial RMSE: 3841.009957328154\n",
            "- Trial RMSE: 3070.8987010700253\n",
            "- Trial RMSE: 4276.457684983897\n",
            "- Trial RMSE: 4121.887446545337\n",
            "- Trial RMSE: 3841.009957328154\n",
            "- Trial RMSE: 3070.8987010700253\n",
            "- Trial RMSE: 4121.887446545337\n",
            "- Trial RMSE: 3841.009957328154\n",
            "- Trial RMSE: 5127.327385587506\n",
            "- Trial RMSE: 3070.8987010700253\n",
            "- Trial RMSE: 3841.009957328154\n",
            "- Trial RMSE: 4121.887446545337\n",
            "- Trial RMSE: 3070.8987010700253\n",
            "- Trial RMSE: 3841.009957328154\n",
            "- Trial RMSE: 3070.8987010700253\n",
            "- Trial RMSE: 4276.457684983897\n",
            "- Trial RMSE: 4005.9150305658145\n",
            "- Trial RMSE: 3841.009957328154\n",
            "- Trial RMSE: 3070.8987010700253\n",
            "- Trial RMSE: 4206.458287027927\n",
            "- Trial RMSE: 3841.009957328154\n",
            "- Trial RMSE: 3070.8987010700253\n",
            "- Trial RMSE: 4121.887446545337\n",
            "- Trial RMSE: 3841.009957328154\n",
            "- Trial RMSE: 3070.8987010700253\n",
            "- Trial RMSE: 4276.457684983897\n",
            "- Trial RMSE: 4005.9150305658145\n",
            "- Trial RMSE: 3070.8987010700253\n",
            "- Trial RMSE: 3841.009957328154\n",
            "- Trial RMSE: 4121.887446545337\n",
            "- Trial RMSE: 3070.8987010700253\n",
            "- Trial RMSE: 3841.009957328154\n",
            "- Trial RMSE: 4334.884684584816\n",
            "- Trial RMSE: 4121.887446545337\n",
            "- Trial RMSE: 3070.8987010700253\n",
            "- Trial RMSE: 4835.219970698422\n",
            "- Trial RMSE: 3841.009957328154\n",
            "- Trial RMSE: 3841.009957328154\n",
            "- Trial RMSE: 3070.8987010700253\n",
            "- Trial RMSE: 5055.543823168687\n",
            "- Trial RMSE: 4206.458287027927\n",
            "- Trial RMSE: 3841.009957328154\n",
            "- Trial RMSE: 3070.8987010700253\n",
            "- Trial RMSE: 4121.887446545337\n",
            "- Trial RMSE: 3841.009957328154\n",
            "- Trial RMSE: 3070.8987010700253\n",
            "- Trial RMSE: 4276.457684983897\n",
            "- Trial RMSE: 4005.9150305658145\n",
            "- Trial RMSE: 3070.8987010700253\n",
            "- Trial RMSE: 4121.887446545337\n",
            "- Trial RMSE: 4384.845258618256\n",
            "- Trial RMSE: 3841.009957328154\n",
            "- Trial RMSE: 3070.8987010700253\n",
            "- Trial RMSE: 3841.009957328154\n",
            "- Trial RMSE: 4121.887446545337\n",
            "- Trial RMSE: 3070.8987010700253\n",
            "- Trial RMSE: 3841.009957328154\n",
            "- Trial RMSE: 4276.457684983897\n",
            "- Trial RMSE: 3070.8987010700253\n",
            "- Trial RMSE: 3841.009957328154\n",
            "- Trial RMSE: 4121.887446545337\n",
            "- Trial RMSE: 3070.8987010700253\n",
            "- Trial RMSE: 3841.009957328154\n",
            "- Trial RMSE: 4121.887446545337\n",
            "- Trial RMSE: 3070.8987010700253\n",
            "- Trial RMSE: 4954.771189399921\n",
            "- Trial RMSE: 3841.009957328154\n",
            "- Trial RMSE: 4276.457684983897\n",
            "- Trial RMSE: 3070.8987010700253\n",
            "- Trial RMSE: 4005.9150305658145\n",
            "- Trial RMSE: 3841.009957328154\n",
            "- Trial RMSE: 3070.8987010700253\n",
            "- Trial RMSE: 4121.887446545337\n",
            "- Trial RMSE: 3841.009957328154\n",
            "- Trial RMSE: 4861.583489139057\n",
            "- Trial RMSE: 3070.8987010700253\n",
            "- Trial RMSE: 4206.458287027927\n",
            "- Trial RMSE: 3841.009957328154\n",
            "- Trial RMSE: 3070.8987010700253\n",
            "- Trial RMSE: 4121.887446545337\n",
            "- Trial RMSE: 4428.045308086619\n",
            "- Trial RMSE: 3841.009957328154\n",
            "- Trial RMSE: 3070.8987010700253\n",
            "- Trial RMSE: 4276.457684983897\n",
            "- Trial RMSE: 3841.009957328154\n",
            "- Trial RMSE: 4121.887446545337\n",
            "- Trial RMSE: 4807.574189280954\n",
            "- Trial RMSE: 3070.8987010700253\n",
            "- Trial RMSE: 3841.009957328154\n",
            "- Trial RMSE: 3070.8987010700253\n",
            "- Trial RMSE: 4005.9150305658145\n",
            "- Trial RMSE: 3841.009957328154\n",
            "- Trial RMSE: 3070.8987010700253\n",
            "- Trial RMSE: 4206.458287027927\n",
            "- Trial RMSE: 4384.845258618256\n",
            "- Trial RMSE: 3841.009957328154\n",
            "- Trial RMSE: 5027.4053524579795\n",
            "- Trial RMSE: 4121.887446545337\n",
            "- Trial RMSE: 3070.8987010700253\n",
            "- Trial RMSE: 3841.009957328154\n",
            "- Trial RMSE: 3070.8987010700253\n",
            "- Trial RMSE: 4276.457684983897\n",
            "- Trial RMSE: 4005.9150305658145\n",
            "- Trial RMSE: 3070.8987010700253\n",
            "- Trial RMSE: 4121.887446545337\n",
            "- Trial RMSE: 3841.009957328154\n",
            "- Trial RMSE: 3070.8987010700253\n",
            "- Trial RMSE: 3841.009957328154\n",
            "- Trial RMSE: 4121.887446545337\n",
            "- Trial RMSE: 3070.8987010700253\n",
            "- Trial RMSE: 3841.009957328154\n",
            "- Trial RMSE: 4694.141815359486\n",
            "- Trial RMSE: 4334.884684584816\n",
            "- Trial RMSE: 4990.171834350707\n",
            "- Trial RMSE: 3841.009957328154\n",
            "- Trial RMSE: 3070.8987010700253\n",
            "- Trial RMSE: 4121.887446545337\n",
            "- Trial RMSE: 3841.009957328154\n",
            "- Trial RMSE: 3070.8987010700253\n",
            "- Trial RMSE: 4276.457684983897\n",
            "- Trial RMSE: 4121.887446545337\n",
            "- Trial RMSE: 3841.009957328154\n",
            "- Trial RMSE: 5086.64738728327\n",
            "- Trial RMSE: 3070.8987010700253\n",
            "- Trial RMSE: 3841.009957328154\n",
            "- Trial RMSE: 3070.8987010700253\n",
            "- Trial RMSE: 4121.887446545337\n",
            "- Trial RMSE: 3841.009957328154\n",
            "- Trial RMSE: 3070.8987010700253\n",
            "- Trial RMSE: 4749.986369917271\n",
            "- Trial RMSE: 4276.457684983897\n",
            "- Trial RMSE: 4121.887446545337\n",
            "- Trial RMSE: 3841.009957328154\n",
            "- Trial RMSE: 3070.8987010700253\n",
            "- Trial RMSE: 4005.9150305658145\n",
            "- Trial RMSE: 3070.8987010700253\n",
            "- Trial RMSE: 3841.009957328154\n",
            "- Trial RMSE: 4206.458287027927\n",
            "- Trial RMSE: 3070.8987010700253\n",
            "- Trial RMSE: 4384.845258618256\n",
            "- Trial RMSE: 3841.009957328154\n",
            "- Trial RMSE: 4121.887446545337\n",
            "- Trial RMSE: 3070.8987010700253\n",
            "- Trial RMSE: 3841.009957328154\n",
            "- Trial RMSE: 4121.887446545337\n",
            "- Trial RMSE: 3070.8987010700253\n",
            "- Trial RMSE: 4916.2527198382495\n",
            "- Trial RMSE: 5175.166948373778\n",
            "- Trial RMSE: 5127.327385587506\n",
            "- Trial RMSE: 3841.009957328154\n",
            "- Trial RMSE: 4276.457684983897\n",
            "- Trial RMSE: 3070.8987010700253\n",
            "- Trial RMSE: 4005.9150305658145\n",
            "- Trial RMSE: 3841.009957328154\n",
            "- Trial RMSE: 3070.8987010700253\n",
            "- Trial RMSE: 4206.458287027927\n",
            "- Trial RMSE: 3841.009957328154\n",
            "- Trial RMSE: 3070.8987010700253\n",
            "- Trial RMSE: 4121.887446545337\n",
            "- Trial RMSE: 3841.009957328154\n",
            "- Trial RMSE: 5016.75113924875\n",
            "- Trial RMSE: 3070.8987010700253\n",
            "- Trial RMSE: 4005.9150305658145\n",
            "- Trial RMSE: 3841.009957328154\n",
            "- Trial RMSE: 4276.457684983897\n",
            "- Trial RMSE: 3070.8987010700253\n",
            "- Trial RMSE: 4121.887446545337\n",
            "- Trial RMSE: 3841.009957328154\n",
            "- Trial RMSE: 3070.8987010700253\n",
            "- Trial RMSE: 4384.845258618256\n",
            "- Trial RMSE: 3841.009957328154\n",
            "- Trial RMSE: 3070.8987010700253\n",
            "- Trial RMSE: 4206.458287027927\n",
            "- Trial RMSE: 4497.798438248811\n",
            "- Trial RMSE: 4005.9150305658145\n",
            "- Trial RMSE: 3070.8987010700253\n",
            "- Trial RMSE: 3841.009957328154\n",
            "- Trial RMSE: 5164.754262546907\n",
            "- Trial RMSE: 4660.48534988204\n",
            "- Trial RMSE: 4121.887446545337\n",
            "- Trial RMSE: 3070.8987010700253\n",
            "- Trial RMSE: 3841.009957328154\n",
            "- Trial RMSE: 4276.457684983897\n",
            "- Trial RMSE: 3070.8987010700253\n",
            "- Trial RMSE: 4121.887446545337\n",
            "- Trial RMSE: 3841.009957328154\n",
            "- Trial RMSE: 3070.8987010700253\n",
            "- Trial RMSE: 3841.009957328154\n",
            "- Trial RMSE: 4121.887446545337\n",
            "- Trial RMSE: 3070.8987010700253\n",
            "- Trial RMSE: 4886.360554442493\n",
            "- Trial RMSE: 3841.009957328154\n",
            "- Trial RMSE: 4121.887446545337\n",
            "- Trial RMSE: 4334.884684584816\n",
            "- Trial RMSE: 3070.8987010700253\n",
            "- Trial RMSE: 3841.009957328154\n",
            "- Trial RMSE: 3841.009957328154\n",
            "- Trial RMSE: 3070.8987010700253\n",
            "- Trial RMSE: 4206.458287027927\n",
            "- Trial RMSE: 4005.9150305658145\n",
            "- Trial RMSE: 3070.8987010700253\n",
            "- Trial RMSE: 3841.009957328154\n",
            "- Trial RMSE: 4121.887446545337\n",
            "- Trial RMSE: 3070.8987010700253\n",
            "- Trial RMSE: 4276.457684983897\n",
            "- Trial RMSE: 3841.009957328154\n",
            "- Trial RMSE: 3070.8987010700253\n",
            "- Trial RMSE: 3841.009957328154\n",
            "- Trial RMSE: 4603.356006636722\n",
            "- Trial RMSE: 4121.887446545337\n",
            "- Trial RMSE: 4428.045308086619\n",
            "- Trial RMSE: 3070.8987010700253\n",
            "- Trial RMSE: 3841.009957328154\n",
            "- Trial RMSE: 4121.887446545337\n",
            "- Trial RMSE: 3070.8987010700253\n",
            "- Trial RMSE: 4276.457684983897\n",
            "- Trial RMSE: 3841.009957328154\n",
            "- Trial RMSE: 4774.027433856023\n",
            "- Trial RMSE: 3070.8987010700253\n",
            "- Trial RMSE: 4005.9150305658145\n",
            "- Trial RMSE: 3841.009957328154\n",
            "- Trial RMSE: 3070.8987010700253\n",
            "- Trial RMSE: 4121.887446545337\n",
            "- Trial RMSE: 3841.009957328154\n",
            "- Trial RMSE: 3070.8987010700253\n",
            "- Trial RMSE: 4276.457684983897\n",
            "- Trial RMSE: 3841.009957328154\n",
            "- Trial RMSE: 4121.887446545337\n",
            "- Trial RMSE: 3070.8987010700253\n",
            "- Trial RMSE: 4954.771189399921\n",
            "- Trial RMSE: 3841.009957328154\n",
            "- Trial RMSE: 4723.126229647229\n",
            "- Trial RMSE: 3070.8987010700253\n",
            "- Trial RMSE: 4121.887446545337\n",
            "- Trial RMSE: 5046.827868472032\n",
            "- Trial RMSE: 4384.845258618256\n",
            "- Trial RMSE: 3841.009957328154\n",
            "- Trial RMSE: 3070.8987010700253\n",
            "- Trial RMSE: 4206.458287027927\n",
            "- Trial RMSE: 3841.009957328154\n",
            "- Trial RMSE: 3070.8987010700253\n",
            "- Trial RMSE: 4005.9150305658145\n",
            "- Trial RMSE: 3841.009957328154\n",
            "- Trial RMSE: 4276.457684983897\n",
            "- Trial RMSE: 3070.8987010700253\n",
            "- Trial RMSE: 3841.009957328154\n",
            "- Trial RMSE: 4121.887446545337\n",
            "- Trial RMSE: 3070.8987010700253\n",
            "- Trial RMSE: 4121.887446545337\n",
            "- Trial RMSE: 3841.009957328154\n",
            "- Trial RMSE: 3070.8987010700253\n",
            "- Trial RMSE: 3841.009957328154\n",
            "- Trial RMSE: 4334.884684584816\n",
            "- Trial RMSE: 3070.8987010700253\n",
            "- Trial RMSE: 4121.887446545337\n",
            "- Trial RMSE: 3841.009957328154\n",
            "- Trial RMSE: 3070.8987010700253\n",
            "- Trial RMSE: 4206.458287027927\n",
            "- Trial RMSE: 3841.009957328154\n",
            "- Trial RMSE: 3070.8987010700253\n",
            "- Trial RMSE: 4005.9150305658145\n",
            "- Trial RMSE: 3070.8987010700253\n",
            "- Trial RMSE: 4121.887446545337\n",
            "- Trial RMSE: 3841.009957328154\n",
            "- Trial RMSE: 4276.457684983897\n",
            "- Trial RMSE: 3070.8987010700253\n",
            "- Trial RMSE: 3841.009957328154\n",
            "- Trial RMSE: 4121.887446545337\n",
            "- Trial RMSE: 5073.937110848369\n",
            "- Trial RMSE: 3070.8987010700253\n",
            "- Trial RMSE: 3841.009957328154\n",
            "- Trial RMSE: 3841.009957328154\n",
            "- Trial RMSE: 3070.8987010700253\n",
            "- Trial RMSE: 4464.551264729626\n",
            "- Trial RMSE: 4817.208164649399\n",
            "- Trial RMSE: 4121.887446545337\n",
            "- Trial RMSE: 4334.884684584816\n",
            "- Trial RMSE: 3841.009957328154\n",
            "- Trial RMSE: 3070.8987010700253\n",
            "- Trial RMSE: 4206.458287027927\n",
            "- Trial RMSE: 3841.009957328154\n",
            "- Trial RMSE: 4844.646786813006\n",
            "- Trial RMSE: 3070.8987010700253\n",
            "- Trial RMSE: 4005.9150305658145\n",
            "- Trial RMSE: 4978.820520604018\n",
            "- Trial RMSE: 3070.8987010700253\n",
            "- Trial RMSE: 4121.887446545337\n",
            "- Trial RMSE: 3841.009957328154\n",
            "- Trial RMSE: 3070.8987010700253\n",
            "- Trial RMSE: 4923.542907063325\n",
            "- Trial RMSE: 3841.009957328154\n",
            "- Trial RMSE: 4206.458287027927\n",
            "- Trial RMSE: 3070.8987010700253\n",
            "- Trial RMSE: 4005.9150305658145\n",
            "- Trial RMSE: 4334.884684584816\n",
            "- Trial RMSE: 3841.009957328154\n",
            "- Trial RMSE: 3070.8987010700253\n",
            "- Trial RMSE: 4121.887446545337\n",
            "- Trial RMSE: 3841.009957328154\n",
            "- Trial RMSE: 3070.8987010700253\n",
            "- Trial RMSE: 4276.457684983897\n",
            "- Trial RMSE: 5142.519701979853\n",
            "- Trial RMSE: 3841.009957328154\n",
            "- Trial RMSE: 4121.887446545337\n",
            "- Trial RMSE: 3070.8987010700253\n",
            "- Trial RMSE: 3841.009957328154\n",
            "- Trial RMSE: 5006.560109271813\n",
            "- Trial RMSE: 3070.8987010700253\n",
            "- Trial RMSE: 4121.887446545337\n",
            "- Trial RMSE: 3841.009957328154\n",
            "- Trial RMSE: 3070.8987010700253\n",
            "- Trial RMSE: 5127.327385587506\n",
            "- Trial RMSE: 4555.016986871412\n",
            "- Trial RMSE: 4276.457684983897\n",
            "- Trial RMSE: 3841.009957328154\n",
            "- Trial RMSE: 4121.887446545337\n",
            "- Trial RMSE: 3070.8987010700253\n",
            "- Trial RMSE: 3841.009957328154\n",
            "- Trial RMSE: 4384.845258618256\n",
            "- Trial RMSE: 3070.8987010700253\n",
            "- Trial RMSE: 4121.887446545337\n",
            "- Trial RMSE: 3841.009957328154\n",
            "- Trial RMSE: 3070.8987010700253\n",
            "- Trial RMSE: 3841.009957328154\n",
            "- Trial RMSE: 4206.458287027927\n",
            "- Trial RMSE: 4005.9150305658145\n",
            "- Trial RMSE: 3070.8987010700253\n",
            "- Trial RMSE: 3841.009957328154\n",
            "- Trial RMSE: 3070.8987010700253\n",
            "- Trial RMSE: 4121.887446545337\n",
            "- Trial RMSE: 3841.009957328154\n",
            "- Trial RMSE: 4276.457684983897\n",
            "- Trial RMSE: 3070.8987010700253\n",
            "- Trial RMSE: 4005.9150305658145\n",
            "- Trial RMSE: 3070.8987010700253\n",
            "- Trial RMSE: 3841.009957328154\n",
            "- Trial RMSE: 4121.887446545337\n",
            "- Trial RMSE: 3070.8987010700253\n",
            "- Trial RMSE: 3841.009957328154\n",
            "- Trial RMSE: 4206.458287027927\n",
            "- Trial RMSE: 3070.8987010700253\n",
            "- Trial RMSE: 3841.009957328154\n",
            "- Trial RMSE: 4121.887446545337\n",
            "- Trial RMSE: 4384.845258618256\n",
            "- Trial RMSE: 3070.8987010700253\n",
            "- Trial RMSE: 3841.009957328154\n",
            "- Trial RMSE: 4276.457684983897\n",
            "- Trial RMSE: 3841.009957328154\n",
            "- Trial RMSE: 3070.8987010700253\n",
            "- Trial RMSE: 4121.887446545337\n",
            "- Trial RMSE: 3841.009957328154\n",
            "- Trial RMSE: 3070.8987010700253\n",
            "- Trial RMSE: 4005.9150305658145\n",
            "- Trial RMSE: 3070.8987010700253\n",
            "- Trial RMSE: 4276.457684983897\n",
            "- Trial RMSE: 3841.009957328154\n",
            "- Trial RMSE: 4121.887446545337\n",
            "- Trial RMSE: 3070.8987010700253\n",
            "- Trial RMSE: 3841.009957328154\n",
            "- Trial RMSE: 3070.8987010700253\n",
            "- Trial RMSE: 4121.887446545337\n",
            "- Trial RMSE: 3841.009957328154\n",
            "- Trial RMSE: 3070.8987010700253\n",
            "- Trial RMSE: 5064.739351253655\n",
            "- Trial RMSE: 3841.009957328154\n",
            "- Trial RMSE: 4464.551264729626\n",
            "- Trial RMSE: 4206.458287027927\n",
            "- Trial RMSE: 3070.8987010700253\n",
            "- Trial RMSE: 4005.9150305658145\n",
            "- Trial RMSE: 3841.009957328154\n",
            "- Trial RMSE: 3070.8987010700253\n",
            "- Trial RMSE: 4334.884684584816\n",
            "- Trial RMSE: 4121.887446545337\n",
            "- Trial RMSE: 3841.009957328154\n",
            "- Trial RMSE: 5095.414951314923\n",
            "- Trial RMSE: 4870.27708156853\n",
            "- Trial RMSE: 3070.8987010700253\n",
            "- Trial RMSE: 4121.887446545337\n",
            "- Trial RMSE: 3841.009957328154\n",
            "- Trial RMSE: 4276.457684983897\n",
            "- Trial RMSE: 3070.8987010700253\n",
            "- Trial RMSE: 3841.009957328154\n",
            "- Trial RMSE: 3070.8987010700253\n",
            "- Trial RMSE: 5115.717957022782\n",
            "- Trial RMSE: 4121.887446545337\n",
            "- Trial RMSE: 3841.009957328154\n",
            "- Trial RMSE: 3070.8987010700253\n",
            "- Trial RMSE: 4121.887446545337\n",
            "- Trial RMSE: 3841.009957328154\n",
            "- Trial RMSE: 3070.8987010700253\n",
            "- Trial RMSE: 4276.457684983897\n",
            "- Trial RMSE: 3841.009957328154\n",
            "- Trial RMSE: 3070.8987010700253\n",
            "- Trial RMSE: 4384.845258618256\n",
            "- Trial RMSE: 4796.7703176196055\n",
            "- Trial RMSE: 4966.944556356028\n",
            "- Trial RMSE: 4121.887446545337\n",
            "- Trial RMSE: 3841.009957328154\n",
            "- Trial RMSE: 3070.8987010700253\n",
            "- Trial RMSE: 4005.9150305658145\n",
            "- Trial RMSE: 3841.009957328154\n",
            "- Trial RMSE: 3070.8987010700253\n",
            "- Trial RMSE: 4206.458287027927\n",
            "- Trial RMSE: 3841.009957328154\n",
            "- Trial RMSE: 3070.8987010700253\n",
            "- Trial RMSE: 4121.887446545337\n",
            "- Trial RMSE: 3841.009957328154\n",
            "- Trial RMSE: 3070.8987010700253\n",
            "- Trial RMSE: 4276.457684983897\n",
            "- Trial RMSE: 4005.9150305658145\n",
            "- Trial RMSE: 3070.8987010700253\n",
            "- Trial RMSE: 3841.009957328154\n",
            "- Trial RMSE: 4121.887446545337\n",
            "- Trial RMSE: 3070.8987010700253\n",
            "- Trial RMSE: 3841.009957328154\n",
            "- Trial RMSE: 4276.457684983897\n",
            "- Trial RMSE: 3070.8987010700253\n",
            "- Trial RMSE: 4121.887446545337\n",
            "- Trial RMSE: 4893.97251570672\n",
            "- Trial RMSE: 3841.009957328154\n",
            "- Trial RMSE: 3070.8987010700253\n",
            "- Trial RMSE: 3841.009957328154\n",
            "- Trial RMSE: 4121.887446545337\n",
            "- Trial RMSE: 3070.8987010700253\n",
            "- Trial RMSE: 4428.045308086619\n",
            "- Trial RMSE: 3841.009957328154\n",
            "- Trial RMSE: 4206.458287027927\n",
            "- Trial RMSE: 3841.009957328154\n",
            "- Trial RMSE: 3070.8987010700253\n",
            "- Trial RMSE: 4005.9150305658145\n",
            "- Trial RMSE: 3070.8987010700253\n",
            "- Trial RMSE: 4334.884684584816\n",
            "- Trial RMSE: 4121.887446545337\n",
            "- Trial RMSE: 3841.009957328154\n",
            "- Trial RMSE: 3070.8987010700253\n",
            "- Trial RMSE: 3841.009957328154\n",
            "- Trial RMSE: 4206.458287027927\n",
            "- Trial RMSE: 3070.8987010700253\n",
            "- Trial RMSE: 4005.9150305658145\n",
            "- Trial RMSE: 3841.009957328154\n",
            "- Trial RMSE: 3070.8987010700253\n",
            "- Trial RMSE: 4121.887446545337\n",
            "- Trial RMSE: 3841.009957328154\n",
            "- Trial RMSE: 4276.457684983897\n",
            "- Trial RMSE: 3070.8987010700253\n",
            "- Trial RMSE: 3841.009957328154\n",
            "- Trial RMSE: 3070.8987010700253\n",
            "- Trial RMSE: 4121.887446545337\n",
            "- Trial RMSE: 3841.009957328154\n",
            "- Trial RMSE: 3070.8987010700253\n",
            "- Trial RMSE: 4121.887446545337\n",
            "- Trial RMSE: 3841.009957328154\n",
            "- Trial RMSE: 4384.845258618256\n",
            "- Trial RMSE: 3070.8987010700253\n",
            "- Trial RMSE: 3841.009957328154\n",
            "- Trial RMSE: 4276.457684983897\n",
            "- Trial RMSE: 3070.8987010700253\n",
            "- Trial RMSE: 4121.887446545337\n",
            "- Trial RMSE: 3841.009957328154\n",
            "- Trial RMSE: 3070.8987010700253\n",
            "- Trial RMSE: 4121.887446545337\n",
            "- Trial RMSE: 4935.916210924576\n",
            "- Trial RMSE: 3841.009957328154\n",
            "- Trial RMSE: 3070.8987010700253\n",
            "- Trial RMSE: 4660.48534988204\n",
            "- Trial RMSE: 5168.263875443831\n",
            "- Trial RMSE: 4276.457684983897\n",
            "- Trial RMSE: 3841.009957328154\n",
            "- Trial RMSE: 4121.887446545337\n",
            "- Trial RMSE: 3841.009957328154\n",
            "- Trial RMSE: 3070.8987010700253\n",
            "- Trial RMSE: 3070.8987010700253\n",
            "- Trial RMSE: 4005.9150305658145\n",
            "- Trial RMSE: 3841.009957328154\n",
            "- Trial RMSE: 4528.5810284713225\n",
            "- Trial RMSE: 4206.458287027927\n",
            "- Trial RMSE: 3070.8987010700253\n",
            "- Trial RMSE: 3841.009957328154\n",
            "- Trial RMSE: 3070.8987010700253\n",
            "- Trial RMSE: 4121.887446545337\n",
            "- Trial RMSE: 3841.009957328154\n",
            "- Trial RMSE: 3070.8987010700253\n",
            "- Trial RMSE: 4334.884684584816\n",
            "- Trial RMSE: 4121.887446545337\n",
            "- Trial RMSE: 3841.009957328154\n",
            "- Trial RMSE: 4996.091784624338\n",
            "- Trial RMSE: 3070.8987010700253\n",
            "- Trial RMSE: 4005.9150305658145\n",
            "- Trial RMSE: 4276.457684983897\n",
            "- Trial RMSE: 3070.8987010700253\n",
            "- Trial RMSE: 5042.090631175219\n",
            "- Trial RMSE: 3841.009957328154\n",
            "- Trial RMSE: 4121.887446545337\n",
            "- Trial RMSE: 3070.8987010700253\n",
            "- Trial RMSE: 3841.009957328154\n",
            "- Trial RMSE: 3070.8987010700253\n",
            "- Trial RMSE: 4121.887446545337\n",
            "- Trial RMSE: 3841.009957328154\n",
            "- Trial RMSE: 4276.457684983897\n",
            "- Trial RMSE: 3070.8987010700253\n",
            "- Trial RMSE: 3841.009957328154\n",
            "- Trial RMSE: 4384.845258618256\n",
            "- Trial RMSE: 4121.887446545337\n",
            "- Trial RMSE: 3070.8987010700253\n",
            "- Trial RMSE: 3841.009957328154\n",
            "- Trial RMSE: 4709.442632738852\n",
            "- Trial RMSE: 3841.009957328154\n",
            "- Trial RMSE: 3070.8987010700253\n",
            "- Trial RMSE: 4206.458287027927\n",
            "- Trial RMSE: 3841.009957328154\n",
            "- Trial RMSE: 3070.8987010700253\n",
            "- Trial RMSE: 4121.887446545337\n",
            "- Trial RMSE: 4762.8956379763695\n",
            "- Trial RMSE: 4005.9150305658145\n",
            "- Trial RMSE: 3070.8987010700253\n",
            "- Trial RMSE: 3841.009957328154\n",
            "- Trial RMSE: 4276.457684983897\n",
            "- Trial RMSE: 3070.8987010700253\n",
            "- Trial RMSE: 4005.9150305658145\n",
            "- Trial RMSE: 3841.009957328154\n",
            "- Trial RMSE: 3070.8987010700253\n",
            "- Trial RMSE: 4121.887446545337\n",
            "- Trial RMSE: 5016.75113924875\n",
            "- Trial RMSE: 3841.009957328154\n",
            "- Trial RMSE: 3070.8987010700253\n",
            "- Trial RMSE: 4206.458287027927\n",
            "- Trial RMSE: 3841.009957328154\n",
            "- Trial RMSE: 3070.8987010700253\n",
            "- Trial RMSE: 4384.845258618256\n",
            "- Trial RMSE: 4121.887446545337\n",
            "- Trial RMSE: 3841.009957328154\n",
            "- Trial RMSE: 5142.519701979853\n",
            "- Trial RMSE: 3070.8987010700253\n",
            "- Trial RMSE: 3841.009957328154\n",
            "- Trial RMSE: 4121.887446545337\n",
            "- Trial RMSE: 3070.8987010700253\n",
            "- Trial RMSE: 4276.457684983897\n",
            "- Trial RMSE: 3841.009957328154\n",
            "- Trial RMSE: 3070.8987010700253\n",
            "- Trial RMSE: 4121.887446545337\n",
            "- Trial RMSE: 3841.009957328154\n",
            "- Trial RMSE: 4464.551264729626\n",
            "- Trial RMSE: 3070.8987010700253\n",
            "- Trial RMSE: 4005.9150305658145\n",
            "- Trial RMSE: 4276.457684983897\n",
            "- Trial RMSE: 3841.009957328154\n",
            "- Trial RMSE: 3070.8987010700253\n",
            "- Trial RMSE: 4603.356006636722\n",
            "- Trial RMSE: 4121.887446545337\n",
            "- Trial RMSE: 3841.009957328154\n",
            "- Trial RMSE: 3070.8987010700253\n",
            "- Trial RMSE: 3841.009957328154\n",
            "- Trial RMSE: 3070.8987010700253\n",
            "- Trial RMSE: 4121.887446545337\n",
            "- Trial RMSE: 4276.457684983897\n",
            "- Trial RMSE: 3841.009957328154\n",
            "- Trial RMSE: 3070.8987010700253\n",
            "- Trial RMSE: 4121.887446545337\n",
            "- Trial RMSE: 3841.009957328154\n",
            "- Trial RMSE: 3070.8987010700253\n",
            "- Trial RMSE: 3841.009957328154\n",
            "- Trial RMSE: 3070.8987010700253\n",
            "- Trial RMSE: 4121.887446545337\n",
            "- Trial RMSE: 3841.009957328154\n",
            "- Trial RMSE: 4826.124233021871\n",
            "- Trial RMSE: 4276.457684983897\n",
            "- Trial RMSE: 3070.8987010700253\n",
            "- Trial RMSE: 4005.9150305658145\n",
            "- Trial RMSE: 3070.8987010700253\n",
            "- Trial RMSE: 4384.845258618256\n",
            "- Trial RMSE: 3841.009957328154\n",
            "- Trial RMSE: 4206.458287027927\n",
            "- Trial RMSE: 3070.8987010700253\n",
            "- Trial RMSE: 4005.9150305658145\n",
            "- Trial RMSE: 3841.009957328154\n",
            "- Trial RMSE: 3070.8987010700253\n",
            "- Trial RMSE: 4121.887446545337\n",
            "- Trial RMSE: 5157.778628209766\n",
            "- Trial RMSE: 3841.009957328154\n",
            "- Trial RMSE: 3070.8987010700253\n",
            "- Trial RMSE: 4206.458287027927\n",
            "- Trial RMSE: 3841.009957328154\n",
            "- Trial RMSE: 3070.8987010700253\n",
            "- Trial RMSE: 4870.27708156853\n",
            "- Trial RMSE: 4121.887446545337\n",
            "- Trial RMSE: 3841.009957328154\n",
            "- Trial RMSE: 4334.884684584816\n",
            "- Trial RMSE: 3070.8987010700253\n",
            "- Trial RMSE: 4908.764163529728\n",
            "- Trial RMSE: 3841.009957328154\n",
            "- Trial RMSE: 4121.887446545337\n",
            "- Trial RMSE: 3070.8987010700253\n",
            "- Trial RMSE: 3841.009957328154\n",
            "- Trial RMSE: 3070.8987010700253\n",
            "- Trial RMSE: 4121.887446545337\n",
            "- Trial RMSE: 3841.009957328154\n",
            "- Trial RMSE: 3070.8987010700253\n",
            "- Trial RMSE: 4206.458287027927\n",
            "- Trial RMSE: 3841.009957328154\n",
            "- Trial RMSE: 4276.457684983897\n",
            "- Trial RMSE: 4005.9150305658145\n",
            "- Trial RMSE: 3070.8987010700253\n",
            "- Trial RMSE: 5111.746243620142\n",
            "- Trial RMSE: 3841.009957328154\n",
            "- Trial RMSE: 3070.8987010700253\n",
            "- Trial RMSE: 5060.213573406844\n",
            "- Trial RMSE: 4121.887446545337\n",
            "- Trial RMSE: 3841.009957328154\n",
            "- Trial RMSE: 3070.8987010700253\n",
            "- Trial RMSE: 4384.845258618256\n",
            "- Trial RMSE: 4005.9150305658145\n",
            "- Trial RMSE: 3070.8987010700253\n",
            "- Trial RMSE: 4276.457684983897\n",
            "- Trial RMSE: 3841.009957328154\n",
            "- Trial RMSE: 4121.887446545337\n",
            "- Trial RMSE: 3070.8987010700253\n",
            "- Trial RMSE: 3841.009957328154\n",
            "- Trial RMSE: 3841.009957328154\n",
            "- Trial RMSE: 3070.8987010700253\n",
            "- Trial RMSE: 4121.887446545337\n",
            "- Trial RMSE: 3841.009957328154\n",
            "- Trial RMSE: 3070.8987010700253\n",
            "- Trial RMSE: 4276.457684983897\n",
            "- Trial RMSE: 5027.4053524579795\n",
            "- Trial RMSE: 4121.887446545337\n",
            "- Trial RMSE: 3841.009957328154\n",
            "- Trial RMSE: 3070.8987010700253\n",
            "- Trial RMSE: 3841.009957328154\n",
            "- Trial RMSE: 4121.887446545337\n",
            "- Trial RMSE: 3070.8987010700253\n",
            "- Trial RMSE: 4464.551264729626\n",
            "- Trial RMSE: 3841.009957328154\n",
            "- Trial RMSE: 3070.8987010700253\n",
            "- Trial RMSE: 4206.458287027927\n",
            "- Trial RMSE: 3841.009957328154\n",
            "- Trial RMSE: 3070.8987010700253\n",
            "- Trial RMSE: 4121.887446545337\n",
            "- Trial RMSE: 4334.884684584816\n",
            "- Trial RMSE: 3841.009957328154\n",
            "- Trial RMSE: 3070.8987010700253\n",
            "- Trial RMSE: 4005.9150305658145\n",
            "- Trial RMSE: 3070.8987010700253\n",
            "- Trial RMSE: 3841.009957328154\n",
            "- Trial RMSE: 4206.458287027927\n",
            "- Trial RMSE: 3841.009957328154\n",
            "- Trial RMSE: 3070.8987010700253\n",
            "- Trial RMSE: 4121.887446545337\n",
            "- Trial RMSE: 5086.64738728327\n",
            "- Trial RMSE: 3841.009957328154\n",
            "- Trial RMSE: 3070.8987010700253\n",
            "- Trial RMSE: 4954.771189399921\n",
            "- Trial RMSE: 4121.887446545337\n",
            "- Trial RMSE: 4276.457684983897\n",
            "- Trial RMSE: 3070.8987010700253\n",
            "- Trial RMSE: 3841.009957328154\n",
            "- Trial RMSE: 4005.9150305658145\n",
            "- Trial RMSE: 4384.845258618256\n",
            "- Trial RMSE: 3070.8987010700253\n",
            "- Trial RMSE: 3841.009957328154\n",
            "- Trial RMSE: 4121.887446545337\n",
            "- Trial RMSE: 3070.8987010700253\n",
            "- Trial RMSE: 3841.009957328154\n",
            "- Trial RMSE: 5073.937110848369\n",
            "- Trial RMSE: 3070.8987010700253\n",
            "- Trial RMSE: 4206.458287027927\n",
            "- Trial RMSE: 3841.009957328154\n",
            "- Trial RMSE: 3070.8987010700253\n",
            "- Trial RMSE: 4005.9150305658145\n",
            "- Trial RMSE: 4276.457684983897\n",
            "- Trial RMSE: 3841.009957328154\n",
            "- Trial RMSE: 5099.409113912332\n",
            "- Trial RMSE: 3070.8987010700253\n",
            "- Trial RMSE: 4121.887446545337\n",
            "- Trial RMSE: 3841.009957328154\n",
            "- Trial RMSE: 3070.8987010700253\n",
            "- Trial RMSE: 4121.887446545337\n",
            "- Trial RMSE: 3841.009957328154\n",
            "- Trial RMSE: 3070.8987010700253\n",
            "- Trial RMSE: 4276.457684983897\n",
            "- Trial RMSE: 3841.009957328154\n",
            "- Trial RMSE: 3070.8987010700253\n",
            "- Trial RMSE: 4121.887446545337\n",
            "- Trial RMSE: 3841.009957328154\n",
            "- Trial RMSE: 3070.8987010700253\n",
            "- Trial RMSE: 4121.887446545337\n",
            "- Trial RMSE: 3841.009957328154\n",
            "- Trial RMSE: 4334.884684584816\n",
            "- Trial RMSE: 3070.8987010700253\n",
            "- Trial RMSE: 3841.009957328154\n",
            "- Trial RMSE: 4121.887446545337\n",
            "- Trial RMSE: 3070.8987010700253\n",
            "- Trial RMSE: 3841.009957328154\n",
            "- Trial RMSE: 3070.8987010700253\n",
            "- Trial RMSE: 4276.457684983897\n",
            "- Trial RMSE: 4005.9150305658145\n",
            "- Trial RMSE: 3841.009957328154\n",
            "- Trial RMSE: 3070.8987010700253\n",
            "- Trial RMSE: 4121.887446545337\n",
            "- Trial RMSE: 4428.045308086619\n",
            "- Trial RMSE: 3841.009957328154\n",
            "- Trial RMSE: 3070.8987010700253\n",
            "- Trial RMSE: 4121.887446545337\n",
            "- Trial RMSE: 3841.009957328154\n",
            "- Trial RMSE: 3070.8987010700253\n",
            "- Trial RMSE: 4736.6277143147345\n",
            "- Trial RMSE: 4276.457684983897\n",
            "- Trial RMSE: 3070.8987010700253\n",
            "- Trial RMSE: 3841.009957328154\n",
            "- Trial RMSE: 4844.646786813006\n",
            "- Trial RMSE: 4121.887446545337\n",
            "- Trial RMSE: 3841.009957328154\n",
            "- Trial RMSE: 3070.8987010700253\n",
            "- Trial RMSE: 4206.458287027927\n",
            "- Trial RMSE: 5178.840227798743\n",
            "- Trial RMSE: 3841.009957328154\n",
            "- Trial RMSE: 4785.651199627076\n",
            "- Trial RMSE: 3070.8987010700253\n",
            "- Trial RMSE: 4005.9150305658145\n",
            "- Trial RMSE: 3070.8987010700253\n",
            "- Trial RMSE: 4978.820520604018\n",
            "- Trial RMSE: 4121.887446545337\n",
            "- Trial RMSE: 3841.009957328154\n",
            "- Trial RMSE: 4334.884684584816\n",
            "- Trial RMSE: 3070.8987010700253\n",
            "- Trial RMSE: 5135.0441467166975\n",
            "- Trial RMSE: 3841.009957328154\n",
            "- Trial RMSE: 4206.458287027927\n",
            "- Trial RMSE: 3841.009957328154\n",
            "- Trial RMSE: 3070.8987010700253\n",
            "- Trial RMSE: 4121.887446545337\n",
            "- Trial RMSE: 3841.009957328154\n",
            "- Trial RMSE: 3070.8987010700253\n",
            "- Trial RMSE: 4528.5810284713225\n",
            "- Trial RMSE: 4005.9150305658145\n",
            "- Trial RMSE: 3070.8987010700253\n",
            "- Trial RMSE: 4276.457684983897\n",
            "- Trial RMSE: 3841.009957328154\n",
            "- Trial RMSE: 4121.887446545337\n",
            "- Trial RMSE: 3070.8987010700253\n",
            "- Trial RMSE: 4384.845258618256\n",
            "- Trial RMSE: 3841.009957328154\n",
            "- Trial RMSE: 3070.8987010700253\n",
            "- Trial RMSE: 4121.887446545337\n",
            "- Trial RMSE: 3841.009957328154\n",
            "- Trial RMSE: 3070.8987010700253\n",
            "- Trial RMSE: 3841.009957328154\n",
            "- Trial RMSE: 4121.887446545337\n",
            "- Trial RMSE: 3070.8987010700253\n",
            "- Trial RMSE: 4276.457684983897\n",
            "- Trial RMSE: 3841.009957328154\n",
            "..dask_optuna             :  4821.6007\n",
            "Start Time           2023-02-25 05:09:57.615216\n",
            "End Time             2023-02-25 06:30:19.216141\n",
            "1:20:21\n",
            "\n",
            "\n",
            "Number of finished trials: 1000\n",
            "Best trial: {'n_neighbors': 2, 'metric': 'manhattan'}\n",
            "Lowest RMSE 3070.8987010700253\n"
          ]
        }
      ]
    },
    {
      "cell_type": "code",
      "execution_count": null,
      "metadata": {
        "id": "htaLz9dk14Xb",
        "colab": {
          "base_uri": "https://localhost:8080/"
        },
        "outputId": "15a37a79-8e30-4ab0-b4f6-a35e72c798dd"
      },
      "outputs": [
        {
          "output_type": "stream",
          "name": "stdout",
          "text": [
            "/content/drive/MyDrive/UsedCarsCarGurus/Models/ML/KNR/Optuna/trialOptions\n"
          ]
        }
      ],
      "source": [
        "# Write results to ML Results\n",
        "%cd /content/drive/MyDrive/UsedCarsCarGurus/Models/ML/KNR/Optuna/trialOptions/"
      ]
    },
    {
      "cell_type": "code",
      "execution_count": null,
      "metadata": {
        "id": "gmCB4CCB14Xb",
        "colab": {
          "base_uri": "https://localhost:8080/"
        },
        "outputId": "24ab95aa-2cd6-4194-828e-eff7baf444d5"
      },
      "outputs": [
        {
          "output_type": "stream",
          "name": "stdout",
          "text": [
            "     iteration         rmse             datetime_start  \\\n",
            "706        706  3070.898701 2023-02-25 06:06:16.039692   \n",
            "654        654  3070.898701 2023-02-25 06:02:04.757080   \n",
            "657        657  3070.898701 2023-02-25 06:02:19.218560   \n",
            "264        264  3070.898701 2023-02-25 05:30:46.428542   \n",
            "660        660  3070.898701 2023-02-25 06:02:33.634623   \n",
            "..         ...          ...                        ...   \n",
            "8            8  5168.263875 2023-02-25 05:10:34.630532   \n",
            "715        715  5168.263875 2023-02-25 06:06:59.793529   \n",
            "109        109  5175.166948 2023-02-25 05:18:30.367756   \n",
            "397        397  5175.166948 2023-02-25 05:41:21.148965   \n",
            "963        963  5178.840228 2023-02-25 06:27:15.950894   \n",
            "\n",
            "             datetime_complete               duration     metric  n_neighbors  \\\n",
            "706 2023-02-25 06:06:20.842922 0 days 00:00:04.803230  chebyshev            2   \n",
            "654 2023-02-25 06:02:09.519697 0 days 00:00:04.762617  manhattan            2   \n",
            "657 2023-02-25 06:02:24.009119 0 days 00:00:04.790559  chebyshev            2   \n",
            "264 2023-02-25 05:30:51.115612 0 days 00:00:04.687070  manhattan            2   \n",
            "660 2023-02-25 06:02:38.407588 0 days 00:00:04.772965  manhattan            2   \n",
            "..                         ...                    ...        ...          ...   \n",
            "8   2023-02-25 05:10:39.541621 0 days 00:00:04.911089  euclidean           97   \n",
            "715 2023-02-25 06:07:05.447919 0 days 00:00:05.654390  manhattan           97   \n",
            "109 2023-02-25 05:18:35.776791 0 days 00:00:05.409035  chebyshev           99   \n",
            "397 2023-02-25 05:41:26.569814 0 days 00:00:05.420849  manhattan           99   \n",
            "963 2023-02-25 06:27:21.492224 0 days 00:00:05.541330  minkowski          100   \n",
            "\n",
            "        state  \n",
            "706  COMPLETE  \n",
            "654  COMPLETE  \n",
            "657  COMPLETE  \n",
            "264  COMPLETE  \n",
            "660  COMPLETE  \n",
            "..        ...  \n",
            "8    COMPLETE  \n",
            "715  COMPLETE  \n",
            "109  COMPLETE  \n",
            "397  COMPLETE  \n",
            "963  COMPLETE  \n",
            "\n",
            "[1000 rows x 8 columns]\n"
          ]
        }
      ],
      "source": [
        "# Output from HPO trials\n",
        "trials_df = study.trials_dataframe()\n",
        "trials_df.rename(columns={'number': 'iteration'}, inplace=True)\n",
        "trials_df.rename(columns={'value': 'rmse'}, inplace=True)\n",
        "trials_df.rename(columns={'params_metric': 'metric'}, inplace=True)\n",
        "trials_df.rename(columns={'params_n_neighbors': 'n_neighbors'}, inplace=True)\n",
        "trials_df = trials_df.sort_values('rmse', ascending=True)\n",
        "print(trials_df) \n",
        "\n",
        "# Write processed data to csv\n",
        "trials_df.to_csv('KNR_Optuna_1000_GPU.csv', index=False)"
      ]
    },
    {
      "cell_type": "code",
      "execution_count": null,
      "metadata": {
        "id": "c8M7063u14Xc",
        "colab": {
          "base_uri": "https://localhost:8080/"
        },
        "outputId": "3e46f663-b2d8-45bb-e925-3b19271bf797"
      },
      "outputs": [
        {
          "output_type": "stream",
          "name": "stdout",
          "text": [
            "/content/drive/MyDrive/UsedCarsCarGurus/Models/ML/KNR/Optuna/Model_Explanations\n"
          ]
        }
      ],
      "source": [
        "# Write results to ML Results\n",
        "%cd /content/drive/MyDrive/UsedCarsCarGurus/Models/ML/KNR/Optuna/Model_Explanations/"
      ]
    },
    {
      "cell_type": "code",
      "execution_count": null,
      "metadata": {
        "id": "A_9Pzyds14Xd",
        "colab": {
          "base_uri": "https://localhost:8080/",
          "height": 542
        },
        "outputId": "130f00ca-4c81-4323-b326-46cb5ad479e8"
      },
      "outputs": [
        {
          "output_type": "display_data",
          "data": {
            "text/html": [
              "<html>\n",
              "<head><meta charset=\"utf-8\" /></head>\n",
              "<body>\n",
              "    <div>            <script src=\"https://cdnjs.cloudflare.com/ajax/libs/mathjax/2.7.5/MathJax.js?config=TeX-AMS-MML_SVG\"></script><script type=\"text/javascript\">if (window.MathJax) {MathJax.Hub.Config({SVG: {font: \"STIX-Web\"}});}</script>                <script type=\"text/javascript\">window.PlotlyConfig = {MathJaxConfig: 'local'};</script>\n",
              "        <script src=\"https://cdn.plot.ly/plotly-2.8.3.min.js\"></script>                <div id=\"f7df06d4-651c-498b-8872-2a6a0d5e4528\" class=\"plotly-graph-div\" style=\"height:525px; width:100%;\"></div>            <script type=\"text/javascript\">                                    window.PLOTLYENV=window.PLOTLYENV || {};                                    if (document.getElementById(\"f7df06d4-651c-498b-8872-2a6a0d5e4528\")) {                    Plotly.newPlot(                        \"f7df06d4-651c-498b-8872-2a6a0d5e4528\",                        [{\"mode\":\"markers\",\"name\":\"Objective Value\",\"x\":[0,1,2,3,4,5,6,7,8,9,10,11,12,13,14,15,16,17,18,19,20,21,22,23,24,25,26,27,28,29,30,31,32,33,34,35,36,37,38,39,40,41,42,43,44,45,46,47,48,49,50,51,52,53,54,55,56,57,58,59,60,61,62,63,64,65,66,67,68,69,70,71,72,73,74,75,76,77,78,79,80,81,82,83,84,85,86,87,88,89,90,91,92,93,94,95,96,97,98,99,100,101,102,103,104,105,106,107,108,109,110,111,112,113,114,115,116,117,118,119,120,121,122,123,124,125,126,127,128,129,130,131,132,133,134,135,136,137,138,139,140,141,142,143,144,145,146,147,148,149,150,151,152,153,154,155,156,157,158,159,160,161,162,163,164,165,166,167,168,169,170,171,172,173,174,175,176,177,178,179,180,181,182,183,184,185,186,187,188,189,190,191,192,193,194,195,196,197,198,199,200,201,202,203,204,205,206,207,208,209,210,211,212,213,214,215,216,217,218,219,220,221,222,223,224,225,226,227,228,229,230,231,232,233,234,235,236,237,238,239,240,241,242,243,244,245,246,247,248,249,250,251,252,253,254,255,256,257,258,259,260,261,262,263,264,265,266,267,268,269,270,271,272,273,274,275,276,277,278,279,280,281,282,283,284,285,286,287,288,289,290,291,292,293,294,295,296,297,298,299,300,301,302,303,304,305,306,307,308,309,310,311,312,313,314,315,316,317,318,319,320,321,322,323,324,325,326,327,328,329,330,331,332,333,334,335,336,337,338,339,340,341,342,343,344,345,346,347,348,349,350,351,352,353,354,355,356,357,358,359,360,361,362,363,364,365,366,367,368,369,370,371,372,373,374,375,376,377,378,379,380,381,382,383,384,385,386,387,388,389,390,391,392,393,394,395,396,397,398,399,400,401,402,403,404,405,406,407,408,409,410,411,412,413,414,415,416,417,418,419,420,421,422,423,424,425,426,427,428,429,430,431,432,433,434,435,436,437,438,439,440,441,442,443,444,445,446,447,448,449,450,451,452,453,454,455,456,457,458,459,460,461,462,463,464,465,466,467,468,469,470,471,472,473,474,475,476,477,478,479,480,481,482,483,484,485,486,487,488,489,490,491,492,493,494,495,496,497,498,499,500,501,502,503,504,505,506,507,508,509,510,511,512,513,514,515,516,517,518,519,520,521,522,523,524,525,526,527,528,529,530,531,532,533,534,535,536,537,538,539,540,541,542,543,544,545,546,547,548,549,550,551,552,553,554,555,556,557,558,559,560,561,562,563,564,565,566,567,568,569,570,571,572,573,574,575,576,577,578,579,580,581,582,583,584,585,586,587,588,589,590,591,592,593,594,595,596,597,598,599,600,601,602,603,604,605,606,607,608,609,610,611,612,613,614,615,616,617,618,619,620,621,622,623,624,625,626,627,628,629,630,631,632,633,634,635,636,637,638,639,640,641,642,643,644,645,646,647,648,649,650,651,652,653,654,655,656,657,658,659,660,661,662,663,664,665,666,667,668,669,670,671,672,673,674,675,676,677,678,679,680,681,682,683,684,685,686,687,688,689,690,691,692,693,694,695,696,697,698,699,700,701,702,703,704,705,706,707,708,709,710,711,712,713,714,715,716,717,718,719,720,721,722,723,724,725,726,727,728,729,730,731,732,733,734,735,736,737,738,739,740,741,742,743,744,745,746,747,748,749,750,751,752,753,754,755,756,757,758,759,760,761,762,763,764,765,766,767,768,769,770,771,772,773,774,775,776,777,778,779,780,781,782,783,784,785,786,787,788,789,790,791,792,793,794,795,796,797,798,799,800,801,802,803,804,805,806,807,808,809,810,811,812,813,814,815,816,817,818,819,820,821,822,823,824,825,826,827,828,829,830,831,832,833,834,835,836,837,838,839,840,841,842,843,844,845,846,847,848,849,850,851,852,853,854,855,856,857,858,859,860,861,862,863,864,865,866,867,868,869,870,871,872,873,874,875,876,877,878,879,880,881,882,883,884,885,886,887,888,889,890,891,892,893,894,895,896,897,898,899,900,901,902,903,904,905,906,907,908,909,910,911,912,913,914,915,916,917,918,919,920,921,922,923,924,925,926,927,928,929,930,931,932,933,934,935,936,937,938,939,940,941,942,943,944,945,946,947,948,949,950,951,952,953,954,955,956,957,958,959,960,961,962,963,964,965,966,967,968,969,970,971,972,973,974,975,976,977,978,979,980,981,982,983,984,985,986,987,988,989,990,991,992,993,994,995,996,997,998,999],\"y\":[4886.360554442493,5154.069020265029,4935.916210924576,5146.540508397751,4774.027433856023,4973.073511290455,4121.887446545337,4826.124233021871,5168.263875443831,4762.8956379763695,3070.8987010700253,3841.009957328154,3070.8987010700253,4603.356006636722,3070.8987010700253,5078.173747653229,4660.48534988204,5006.560109271813,4528.5810284713225,5037.345727529945,4528.5810284713225,3070.8987010700253,4384.845258618256,4709.442632738852,3586.325763235942,4853.149485004742,4428.045308086619,4603.356006636722,5082.400732729732,4916.2527198382495,4334.884684584816,3586.325763235942,3070.8987010700253,4694.141815359486,4384.845258618256,4774.027433856023,3070.8987010700253,4334.884684584816,4555.016986871412,4835.219970698422,4736.6277143147345,4206.458287027927,3070.8987010700253,4121.887446545337,4625.044663202976,4497.798438248811,4206.458287027927,5142.519701979853,4966.944556356028,4785.651199627076,4642.452428150509,3070.8987010700253,4005.9150305658145,3070.8987010700253,4497.798438248811,4206.458287027927,4464.551264729626,4121.887446545337,4555.016986871412,3070.8987010700253,4384.845258618256,3070.8987010700253,4005.9150305658145,4206.458287027927,4384.845258618256,4580.496166314265,4677.786791115154,5001.20520844586,3841.009957328154,4334.884684584816,4893.97251570672,3070.8987010700253,3070.8987010700253,4005.9150305658145,4464.551264729626,4334.884684584816,5078.173747653229,4005.9150305658145,5107.52968095669,4276.457684983897,4580.496166314265,3070.8987010700253,3841.009957328154,3070.8987010700253,4206.458287027927,4428.045308086619,4005.9150305658145,4497.798438248811,3841.009957328154,4276.457684983897,4428.045308086619,3070.8987010700253,3841.009957328154,4206.458287027927,3070.8987010700253,4121.887446545337,4942.141027134422,4528.5810284713225,4334.884684584816,3841.009957328154,4121.887446545337,3070.8987010700253,3070.8987010700253,3841.009957328154,4276.457684983897,4428.045308086619,5032.508288143288,4121.887446545337,3841.009957328154,5175.166948373778,4276.457684983897,3070.8987010700253,3070.8987010700253,3841.009957328154,4121.887446545337,4384.845258618256,3841.009957328154,4276.457684983897,3070.8987010700253,4464.551264729626,4625.044663202976,3070.8987010700253,4005.9150305658145,4121.887446545337,3841.009957328154,4334.884684584816,3070.8987010700253,4807.574189280954,4206.458287027927,3841.009957328154,4121.887446545337,3070.8987010700253,3070.8987010700253,3841.009957328154,4870.27708156853,4334.884684584816,4121.887446545337,3070.8987010700253,4206.458287027927,3841.009957328154,4428.045308086619,3070.8987010700253,3841.009957328154,4121.887446545337,4276.457684983897,3070.8987010700253,3841.009957328154,4005.9150305658145,3070.8987010700253,4384.845258618256,5103.483581188891,3070.8987010700253,3841.009957328154,4206.458287027927,3070.8987010700253,4121.887446545337,3841.009957328154,4005.9150305658145,4276.457684983897,3070.8987010700253,4121.887446545337,3070.8987010700253,3841.009957328154,3070.8987010700253,3841.009957328154,4206.458287027927,3070.8987010700253,4334.884684584816,4984.3211891501915,4005.9150305658145,3841.009957328154,3070.8987010700253,5154.069020265029,3070.8987010700253,4121.887446545337,3841.009957328154,3070.8987010700253,4276.457684983897,4121.887446545337,3841.009957328154,3841.009957328154,3070.8987010700253,3070.8987010700253,4121.887446545337,3841.009957328154,3070.8987010700253,5051.261603566716,4121.887446545337,3841.009957328154,4276.457684983897,3070.8987010700253,3070.8987010700253,3841.009957328154,4005.9150305658145,3070.8987010700253,3841.009957328154,4121.887446545337,3070.8987010700253,4206.458287027927,3841.009957328154,3070.8987010700253,3070.8987010700253,3841.009957328154,4005.9150305658145,3070.8987010700253,3841.009957328154,4206.458287027927,3070.8987010700253,4121.887446545337,3841.009957328154,4334.884684584816,3070.8987010700253,3070.8987010700253,3841.009957328154,3841.009957328154,4736.6277143147345,4121.887446545337,3070.8987010700253,3841.009957328154,3070.8987010700253,4121.887446545337,3070.8987010700253,3841.009957328154,3070.8987010700253,4935.916210924576,3841.009957328154,4121.887446545337,3070.8987010700253,3841.009957328154,4908.764163529728,3070.8987010700253,3070.8987010700253,3841.009957328154,4005.9150305658145,3070.8987010700253,3841.009957328154,4206.458287027927,3070.8987010700253,4005.9150305658145,3841.009957328154,3070.8987010700253,3070.8987010700253,3841.009957328154,3070.8987010700253,4121.887446545337,3841.009957328154,3070.8987010700253,3841.009957328154,4121.887446545337,3070.8987010700253,3841.009957328154,3070.8987010700253,4276.457684983897,4121.887446545337,3841.009957328154,3070.8987010700253,4121.887446545337,3841.009957328154,5127.327385587506,3070.8987010700253,3841.009957328154,4121.887446545337,3070.8987010700253,3841.009957328154,3070.8987010700253,4276.457684983897,4005.9150305658145,3841.009957328154,3070.8987010700253,4206.458287027927,3841.009957328154,3070.8987010700253,4121.887446545337,3841.009957328154,3070.8987010700253,4276.457684983897,4005.9150305658145,3070.8987010700253,3841.009957328154,4121.887446545337,3070.8987010700253,3841.009957328154,4334.884684584816,4121.887446545337,3070.8987010700253,4835.219970698422,3841.009957328154,3841.009957328154,3070.8987010700253,5055.543823168687,4206.458287027927,3841.009957328154,3070.8987010700253,4121.887446545337,3841.009957328154,3070.8987010700253,4276.457684983897,4005.9150305658145,3070.8987010700253,4121.887446545337,4384.845258618256,3841.009957328154,3070.8987010700253,3841.009957328154,4121.887446545337,3070.8987010700253,3841.009957328154,4276.457684983897,3070.8987010700253,3841.009957328154,4121.887446545337,3070.8987010700253,3841.009957328154,4121.887446545337,3070.8987010700253,4954.771189399921,3841.009957328154,4276.457684983897,3070.8987010700253,4005.9150305658145,3841.009957328154,3070.8987010700253,4121.887446545337,3841.009957328154,4861.583489139057,3070.8987010700253,4206.458287027927,3841.009957328154,3070.8987010700253,4121.887446545337,4428.045308086619,3841.009957328154,3070.8987010700253,4276.457684983897,3841.009957328154,4121.887446545337,4807.574189280954,3070.8987010700253,3841.009957328154,3070.8987010700253,4005.9150305658145,3841.009957328154,3070.8987010700253,4206.458287027927,4384.845258618256,3841.009957328154,5027.4053524579795,4121.887446545337,3070.8987010700253,3841.009957328154,3070.8987010700253,4276.457684983897,4005.9150305658145,3070.8987010700253,4121.887446545337,3841.009957328154,3070.8987010700253,3841.009957328154,4121.887446545337,3070.8987010700253,3841.009957328154,4694.141815359486,4334.884684584816,4990.171834350707,3841.009957328154,3070.8987010700253,4121.887446545337,3841.009957328154,3070.8987010700253,4276.457684983897,4121.887446545337,3841.009957328154,5086.64738728327,3070.8987010700253,3841.009957328154,3070.8987010700253,4121.887446545337,3841.009957328154,3070.8987010700253,4749.986369917271,4276.457684983897,4121.887446545337,3841.009957328154,3070.8987010700253,4005.9150305658145,3070.8987010700253,3841.009957328154,4206.458287027927,3070.8987010700253,4384.845258618256,3841.009957328154,4121.887446545337,3070.8987010700253,3841.009957328154,4121.887446545337,3070.8987010700253,4916.2527198382495,5175.166948373778,5127.327385587506,3841.009957328154,4276.457684983897,3070.8987010700253,4005.9150305658145,3841.009957328154,3070.8987010700253,4206.458287027927,3841.009957328154,3070.8987010700253,4121.887446545337,3841.009957328154,5016.75113924875,3070.8987010700253,4005.9150305658145,3841.009957328154,4276.457684983897,3070.8987010700253,4121.887446545337,3841.009957328154,3070.8987010700253,4384.845258618256,3841.009957328154,3070.8987010700253,4206.458287027927,4497.798438248811,4005.9150305658145,3070.8987010700253,3841.009957328154,5164.754262546907,4660.48534988204,4121.887446545337,3070.8987010700253,3841.009957328154,4276.457684983897,3070.8987010700253,4121.887446545337,3841.009957328154,3070.8987010700253,3841.009957328154,4121.887446545337,3070.8987010700253,4886.360554442493,3841.009957328154,4121.887446545337,4334.884684584816,3070.8987010700253,3841.009957328154,3841.009957328154,3070.8987010700253,4206.458287027927,4005.9150305658145,3070.8987010700253,3841.009957328154,4121.887446545337,3070.8987010700253,4276.457684983897,3841.009957328154,3070.8987010700253,3841.009957328154,4603.356006636722,4121.887446545337,4428.045308086619,3070.8987010700253,3841.009957328154,4121.887446545337,3070.8987010700253,4276.457684983897,3841.009957328154,4774.027433856023,3070.8987010700253,4005.9150305658145,3841.009957328154,3070.8987010700253,4121.887446545337,3841.009957328154,3070.8987010700253,4276.457684983897,3841.009957328154,4121.887446545337,3070.8987010700253,4954.771189399921,3841.009957328154,4723.126229647229,3070.8987010700253,4121.887446545337,5046.827868472032,4384.845258618256,3841.009957328154,3070.8987010700253,4206.458287027927,3841.009957328154,3070.8987010700253,4005.9150305658145,3841.009957328154,4276.457684983897,3070.8987010700253,3841.009957328154,4121.887446545337,3070.8987010700253,4121.887446545337,3841.009957328154,3070.8987010700253,3841.009957328154,4334.884684584816,3070.8987010700253,4121.887446545337,3841.009957328154,3070.8987010700253,4206.458287027927,3841.009957328154,3070.8987010700253,4005.9150305658145,3070.8987010700253,4121.887446545337,3841.009957328154,4276.457684983897,3070.8987010700253,3841.009957328154,4121.887446545337,5073.937110848369,3070.8987010700253,3841.009957328154,3841.009957328154,3070.8987010700253,4464.551264729626,4817.208164649399,4121.887446545337,4334.884684584816,3841.009957328154,3070.8987010700253,4206.458287027927,3841.009957328154,4844.646786813006,3070.8987010700253,4005.9150305658145,4978.820520604018,3070.8987010700253,4121.887446545337,3841.009957328154,3070.8987010700253,4923.542907063325,3841.009957328154,4206.458287027927,3070.8987010700253,4005.9150305658145,4334.884684584816,3841.009957328154,3070.8987010700253,4121.887446545337,3841.009957328154,3070.8987010700253,4276.457684983897,5142.519701979853,3841.009957328154,4121.887446545337,3070.8987010700253,3841.009957328154,5006.560109271813,3070.8987010700253,4121.887446545337,3841.009957328154,3070.8987010700253,5127.327385587506,4555.016986871412,4276.457684983897,3841.009957328154,4121.887446545337,3070.8987010700253,3841.009957328154,4384.845258618256,3070.8987010700253,4121.887446545337,3841.009957328154,3070.8987010700253,3841.009957328154,4206.458287027927,4005.9150305658145,3070.8987010700253,3841.009957328154,3070.8987010700253,4121.887446545337,3841.009957328154,4276.457684983897,3070.8987010700253,4005.9150305658145,3070.8987010700253,3841.009957328154,4121.887446545337,3070.8987010700253,3841.009957328154,4206.458287027927,3070.8987010700253,3841.009957328154,4121.887446545337,4384.845258618256,3070.8987010700253,3841.009957328154,4276.457684983897,3841.009957328154,3070.8987010700253,4121.887446545337,3841.009957328154,3070.8987010700253,4005.9150305658145,3070.8987010700253,4276.457684983897,3841.009957328154,4121.887446545337,3070.8987010700253,3841.009957328154,3070.8987010700253,4121.887446545337,3841.009957328154,3070.8987010700253,5064.739351253655,3841.009957328154,4464.551264729626,4206.458287027927,3070.8987010700253,4005.9150305658145,3841.009957328154,3070.8987010700253,4334.884684584816,4121.887446545337,3841.009957328154,5095.414951314923,4870.27708156853,3070.8987010700253,4121.887446545337,3841.009957328154,4276.457684983897,3070.8987010700253,3841.009957328154,3070.8987010700253,5115.717957022782,4121.887446545337,3841.009957328154,3070.8987010700253,4121.887446545337,3841.009957328154,3070.8987010700253,4276.457684983897,3841.009957328154,3070.8987010700253,4384.845258618256,4796.7703176196055,4966.944556356028,4121.887446545337,3841.009957328154,3070.8987010700253,4005.9150305658145,3841.009957328154,3070.8987010700253,4206.458287027927,3841.009957328154,3070.8987010700253,4121.887446545337,3841.009957328154,3070.8987010700253,4276.457684983897,4005.9150305658145,3070.8987010700253,3841.009957328154,4121.887446545337,3070.8987010700253,3841.009957328154,4276.457684983897,3070.8987010700253,4121.887446545337,4893.97251570672,3841.009957328154,3070.8987010700253,3841.009957328154,4121.887446545337,3070.8987010700253,4428.045308086619,3841.009957328154,4206.458287027927,3841.009957328154,3070.8987010700253,4005.9150305658145,3070.8987010700253,4334.884684584816,4121.887446545337,3841.009957328154,3070.8987010700253,3841.009957328154,4206.458287027927,3070.8987010700253,4005.9150305658145,3841.009957328154,3070.8987010700253,4121.887446545337,3841.009957328154,4276.457684983897,3070.8987010700253,3841.009957328154,3070.8987010700253,4121.887446545337,3841.009957328154,3070.8987010700253,4121.887446545337,3841.009957328154,4384.845258618256,3070.8987010700253,3841.009957328154,4276.457684983897,3070.8987010700253,4121.887446545337,3841.009957328154,3070.8987010700253,4121.887446545337,4935.916210924576,3841.009957328154,3070.8987010700253,4660.48534988204,5168.263875443831,4276.457684983897,3841.009957328154,4121.887446545337,3841.009957328154,3070.8987010700253,3070.8987010700253,4005.9150305658145,3841.009957328154,4528.5810284713225,4206.458287027927,3070.8987010700253,3841.009957328154,3070.8987010700253,4121.887446545337,3841.009957328154,3070.8987010700253,4334.884684584816,4121.887446545337,3841.009957328154,4996.091784624338,3070.8987010700253,4005.9150305658145,4276.457684983897,3070.8987010700253,5042.090631175219,3841.009957328154,4121.887446545337,3070.8987010700253,3841.009957328154,3070.8987010700253,4121.887446545337,3841.009957328154,4276.457684983897,3070.8987010700253,3841.009957328154,4384.845258618256,4121.887446545337,3070.8987010700253,3841.009957328154,4709.442632738852,3841.009957328154,3070.8987010700253,4206.458287027927,3841.009957328154,3070.8987010700253,4121.887446545337,4762.8956379763695,4005.9150305658145,3070.8987010700253,3841.009957328154,4276.457684983897,3070.8987010700253,4005.9150305658145,3841.009957328154,3070.8987010700253,4121.887446545337,5016.75113924875,3841.009957328154,3070.8987010700253,4206.458287027927,3841.009957328154,3070.8987010700253,4384.845258618256,4121.887446545337,3841.009957328154,5142.519701979853,3070.8987010700253,3841.009957328154,4121.887446545337,3070.8987010700253,4276.457684983897,3841.009957328154,3070.8987010700253,4121.887446545337,3841.009957328154,4464.551264729626,3070.8987010700253,4005.9150305658145,4276.457684983897,3841.009957328154,3070.8987010700253,4603.356006636722,4121.887446545337,3841.009957328154,3070.8987010700253,3841.009957328154,3070.8987010700253,4121.887446545337,4276.457684983897,3841.009957328154,3070.8987010700253,4121.887446545337,3841.009957328154,3070.8987010700253,3841.009957328154,3070.8987010700253,4121.887446545337,3841.009957328154,4826.124233021871,4276.457684983897,3070.8987010700253,4005.9150305658145,3070.8987010700253,4384.845258618256,3841.009957328154,4206.458287027927,3070.8987010700253,4005.9150305658145,3841.009957328154,3070.8987010700253,4121.887446545337,5157.778628209766,3841.009957328154,3070.8987010700253,4206.458287027927,3841.009957328154,3070.8987010700253,4870.27708156853,4121.887446545337,3841.009957328154,4334.884684584816,3070.8987010700253,4908.764163529728,3841.009957328154,4121.887446545337,3070.8987010700253,3841.009957328154,3070.8987010700253,4121.887446545337,3841.009957328154,3070.8987010700253,4206.458287027927,3841.009957328154,4276.457684983897,4005.9150305658145,3070.8987010700253,5111.746243620142,3841.009957328154,3070.8987010700253,5060.213573406844,4121.887446545337,3841.009957328154,3070.8987010700253,4384.845258618256,4005.9150305658145,3070.8987010700253,4276.457684983897,3841.009957328154,4121.887446545337,3070.8987010700253,3841.009957328154,3841.009957328154,3070.8987010700253,4121.887446545337,3841.009957328154,3070.8987010700253,4276.457684983897,5027.4053524579795,4121.887446545337,3841.009957328154,3070.8987010700253,3841.009957328154,4121.887446545337,3070.8987010700253,4464.551264729626,3841.009957328154,3070.8987010700253,4206.458287027927,3841.009957328154,3070.8987010700253,4121.887446545337,4334.884684584816,3841.009957328154,3070.8987010700253,4005.9150305658145,3070.8987010700253,3841.009957328154,4206.458287027927,3841.009957328154,3070.8987010700253,4121.887446545337,5086.64738728327,3841.009957328154,3070.8987010700253,4954.771189399921,4121.887446545337,4276.457684983897,3070.8987010700253,3841.009957328154,4005.9150305658145,4384.845258618256,3070.8987010700253,3841.009957328154,4121.887446545337,3070.8987010700253,3841.009957328154,5073.937110848369,3070.8987010700253,4206.458287027927,3841.009957328154,3070.8987010700253,4005.9150305658145,4276.457684983897,3841.009957328154,5099.409113912332,3070.8987010700253,4121.887446545337,3841.009957328154,3070.8987010700253,4121.887446545337,3841.009957328154,3070.8987010700253,4276.457684983897,3841.009957328154,3070.8987010700253,4121.887446545337,3841.009957328154,3070.8987010700253,4121.887446545337,3841.009957328154,4334.884684584816,3070.8987010700253,3841.009957328154,4121.887446545337,3070.8987010700253,3841.009957328154,3070.8987010700253,4276.457684983897,4005.9150305658145,3841.009957328154,3070.8987010700253,4121.887446545337,4428.045308086619,3841.009957328154,3070.8987010700253,4121.887446545337,3841.009957328154,3070.8987010700253,4736.6277143147345,4276.457684983897,3070.8987010700253,3841.009957328154,4844.646786813006,4121.887446545337,3841.009957328154,3070.8987010700253,4206.458287027927,5178.840227798743,3841.009957328154,4785.651199627076,3070.8987010700253,4005.9150305658145,3070.8987010700253,4978.820520604018,4121.887446545337,3841.009957328154,4334.884684584816,3070.8987010700253,5135.0441467166975,3841.009957328154,4206.458287027927,3841.009957328154,3070.8987010700253,4121.887446545337,3841.009957328154,3070.8987010700253,4528.5810284713225,4005.9150305658145,3070.8987010700253,4276.457684983897,3841.009957328154,4121.887446545337,3070.8987010700253,4384.845258618256,3841.009957328154,3070.8987010700253,4121.887446545337,3841.009957328154,3070.8987010700253,3841.009957328154,4121.887446545337,3070.8987010700253,4276.457684983897,3841.009957328154],\"type\":\"scatter\"},{\"name\":\"Best Value\",\"x\":[0,1,2,3,4,5,6,7,8,9,10,11,12,13,14,15,16,17,18,19,20,21,22,23,24,25,26,27,28,29,30,31,32,33,34,35,36,37,38,39,40,41,42,43,44,45,46,47,48,49,50,51,52,53,54,55,56,57,58,59,60,61,62,63,64,65,66,67,68,69,70,71,72,73,74,75,76,77,78,79,80,81,82,83,84,85,86,87,88,89,90,91,92,93,94,95,96,97,98,99,100,101,102,103,104,105,106,107,108,109,110,111,112,113,114,115,116,117,118,119,120,121,122,123,124,125,126,127,128,129,130,131,132,133,134,135,136,137,138,139,140,141,142,143,144,145,146,147,148,149,150,151,152,153,154,155,156,157,158,159,160,161,162,163,164,165,166,167,168,169,170,171,172,173,174,175,176,177,178,179,180,181,182,183,184,185,186,187,188,189,190,191,192,193,194,195,196,197,198,199,200,201,202,203,204,205,206,207,208,209,210,211,212,213,214,215,216,217,218,219,220,221,222,223,224,225,226,227,228,229,230,231,232,233,234,235,236,237,238,239,240,241,242,243,244,245,246,247,248,249,250,251,252,253,254,255,256,257,258,259,260,261,262,263,264,265,266,267,268,269,270,271,272,273,274,275,276,277,278,279,280,281,282,283,284,285,286,287,288,289,290,291,292,293,294,295,296,297,298,299,300,301,302,303,304,305,306,307,308,309,310,311,312,313,314,315,316,317,318,319,320,321,322,323,324,325,326,327,328,329,330,331,332,333,334,335,336,337,338,339,340,341,342,343,344,345,346,347,348,349,350,351,352,353,354,355,356,357,358,359,360,361,362,363,364,365,366,367,368,369,370,371,372,373,374,375,376,377,378,379,380,381,382,383,384,385,386,387,388,389,390,391,392,393,394,395,396,397,398,399,400,401,402,403,404,405,406,407,408,409,410,411,412,413,414,415,416,417,418,419,420,421,422,423,424,425,426,427,428,429,430,431,432,433,434,435,436,437,438,439,440,441,442,443,444,445,446,447,448,449,450,451,452,453,454,455,456,457,458,459,460,461,462,463,464,465,466,467,468,469,470,471,472,473,474,475,476,477,478,479,480,481,482,483,484,485,486,487,488,489,490,491,492,493,494,495,496,497,498,499,500,501,502,503,504,505,506,507,508,509,510,511,512,513,514,515,516,517,518,519,520,521,522,523,524,525,526,527,528,529,530,531,532,533,534,535,536,537,538,539,540,541,542,543,544,545,546,547,548,549,550,551,552,553,554,555,556,557,558,559,560,561,562,563,564,565,566,567,568,569,570,571,572,573,574,575,576,577,578,579,580,581,582,583,584,585,586,587,588,589,590,591,592,593,594,595,596,597,598,599,600,601,602,603,604,605,606,607,608,609,610,611,612,613,614,615,616,617,618,619,620,621,622,623,624,625,626,627,628,629,630,631,632,633,634,635,636,637,638,639,640,641,642,643,644,645,646,647,648,649,650,651,652,653,654,655,656,657,658,659,660,661,662,663,664,665,666,667,668,669,670,671,672,673,674,675,676,677,678,679,680,681,682,683,684,685,686,687,688,689,690,691,692,693,694,695,696,697,698,699,700,701,702,703,704,705,706,707,708,709,710,711,712,713,714,715,716,717,718,719,720,721,722,723,724,725,726,727,728,729,730,731,732,733,734,735,736,737,738,739,740,741,742,743,744,745,746,747,748,749,750,751,752,753,754,755,756,757,758,759,760,761,762,763,764,765,766,767,768,769,770,771,772,773,774,775,776,777,778,779,780,781,782,783,784,785,786,787,788,789,790,791,792,793,794,795,796,797,798,799,800,801,802,803,804,805,806,807,808,809,810,811,812,813,814,815,816,817,818,819,820,821,822,823,824,825,826,827,828,829,830,831,832,833,834,835,836,837,838,839,840,841,842,843,844,845,846,847,848,849,850,851,852,853,854,855,856,857,858,859,860,861,862,863,864,865,866,867,868,869,870,871,872,873,874,875,876,877,878,879,880,881,882,883,884,885,886,887,888,889,890,891,892,893,894,895,896,897,898,899,900,901,902,903,904,905,906,907,908,909,910,911,912,913,914,915,916,917,918,919,920,921,922,923,924,925,926,927,928,929,930,931,932,933,934,935,936,937,938,939,940,941,942,943,944,945,946,947,948,949,950,951,952,953,954,955,956,957,958,959,960,961,962,963,964,965,966,967,968,969,970,971,972,973,974,975,976,977,978,979,980,981,982,983,984,985,986,987,988,989,990,991,992,993,994,995,996,997,998,999],\"y\":[4886.360554442493,4886.360554442493,4886.360554442493,4886.360554442493,4774.027433856023,4774.027433856023,4121.887446545337,4121.887446545337,4121.887446545337,4121.887446545337,3070.8987010700253,3070.8987010700253,3070.8987010700253,3070.8987010700253,3070.8987010700253,3070.8987010700253,3070.8987010700253,3070.8987010700253,3070.8987010700253,3070.8987010700253,3070.8987010700253,3070.8987010700253,3070.8987010700253,3070.8987010700253,3070.8987010700253,3070.8987010700253,3070.8987010700253,3070.8987010700253,3070.8987010700253,3070.8987010700253,3070.8987010700253,3070.8987010700253,3070.8987010700253,3070.8987010700253,3070.8987010700253,3070.8987010700253,3070.8987010700253,3070.8987010700253,3070.8987010700253,3070.8987010700253,3070.8987010700253,3070.8987010700253,3070.8987010700253,3070.8987010700253,3070.8987010700253,3070.8987010700253,3070.8987010700253,3070.8987010700253,3070.8987010700253,3070.8987010700253,3070.8987010700253,3070.8987010700253,3070.8987010700253,3070.8987010700253,3070.8987010700253,3070.8987010700253,3070.8987010700253,3070.8987010700253,3070.8987010700253,3070.8987010700253,3070.8987010700253,3070.8987010700253,3070.8987010700253,3070.8987010700253,3070.8987010700253,3070.8987010700253,3070.8987010700253,3070.8987010700253,3070.8987010700253,3070.8987010700253,3070.8987010700253,3070.8987010700253,3070.8987010700253,3070.8987010700253,3070.8987010700253,3070.8987010700253,3070.8987010700253,3070.8987010700253,3070.8987010700253,3070.8987010700253,3070.8987010700253,3070.8987010700253,3070.8987010700253,3070.8987010700253,3070.8987010700253,3070.8987010700253,3070.8987010700253,3070.8987010700253,3070.8987010700253,3070.8987010700253,3070.8987010700253,3070.8987010700253,3070.8987010700253,3070.8987010700253,3070.8987010700253,3070.8987010700253,3070.8987010700253,3070.8987010700253,3070.8987010700253,3070.8987010700253,3070.8987010700253,3070.8987010700253,3070.8987010700253,3070.8987010700253,3070.8987010700253,3070.8987010700253,3070.8987010700253,3070.8987010700253,3070.8987010700253,3070.8987010700253,3070.8987010700253,3070.8987010700253,3070.8987010700253,3070.8987010700253,3070.8987010700253,3070.8987010700253,3070.8987010700253,3070.8987010700253,3070.8987010700253,3070.8987010700253,3070.8987010700253,3070.8987010700253,3070.8987010700253,3070.8987010700253,3070.8987010700253,3070.8987010700253,3070.8987010700253,3070.8987010700253,3070.8987010700253,3070.8987010700253,3070.8987010700253,3070.8987010700253,3070.8987010700253,3070.8987010700253,3070.8987010700253,3070.8987010700253,3070.8987010700253,3070.8987010700253,3070.8987010700253,3070.8987010700253,3070.8987010700253,3070.8987010700253,3070.8987010700253,3070.8987010700253,3070.8987010700253,3070.8987010700253,3070.8987010700253,3070.8987010700253,3070.8987010700253,3070.8987010700253,3070.8987010700253,3070.8987010700253,3070.8987010700253,3070.8987010700253,3070.8987010700253,3070.8987010700253,3070.8987010700253,3070.8987010700253,3070.8987010700253,3070.8987010700253,3070.8987010700253,3070.8987010700253,3070.8987010700253,3070.8987010700253,3070.8987010700253,3070.8987010700253,3070.8987010700253,3070.8987010700253,3070.8987010700253,3070.8987010700253,3070.8987010700253,3070.8987010700253,3070.8987010700253,3070.8987010700253,3070.8987010700253,3070.8987010700253,3070.8987010700253,3070.8987010700253,3070.8987010700253,3070.8987010700253,3070.8987010700253,3070.8987010700253,3070.8987010700253,3070.8987010700253,3070.8987010700253,3070.8987010700253,3070.8987010700253,3070.8987010700253,3070.8987010700253,3070.8987010700253,3070.8987010700253,3070.8987010700253,3070.8987010700253,3070.8987010700253,3070.8987010700253,3070.8987010700253,3070.8987010700253,3070.8987010700253,3070.8987010700253,3070.8987010700253,3070.8987010700253,3070.8987010700253,3070.8987010700253,3070.8987010700253,3070.8987010700253,3070.8987010700253,3070.8987010700253,3070.8987010700253,3070.8987010700253,3070.8987010700253,3070.8987010700253,3070.8987010700253,3070.8987010700253,3070.8987010700253,3070.8987010700253,3070.8987010700253,3070.8987010700253,3070.8987010700253,3070.8987010700253,3070.8987010700253,3070.8987010700253,3070.8987010700253,3070.8987010700253,3070.8987010700253,3070.8987010700253,3070.8987010700253,3070.8987010700253,3070.8987010700253,3070.8987010700253,3070.8987010700253,3070.8987010700253,3070.8987010700253,3070.8987010700253,3070.8987010700253,3070.8987010700253,3070.8987010700253,3070.8987010700253,3070.8987010700253,3070.8987010700253,3070.8987010700253,3070.8987010700253,3070.8987010700253,3070.8987010700253,3070.8987010700253,3070.8987010700253,3070.8987010700253,3070.8987010700253,3070.8987010700253,3070.8987010700253,3070.8987010700253,3070.8987010700253,3070.8987010700253,3070.8987010700253,3070.8987010700253,3070.8987010700253,3070.8987010700253,3070.8987010700253,3070.8987010700253,3070.8987010700253,3070.8987010700253,3070.8987010700253,3070.8987010700253,3070.8987010700253,3070.8987010700253,3070.8987010700253,3070.8987010700253,3070.8987010700253,3070.8987010700253,3070.8987010700253,3070.8987010700253,3070.8987010700253,3070.8987010700253,3070.8987010700253,3070.8987010700253,3070.8987010700253,3070.8987010700253,3070.8987010700253,3070.8987010700253,3070.8987010700253,3070.8987010700253,3070.8987010700253,3070.8987010700253,3070.8987010700253,3070.8987010700253,3070.8987010700253,3070.8987010700253,3070.8987010700253,3070.8987010700253,3070.8987010700253,3070.8987010700253,3070.8987010700253,3070.8987010700253,3070.8987010700253,3070.8987010700253,3070.8987010700253,3070.8987010700253,3070.8987010700253,3070.8987010700253,3070.8987010700253,3070.8987010700253,3070.8987010700253,3070.8987010700253,3070.8987010700253,3070.8987010700253,3070.8987010700253,3070.8987010700253,3070.8987010700253,3070.8987010700253,3070.8987010700253,3070.8987010700253,3070.8987010700253,3070.8987010700253,3070.8987010700253,3070.8987010700253,3070.8987010700253,3070.8987010700253,3070.8987010700253,3070.8987010700253,3070.8987010700253,3070.8987010700253,3070.8987010700253,3070.8987010700253,3070.8987010700253,3070.8987010700253,3070.8987010700253,3070.8987010700253,3070.8987010700253,3070.8987010700253,3070.8987010700253,3070.8987010700253,3070.8987010700253,3070.8987010700253,3070.8987010700253,3070.8987010700253,3070.8987010700253,3070.8987010700253,3070.8987010700253,3070.8987010700253,3070.8987010700253,3070.8987010700253,3070.8987010700253,3070.8987010700253,3070.8987010700253,3070.8987010700253,3070.8987010700253,3070.8987010700253,3070.8987010700253,3070.8987010700253,3070.8987010700253,3070.8987010700253,3070.8987010700253,3070.8987010700253,3070.8987010700253,3070.8987010700253,3070.8987010700253,3070.8987010700253,3070.8987010700253,3070.8987010700253,3070.8987010700253,3070.8987010700253,3070.8987010700253,3070.8987010700253,3070.8987010700253,3070.8987010700253,3070.8987010700253,3070.8987010700253,3070.8987010700253,3070.8987010700253,3070.8987010700253,3070.8987010700253,3070.8987010700253,3070.8987010700253,3070.8987010700253,3070.8987010700253,3070.8987010700253,3070.8987010700253,3070.8987010700253,3070.8987010700253,3070.8987010700253,3070.8987010700253,3070.8987010700253,3070.8987010700253,3070.8987010700253,3070.8987010700253,3070.8987010700253,3070.8987010700253,3070.8987010700253,3070.8987010700253,3070.8987010700253,3070.8987010700253,3070.8987010700253,3070.8987010700253,3070.8987010700253,3070.8987010700253,3070.8987010700253,3070.8987010700253,3070.8987010700253,3070.8987010700253,3070.8987010700253,3070.8987010700253,3070.8987010700253,3070.8987010700253,3070.8987010700253,3070.8987010700253,3070.8987010700253,3070.8987010700253,3070.8987010700253,3070.8987010700253,3070.8987010700253,3070.8987010700253,3070.8987010700253,3070.8987010700253,3070.8987010700253,3070.8987010700253,3070.8987010700253,3070.8987010700253,3070.8987010700253,3070.8987010700253,3070.8987010700253,3070.8987010700253,3070.8987010700253,3070.8987010700253,3070.8987010700253,3070.8987010700253,3070.8987010700253,3070.8987010700253,3070.8987010700253,3070.8987010700253,3070.8987010700253,3070.8987010700253,3070.8987010700253,3070.8987010700253,3070.8987010700253,3070.8987010700253,3070.8987010700253,3070.8987010700253,3070.8987010700253,3070.8987010700253,3070.8987010700253,3070.8987010700253,3070.8987010700253,3070.8987010700253,3070.8987010700253,3070.8987010700253,3070.8987010700253,3070.8987010700253,3070.8987010700253,3070.8987010700253,3070.8987010700253,3070.8987010700253,3070.8987010700253,3070.8987010700253,3070.8987010700253,3070.8987010700253,3070.8987010700253,3070.8987010700253,3070.8987010700253,3070.8987010700253,3070.8987010700253,3070.8987010700253,3070.8987010700253,3070.8987010700253,3070.8987010700253,3070.8987010700253,3070.8987010700253,3070.8987010700253,3070.8987010700253,3070.8987010700253,3070.8987010700253,3070.8987010700253,3070.8987010700253,3070.8987010700253,3070.8987010700253,3070.8987010700253,3070.8987010700253,3070.8987010700253,3070.8987010700253,3070.8987010700253,3070.8987010700253,3070.8987010700253,3070.8987010700253,3070.8987010700253,3070.8987010700253,3070.8987010700253,3070.8987010700253,3070.8987010700253,3070.8987010700253,3070.8987010700253,3070.8987010700253,3070.8987010700253,3070.8987010700253,3070.8987010700253,3070.8987010700253,3070.8987010700253,3070.8987010700253,3070.8987010700253,3070.8987010700253,3070.8987010700253,3070.8987010700253,3070.8987010700253,3070.8987010700253,3070.8987010700253,3070.8987010700253,3070.8987010700253,3070.8987010700253,3070.8987010700253,3070.8987010700253,3070.8987010700253,3070.8987010700253,3070.8987010700253,3070.8987010700253,3070.8987010700253,3070.8987010700253,3070.8987010700253,3070.8987010700253,3070.8987010700253,3070.8987010700253,3070.8987010700253,3070.8987010700253,3070.8987010700253,3070.8987010700253,3070.8987010700253,3070.8987010700253,3070.8987010700253,3070.8987010700253,3070.8987010700253,3070.8987010700253,3070.8987010700253,3070.8987010700253,3070.8987010700253,3070.8987010700253,3070.8987010700253,3070.8987010700253,3070.8987010700253,3070.8987010700253,3070.8987010700253,3070.8987010700253,3070.8987010700253,3070.8987010700253,3070.8987010700253,3070.8987010700253,3070.8987010700253,3070.8987010700253,3070.8987010700253,3070.8987010700253,3070.8987010700253,3070.8987010700253,3070.8987010700253,3070.8987010700253,3070.8987010700253,3070.8987010700253,3070.8987010700253,3070.8987010700253,3070.8987010700253,3070.8987010700253,3070.8987010700253,3070.8987010700253,3070.8987010700253,3070.8987010700253,3070.8987010700253,3070.8987010700253,3070.8987010700253,3070.8987010700253,3070.8987010700253,3070.8987010700253,3070.8987010700253,3070.8987010700253,3070.8987010700253,3070.8987010700253,3070.8987010700253,3070.8987010700253,3070.8987010700253,3070.8987010700253,3070.8987010700253,3070.8987010700253,3070.8987010700253,3070.8987010700253,3070.8987010700253,3070.8987010700253,3070.8987010700253,3070.8987010700253,3070.8987010700253,3070.8987010700253,3070.8987010700253,3070.8987010700253,3070.8987010700253,3070.8987010700253,3070.8987010700253,3070.8987010700253,3070.8987010700253,3070.8987010700253,3070.8987010700253,3070.8987010700253,3070.8987010700253,3070.8987010700253,3070.8987010700253,3070.8987010700253,3070.8987010700253,3070.8987010700253,3070.8987010700253,3070.8987010700253,3070.8987010700253,3070.8987010700253,3070.8987010700253,3070.8987010700253,3070.8987010700253,3070.8987010700253,3070.8987010700253,3070.8987010700253,3070.8987010700253,3070.8987010700253,3070.8987010700253,3070.8987010700253,3070.8987010700253,3070.8987010700253,3070.8987010700253,3070.8987010700253,3070.8987010700253,3070.8987010700253,3070.8987010700253,3070.8987010700253,3070.8987010700253,3070.8987010700253,3070.8987010700253,3070.8987010700253,3070.8987010700253,3070.8987010700253,3070.8987010700253,3070.8987010700253,3070.8987010700253,3070.8987010700253,3070.8987010700253,3070.8987010700253,3070.8987010700253,3070.8987010700253,3070.8987010700253,3070.8987010700253,3070.8987010700253,3070.8987010700253,3070.8987010700253,3070.8987010700253,3070.8987010700253,3070.8987010700253,3070.8987010700253,3070.8987010700253,3070.8987010700253,3070.8987010700253,3070.8987010700253,3070.8987010700253,3070.8987010700253,3070.8987010700253,3070.8987010700253,3070.8987010700253,3070.8987010700253,3070.8987010700253,3070.8987010700253,3070.8987010700253,3070.8987010700253,3070.8987010700253,3070.8987010700253,3070.8987010700253,3070.8987010700253,3070.8987010700253,3070.8987010700253,3070.8987010700253,3070.8987010700253,3070.8987010700253,3070.8987010700253,3070.8987010700253,3070.8987010700253,3070.8987010700253,3070.8987010700253,3070.8987010700253,3070.8987010700253,3070.8987010700253,3070.8987010700253,3070.8987010700253,3070.8987010700253,3070.8987010700253,3070.8987010700253,3070.8987010700253,3070.8987010700253,3070.8987010700253,3070.8987010700253,3070.8987010700253,3070.8987010700253,3070.8987010700253,3070.8987010700253,3070.8987010700253,3070.8987010700253,3070.8987010700253,3070.8987010700253,3070.8987010700253,3070.8987010700253,3070.8987010700253,3070.8987010700253,3070.8987010700253,3070.8987010700253,3070.8987010700253,3070.8987010700253,3070.8987010700253,3070.8987010700253,3070.8987010700253,3070.8987010700253,3070.8987010700253,3070.8987010700253,3070.8987010700253,3070.8987010700253,3070.8987010700253,3070.8987010700253,3070.8987010700253,3070.8987010700253,3070.8987010700253,3070.8987010700253,3070.8987010700253,3070.8987010700253,3070.8987010700253,3070.8987010700253,3070.8987010700253,3070.8987010700253,3070.8987010700253,3070.8987010700253,3070.8987010700253,3070.8987010700253,3070.8987010700253,3070.8987010700253,3070.8987010700253,3070.8987010700253,3070.8987010700253,3070.8987010700253,3070.8987010700253,3070.8987010700253,3070.8987010700253,3070.8987010700253,3070.8987010700253,3070.8987010700253,3070.8987010700253,3070.8987010700253,3070.8987010700253,3070.8987010700253,3070.8987010700253,3070.8987010700253,3070.8987010700253,3070.8987010700253,3070.8987010700253,3070.8987010700253,3070.8987010700253,3070.8987010700253,3070.8987010700253,3070.8987010700253,3070.8987010700253,3070.8987010700253,3070.8987010700253,3070.8987010700253,3070.8987010700253,3070.8987010700253,3070.8987010700253,3070.8987010700253,3070.8987010700253,3070.8987010700253,3070.8987010700253,3070.8987010700253,3070.8987010700253,3070.8987010700253,3070.8987010700253,3070.8987010700253,3070.8987010700253,3070.8987010700253,3070.8987010700253,3070.8987010700253,3070.8987010700253,3070.8987010700253,3070.8987010700253,3070.8987010700253,3070.8987010700253,3070.8987010700253,3070.8987010700253,3070.8987010700253,3070.8987010700253,3070.8987010700253,3070.8987010700253,3070.8987010700253,3070.8987010700253,3070.8987010700253,3070.8987010700253,3070.8987010700253,3070.8987010700253,3070.8987010700253,3070.8987010700253,3070.8987010700253,3070.8987010700253,3070.8987010700253,3070.8987010700253,3070.8987010700253,3070.8987010700253,3070.8987010700253,3070.8987010700253,3070.8987010700253,3070.8987010700253,3070.8987010700253,3070.8987010700253,3070.8987010700253,3070.8987010700253,3070.8987010700253,3070.8987010700253,3070.8987010700253,3070.8987010700253,3070.8987010700253,3070.8987010700253,3070.8987010700253,3070.8987010700253,3070.8987010700253,3070.8987010700253,3070.8987010700253,3070.8987010700253,3070.8987010700253,3070.8987010700253,3070.8987010700253,3070.8987010700253,3070.8987010700253,3070.8987010700253,3070.8987010700253,3070.8987010700253,3070.8987010700253,3070.8987010700253,3070.8987010700253,3070.8987010700253,3070.8987010700253,3070.8987010700253,3070.8987010700253,3070.8987010700253,3070.8987010700253,3070.8987010700253,3070.8987010700253,3070.8987010700253,3070.8987010700253,3070.8987010700253,3070.8987010700253,3070.8987010700253,3070.8987010700253,3070.8987010700253,3070.8987010700253,3070.8987010700253,3070.8987010700253,3070.8987010700253,3070.8987010700253,3070.8987010700253,3070.8987010700253,3070.8987010700253,3070.8987010700253,3070.8987010700253,3070.8987010700253,3070.8987010700253,3070.8987010700253,3070.8987010700253,3070.8987010700253,3070.8987010700253,3070.8987010700253,3070.8987010700253,3070.8987010700253,3070.8987010700253,3070.8987010700253,3070.8987010700253,3070.8987010700253,3070.8987010700253,3070.8987010700253,3070.8987010700253,3070.8987010700253,3070.8987010700253,3070.8987010700253,3070.8987010700253,3070.8987010700253,3070.8987010700253,3070.8987010700253,3070.8987010700253,3070.8987010700253,3070.8987010700253,3070.8987010700253,3070.8987010700253,3070.8987010700253,3070.8987010700253,3070.8987010700253,3070.8987010700253,3070.8987010700253,3070.8987010700253,3070.8987010700253,3070.8987010700253,3070.8987010700253,3070.8987010700253,3070.8987010700253,3070.8987010700253,3070.8987010700253,3070.8987010700253,3070.8987010700253,3070.8987010700253,3070.8987010700253,3070.8987010700253,3070.8987010700253,3070.8987010700253,3070.8987010700253,3070.8987010700253,3070.8987010700253,3070.8987010700253,3070.8987010700253,3070.8987010700253,3070.8987010700253,3070.8987010700253,3070.8987010700253,3070.8987010700253,3070.8987010700253,3070.8987010700253,3070.8987010700253,3070.8987010700253,3070.8987010700253,3070.8987010700253,3070.8987010700253,3070.8987010700253,3070.8987010700253,3070.8987010700253,3070.8987010700253,3070.8987010700253,3070.8987010700253,3070.8987010700253,3070.8987010700253,3070.8987010700253,3070.8987010700253,3070.8987010700253,3070.8987010700253,3070.8987010700253,3070.8987010700253,3070.8987010700253,3070.8987010700253,3070.8987010700253,3070.8987010700253,3070.8987010700253,3070.8987010700253,3070.8987010700253,3070.8987010700253,3070.8987010700253,3070.8987010700253,3070.8987010700253,3070.8987010700253,3070.8987010700253,3070.8987010700253,3070.8987010700253,3070.8987010700253,3070.8987010700253,3070.8987010700253,3070.8987010700253,3070.8987010700253,3070.8987010700253,3070.8987010700253,3070.8987010700253,3070.8987010700253,3070.8987010700253,3070.8987010700253,3070.8987010700253,3070.8987010700253,3070.8987010700253,3070.8987010700253,3070.8987010700253,3070.8987010700253,3070.8987010700253,3070.8987010700253,3070.8987010700253,3070.8987010700253,3070.8987010700253,3070.8987010700253,3070.8987010700253,3070.8987010700253,3070.8987010700253,3070.8987010700253,3070.8987010700253,3070.8987010700253,3070.8987010700253,3070.8987010700253,3070.8987010700253,3070.8987010700253,3070.8987010700253,3070.8987010700253,3070.8987010700253,3070.8987010700253,3070.8987010700253,3070.8987010700253,3070.8987010700253,3070.8987010700253,3070.8987010700253,3070.8987010700253,3070.8987010700253,3070.8987010700253,3070.8987010700253,3070.8987010700253,3070.8987010700253,3070.8987010700253,3070.8987010700253,3070.8987010700253,3070.8987010700253,3070.8987010700253,3070.8987010700253,3070.8987010700253],\"type\":\"scatter\"}],                        {\"title\":{\"text\":\"Optimization History Plot\"},\"xaxis\":{\"title\":{\"text\":\"Trial\"}},\"yaxis\":{\"title\":{\"text\":\"Objective Value\"}},\"template\":{\"data\":{\"bar\":[{\"error_x\":{\"color\":\"#2a3f5f\"},\"error_y\":{\"color\":\"#2a3f5f\"},\"marker\":{\"line\":{\"color\":\"#E5ECF6\",\"width\":0.5},\"pattern\":{\"fillmode\":\"overlay\",\"size\":10,\"solidity\":0.2}},\"type\":\"bar\"}],\"barpolar\":[{\"marker\":{\"line\":{\"color\":\"#E5ECF6\",\"width\":0.5},\"pattern\":{\"fillmode\":\"overlay\",\"size\":10,\"solidity\":0.2}},\"type\":\"barpolar\"}],\"carpet\":[{\"aaxis\":{\"endlinecolor\":\"#2a3f5f\",\"gridcolor\":\"white\",\"linecolor\":\"white\",\"minorgridcolor\":\"white\",\"startlinecolor\":\"#2a3f5f\"},\"baxis\":{\"endlinecolor\":\"#2a3f5f\",\"gridcolor\":\"white\",\"linecolor\":\"white\",\"minorgridcolor\":\"white\",\"startlinecolor\":\"#2a3f5f\"},\"type\":\"carpet\"}],\"choropleth\":[{\"colorbar\":{\"outlinewidth\":0,\"ticks\":\"\"},\"type\":\"choropleth\"}],\"contour\":[{\"colorbar\":{\"outlinewidth\":0,\"ticks\":\"\"},\"colorscale\":[[0.0,\"#0d0887\"],[0.1111111111111111,\"#46039f\"],[0.2222222222222222,\"#7201a8\"],[0.3333333333333333,\"#9c179e\"],[0.4444444444444444,\"#bd3786\"],[0.5555555555555556,\"#d8576b\"],[0.6666666666666666,\"#ed7953\"],[0.7777777777777778,\"#fb9f3a\"],[0.8888888888888888,\"#fdca26\"],[1.0,\"#f0f921\"]],\"type\":\"contour\"}],\"contourcarpet\":[{\"colorbar\":{\"outlinewidth\":0,\"ticks\":\"\"},\"type\":\"contourcarpet\"}],\"heatmap\":[{\"colorbar\":{\"outlinewidth\":0,\"ticks\":\"\"},\"colorscale\":[[0.0,\"#0d0887\"],[0.1111111111111111,\"#46039f\"],[0.2222222222222222,\"#7201a8\"],[0.3333333333333333,\"#9c179e\"],[0.4444444444444444,\"#bd3786\"],[0.5555555555555556,\"#d8576b\"],[0.6666666666666666,\"#ed7953\"],[0.7777777777777778,\"#fb9f3a\"],[0.8888888888888888,\"#fdca26\"],[1.0,\"#f0f921\"]],\"type\":\"heatmap\"}],\"heatmapgl\":[{\"colorbar\":{\"outlinewidth\":0,\"ticks\":\"\"},\"colorscale\":[[0.0,\"#0d0887\"],[0.1111111111111111,\"#46039f\"],[0.2222222222222222,\"#7201a8\"],[0.3333333333333333,\"#9c179e\"],[0.4444444444444444,\"#bd3786\"],[0.5555555555555556,\"#d8576b\"],[0.6666666666666666,\"#ed7953\"],[0.7777777777777778,\"#fb9f3a\"],[0.8888888888888888,\"#fdca26\"],[1.0,\"#f0f921\"]],\"type\":\"heatmapgl\"}],\"histogram\":[{\"marker\":{\"pattern\":{\"fillmode\":\"overlay\",\"size\":10,\"solidity\":0.2}},\"type\":\"histogram\"}],\"histogram2d\":[{\"colorbar\":{\"outlinewidth\":0,\"ticks\":\"\"},\"colorscale\":[[0.0,\"#0d0887\"],[0.1111111111111111,\"#46039f\"],[0.2222222222222222,\"#7201a8\"],[0.3333333333333333,\"#9c179e\"],[0.4444444444444444,\"#bd3786\"],[0.5555555555555556,\"#d8576b\"],[0.6666666666666666,\"#ed7953\"],[0.7777777777777778,\"#fb9f3a\"],[0.8888888888888888,\"#fdca26\"],[1.0,\"#f0f921\"]],\"type\":\"histogram2d\"}],\"histogram2dcontour\":[{\"colorbar\":{\"outlinewidth\":0,\"ticks\":\"\"},\"colorscale\":[[0.0,\"#0d0887\"],[0.1111111111111111,\"#46039f\"],[0.2222222222222222,\"#7201a8\"],[0.3333333333333333,\"#9c179e\"],[0.4444444444444444,\"#bd3786\"],[0.5555555555555556,\"#d8576b\"],[0.6666666666666666,\"#ed7953\"],[0.7777777777777778,\"#fb9f3a\"],[0.8888888888888888,\"#fdca26\"],[1.0,\"#f0f921\"]],\"type\":\"histogram2dcontour\"}],\"mesh3d\":[{\"colorbar\":{\"outlinewidth\":0,\"ticks\":\"\"},\"type\":\"mesh3d\"}],\"parcoords\":[{\"line\":{\"colorbar\":{\"outlinewidth\":0,\"ticks\":\"\"}},\"type\":\"parcoords\"}],\"pie\":[{\"automargin\":true,\"type\":\"pie\"}],\"scatter\":[{\"marker\":{\"colorbar\":{\"outlinewidth\":0,\"ticks\":\"\"}},\"type\":\"scatter\"}],\"scatter3d\":[{\"line\":{\"colorbar\":{\"outlinewidth\":0,\"ticks\":\"\"}},\"marker\":{\"colorbar\":{\"outlinewidth\":0,\"ticks\":\"\"}},\"type\":\"scatter3d\"}],\"scattercarpet\":[{\"marker\":{\"colorbar\":{\"outlinewidth\":0,\"ticks\":\"\"}},\"type\":\"scattercarpet\"}],\"scattergeo\":[{\"marker\":{\"colorbar\":{\"outlinewidth\":0,\"ticks\":\"\"}},\"type\":\"scattergeo\"}],\"scattergl\":[{\"marker\":{\"colorbar\":{\"outlinewidth\":0,\"ticks\":\"\"}},\"type\":\"scattergl\"}],\"scattermapbox\":[{\"marker\":{\"colorbar\":{\"outlinewidth\":0,\"ticks\":\"\"}},\"type\":\"scattermapbox\"}],\"scatterpolar\":[{\"marker\":{\"colorbar\":{\"outlinewidth\":0,\"ticks\":\"\"}},\"type\":\"scatterpolar\"}],\"scatterpolargl\":[{\"marker\":{\"colorbar\":{\"outlinewidth\":0,\"ticks\":\"\"}},\"type\":\"scatterpolargl\"}],\"scatterternary\":[{\"marker\":{\"colorbar\":{\"outlinewidth\":0,\"ticks\":\"\"}},\"type\":\"scatterternary\"}],\"surface\":[{\"colorbar\":{\"outlinewidth\":0,\"ticks\":\"\"},\"colorscale\":[[0.0,\"#0d0887\"],[0.1111111111111111,\"#46039f\"],[0.2222222222222222,\"#7201a8\"],[0.3333333333333333,\"#9c179e\"],[0.4444444444444444,\"#bd3786\"],[0.5555555555555556,\"#d8576b\"],[0.6666666666666666,\"#ed7953\"],[0.7777777777777778,\"#fb9f3a\"],[0.8888888888888888,\"#fdca26\"],[1.0,\"#f0f921\"]],\"type\":\"surface\"}],\"table\":[{\"cells\":{\"fill\":{\"color\":\"#EBF0F8\"},\"line\":{\"color\":\"white\"}},\"header\":{\"fill\":{\"color\":\"#C8D4E3\"},\"line\":{\"color\":\"white\"}},\"type\":\"table\"}]},\"layout\":{\"annotationdefaults\":{\"arrowcolor\":\"#2a3f5f\",\"arrowhead\":0,\"arrowwidth\":1},\"autotypenumbers\":\"strict\",\"coloraxis\":{\"colorbar\":{\"outlinewidth\":0,\"ticks\":\"\"}},\"colorscale\":{\"diverging\":[[0,\"#8e0152\"],[0.1,\"#c51b7d\"],[0.2,\"#de77ae\"],[0.3,\"#f1b6da\"],[0.4,\"#fde0ef\"],[0.5,\"#f7f7f7\"],[0.6,\"#e6f5d0\"],[0.7,\"#b8e186\"],[0.8,\"#7fbc41\"],[0.9,\"#4d9221\"],[1,\"#276419\"]],\"sequential\":[[0.0,\"#0d0887\"],[0.1111111111111111,\"#46039f\"],[0.2222222222222222,\"#7201a8\"],[0.3333333333333333,\"#9c179e\"],[0.4444444444444444,\"#bd3786\"],[0.5555555555555556,\"#d8576b\"],[0.6666666666666666,\"#ed7953\"],[0.7777777777777778,\"#fb9f3a\"],[0.8888888888888888,\"#fdca26\"],[1.0,\"#f0f921\"]],\"sequentialminus\":[[0.0,\"#0d0887\"],[0.1111111111111111,\"#46039f\"],[0.2222222222222222,\"#7201a8\"],[0.3333333333333333,\"#9c179e\"],[0.4444444444444444,\"#bd3786\"],[0.5555555555555556,\"#d8576b\"],[0.6666666666666666,\"#ed7953\"],[0.7777777777777778,\"#fb9f3a\"],[0.8888888888888888,\"#fdca26\"],[1.0,\"#f0f921\"]]},\"colorway\":[\"#636efa\",\"#EF553B\",\"#00cc96\",\"#ab63fa\",\"#FFA15A\",\"#19d3f3\",\"#FF6692\",\"#B6E880\",\"#FF97FF\",\"#FECB52\"],\"font\":{\"color\":\"#2a3f5f\"},\"geo\":{\"bgcolor\":\"white\",\"lakecolor\":\"white\",\"landcolor\":\"#E5ECF6\",\"showlakes\":true,\"showland\":true,\"subunitcolor\":\"white\"},\"hoverlabel\":{\"align\":\"left\"},\"hovermode\":\"closest\",\"mapbox\":{\"style\":\"light\"},\"paper_bgcolor\":\"white\",\"plot_bgcolor\":\"#E5ECF6\",\"polar\":{\"angularaxis\":{\"gridcolor\":\"white\",\"linecolor\":\"white\",\"ticks\":\"\"},\"bgcolor\":\"#E5ECF6\",\"radialaxis\":{\"gridcolor\":\"white\",\"linecolor\":\"white\",\"ticks\":\"\"}},\"scene\":{\"xaxis\":{\"backgroundcolor\":\"#E5ECF6\",\"gridcolor\":\"white\",\"gridwidth\":2,\"linecolor\":\"white\",\"showbackground\":true,\"ticks\":\"\",\"zerolinecolor\":\"white\"},\"yaxis\":{\"backgroundcolor\":\"#E5ECF6\",\"gridcolor\":\"white\",\"gridwidth\":2,\"linecolor\":\"white\",\"showbackground\":true,\"ticks\":\"\",\"zerolinecolor\":\"white\"},\"zaxis\":{\"backgroundcolor\":\"#E5ECF6\",\"gridcolor\":\"white\",\"gridwidth\":2,\"linecolor\":\"white\",\"showbackground\":true,\"ticks\":\"\",\"zerolinecolor\":\"white\"}},\"shapedefaults\":{\"line\":{\"color\":\"#2a3f5f\"}},\"ternary\":{\"aaxis\":{\"gridcolor\":\"white\",\"linecolor\":\"white\",\"ticks\":\"\"},\"baxis\":{\"gridcolor\":\"white\",\"linecolor\":\"white\",\"ticks\":\"\"},\"bgcolor\":\"#E5ECF6\",\"caxis\":{\"gridcolor\":\"white\",\"linecolor\":\"white\",\"ticks\":\"\"}},\"title\":{\"x\":0.05},\"xaxis\":{\"automargin\":true,\"gridcolor\":\"white\",\"linecolor\":\"white\",\"ticks\":\"\",\"title\":{\"standoff\":15},\"zerolinecolor\":\"white\",\"zerolinewidth\":2},\"yaxis\":{\"automargin\":true,\"gridcolor\":\"white\",\"linecolor\":\"white\",\"ticks\":\"\",\"title\":{\"standoff\":15},\"zerolinecolor\":\"white\",\"zerolinewidth\":2}}}},                        {\"responsive\": true}                    ).then(function(){\n",
              "                            \n",
              "var gd = document.getElementById('f7df06d4-651c-498b-8872-2a6a0d5e4528');\n",
              "var x = new MutationObserver(function (mutations, observer) {{\n",
              "        var display = window.getComputedStyle(gd).display;\n",
              "        if (!display || display === 'none') {{\n",
              "            console.log([gd, 'removed!']);\n",
              "            Plotly.purge(gd);\n",
              "            observer.disconnect();\n",
              "        }}\n",
              "}});\n",
              "\n",
              "// Listen for the removal of the full notebook cells\n",
              "var notebookContainer = gd.closest('#notebook-container');\n",
              "if (notebookContainer) {{\n",
              "    x.observe(notebookContainer, {childList: true});\n",
              "}}\n",
              "\n",
              "// Listen for the clearing of the current output cell\n",
              "var outputEl = gd.closest('.output');\n",
              "if (outputEl) {{\n",
              "    x.observe(outputEl, {childList: true});\n",
              "}}\n",
              "\n",
              "                        })                };                            </script>        </div>\n",
              "</body>\n",
              "</html>"
            ]
          },
          "metadata": {}
        }
      ],
      "source": [
        "# Plot_optimization_history: shows the scores from all trials as well as the best score so far at each point.\n",
        "fig = optuna.visualization.plot_optimization_history(study)\n",
        "py.plot(fig, filename='optimizationHistory_KNR_Optuna_1000_GPU.html')\n",
        "fig.show()"
      ]
    },
    {
      "cell_type": "code",
      "execution_count": null,
      "metadata": {
        "id": "zM3bCqCw14Xd",
        "colab": {
          "base_uri": "https://localhost:8080/",
          "height": 542
        },
        "outputId": "db8dd4da-4887-433d-817f-e9a8b7018d2b"
      },
      "outputs": [
        {
          "output_type": "display_data",
          "data": {
            "text/html": [
              "<html>\n",
              "<head><meta charset=\"utf-8\" /></head>\n",
              "<body>\n",
              "    <div>            <script src=\"https://cdnjs.cloudflare.com/ajax/libs/mathjax/2.7.5/MathJax.js?config=TeX-AMS-MML_SVG\"></script><script type=\"text/javascript\">if (window.MathJax) {MathJax.Hub.Config({SVG: {font: \"STIX-Web\"}});}</script>                <script type=\"text/javascript\">window.PlotlyConfig = {MathJaxConfig: 'local'};</script>\n",
              "        <script src=\"https://cdn.plot.ly/plotly-2.8.3.min.js\"></script>                <div id=\"06f89c63-79b9-436e-a537-f9cc9b273067\" class=\"plotly-graph-div\" style=\"height:525px; width:100%;\"></div>            <script type=\"text/javascript\">                                    window.PLOTLYENV=window.PLOTLYENV || {};                                    if (document.getElementById(\"06f89c63-79b9-436e-a537-f9cc9b273067\")) {                    Plotly.newPlot(                        \"06f89c63-79b9-436e-a537-f9cc9b273067\",                        [{\"dimensions\":[{\"label\":\"Objective Value\",\"range\":[3070.8987010700253,5178.840227798743],\"values\":[4886.360554442493,5154.069020265029,4935.916210924576,5146.540508397751,4774.027433856023,4973.073511290455,4121.887446545337,4826.124233021871,5168.263875443831,4762.8956379763695,3070.8987010700253,3841.009957328154,3070.8987010700253,4603.356006636722,3070.8987010700253,5078.173747653229,4660.48534988204,5006.560109271813,4528.5810284713225,5037.345727529945,4528.5810284713225,3070.8987010700253,4384.845258618256,4709.442632738852,3586.325763235942,4853.149485004742,4428.045308086619,4603.356006636722,5082.400732729732,4916.2527198382495,4334.884684584816,3586.325763235942,3070.8987010700253,4694.141815359486,4384.845258618256,4774.027433856023,3070.8987010700253,4334.884684584816,4555.016986871412,4835.219970698422,4736.6277143147345,4206.458287027927,3070.8987010700253,4121.887446545337,4625.044663202976,4497.798438248811,4206.458287027927,5142.519701979853,4966.944556356028,4785.651199627076,4642.452428150509,3070.8987010700253,4005.9150305658145,3070.8987010700253,4497.798438248811,4206.458287027927,4464.551264729626,4121.887446545337,4555.016986871412,3070.8987010700253,4384.845258618256,3070.8987010700253,4005.9150305658145,4206.458287027927,4384.845258618256,4580.496166314265,4677.786791115154,5001.20520844586,3841.009957328154,4334.884684584816,4893.97251570672,3070.8987010700253,3070.8987010700253,4005.9150305658145,4464.551264729626,4334.884684584816,5078.173747653229,4005.9150305658145,5107.52968095669,4276.457684983897,4580.496166314265,3070.8987010700253,3841.009957328154,3070.8987010700253,4206.458287027927,4428.045308086619,4005.9150305658145,4497.798438248811,3841.009957328154,4276.457684983897,4428.045308086619,3070.8987010700253,3841.009957328154,4206.458287027927,3070.8987010700253,4121.887446545337,4942.141027134422,4528.5810284713225,4334.884684584816,3841.009957328154,4121.887446545337,3070.8987010700253,3070.8987010700253,3841.009957328154,4276.457684983897,4428.045308086619,5032.508288143288,4121.887446545337,3841.009957328154,5175.166948373778,4276.457684983897,3070.8987010700253,3070.8987010700253,3841.009957328154,4121.887446545337,4384.845258618256,3841.009957328154,4276.457684983897,3070.8987010700253,4464.551264729626,4625.044663202976,3070.8987010700253,4005.9150305658145,4121.887446545337,3841.009957328154,4334.884684584816,3070.8987010700253,4807.574189280954,4206.458287027927,3841.009957328154,4121.887446545337,3070.8987010700253,3070.8987010700253,3841.009957328154,4870.27708156853,4334.884684584816,4121.887446545337,3070.8987010700253,4206.458287027927,3841.009957328154,4428.045308086619,3070.8987010700253,3841.009957328154,4121.887446545337,4276.457684983897,3070.8987010700253,3841.009957328154,4005.9150305658145,3070.8987010700253,4384.845258618256,5103.483581188891,3070.8987010700253,3841.009957328154,4206.458287027927,3070.8987010700253,4121.887446545337,3841.009957328154,4005.9150305658145,4276.457684983897,3070.8987010700253,4121.887446545337,3070.8987010700253,3841.009957328154,3070.8987010700253,3841.009957328154,4206.458287027927,3070.8987010700253,4334.884684584816,4984.3211891501915,4005.9150305658145,3841.009957328154,3070.8987010700253,5154.069020265029,3070.8987010700253,4121.887446545337,3841.009957328154,3070.8987010700253,4276.457684983897,4121.887446545337,3841.009957328154,3841.009957328154,3070.8987010700253,3070.8987010700253,4121.887446545337,3841.009957328154,3070.8987010700253,5051.261603566716,4121.887446545337,3841.009957328154,4276.457684983897,3070.8987010700253,3070.8987010700253,3841.009957328154,4005.9150305658145,3070.8987010700253,3841.009957328154,4121.887446545337,3070.8987010700253,4206.458287027927,3841.009957328154,3070.8987010700253,3070.8987010700253,3841.009957328154,4005.9150305658145,3070.8987010700253,3841.009957328154,4206.458287027927,3070.8987010700253,4121.887446545337,3841.009957328154,4334.884684584816,3070.8987010700253,3070.8987010700253,3841.009957328154,3841.009957328154,4736.6277143147345,4121.887446545337,3070.8987010700253,3841.009957328154,3070.8987010700253,4121.887446545337,3070.8987010700253,3841.009957328154,3070.8987010700253,4935.916210924576,3841.009957328154,4121.887446545337,3070.8987010700253,3841.009957328154,4908.764163529728,3070.8987010700253,3070.8987010700253,3841.009957328154,4005.9150305658145,3070.8987010700253,3841.009957328154,4206.458287027927,3070.8987010700253,4005.9150305658145,3841.009957328154,3070.8987010700253,3070.8987010700253,3841.009957328154,3070.8987010700253,4121.887446545337,3841.009957328154,3070.8987010700253,3841.009957328154,4121.887446545337,3070.8987010700253,3841.009957328154,3070.8987010700253,4276.457684983897,4121.887446545337,3841.009957328154,3070.8987010700253,4121.887446545337,3841.009957328154,5127.327385587506,3070.8987010700253,3841.009957328154,4121.887446545337,3070.8987010700253,3841.009957328154,3070.8987010700253,4276.457684983897,4005.9150305658145,3841.009957328154,3070.8987010700253,4206.458287027927,3841.009957328154,3070.8987010700253,4121.887446545337,3841.009957328154,3070.8987010700253,4276.457684983897,4005.9150305658145,3070.8987010700253,3841.009957328154,4121.887446545337,3070.8987010700253,3841.009957328154,4334.884684584816,4121.887446545337,3070.8987010700253,4835.219970698422,3841.009957328154,3841.009957328154,3070.8987010700253,5055.543823168687,4206.458287027927,3841.009957328154,3070.8987010700253,4121.887446545337,3841.009957328154,3070.8987010700253,4276.457684983897,4005.9150305658145,3070.8987010700253,4121.887446545337,4384.845258618256,3841.009957328154,3070.8987010700253,3841.009957328154,4121.887446545337,3070.8987010700253,3841.009957328154,4276.457684983897,3070.8987010700253,3841.009957328154,4121.887446545337,3070.8987010700253,3841.009957328154,4121.887446545337,3070.8987010700253,4954.771189399921,3841.009957328154,4276.457684983897,3070.8987010700253,4005.9150305658145,3841.009957328154,3070.8987010700253,4121.887446545337,3841.009957328154,4861.583489139057,3070.8987010700253,4206.458287027927,3841.009957328154,3070.8987010700253,4121.887446545337,4428.045308086619,3841.009957328154,3070.8987010700253,4276.457684983897,3841.009957328154,4121.887446545337,4807.574189280954,3070.8987010700253,3841.009957328154,3070.8987010700253,4005.9150305658145,3841.009957328154,3070.8987010700253,4206.458287027927,4384.845258618256,3841.009957328154,5027.4053524579795,4121.887446545337,3070.8987010700253,3841.009957328154,3070.8987010700253,4276.457684983897,4005.9150305658145,3070.8987010700253,4121.887446545337,3841.009957328154,3070.8987010700253,3841.009957328154,4121.887446545337,3070.8987010700253,3841.009957328154,4694.141815359486,4334.884684584816,4990.171834350707,3841.009957328154,3070.8987010700253,4121.887446545337,3841.009957328154,3070.8987010700253,4276.457684983897,4121.887446545337,3841.009957328154,5086.64738728327,3070.8987010700253,3841.009957328154,3070.8987010700253,4121.887446545337,3841.009957328154,3070.8987010700253,4749.986369917271,4276.457684983897,4121.887446545337,3841.009957328154,3070.8987010700253,4005.9150305658145,3070.8987010700253,3841.009957328154,4206.458287027927,3070.8987010700253,4384.845258618256,3841.009957328154,4121.887446545337,3070.8987010700253,3841.009957328154,4121.887446545337,3070.8987010700253,4916.2527198382495,5175.166948373778,5127.327385587506,3841.009957328154,4276.457684983897,3070.8987010700253,4005.9150305658145,3841.009957328154,3070.8987010700253,4206.458287027927,3841.009957328154,3070.8987010700253,4121.887446545337,3841.009957328154,5016.75113924875,3070.8987010700253,4005.9150305658145,3841.009957328154,4276.457684983897,3070.8987010700253,4121.887446545337,3841.009957328154,3070.8987010700253,4384.845258618256,3841.009957328154,3070.8987010700253,4206.458287027927,4497.798438248811,4005.9150305658145,3070.8987010700253,3841.009957328154,5164.754262546907,4660.48534988204,4121.887446545337,3070.8987010700253,3841.009957328154,4276.457684983897,3070.8987010700253,4121.887446545337,3841.009957328154,3070.8987010700253,3841.009957328154,4121.887446545337,3070.8987010700253,4886.360554442493,3841.009957328154,4121.887446545337,4334.884684584816,3070.8987010700253,3841.009957328154,3841.009957328154,3070.8987010700253,4206.458287027927,4005.9150305658145,3070.8987010700253,3841.009957328154,4121.887446545337,3070.8987010700253,4276.457684983897,3841.009957328154,3070.8987010700253,3841.009957328154,4603.356006636722,4121.887446545337,4428.045308086619,3070.8987010700253,3841.009957328154,4121.887446545337,3070.8987010700253,4276.457684983897,3841.009957328154,4774.027433856023,3070.8987010700253,4005.9150305658145,3841.009957328154,3070.8987010700253,4121.887446545337,3841.009957328154,3070.8987010700253,4276.457684983897,3841.009957328154,4121.887446545337,3070.8987010700253,4954.771189399921,3841.009957328154,4723.126229647229,3070.8987010700253,4121.887446545337,5046.827868472032,4384.845258618256,3841.009957328154,3070.8987010700253,4206.458287027927,3841.009957328154,3070.8987010700253,4005.9150305658145,3841.009957328154,4276.457684983897,3070.8987010700253,3841.009957328154,4121.887446545337,3070.8987010700253,4121.887446545337,3841.009957328154,3070.8987010700253,3841.009957328154,4334.884684584816,3070.8987010700253,4121.887446545337,3841.009957328154,3070.8987010700253,4206.458287027927,3841.009957328154,3070.8987010700253,4005.9150305658145,3070.8987010700253,4121.887446545337,3841.009957328154,4276.457684983897,3070.8987010700253,3841.009957328154,4121.887446545337,5073.937110848369,3070.8987010700253,3841.009957328154,3841.009957328154,3070.8987010700253,4464.551264729626,4817.208164649399,4121.887446545337,4334.884684584816,3841.009957328154,3070.8987010700253,4206.458287027927,3841.009957328154,4844.646786813006,3070.8987010700253,4005.9150305658145,4978.820520604018,3070.8987010700253,4121.887446545337,3841.009957328154,3070.8987010700253,4923.542907063325,3841.009957328154,4206.458287027927,3070.8987010700253,4005.9150305658145,4334.884684584816,3841.009957328154,3070.8987010700253,4121.887446545337,3841.009957328154,3070.8987010700253,4276.457684983897,5142.519701979853,3841.009957328154,4121.887446545337,3070.8987010700253,3841.009957328154,5006.560109271813,3070.8987010700253,4121.887446545337,3841.009957328154,3070.8987010700253,5127.327385587506,4555.016986871412,4276.457684983897,3841.009957328154,4121.887446545337,3070.8987010700253,3841.009957328154,4384.845258618256,3070.8987010700253,4121.887446545337,3841.009957328154,3070.8987010700253,3841.009957328154,4206.458287027927,4005.9150305658145,3070.8987010700253,3841.009957328154,3070.8987010700253,4121.887446545337,3841.009957328154,4276.457684983897,3070.8987010700253,4005.9150305658145,3070.8987010700253,3841.009957328154,4121.887446545337,3070.8987010700253,3841.009957328154,4206.458287027927,3070.8987010700253,3841.009957328154,4121.887446545337,4384.845258618256,3070.8987010700253,3841.009957328154,4276.457684983897,3841.009957328154,3070.8987010700253,4121.887446545337,3841.009957328154,3070.8987010700253,4005.9150305658145,3070.8987010700253,4276.457684983897,3841.009957328154,4121.887446545337,3070.8987010700253,3841.009957328154,3070.8987010700253,4121.887446545337,3841.009957328154,3070.8987010700253,5064.739351253655,3841.009957328154,4464.551264729626,4206.458287027927,3070.8987010700253,4005.9150305658145,3841.009957328154,3070.8987010700253,4334.884684584816,4121.887446545337,3841.009957328154,5095.414951314923,4870.27708156853,3070.8987010700253,4121.887446545337,3841.009957328154,4276.457684983897,3070.8987010700253,3841.009957328154,3070.8987010700253,5115.717957022782,4121.887446545337,3841.009957328154,3070.8987010700253,4121.887446545337,3841.009957328154,3070.8987010700253,4276.457684983897,3841.009957328154,3070.8987010700253,4384.845258618256,4796.7703176196055,4966.944556356028,4121.887446545337,3841.009957328154,3070.8987010700253,4005.9150305658145,3841.009957328154,3070.8987010700253,4206.458287027927,3841.009957328154,3070.8987010700253,4121.887446545337,3841.009957328154,3070.8987010700253,4276.457684983897,4005.9150305658145,3070.8987010700253,3841.009957328154,4121.887446545337,3070.8987010700253,3841.009957328154,4276.457684983897,3070.8987010700253,4121.887446545337,4893.97251570672,3841.009957328154,3070.8987010700253,3841.009957328154,4121.887446545337,3070.8987010700253,4428.045308086619,3841.009957328154,4206.458287027927,3841.009957328154,3070.8987010700253,4005.9150305658145,3070.8987010700253,4334.884684584816,4121.887446545337,3841.009957328154,3070.8987010700253,3841.009957328154,4206.458287027927,3070.8987010700253,4005.9150305658145,3841.009957328154,3070.8987010700253,4121.887446545337,3841.009957328154,4276.457684983897,3070.8987010700253,3841.009957328154,3070.8987010700253,4121.887446545337,3841.009957328154,3070.8987010700253,4121.887446545337,3841.009957328154,4384.845258618256,3070.8987010700253,3841.009957328154,4276.457684983897,3070.8987010700253,4121.887446545337,3841.009957328154,3070.8987010700253,4121.887446545337,4935.916210924576,3841.009957328154,3070.8987010700253,4660.48534988204,5168.263875443831,4276.457684983897,3841.009957328154,4121.887446545337,3841.009957328154,3070.8987010700253,3070.8987010700253,4005.9150305658145,3841.009957328154,4528.5810284713225,4206.458287027927,3070.8987010700253,3841.009957328154,3070.8987010700253,4121.887446545337,3841.009957328154,3070.8987010700253,4334.884684584816,4121.887446545337,3841.009957328154,4996.091784624338,3070.8987010700253,4005.9150305658145,4276.457684983897,3070.8987010700253,5042.090631175219,3841.009957328154,4121.887446545337,3070.8987010700253,3841.009957328154,3070.8987010700253,4121.887446545337,3841.009957328154,4276.457684983897,3070.8987010700253,3841.009957328154,4384.845258618256,4121.887446545337,3070.8987010700253,3841.009957328154,4709.442632738852,3841.009957328154,3070.8987010700253,4206.458287027927,3841.009957328154,3070.8987010700253,4121.887446545337,4762.8956379763695,4005.9150305658145,3070.8987010700253,3841.009957328154,4276.457684983897,3070.8987010700253,4005.9150305658145,3841.009957328154,3070.8987010700253,4121.887446545337,5016.75113924875,3841.009957328154,3070.8987010700253,4206.458287027927,3841.009957328154,3070.8987010700253,4384.845258618256,4121.887446545337,3841.009957328154,5142.519701979853,3070.8987010700253,3841.009957328154,4121.887446545337,3070.8987010700253,4276.457684983897,3841.009957328154,3070.8987010700253,4121.887446545337,3841.009957328154,4464.551264729626,3070.8987010700253,4005.9150305658145,4276.457684983897,3841.009957328154,3070.8987010700253,4603.356006636722,4121.887446545337,3841.009957328154,3070.8987010700253,3841.009957328154,3070.8987010700253,4121.887446545337,4276.457684983897,3841.009957328154,3070.8987010700253,4121.887446545337,3841.009957328154,3070.8987010700253,3841.009957328154,3070.8987010700253,4121.887446545337,3841.009957328154,4826.124233021871,4276.457684983897,3070.8987010700253,4005.9150305658145,3070.8987010700253,4384.845258618256,3841.009957328154,4206.458287027927,3070.8987010700253,4005.9150305658145,3841.009957328154,3070.8987010700253,4121.887446545337,5157.778628209766,3841.009957328154,3070.8987010700253,4206.458287027927,3841.009957328154,3070.8987010700253,4870.27708156853,4121.887446545337,3841.009957328154,4334.884684584816,3070.8987010700253,4908.764163529728,3841.009957328154,4121.887446545337,3070.8987010700253,3841.009957328154,3070.8987010700253,4121.887446545337,3841.009957328154,3070.8987010700253,4206.458287027927,3841.009957328154,4276.457684983897,4005.9150305658145,3070.8987010700253,5111.746243620142,3841.009957328154,3070.8987010700253,5060.213573406844,4121.887446545337,3841.009957328154,3070.8987010700253,4384.845258618256,4005.9150305658145,3070.8987010700253,4276.457684983897,3841.009957328154,4121.887446545337,3070.8987010700253,3841.009957328154,3841.009957328154,3070.8987010700253,4121.887446545337,3841.009957328154,3070.8987010700253,4276.457684983897,5027.4053524579795,4121.887446545337,3841.009957328154,3070.8987010700253,3841.009957328154,4121.887446545337,3070.8987010700253,4464.551264729626,3841.009957328154,3070.8987010700253,4206.458287027927,3841.009957328154,3070.8987010700253,4121.887446545337,4334.884684584816,3841.009957328154,3070.8987010700253,4005.9150305658145,3070.8987010700253,3841.009957328154,4206.458287027927,3841.009957328154,3070.8987010700253,4121.887446545337,5086.64738728327,3841.009957328154,3070.8987010700253,4954.771189399921,4121.887446545337,4276.457684983897,3070.8987010700253,3841.009957328154,4005.9150305658145,4384.845258618256,3070.8987010700253,3841.009957328154,4121.887446545337,3070.8987010700253,3841.009957328154,5073.937110848369,3070.8987010700253,4206.458287027927,3841.009957328154,3070.8987010700253,4005.9150305658145,4276.457684983897,3841.009957328154,5099.409113912332,3070.8987010700253,4121.887446545337,3841.009957328154,3070.8987010700253,4121.887446545337,3841.009957328154,3070.8987010700253,4276.457684983897,3841.009957328154,3070.8987010700253,4121.887446545337,3841.009957328154,3070.8987010700253,4121.887446545337,3841.009957328154,4334.884684584816,3070.8987010700253,3841.009957328154,4121.887446545337,3070.8987010700253,3841.009957328154,3070.8987010700253,4276.457684983897,4005.9150305658145,3841.009957328154,3070.8987010700253,4121.887446545337,4428.045308086619,3841.009957328154,3070.8987010700253,4121.887446545337,3841.009957328154,3070.8987010700253,4736.6277143147345,4276.457684983897,3070.8987010700253,3841.009957328154,4844.646786813006,4121.887446545337,3841.009957328154,3070.8987010700253,4206.458287027927,5178.840227798743,3841.009957328154,4785.651199627076,3070.8987010700253,4005.9150305658145,3070.8987010700253,4978.820520604018,4121.887446545337,3841.009957328154,4334.884684584816,3070.8987010700253,5135.0441467166975,3841.009957328154,4206.458287027927,3841.009957328154,3070.8987010700253,4121.887446545337,3841.009957328154,3070.8987010700253,4528.5810284713225,4005.9150305658145,3070.8987010700253,4276.457684983897,3841.009957328154,4121.887446545337,3070.8987010700253,4384.845258618256,3841.009957328154,3070.8987010700253,4121.887446545337,3841.009957328154,3070.8987010700253,3841.009957328154,4121.887446545337,3070.8987010700253,4276.457684983897,3841.009957328154]},{\"label\":\"metric\",\"range\":[0,3],\"ticktext\":[\"euclidean\",\"minkowski\",\"chebyshev\",\"manhattan\"],\"tickvals\":[0,1,2,3],\"values\":[0,1,0,2,2,1,0,1,0,0,3,3,3,3,3,3,3,3,3,3,2,3,3,3,3,3,3,3,1,3,2,3,3,3,3,1,2,0,3,1,0,3,3,3,3,3,2,3,0,3,3,2,2,2,2,2,1,3,3,3,2,3,3,3,3,3,3,0,3,3,1,2,2,2,2,2,3,3,3,0,2,2,2,2,2,3,2,1,3,3,2,3,3,3,3,3,3,3,3,0,3,3,3,3,3,2,3,1,3,2,3,2,2,2,2,2,3,2,3,0,3,2,2,2,2,2,2,3,3,1,2,2,2,2,2,3,2,3,3,2,3,2,2,2,2,2,3,0,3,2,3,3,3,3,3,3,2,3,1,2,3,3,3,3,3,3,2,3,2,3,3,3,3,3,3,2,3,2,0,3,3,3,3,3,3,2,3,2,3,3,1,2,2,2,2,2,2,3,2,3,3,2,2,2,2,2,2,3,3,2,0,3,3,3,3,3,3,2,3,3,2,2,2,2,2,2,3,1,2,3,3,2,2,2,2,2,2,3,2,3,3,2,2,2,2,2,2,3,2,3,0,3,2,3,2,3,2,3,2,3,2,3,1,2,3,3,2,3,2,3,2,3,2,3,2,0,3,2,3,2,3,2,3,2,1,3,2,3,2,3,2,3,2,3,3,2,3,2,3,2,0,3,2,3,2,3,2,3,2,1,3,2,3,2,3,2,3,2,3,2,3,2,3,3,2,0,3,2,3,2,3,2,3,2,1,3,2,3,2,3,2,3,2,3,2,3,2,3,2,0,3,2,3,3,2,3,2,1,3,2,3,2,3,2,3,2,3,2,3,2,3,2,3,0,2,3,2,3,2,3,2,3,1,3,2,3,2,3,2,3,2,3,2,3,2,3,2,3,0,2,3,2,3,2,3,2,3,1,2,3,2,3,2,3,3,2,3,2,3,2,3,2,0,3,2,3,2,3,2,3,2,1,3,2,3,2,3,2,3,2,3,2,3,3,2,3,0,2,3,2,3,2,3,2,3,1,2,3,2,3,2,3,2,3,2,3,2,3,2,3,0,2,3,3,2,3,2,3,2,1,3,2,3,2,3,2,3,2,3,2,3,2,3,2,3,2,3,2,0,3,2,3,3,2,1,3,2,3,2,3,2,3,2,3,2,3,2,3,2,0,3,2,3,2,3,2,3,1,2,3,2,3,2,3,3,2,3,2,3,2,3,2,3,0,2,3,2,3,2,3,2,3,1,2,3,2,3,2,3,2,3,2,3,3,2,3,2,0,3,2,3,2,3,2,3,2,3,1,2,3,2,3,2,3,2,3,2,3,2,3,2,3,0,3,2,3,2,3,2,3,2,1,3,2,3,2,3,2,3,2,3,2,3,2,3,0,2,3,2,3,2,3,3,2,1,3,2,3,2,3,2,3,2,3,2,3,2,3,2,3,2,0,3,2,3,2,3,2,3,1,2,3,2,3,3,2,3,2,3,2,3,2,3,2,0,3,2,3,2,3,2,3,2,1,3,2,3,2,3,2,3,2,3,3,2,3,2,3,2,0,3,2,3,2,3,2,3,1,2,3,2,3,2,3,2,3,2,3,2,3,2,3,0,3,2,3,2,3,2,3,2,3,2,1,3,2,3,2,3,2,3,2,3,2,3,2,3,0,2,3,2,3,3,2,3,2,1,3,2,3,2,3,2,3,2,3,2,3,2,3,2,3,0,2,3,2,3,2,3,1,2,3,2,3,3,2,3,2,3,2,3,2,3,2,3,2,0,3,2,3,2,3,2,3,2,1,3,2,3,2,3,2,3,3,2,3,2,3,2,3,0,2,3,2,3,2,3,2,1,3,2,3,2,3,2,3,2,3,2,3,2,3,3,2,3,0,2,3,2,3,2,3,2,1,3,2,3,2,3,2,3,2,3,2,3,2,3,0,2,3,2,3,3,2,3,2,1,3,2,3,2,3,2,3,2,3,2,3,2,3,2,3,2,3,0,2,3,2,3,2,3,1,2,3,3,2,3,2,3,2,3,2,3,2,3,2,0,3,2,3,2,3,2,3,2,3,1,2,3,2,3,2,3,3,2,3,2,3,2,3,0,2,3,2,3,2,3,2,3,2,3,1,2,3,2,3,2,3,2,3,2,3,3,2,3,0,2,3,2,3,2,3,2,1,3,2,3,2,3,2,3,2,3,2,3,2,3,2,3,0,2,3,3,2,3,2,3,2,3,2,1,3,2,3,2,3,2,3,2,3]},{\"label\":\"n_neighbors\",\"range\":[2,100],\"values\":[40,93,47,91,28,53,6,33,97,27,2,4,2,17,2,74,20,59,14,65,14,2,10,23,3,36,11,17,75,44,9,3,2,22,10,28,2,9,15,34,25,7,2,6,18,13,7,90,52,29,19,2,5,2,13,7,12,6,15,2,10,2,5,7,10,16,21,58,4,9,41,2,2,5,12,9,74,5,81,8,16,2,4,2,7,11,5,13,4,8,11,2,4,7,2,6,48,14,9,4,6,2,2,4,8,11,64,6,4,99,8,2,2,4,6,10,4,8,2,12,18,2,5,6,4,9,2,31,7,4,6,2,2,4,38,9,6,2,7,4,11,2,4,6,8,2,4,5,2,10,80,2,4,7,2,6,4,5,8,2,6,2,4,2,4,7,2,9,55,5,4,2,93,2,6,4,2,8,6,4,4,2,2,6,4,2,68,6,4,8,2,2,4,5,2,4,6,2,7,4,2,2,4,5,2,4,7,2,6,4,9,2,2,4,4,25,6,2,4,2,6,2,4,2,47,4,6,2,4,43,2,2,4,5,2,4,7,2,5,4,2,2,4,2,6,4,2,4,6,2,4,2,8,6,4,2,6,4,86,2,4,6,2,4,2,8,5,4,2,7,4,2,6,4,2,8,5,2,4,6,2,4,9,6,2,34,4,4,2,69,7,4,2,6,4,2,8,5,2,6,10,4,2,4,6,2,4,8,2,4,6,2,4,6,2,50,4,8,2,5,4,2,6,4,37,2,7,4,2,6,11,4,2,8,4,6,31,2,4,2,5,4,2,7,10,4,63,6,2,4,2,8,5,2,6,4,2,4,6,2,4,22,9,56,4,2,6,4,2,8,6,4,76,2,4,2,6,4,2,26,8,6,4,2,5,2,4,7,2,10,4,6,2,4,6,2,44,99,86,4,8,2,5,4,2,7,4,2,6,4,61,2,5,4,8,2,6,4,2,10,4,2,7,13,5,2,4,96,20,6,2,4,8,2,6,4,2,4,6,2,40,4,6,9,2,4,4,2,7,5,2,4,6,2,8,4,2,4,17,6,11,2,4,6,2,8,4,28,2,5,4,2,6,4,2,8,4,6,2,50,4,24,2,6,67,10,4,2,7,4,2,5,4,8,2,4,6,2,6,4,2,4,9,2,6,4,2,7,4,2,5,2,6,4,8,2,4,6,73,2,4,4,2,12,32,6,9,4,2,7,4,35,2,5,54,2,6,4,2,45,4,7,2,5,9,4,2,6,4,2,8,90,4,6,2,4,59,2,6,4,2,86,15,8,4,6,2,4,10,2,6,4,2,4,7,5,2,4,2,6,4,8,2,5,2,4,6,2,4,7,2,4,6,10,2,4,8,4,2,6,4,2,5,2,8,4,6,2,4,2,6,4,2,71,4,12,7,2,5,4,2,9,6,4,78,38,2,6,4,8,2,4,2,83,6,4,2,6,4,2,8,4,2,10,30,52,6,4,2,5,4,2,7,4,2,6,4,2,8,5,2,4,6,2,4,8,2,6,41,4,2,4,6,2,11,4,7,4,2,5,2,9,6,4,2,4,7,2,5,4,2,6,4,8,2,4,2,6,4,2,6,4,10,2,4,8,2,6,4,2,6,47,4,2,20,97,8,4,6,4,2,2,5,4,14,7,2,4,2,6,4,2,9,6,4,57,2,5,8,2,66,4,6,2,4,2,6,4,8,2,4,10,6,2,4,23,4,2,7,4,2,6,27,5,2,4,8,2,5,4,2,6,61,4,2,7,4,2,10,6,4,90,2,4,6,2,8,4,2,6,4,12,2,5,8,4,2,17,6,4,2,4,2,6,8,4,2,6,4,2,4,2,6,4,33,8,2,5,2,10,4,7,2,5,4,2,6,94,4,2,7,4,2,38,6,4,9,2,43,4,6,2,4,2,6,4,2,7,4,8,5,2,82,4,2,70,6,4,2,10,5,2,8,4,6,2,4,4,2,6,4,2,8,63,6,4,2,4,6,2,12,4,2,7,4,2,6,9,4,2,5,2,4,7,4,2,6,76,4,2,50,6,8,2,4,5,10,2,4,6,2,4,73,2,7,4,2,5,8,4,79,2,6,4,2,6,4,2,8,4,2,6,4,2,6,4,9,2,4,6,2,4,2,8,5,4,2,6,11,4,2,6,4,2,25,8,2,4,35,6,4,2,7,100,4,29,2,5,2,54,6,4,9,2,88,4,7,4,2,6,4,2,14,5,2,8,4,6,2,10,4,2,6,4,2,4,6,2,8,4]}],\"labelangle\":30,\"labelside\":\"bottom\",\"line\":{\"color\":[4886.360554442493,5154.069020265029,4935.916210924576,5146.540508397751,4774.027433856023,4973.073511290455,4121.887446545337,4826.124233021871,5168.263875443831,4762.8956379763695,3070.8987010700253,3841.009957328154,3070.8987010700253,4603.356006636722,3070.8987010700253,5078.173747653229,4660.48534988204,5006.560109271813,4528.5810284713225,5037.345727529945,4528.5810284713225,3070.8987010700253,4384.845258618256,4709.442632738852,3586.325763235942,4853.149485004742,4428.045308086619,4603.356006636722,5082.400732729732,4916.2527198382495,4334.884684584816,3586.325763235942,3070.8987010700253,4694.141815359486,4384.845258618256,4774.027433856023,3070.8987010700253,4334.884684584816,4555.016986871412,4835.219970698422,4736.6277143147345,4206.458287027927,3070.8987010700253,4121.887446545337,4625.044663202976,4497.798438248811,4206.458287027927,5142.519701979853,4966.944556356028,4785.651199627076,4642.452428150509,3070.8987010700253,4005.9150305658145,3070.8987010700253,4497.798438248811,4206.458287027927,4464.551264729626,4121.887446545337,4555.016986871412,3070.8987010700253,4384.845258618256,3070.8987010700253,4005.9150305658145,4206.458287027927,4384.845258618256,4580.496166314265,4677.786791115154,5001.20520844586,3841.009957328154,4334.884684584816,4893.97251570672,3070.8987010700253,3070.8987010700253,4005.9150305658145,4464.551264729626,4334.884684584816,5078.173747653229,4005.9150305658145,5107.52968095669,4276.457684983897,4580.496166314265,3070.8987010700253,3841.009957328154,3070.8987010700253,4206.458287027927,4428.045308086619,4005.9150305658145,4497.798438248811,3841.009957328154,4276.457684983897,4428.045308086619,3070.8987010700253,3841.009957328154,4206.458287027927,3070.8987010700253,4121.887446545337,4942.141027134422,4528.5810284713225,4334.884684584816,3841.009957328154,4121.887446545337,3070.8987010700253,3070.8987010700253,3841.009957328154,4276.457684983897,4428.045308086619,5032.508288143288,4121.887446545337,3841.009957328154,5175.166948373778,4276.457684983897,3070.8987010700253,3070.8987010700253,3841.009957328154,4121.887446545337,4384.845258618256,3841.009957328154,4276.457684983897,3070.8987010700253,4464.551264729626,4625.044663202976,3070.8987010700253,4005.9150305658145,4121.887446545337,3841.009957328154,4334.884684584816,3070.8987010700253,4807.574189280954,4206.458287027927,3841.009957328154,4121.887446545337,3070.8987010700253,3070.8987010700253,3841.009957328154,4870.27708156853,4334.884684584816,4121.887446545337,3070.8987010700253,4206.458287027927,3841.009957328154,4428.045308086619,3070.8987010700253,3841.009957328154,4121.887446545337,4276.457684983897,3070.8987010700253,3841.009957328154,4005.9150305658145,3070.8987010700253,4384.845258618256,5103.483581188891,3070.8987010700253,3841.009957328154,4206.458287027927,3070.8987010700253,4121.887446545337,3841.009957328154,4005.9150305658145,4276.457684983897,3070.8987010700253,4121.887446545337,3070.8987010700253,3841.009957328154,3070.8987010700253,3841.009957328154,4206.458287027927,3070.8987010700253,4334.884684584816,4984.3211891501915,4005.9150305658145,3841.009957328154,3070.8987010700253,5154.069020265029,3070.8987010700253,4121.887446545337,3841.009957328154,3070.8987010700253,4276.457684983897,4121.887446545337,3841.009957328154,3841.009957328154,3070.8987010700253,3070.8987010700253,4121.887446545337,3841.009957328154,3070.8987010700253,5051.261603566716,4121.887446545337,3841.009957328154,4276.457684983897,3070.8987010700253,3070.8987010700253,3841.009957328154,4005.9150305658145,3070.8987010700253,3841.009957328154,4121.887446545337,3070.8987010700253,4206.458287027927,3841.009957328154,3070.8987010700253,3070.8987010700253,3841.009957328154,4005.9150305658145,3070.8987010700253,3841.009957328154,4206.458287027927,3070.8987010700253,4121.887446545337,3841.009957328154,4334.884684584816,3070.8987010700253,3070.8987010700253,3841.009957328154,3841.009957328154,4736.6277143147345,4121.887446545337,3070.8987010700253,3841.009957328154,3070.8987010700253,4121.887446545337,3070.8987010700253,3841.009957328154,3070.8987010700253,4935.916210924576,3841.009957328154,4121.887446545337,3070.8987010700253,3841.009957328154,4908.764163529728,3070.8987010700253,3070.8987010700253,3841.009957328154,4005.9150305658145,3070.8987010700253,3841.009957328154,4206.458287027927,3070.8987010700253,4005.9150305658145,3841.009957328154,3070.8987010700253,3070.8987010700253,3841.009957328154,3070.8987010700253,4121.887446545337,3841.009957328154,3070.8987010700253,3841.009957328154,4121.887446545337,3070.8987010700253,3841.009957328154,3070.8987010700253,4276.457684983897,4121.887446545337,3841.009957328154,3070.8987010700253,4121.887446545337,3841.009957328154,5127.327385587506,3070.8987010700253,3841.009957328154,4121.887446545337,3070.8987010700253,3841.009957328154,3070.8987010700253,4276.457684983897,4005.9150305658145,3841.009957328154,3070.8987010700253,4206.458287027927,3841.009957328154,3070.8987010700253,4121.887446545337,3841.009957328154,3070.8987010700253,4276.457684983897,4005.9150305658145,3070.8987010700253,3841.009957328154,4121.887446545337,3070.8987010700253,3841.009957328154,4334.884684584816,4121.887446545337,3070.8987010700253,4835.219970698422,3841.009957328154,3841.009957328154,3070.8987010700253,5055.543823168687,4206.458287027927,3841.009957328154,3070.8987010700253,4121.887446545337,3841.009957328154,3070.8987010700253,4276.457684983897,4005.9150305658145,3070.8987010700253,4121.887446545337,4384.845258618256,3841.009957328154,3070.8987010700253,3841.009957328154,4121.887446545337,3070.8987010700253,3841.009957328154,4276.457684983897,3070.8987010700253,3841.009957328154,4121.887446545337,3070.8987010700253,3841.009957328154,4121.887446545337,3070.8987010700253,4954.771189399921,3841.009957328154,4276.457684983897,3070.8987010700253,4005.9150305658145,3841.009957328154,3070.8987010700253,4121.887446545337,3841.009957328154,4861.583489139057,3070.8987010700253,4206.458287027927,3841.009957328154,3070.8987010700253,4121.887446545337,4428.045308086619,3841.009957328154,3070.8987010700253,4276.457684983897,3841.009957328154,4121.887446545337,4807.574189280954,3070.8987010700253,3841.009957328154,3070.8987010700253,4005.9150305658145,3841.009957328154,3070.8987010700253,4206.458287027927,4384.845258618256,3841.009957328154,5027.4053524579795,4121.887446545337,3070.8987010700253,3841.009957328154,3070.8987010700253,4276.457684983897,4005.9150305658145,3070.8987010700253,4121.887446545337,3841.009957328154,3070.8987010700253,3841.009957328154,4121.887446545337,3070.8987010700253,3841.009957328154,4694.141815359486,4334.884684584816,4990.171834350707,3841.009957328154,3070.8987010700253,4121.887446545337,3841.009957328154,3070.8987010700253,4276.457684983897,4121.887446545337,3841.009957328154,5086.64738728327,3070.8987010700253,3841.009957328154,3070.8987010700253,4121.887446545337,3841.009957328154,3070.8987010700253,4749.986369917271,4276.457684983897,4121.887446545337,3841.009957328154,3070.8987010700253,4005.9150305658145,3070.8987010700253,3841.009957328154,4206.458287027927,3070.8987010700253,4384.845258618256,3841.009957328154,4121.887446545337,3070.8987010700253,3841.009957328154,4121.887446545337,3070.8987010700253,4916.2527198382495,5175.166948373778,5127.327385587506,3841.009957328154,4276.457684983897,3070.8987010700253,4005.9150305658145,3841.009957328154,3070.8987010700253,4206.458287027927,3841.009957328154,3070.8987010700253,4121.887446545337,3841.009957328154,5016.75113924875,3070.8987010700253,4005.9150305658145,3841.009957328154,4276.457684983897,3070.8987010700253,4121.887446545337,3841.009957328154,3070.8987010700253,4384.845258618256,3841.009957328154,3070.8987010700253,4206.458287027927,4497.798438248811,4005.9150305658145,3070.8987010700253,3841.009957328154,5164.754262546907,4660.48534988204,4121.887446545337,3070.8987010700253,3841.009957328154,4276.457684983897,3070.8987010700253,4121.887446545337,3841.009957328154,3070.8987010700253,3841.009957328154,4121.887446545337,3070.8987010700253,4886.360554442493,3841.009957328154,4121.887446545337,4334.884684584816,3070.8987010700253,3841.009957328154,3841.009957328154,3070.8987010700253,4206.458287027927,4005.9150305658145,3070.8987010700253,3841.009957328154,4121.887446545337,3070.8987010700253,4276.457684983897,3841.009957328154,3070.8987010700253,3841.009957328154,4603.356006636722,4121.887446545337,4428.045308086619,3070.8987010700253,3841.009957328154,4121.887446545337,3070.8987010700253,4276.457684983897,3841.009957328154,4774.027433856023,3070.8987010700253,4005.9150305658145,3841.009957328154,3070.8987010700253,4121.887446545337,3841.009957328154,3070.8987010700253,4276.457684983897,3841.009957328154,4121.887446545337,3070.8987010700253,4954.771189399921,3841.009957328154,4723.126229647229,3070.8987010700253,4121.887446545337,5046.827868472032,4384.845258618256,3841.009957328154,3070.8987010700253,4206.458287027927,3841.009957328154,3070.8987010700253,4005.9150305658145,3841.009957328154,4276.457684983897,3070.8987010700253,3841.009957328154,4121.887446545337,3070.8987010700253,4121.887446545337,3841.009957328154,3070.8987010700253,3841.009957328154,4334.884684584816,3070.8987010700253,4121.887446545337,3841.009957328154,3070.8987010700253,4206.458287027927,3841.009957328154,3070.8987010700253,4005.9150305658145,3070.8987010700253,4121.887446545337,3841.009957328154,4276.457684983897,3070.8987010700253,3841.009957328154,4121.887446545337,5073.937110848369,3070.8987010700253,3841.009957328154,3841.009957328154,3070.8987010700253,4464.551264729626,4817.208164649399,4121.887446545337,4334.884684584816,3841.009957328154,3070.8987010700253,4206.458287027927,3841.009957328154,4844.646786813006,3070.8987010700253,4005.9150305658145,4978.820520604018,3070.8987010700253,4121.887446545337,3841.009957328154,3070.8987010700253,4923.542907063325,3841.009957328154,4206.458287027927,3070.8987010700253,4005.9150305658145,4334.884684584816,3841.009957328154,3070.8987010700253,4121.887446545337,3841.009957328154,3070.8987010700253,4276.457684983897,5142.519701979853,3841.009957328154,4121.887446545337,3070.8987010700253,3841.009957328154,5006.560109271813,3070.8987010700253,4121.887446545337,3841.009957328154,3070.8987010700253,5127.327385587506,4555.016986871412,4276.457684983897,3841.009957328154,4121.887446545337,3070.8987010700253,3841.009957328154,4384.845258618256,3070.8987010700253,4121.887446545337,3841.009957328154,3070.8987010700253,3841.009957328154,4206.458287027927,4005.9150305658145,3070.8987010700253,3841.009957328154,3070.8987010700253,4121.887446545337,3841.009957328154,4276.457684983897,3070.8987010700253,4005.9150305658145,3070.8987010700253,3841.009957328154,4121.887446545337,3070.8987010700253,3841.009957328154,4206.458287027927,3070.8987010700253,3841.009957328154,4121.887446545337,4384.845258618256,3070.8987010700253,3841.009957328154,4276.457684983897,3841.009957328154,3070.8987010700253,4121.887446545337,3841.009957328154,3070.8987010700253,4005.9150305658145,3070.8987010700253,4276.457684983897,3841.009957328154,4121.887446545337,3070.8987010700253,3841.009957328154,3070.8987010700253,4121.887446545337,3841.009957328154,3070.8987010700253,5064.739351253655,3841.009957328154,4464.551264729626,4206.458287027927,3070.8987010700253,4005.9150305658145,3841.009957328154,3070.8987010700253,4334.884684584816,4121.887446545337,3841.009957328154,5095.414951314923,4870.27708156853,3070.8987010700253,4121.887446545337,3841.009957328154,4276.457684983897,3070.8987010700253,3841.009957328154,3070.8987010700253,5115.717957022782,4121.887446545337,3841.009957328154,3070.8987010700253,4121.887446545337,3841.009957328154,3070.8987010700253,4276.457684983897,3841.009957328154,3070.8987010700253,4384.845258618256,4796.7703176196055,4966.944556356028,4121.887446545337,3841.009957328154,3070.8987010700253,4005.9150305658145,3841.009957328154,3070.8987010700253,4206.458287027927,3841.009957328154,3070.8987010700253,4121.887446545337,3841.009957328154,3070.8987010700253,4276.457684983897,4005.9150305658145,3070.8987010700253,3841.009957328154,4121.887446545337,3070.8987010700253,3841.009957328154,4276.457684983897,3070.8987010700253,4121.887446545337,4893.97251570672,3841.009957328154,3070.8987010700253,3841.009957328154,4121.887446545337,3070.8987010700253,4428.045308086619,3841.009957328154,4206.458287027927,3841.009957328154,3070.8987010700253,4005.9150305658145,3070.8987010700253,4334.884684584816,4121.887446545337,3841.009957328154,3070.8987010700253,3841.009957328154,4206.458287027927,3070.8987010700253,4005.9150305658145,3841.009957328154,3070.8987010700253,4121.887446545337,3841.009957328154,4276.457684983897,3070.8987010700253,3841.009957328154,3070.8987010700253,4121.887446545337,3841.009957328154,3070.8987010700253,4121.887446545337,3841.009957328154,4384.845258618256,3070.8987010700253,3841.009957328154,4276.457684983897,3070.8987010700253,4121.887446545337,3841.009957328154,3070.8987010700253,4121.887446545337,4935.916210924576,3841.009957328154,3070.8987010700253,4660.48534988204,5168.263875443831,4276.457684983897,3841.009957328154,4121.887446545337,3841.009957328154,3070.8987010700253,3070.8987010700253,4005.9150305658145,3841.009957328154,4528.5810284713225,4206.458287027927,3070.8987010700253,3841.009957328154,3070.8987010700253,4121.887446545337,3841.009957328154,3070.8987010700253,4334.884684584816,4121.887446545337,3841.009957328154,4996.091784624338,3070.8987010700253,4005.9150305658145,4276.457684983897,3070.8987010700253,5042.090631175219,3841.009957328154,4121.887446545337,3070.8987010700253,3841.009957328154,3070.8987010700253,4121.887446545337,3841.009957328154,4276.457684983897,3070.8987010700253,3841.009957328154,4384.845258618256,4121.887446545337,3070.8987010700253,3841.009957328154,4709.442632738852,3841.009957328154,3070.8987010700253,4206.458287027927,3841.009957328154,3070.8987010700253,4121.887446545337,4762.8956379763695,4005.9150305658145,3070.8987010700253,3841.009957328154,4276.457684983897,3070.8987010700253,4005.9150305658145,3841.009957328154,3070.8987010700253,4121.887446545337,5016.75113924875,3841.009957328154,3070.8987010700253,4206.458287027927,3841.009957328154,3070.8987010700253,4384.845258618256,4121.887446545337,3841.009957328154,5142.519701979853,3070.8987010700253,3841.009957328154,4121.887446545337,3070.8987010700253,4276.457684983897,3841.009957328154,3070.8987010700253,4121.887446545337,3841.009957328154,4464.551264729626,3070.8987010700253,4005.9150305658145,4276.457684983897,3841.009957328154,3070.8987010700253,4603.356006636722,4121.887446545337,3841.009957328154,3070.8987010700253,3841.009957328154,3070.8987010700253,4121.887446545337,4276.457684983897,3841.009957328154,3070.8987010700253,4121.887446545337,3841.009957328154,3070.8987010700253,3841.009957328154,3070.8987010700253,4121.887446545337,3841.009957328154,4826.124233021871,4276.457684983897,3070.8987010700253,4005.9150305658145,3070.8987010700253,4384.845258618256,3841.009957328154,4206.458287027927,3070.8987010700253,4005.9150305658145,3841.009957328154,3070.8987010700253,4121.887446545337,5157.778628209766,3841.009957328154,3070.8987010700253,4206.458287027927,3841.009957328154,3070.8987010700253,4870.27708156853,4121.887446545337,3841.009957328154,4334.884684584816,3070.8987010700253,4908.764163529728,3841.009957328154,4121.887446545337,3070.8987010700253,3841.009957328154,3070.8987010700253,4121.887446545337,3841.009957328154,3070.8987010700253,4206.458287027927,3841.009957328154,4276.457684983897,4005.9150305658145,3070.8987010700253,5111.746243620142,3841.009957328154,3070.8987010700253,5060.213573406844,4121.887446545337,3841.009957328154,3070.8987010700253,4384.845258618256,4005.9150305658145,3070.8987010700253,4276.457684983897,3841.009957328154,4121.887446545337,3070.8987010700253,3841.009957328154,3841.009957328154,3070.8987010700253,4121.887446545337,3841.009957328154,3070.8987010700253,4276.457684983897,5027.4053524579795,4121.887446545337,3841.009957328154,3070.8987010700253,3841.009957328154,4121.887446545337,3070.8987010700253,4464.551264729626,3841.009957328154,3070.8987010700253,4206.458287027927,3841.009957328154,3070.8987010700253,4121.887446545337,4334.884684584816,3841.009957328154,3070.8987010700253,4005.9150305658145,3070.8987010700253,3841.009957328154,4206.458287027927,3841.009957328154,3070.8987010700253,4121.887446545337,5086.64738728327,3841.009957328154,3070.8987010700253,4954.771189399921,4121.887446545337,4276.457684983897,3070.8987010700253,3841.009957328154,4005.9150305658145,4384.845258618256,3070.8987010700253,3841.009957328154,4121.887446545337,3070.8987010700253,3841.009957328154,5073.937110848369,3070.8987010700253,4206.458287027927,3841.009957328154,3070.8987010700253,4005.9150305658145,4276.457684983897,3841.009957328154,5099.409113912332,3070.8987010700253,4121.887446545337,3841.009957328154,3070.8987010700253,4121.887446545337,3841.009957328154,3070.8987010700253,4276.457684983897,3841.009957328154,3070.8987010700253,4121.887446545337,3841.009957328154,3070.8987010700253,4121.887446545337,3841.009957328154,4334.884684584816,3070.8987010700253,3841.009957328154,4121.887446545337,3070.8987010700253,3841.009957328154,3070.8987010700253,4276.457684983897,4005.9150305658145,3841.009957328154,3070.8987010700253,4121.887446545337,4428.045308086619,3841.009957328154,3070.8987010700253,4121.887446545337,3841.009957328154,3070.8987010700253,4736.6277143147345,4276.457684983897,3070.8987010700253,3841.009957328154,4844.646786813006,4121.887446545337,3841.009957328154,3070.8987010700253,4206.458287027927,5178.840227798743,3841.009957328154,4785.651199627076,3070.8987010700253,4005.9150305658145,3070.8987010700253,4978.820520604018,4121.887446545337,3841.009957328154,4334.884684584816,3070.8987010700253,5135.0441467166975,3841.009957328154,4206.458287027927,3841.009957328154,3070.8987010700253,4121.887446545337,3841.009957328154,3070.8987010700253,4528.5810284713225,4005.9150305658145,3070.8987010700253,4276.457684983897,3841.009957328154,4121.887446545337,3070.8987010700253,4384.845258618256,3841.009957328154,3070.8987010700253,4121.887446545337,3841.009957328154,3070.8987010700253,3841.009957328154,4121.887446545337,3070.8987010700253,4276.457684983897,3841.009957328154],\"colorbar\":{\"title\":{\"text\":\"Objective Value\"}},\"colorscale\":[[0.0,\"rgb(247,251,255)\"],[0.125,\"rgb(222,235,247)\"],[0.25,\"rgb(198,219,239)\"],[0.375,\"rgb(158,202,225)\"],[0.5,\"rgb(107,174,214)\"],[0.625,\"rgb(66,146,198)\"],[0.75,\"rgb(33,113,181)\"],[0.875,\"rgb(8,81,156)\"],[1.0,\"rgb(8,48,107)\"]],\"reversescale\":true,\"showscale\":true},\"type\":\"parcoords\"}],                        {\"title\":{\"text\":\"Parallel Coordinate Plot\"},\"template\":{\"data\":{\"bar\":[{\"error_x\":{\"color\":\"#2a3f5f\"},\"error_y\":{\"color\":\"#2a3f5f\"},\"marker\":{\"line\":{\"color\":\"#E5ECF6\",\"width\":0.5},\"pattern\":{\"fillmode\":\"overlay\",\"size\":10,\"solidity\":0.2}},\"type\":\"bar\"}],\"barpolar\":[{\"marker\":{\"line\":{\"color\":\"#E5ECF6\",\"width\":0.5},\"pattern\":{\"fillmode\":\"overlay\",\"size\":10,\"solidity\":0.2}},\"type\":\"barpolar\"}],\"carpet\":[{\"aaxis\":{\"endlinecolor\":\"#2a3f5f\",\"gridcolor\":\"white\",\"linecolor\":\"white\",\"minorgridcolor\":\"white\",\"startlinecolor\":\"#2a3f5f\"},\"baxis\":{\"endlinecolor\":\"#2a3f5f\",\"gridcolor\":\"white\",\"linecolor\":\"white\",\"minorgridcolor\":\"white\",\"startlinecolor\":\"#2a3f5f\"},\"type\":\"carpet\"}],\"choropleth\":[{\"colorbar\":{\"outlinewidth\":0,\"ticks\":\"\"},\"type\":\"choropleth\"}],\"contour\":[{\"colorbar\":{\"outlinewidth\":0,\"ticks\":\"\"},\"colorscale\":[[0.0,\"#0d0887\"],[0.1111111111111111,\"#46039f\"],[0.2222222222222222,\"#7201a8\"],[0.3333333333333333,\"#9c179e\"],[0.4444444444444444,\"#bd3786\"],[0.5555555555555556,\"#d8576b\"],[0.6666666666666666,\"#ed7953\"],[0.7777777777777778,\"#fb9f3a\"],[0.8888888888888888,\"#fdca26\"],[1.0,\"#f0f921\"]],\"type\":\"contour\"}],\"contourcarpet\":[{\"colorbar\":{\"outlinewidth\":0,\"ticks\":\"\"},\"type\":\"contourcarpet\"}],\"heatmap\":[{\"colorbar\":{\"outlinewidth\":0,\"ticks\":\"\"},\"colorscale\":[[0.0,\"#0d0887\"],[0.1111111111111111,\"#46039f\"],[0.2222222222222222,\"#7201a8\"],[0.3333333333333333,\"#9c179e\"],[0.4444444444444444,\"#bd3786\"],[0.5555555555555556,\"#d8576b\"],[0.6666666666666666,\"#ed7953\"],[0.7777777777777778,\"#fb9f3a\"],[0.8888888888888888,\"#fdca26\"],[1.0,\"#f0f921\"]],\"type\":\"heatmap\"}],\"heatmapgl\":[{\"colorbar\":{\"outlinewidth\":0,\"ticks\":\"\"},\"colorscale\":[[0.0,\"#0d0887\"],[0.1111111111111111,\"#46039f\"],[0.2222222222222222,\"#7201a8\"],[0.3333333333333333,\"#9c179e\"],[0.4444444444444444,\"#bd3786\"],[0.5555555555555556,\"#d8576b\"],[0.6666666666666666,\"#ed7953\"],[0.7777777777777778,\"#fb9f3a\"],[0.8888888888888888,\"#fdca26\"],[1.0,\"#f0f921\"]],\"type\":\"heatmapgl\"}],\"histogram\":[{\"marker\":{\"pattern\":{\"fillmode\":\"overlay\",\"size\":10,\"solidity\":0.2}},\"type\":\"histogram\"}],\"histogram2d\":[{\"colorbar\":{\"outlinewidth\":0,\"ticks\":\"\"},\"colorscale\":[[0.0,\"#0d0887\"],[0.1111111111111111,\"#46039f\"],[0.2222222222222222,\"#7201a8\"],[0.3333333333333333,\"#9c179e\"],[0.4444444444444444,\"#bd3786\"],[0.5555555555555556,\"#d8576b\"],[0.6666666666666666,\"#ed7953\"],[0.7777777777777778,\"#fb9f3a\"],[0.8888888888888888,\"#fdca26\"],[1.0,\"#f0f921\"]],\"type\":\"histogram2d\"}],\"histogram2dcontour\":[{\"colorbar\":{\"outlinewidth\":0,\"ticks\":\"\"},\"colorscale\":[[0.0,\"#0d0887\"],[0.1111111111111111,\"#46039f\"],[0.2222222222222222,\"#7201a8\"],[0.3333333333333333,\"#9c179e\"],[0.4444444444444444,\"#bd3786\"],[0.5555555555555556,\"#d8576b\"],[0.6666666666666666,\"#ed7953\"],[0.7777777777777778,\"#fb9f3a\"],[0.8888888888888888,\"#fdca26\"],[1.0,\"#f0f921\"]],\"type\":\"histogram2dcontour\"}],\"mesh3d\":[{\"colorbar\":{\"outlinewidth\":0,\"ticks\":\"\"},\"type\":\"mesh3d\"}],\"parcoords\":[{\"line\":{\"colorbar\":{\"outlinewidth\":0,\"ticks\":\"\"}},\"type\":\"parcoords\"}],\"pie\":[{\"automargin\":true,\"type\":\"pie\"}],\"scatter\":[{\"marker\":{\"colorbar\":{\"outlinewidth\":0,\"ticks\":\"\"}},\"type\":\"scatter\"}],\"scatter3d\":[{\"line\":{\"colorbar\":{\"outlinewidth\":0,\"ticks\":\"\"}},\"marker\":{\"colorbar\":{\"outlinewidth\":0,\"ticks\":\"\"}},\"type\":\"scatter3d\"}],\"scattercarpet\":[{\"marker\":{\"colorbar\":{\"outlinewidth\":0,\"ticks\":\"\"}},\"type\":\"scattercarpet\"}],\"scattergeo\":[{\"marker\":{\"colorbar\":{\"outlinewidth\":0,\"ticks\":\"\"}},\"type\":\"scattergeo\"}],\"scattergl\":[{\"marker\":{\"colorbar\":{\"outlinewidth\":0,\"ticks\":\"\"}},\"type\":\"scattergl\"}],\"scattermapbox\":[{\"marker\":{\"colorbar\":{\"outlinewidth\":0,\"ticks\":\"\"}},\"type\":\"scattermapbox\"}],\"scatterpolar\":[{\"marker\":{\"colorbar\":{\"outlinewidth\":0,\"ticks\":\"\"}},\"type\":\"scatterpolar\"}],\"scatterpolargl\":[{\"marker\":{\"colorbar\":{\"outlinewidth\":0,\"ticks\":\"\"}},\"type\":\"scatterpolargl\"}],\"scatterternary\":[{\"marker\":{\"colorbar\":{\"outlinewidth\":0,\"ticks\":\"\"}},\"type\":\"scatterternary\"}],\"surface\":[{\"colorbar\":{\"outlinewidth\":0,\"ticks\":\"\"},\"colorscale\":[[0.0,\"#0d0887\"],[0.1111111111111111,\"#46039f\"],[0.2222222222222222,\"#7201a8\"],[0.3333333333333333,\"#9c179e\"],[0.4444444444444444,\"#bd3786\"],[0.5555555555555556,\"#d8576b\"],[0.6666666666666666,\"#ed7953\"],[0.7777777777777778,\"#fb9f3a\"],[0.8888888888888888,\"#fdca26\"],[1.0,\"#f0f921\"]],\"type\":\"surface\"}],\"table\":[{\"cells\":{\"fill\":{\"color\":\"#EBF0F8\"},\"line\":{\"color\":\"white\"}},\"header\":{\"fill\":{\"color\":\"#C8D4E3\"},\"line\":{\"color\":\"white\"}},\"type\":\"table\"}]},\"layout\":{\"annotationdefaults\":{\"arrowcolor\":\"#2a3f5f\",\"arrowhead\":0,\"arrowwidth\":1},\"autotypenumbers\":\"strict\",\"coloraxis\":{\"colorbar\":{\"outlinewidth\":0,\"ticks\":\"\"}},\"colorscale\":{\"diverging\":[[0,\"#8e0152\"],[0.1,\"#c51b7d\"],[0.2,\"#de77ae\"],[0.3,\"#f1b6da\"],[0.4,\"#fde0ef\"],[0.5,\"#f7f7f7\"],[0.6,\"#e6f5d0\"],[0.7,\"#b8e186\"],[0.8,\"#7fbc41\"],[0.9,\"#4d9221\"],[1,\"#276419\"]],\"sequential\":[[0.0,\"#0d0887\"],[0.1111111111111111,\"#46039f\"],[0.2222222222222222,\"#7201a8\"],[0.3333333333333333,\"#9c179e\"],[0.4444444444444444,\"#bd3786\"],[0.5555555555555556,\"#d8576b\"],[0.6666666666666666,\"#ed7953\"],[0.7777777777777778,\"#fb9f3a\"],[0.8888888888888888,\"#fdca26\"],[1.0,\"#f0f921\"]],\"sequentialminus\":[[0.0,\"#0d0887\"],[0.1111111111111111,\"#46039f\"],[0.2222222222222222,\"#7201a8\"],[0.3333333333333333,\"#9c179e\"],[0.4444444444444444,\"#bd3786\"],[0.5555555555555556,\"#d8576b\"],[0.6666666666666666,\"#ed7953\"],[0.7777777777777778,\"#fb9f3a\"],[0.8888888888888888,\"#fdca26\"],[1.0,\"#f0f921\"]]},\"colorway\":[\"#636efa\",\"#EF553B\",\"#00cc96\",\"#ab63fa\",\"#FFA15A\",\"#19d3f3\",\"#FF6692\",\"#B6E880\",\"#FF97FF\",\"#FECB52\"],\"font\":{\"color\":\"#2a3f5f\"},\"geo\":{\"bgcolor\":\"white\",\"lakecolor\":\"white\",\"landcolor\":\"#E5ECF6\",\"showlakes\":true,\"showland\":true,\"subunitcolor\":\"white\"},\"hoverlabel\":{\"align\":\"left\"},\"hovermode\":\"closest\",\"mapbox\":{\"style\":\"light\"},\"paper_bgcolor\":\"white\",\"plot_bgcolor\":\"#E5ECF6\",\"polar\":{\"angularaxis\":{\"gridcolor\":\"white\",\"linecolor\":\"white\",\"ticks\":\"\"},\"bgcolor\":\"#E5ECF6\",\"radialaxis\":{\"gridcolor\":\"white\",\"linecolor\":\"white\",\"ticks\":\"\"}},\"scene\":{\"xaxis\":{\"backgroundcolor\":\"#E5ECF6\",\"gridcolor\":\"white\",\"gridwidth\":2,\"linecolor\":\"white\",\"showbackground\":true,\"ticks\":\"\",\"zerolinecolor\":\"white\"},\"yaxis\":{\"backgroundcolor\":\"#E5ECF6\",\"gridcolor\":\"white\",\"gridwidth\":2,\"linecolor\":\"white\",\"showbackground\":true,\"ticks\":\"\",\"zerolinecolor\":\"white\"},\"zaxis\":{\"backgroundcolor\":\"#E5ECF6\",\"gridcolor\":\"white\",\"gridwidth\":2,\"linecolor\":\"white\",\"showbackground\":true,\"ticks\":\"\",\"zerolinecolor\":\"white\"}},\"shapedefaults\":{\"line\":{\"color\":\"#2a3f5f\"}},\"ternary\":{\"aaxis\":{\"gridcolor\":\"white\",\"linecolor\":\"white\",\"ticks\":\"\"},\"baxis\":{\"gridcolor\":\"white\",\"linecolor\":\"white\",\"ticks\":\"\"},\"bgcolor\":\"#E5ECF6\",\"caxis\":{\"gridcolor\":\"white\",\"linecolor\":\"white\",\"ticks\":\"\"}},\"title\":{\"x\":0.05},\"xaxis\":{\"automargin\":true,\"gridcolor\":\"white\",\"linecolor\":\"white\",\"ticks\":\"\",\"title\":{\"standoff\":15},\"zerolinecolor\":\"white\",\"zerolinewidth\":2},\"yaxis\":{\"automargin\":true,\"gridcolor\":\"white\",\"linecolor\":\"white\",\"ticks\":\"\",\"title\":{\"standoff\":15},\"zerolinecolor\":\"white\",\"zerolinewidth\":2}}}},                        {\"responsive\": true}                    ).then(function(){\n",
              "                            \n",
              "var gd = document.getElementById('06f89c63-79b9-436e-a537-f9cc9b273067');\n",
              "var x = new MutationObserver(function (mutations, observer) {{\n",
              "        var display = window.getComputedStyle(gd).display;\n",
              "        if (!display || display === 'none') {{\n",
              "            console.log([gd, 'removed!']);\n",
              "            Plotly.purge(gd);\n",
              "            observer.disconnect();\n",
              "        }}\n",
              "}});\n",
              "\n",
              "// Listen for the removal of the full notebook cells\n",
              "var notebookContainer = gd.closest('#notebook-container');\n",
              "if (notebookContainer) {{\n",
              "    x.observe(notebookContainer, {childList: true});\n",
              "}}\n",
              "\n",
              "// Listen for the clearing of the current output cell\n",
              "var outputEl = gd.closest('.output');\n",
              "if (outputEl) {{\n",
              "    x.observe(outputEl, {childList: true});\n",
              "}}\n",
              "\n",
              "                        })                };                            </script>        </div>\n",
              "</body>\n",
              "</html>"
            ]
          },
          "metadata": {}
        }
      ],
      "source": [
        "# plot_parallel_coordinate: interactively visualizes the hyperparameters and scores\n",
        "fig = optuna.visualization.plot_parallel_coordinate(study)\n",
        "py.plot(fig, filename='parallelCoordinate_KNR_Optuna_1000_GPU.html')\n",
        "fig.show()"
      ]
    },
    {
      "cell_type": "code",
      "execution_count": null,
      "metadata": {
        "id": "XtqgSlIq14Xe",
        "colab": {
          "base_uri": "https://localhost:8080/",
          "height": 542
        },
        "outputId": "ad4119c5-287c-44da-a4e0-c56e39fb1724"
      },
      "outputs": [
        {
          "output_type": "display_data",
          "data": {
            "text/html": [
              "<html>\n",
              "<head><meta charset=\"utf-8\" /></head>\n",
              "<body>\n",
              "    <div>            <script src=\"https://cdnjs.cloudflare.com/ajax/libs/mathjax/2.7.5/MathJax.js?config=TeX-AMS-MML_SVG\"></script><script type=\"text/javascript\">if (window.MathJax) {MathJax.Hub.Config({SVG: {font: \"STIX-Web\"}});}</script>                <script type=\"text/javascript\">window.PlotlyConfig = {MathJaxConfig: 'local'};</script>\n",
              "        <script src=\"https://cdn.plot.ly/plotly-2.8.3.min.js\"></script>                <div id=\"3c03b11d-3fbe-4450-b167-0d1358bdea53\" class=\"plotly-graph-div\" style=\"height:525px; width:100%;\"></div>            <script type=\"text/javascript\">                                    window.PLOTLYENV=window.PLOTLYENV || {};                                    if (document.getElementById(\"3c03b11d-3fbe-4450-b167-0d1358bdea53\")) {                    Plotly.newPlot(                        \"3c03b11d-3fbe-4450-b167-0d1358bdea53\",                        [{\"marker\":{\"color\":[0,1,2,3,4,5,6,7,8,9,10,11,12,13,14,15,16,17,18,19,20,21,22,23,24,25,26,27,28,29,30,31,32,33,34,35,36,37,38,39,40,41,42,43,44,45,46,47,48,49,50,51,52,53,54,55,56,57,58,59,60,61,62,63,64,65,66,67,68,69,70,71,72,73,74,75,76,77,78,79,80,81,82,83,84,85,86,87,88,89,90,91,92,93,94,95,96,97,98,99,100,101,102,103,104,105,106,107,108,109,110,111,112,113,114,115,116,117,118,119,120,121,122,123,124,125,126,127,128,129,130,131,132,133,134,135,136,137,138,139,140,141,142,143,144,145,146,147,148,149,150,151,152,153,154,155,156,157,158,159,160,161,162,163,164,165,166,167,168,169,170,171,172,173,174,175,176,177,178,179,180,181,182,183,184,185,186,187,188,189,190,191,192,193,194,195,196,197,198,199,200,201,202,203,204,205,206,207,208,209,210,211,212,213,214,215,216,217,218,219,220,221,222,223,224,225,226,227,228,229,230,231,232,233,234,235,236,237,238,239,240,241,242,243,244,245,246,247,248,249,250,251,252,253,254,255,256,257,258,259,260,261,262,263,264,265,266,267,268,269,270,271,272,273,274,275,276,277,278,279,280,281,282,283,284,285,286,287,288,289,290,291,292,293,294,295,296,297,298,299,300,301,302,303,304,305,306,307,308,309,310,311,312,313,314,315,316,317,318,319,320,321,322,323,324,325,326,327,328,329,330,331,332,333,334,335,336,337,338,339,340,341,342,343,344,345,346,347,348,349,350,351,352,353,354,355,356,357,358,359,360,361,362,363,364,365,366,367,368,369,370,371,372,373,374,375,376,377,378,379,380,381,382,383,384,385,386,387,388,389,390,391,392,393,394,395,396,397,398,399,400,401,402,403,404,405,406,407,408,409,410,411,412,413,414,415,416,417,418,419,420,421,422,423,424,425,426,427,428,429,430,431,432,433,434,435,436,437,438,439,440,441,442,443,444,445,446,447,448,449,450,451,452,453,454,455,456,457,458,459,460,461,462,463,464,465,466,467,468,469,470,471,472,473,474,475,476,477,478,479,480,481,482,483,484,485,486,487,488,489,490,491,492,493,494,495,496,497,498,499,500,501,502,503,504,505,506,507,508,509,510,511,512,513,514,515,516,517,518,519,520,521,522,523,524,525,526,527,528,529,530,531,532,533,534,535,536,537,538,539,540,541,542,543,544,545,546,547,548,549,550,551,552,553,554,555,556,557,558,559,560,561,562,563,564,565,566,567,568,569,570,571,572,573,574,575,576,577,578,579,580,581,582,583,584,585,586,587,588,589,590,591,592,593,594,595,596,597,598,599,600,601,602,603,604,605,606,607,608,609,610,611,612,613,614,615,616,617,618,619,620,621,622,623,624,625,626,627,628,629,630,631,632,633,634,635,636,637,638,639,640,641,642,643,644,645,646,647,648,649,650,651,652,653,654,655,656,657,658,659,660,661,662,663,664,665,666,667,668,669,670,671,672,673,674,675,676,677,678,679,680,681,682,683,684,685,686,687,688,689,690,691,692,693,694,695,696,697,698,699,700,701,702,703,704,705,706,707,708,709,710,711,712,713,714,715,716,717,718,719,720,721,722,723,724,725,726,727,728,729,730,731,732,733,734,735,736,737,738,739,740,741,742,743,744,745,746,747,748,749,750,751,752,753,754,755,756,757,758,759,760,761,762,763,764,765,766,767,768,769,770,771,772,773,774,775,776,777,778,779,780,781,782,783,784,785,786,787,788,789,790,791,792,793,794,795,796,797,798,799,800,801,802,803,804,805,806,807,808,809,810,811,812,813,814,815,816,817,818,819,820,821,822,823,824,825,826,827,828,829,830,831,832,833,834,835,836,837,838,839,840,841,842,843,844,845,846,847,848,849,850,851,852,853,854,855,856,857,858,859,860,861,862,863,864,865,866,867,868,869,870,871,872,873,874,875,876,877,878,879,880,881,882,883,884,885,886,887,888,889,890,891,892,893,894,895,896,897,898,899,900,901,902,903,904,905,906,907,908,909,910,911,912,913,914,915,916,917,918,919,920,921,922,923,924,925,926,927,928,929,930,931,932,933,934,935,936,937,938,939,940,941,942,943,944,945,946,947,948,949,950,951,952,953,954,955,956,957,958,959,960,961,962,963,964,965,966,967,968,969,970,971,972,973,974,975,976,977,978,979,980,981,982,983,984,985,986,987,988,989,990,991,992,993,994,995,996,997,998,999],\"colorbar\":{\"title\":{\"text\":\"Trial\"},\"x\":1.0,\"xpad\":40},\"colorscale\":[[0.0,\"rgb(247,251,255)\"],[0.125,\"rgb(222,235,247)\"],[0.25,\"rgb(198,219,239)\"],[0.375,\"rgb(158,202,225)\"],[0.5,\"rgb(107,174,214)\"],[0.625,\"rgb(66,146,198)\"],[0.75,\"rgb(33,113,181)\"],[0.875,\"rgb(8,81,156)\"],[1.0,\"rgb(8,48,107)\"]],\"line\":{\"color\":\"Grey\",\"width\":0.5},\"showscale\":true},\"mode\":\"markers\",\"showlegend\":false,\"x\":[\"euclidean\",\"minkowski\",\"euclidean\",\"chebyshev\",\"chebyshev\",\"minkowski\",\"euclidean\",\"minkowski\",\"euclidean\",\"euclidean\",\"manhattan\",\"manhattan\",\"manhattan\",\"manhattan\",\"manhattan\",\"manhattan\",\"manhattan\",\"manhattan\",\"manhattan\",\"manhattan\",\"chebyshev\",\"manhattan\",\"manhattan\",\"manhattan\",\"manhattan\",\"manhattan\",\"manhattan\",\"manhattan\",\"minkowski\",\"manhattan\",\"chebyshev\",\"manhattan\",\"manhattan\",\"manhattan\",\"manhattan\",\"minkowski\",\"chebyshev\",\"euclidean\",\"manhattan\",\"minkowski\",\"euclidean\",\"manhattan\",\"manhattan\",\"manhattan\",\"manhattan\",\"manhattan\",\"chebyshev\",\"manhattan\",\"euclidean\",\"manhattan\",\"manhattan\",\"chebyshev\",\"chebyshev\",\"chebyshev\",\"chebyshev\",\"chebyshev\",\"minkowski\",\"manhattan\",\"manhattan\",\"manhattan\",\"chebyshev\",\"manhattan\",\"manhattan\",\"manhattan\",\"manhattan\",\"manhattan\",\"manhattan\",\"euclidean\",\"manhattan\",\"manhattan\",\"minkowski\",\"chebyshev\",\"chebyshev\",\"chebyshev\",\"chebyshev\",\"chebyshev\",\"manhattan\",\"manhattan\",\"manhattan\",\"euclidean\",\"chebyshev\",\"chebyshev\",\"chebyshev\",\"chebyshev\",\"chebyshev\",\"manhattan\",\"chebyshev\",\"minkowski\",\"manhattan\",\"manhattan\",\"chebyshev\",\"manhattan\",\"manhattan\",\"manhattan\",\"manhattan\",\"manhattan\",\"manhattan\",\"manhattan\",\"manhattan\",\"euclidean\",\"manhattan\",\"manhattan\",\"manhattan\",\"manhattan\",\"manhattan\",\"chebyshev\",\"manhattan\",\"minkowski\",\"manhattan\",\"chebyshev\",\"manhattan\",\"chebyshev\",\"chebyshev\",\"chebyshev\",\"chebyshev\",\"chebyshev\",\"manhattan\",\"chebyshev\",\"manhattan\",\"euclidean\",\"manhattan\",\"chebyshev\",\"chebyshev\",\"chebyshev\",\"chebyshev\",\"chebyshev\",\"chebyshev\",\"manhattan\",\"manhattan\",\"minkowski\",\"chebyshev\",\"chebyshev\",\"chebyshev\",\"chebyshev\",\"chebyshev\",\"manhattan\",\"chebyshev\",\"manhattan\",\"manhattan\",\"chebyshev\",\"manhattan\",\"chebyshev\",\"chebyshev\",\"chebyshev\",\"chebyshev\",\"chebyshev\",\"manhattan\",\"euclidean\",\"manhattan\",\"chebyshev\",\"manhattan\",\"manhattan\",\"manhattan\",\"manhattan\",\"manhattan\",\"manhattan\",\"chebyshev\",\"manhattan\",\"minkowski\",\"chebyshev\",\"manhattan\",\"manhattan\",\"manhattan\",\"manhattan\",\"manhattan\",\"manhattan\",\"chebyshev\",\"manhattan\",\"chebyshev\",\"manhattan\",\"manhattan\",\"manhattan\",\"manhattan\",\"manhattan\",\"manhattan\",\"chebyshev\",\"manhattan\",\"chebyshev\",\"euclidean\",\"manhattan\",\"manhattan\",\"manhattan\",\"manhattan\",\"manhattan\",\"manhattan\",\"chebyshev\",\"manhattan\",\"chebyshev\",\"manhattan\",\"manhattan\",\"minkowski\",\"chebyshev\",\"chebyshev\",\"chebyshev\",\"chebyshev\",\"chebyshev\",\"chebyshev\",\"manhattan\",\"chebyshev\",\"manhattan\",\"manhattan\",\"chebyshev\",\"chebyshev\",\"chebyshev\",\"chebyshev\",\"chebyshev\",\"chebyshev\",\"manhattan\",\"manhattan\",\"chebyshev\",\"euclidean\",\"manhattan\",\"manhattan\",\"manhattan\",\"manhattan\",\"manhattan\",\"manhattan\",\"chebyshev\",\"manhattan\",\"manhattan\",\"chebyshev\",\"chebyshev\",\"chebyshev\",\"chebyshev\",\"chebyshev\",\"chebyshev\",\"manhattan\",\"minkowski\",\"chebyshev\",\"manhattan\",\"manhattan\",\"chebyshev\",\"chebyshev\",\"chebyshev\",\"chebyshev\",\"chebyshev\",\"chebyshev\",\"manhattan\",\"chebyshev\",\"manhattan\",\"manhattan\",\"chebyshev\",\"chebyshev\",\"chebyshev\",\"chebyshev\",\"chebyshev\",\"chebyshev\",\"manhattan\",\"chebyshev\",\"manhattan\",\"euclidean\",\"manhattan\",\"chebyshev\",\"manhattan\",\"chebyshev\",\"manhattan\",\"chebyshev\",\"manhattan\",\"chebyshev\",\"manhattan\",\"chebyshev\",\"manhattan\",\"minkowski\",\"chebyshev\",\"manhattan\",\"manhattan\",\"chebyshev\",\"manhattan\",\"chebyshev\",\"manhattan\",\"chebyshev\",\"manhattan\",\"chebyshev\",\"manhattan\",\"chebyshev\",\"euclidean\",\"manhattan\",\"chebyshev\",\"manhattan\",\"chebyshev\",\"manhattan\",\"chebyshev\",\"manhattan\",\"chebyshev\",\"minkowski\",\"manhattan\",\"chebyshev\",\"manhattan\",\"chebyshev\",\"manhattan\",\"chebyshev\",\"manhattan\",\"chebyshev\",\"manhattan\",\"manhattan\",\"chebyshev\",\"manhattan\",\"chebyshev\",\"manhattan\",\"chebyshev\",\"euclidean\",\"manhattan\",\"chebyshev\",\"manhattan\",\"chebyshev\",\"manhattan\",\"chebyshev\",\"manhattan\",\"chebyshev\",\"minkowski\",\"manhattan\",\"chebyshev\",\"manhattan\",\"chebyshev\",\"manhattan\",\"chebyshev\",\"manhattan\",\"chebyshev\",\"manhattan\",\"chebyshev\",\"manhattan\",\"chebyshev\",\"manhattan\",\"manhattan\",\"chebyshev\",\"euclidean\",\"manhattan\",\"chebyshev\",\"manhattan\",\"chebyshev\",\"manhattan\",\"chebyshev\",\"manhattan\",\"chebyshev\",\"minkowski\",\"manhattan\",\"chebyshev\",\"manhattan\",\"chebyshev\",\"manhattan\",\"chebyshev\",\"manhattan\",\"chebyshev\",\"manhattan\",\"chebyshev\",\"manhattan\",\"chebyshev\",\"manhattan\",\"chebyshev\",\"euclidean\",\"manhattan\",\"chebyshev\",\"manhattan\",\"manhattan\",\"chebyshev\",\"manhattan\",\"chebyshev\",\"minkowski\",\"manhattan\",\"chebyshev\",\"manhattan\",\"chebyshev\",\"manhattan\",\"chebyshev\",\"manhattan\",\"chebyshev\",\"manhattan\",\"chebyshev\",\"manhattan\",\"chebyshev\",\"manhattan\",\"chebyshev\",\"manhattan\",\"euclidean\",\"chebyshev\",\"manhattan\",\"chebyshev\",\"manhattan\",\"chebyshev\",\"manhattan\",\"chebyshev\",\"manhattan\",\"minkowski\",\"manhattan\",\"chebyshev\",\"manhattan\",\"chebyshev\",\"manhattan\",\"chebyshev\",\"manhattan\",\"chebyshev\",\"manhattan\",\"chebyshev\",\"manhattan\",\"chebyshev\",\"manhattan\",\"chebyshev\",\"manhattan\",\"euclidean\",\"chebyshev\",\"manhattan\",\"chebyshev\",\"manhattan\",\"chebyshev\",\"manhattan\",\"chebyshev\",\"manhattan\",\"minkowski\",\"chebyshev\",\"manhattan\",\"chebyshev\",\"manhattan\",\"chebyshev\",\"manhattan\",\"manhattan\",\"chebyshev\",\"manhattan\",\"chebyshev\",\"manhattan\",\"chebyshev\",\"manhattan\",\"chebyshev\",\"euclidean\",\"manhattan\",\"chebyshev\",\"manhattan\",\"chebyshev\",\"manhattan\",\"chebyshev\",\"manhattan\",\"chebyshev\",\"minkowski\",\"manhattan\",\"chebyshev\",\"manhattan\",\"chebyshev\",\"manhattan\",\"chebyshev\",\"manhattan\",\"chebyshev\",\"manhattan\",\"chebyshev\",\"manhattan\",\"manhattan\",\"chebyshev\",\"manhattan\",\"euclidean\",\"chebyshev\",\"manhattan\",\"chebyshev\",\"manhattan\",\"chebyshev\",\"manhattan\",\"chebyshev\",\"manhattan\",\"minkowski\",\"chebyshev\",\"manhattan\",\"chebyshev\",\"manhattan\",\"chebyshev\",\"manhattan\",\"chebyshev\",\"manhattan\",\"chebyshev\",\"manhattan\",\"chebyshev\",\"manhattan\",\"chebyshev\",\"manhattan\",\"euclidean\",\"chebyshev\",\"manhattan\",\"manhattan\",\"chebyshev\",\"manhattan\",\"chebyshev\",\"manhattan\",\"chebyshev\",\"minkowski\",\"manhattan\",\"chebyshev\",\"manhattan\",\"chebyshev\",\"manhattan\",\"chebyshev\",\"manhattan\",\"chebyshev\",\"manhattan\",\"chebyshev\",\"manhattan\",\"chebyshev\",\"manhattan\",\"chebyshev\",\"manhattan\",\"chebyshev\",\"manhattan\",\"chebyshev\",\"euclidean\",\"manhattan\",\"chebyshev\",\"manhattan\",\"manhattan\",\"chebyshev\",\"minkowski\",\"manhattan\",\"chebyshev\",\"manhattan\",\"chebyshev\",\"manhattan\",\"chebyshev\",\"manhattan\",\"chebyshev\",\"manhattan\",\"chebyshev\",\"manhattan\",\"chebyshev\",\"manhattan\",\"chebyshev\",\"euclidean\",\"manhattan\",\"chebyshev\",\"manhattan\",\"chebyshev\",\"manhattan\",\"chebyshev\",\"manhattan\",\"minkowski\",\"chebyshev\",\"manhattan\",\"chebyshev\",\"manhattan\",\"chebyshev\",\"manhattan\",\"manhattan\",\"chebyshev\",\"manhattan\",\"chebyshev\",\"manhattan\",\"chebyshev\",\"manhattan\",\"chebyshev\",\"manhattan\",\"euclidean\",\"chebyshev\",\"manhattan\",\"chebyshev\",\"manhattan\",\"chebyshev\",\"manhattan\",\"chebyshev\",\"manhattan\",\"minkowski\",\"chebyshev\",\"manhattan\",\"chebyshev\",\"manhattan\",\"chebyshev\",\"manhattan\",\"chebyshev\",\"manhattan\",\"chebyshev\",\"manhattan\",\"manhattan\",\"chebyshev\",\"manhattan\",\"chebyshev\",\"euclidean\",\"manhattan\",\"chebyshev\",\"manhattan\",\"chebyshev\",\"manhattan\",\"chebyshev\",\"manhattan\",\"chebyshev\",\"manhattan\",\"minkowski\",\"chebyshev\",\"manhattan\",\"chebyshev\",\"manhattan\",\"chebyshev\",\"manhattan\",\"chebyshev\",\"manhattan\",\"chebyshev\",\"manhattan\",\"chebyshev\",\"manhattan\",\"chebyshev\",\"manhattan\",\"euclidean\",\"manhattan\",\"chebyshev\",\"manhattan\",\"chebyshev\",\"manhattan\",\"chebyshev\",\"manhattan\",\"chebyshev\",\"minkowski\",\"manhattan\",\"chebyshev\",\"manhattan\",\"chebyshev\",\"manhattan\",\"chebyshev\",\"manhattan\",\"chebyshev\",\"manhattan\",\"chebyshev\",\"manhattan\",\"chebyshev\",\"manhattan\",\"euclidean\",\"chebyshev\",\"manhattan\",\"chebyshev\",\"manhattan\",\"chebyshev\",\"manhattan\",\"manhattan\",\"chebyshev\",\"minkowski\",\"manhattan\",\"chebyshev\",\"manhattan\",\"chebyshev\",\"manhattan\",\"chebyshev\",\"manhattan\",\"chebyshev\",\"manhattan\",\"chebyshev\",\"manhattan\",\"chebyshev\",\"manhattan\",\"chebyshev\",\"manhattan\",\"chebyshev\",\"euclidean\",\"manhattan\",\"chebyshev\",\"manhattan\",\"chebyshev\",\"manhattan\",\"chebyshev\",\"manhattan\",\"minkowski\",\"chebyshev\",\"manhattan\",\"chebyshev\",\"manhattan\",\"manhattan\",\"chebyshev\",\"manhattan\",\"chebyshev\",\"manhattan\",\"chebyshev\",\"manhattan\",\"chebyshev\",\"manhattan\",\"chebyshev\",\"euclidean\",\"manhattan\",\"chebyshev\",\"manhattan\",\"chebyshev\",\"manhattan\",\"chebyshev\",\"manhattan\",\"chebyshev\",\"minkowski\",\"manhattan\",\"chebyshev\",\"manhattan\",\"chebyshev\",\"manhattan\",\"chebyshev\",\"manhattan\",\"chebyshev\",\"manhattan\",\"manhattan\",\"chebyshev\",\"manhattan\",\"chebyshev\",\"manhattan\",\"chebyshev\",\"euclidean\",\"manhattan\",\"chebyshev\",\"manhattan\",\"chebyshev\",\"manhattan\",\"chebyshev\",\"manhattan\",\"minkowski\",\"chebyshev\",\"manhattan\",\"chebyshev\",\"manhattan\",\"chebyshev\",\"manhattan\",\"chebyshev\",\"manhattan\",\"chebyshev\",\"manhattan\",\"chebyshev\",\"manhattan\",\"chebyshev\",\"manhattan\",\"euclidean\",\"manhattan\",\"chebyshev\",\"manhattan\",\"chebyshev\",\"manhattan\",\"chebyshev\",\"manhattan\",\"chebyshev\",\"manhattan\",\"chebyshev\",\"minkowski\",\"manhattan\",\"chebyshev\",\"manhattan\",\"chebyshev\",\"manhattan\",\"chebyshev\",\"manhattan\",\"chebyshev\",\"manhattan\",\"chebyshev\",\"manhattan\",\"chebyshev\",\"manhattan\",\"euclidean\",\"chebyshev\",\"manhattan\",\"chebyshev\",\"manhattan\",\"manhattan\",\"chebyshev\",\"manhattan\",\"chebyshev\",\"minkowski\",\"manhattan\",\"chebyshev\",\"manhattan\",\"chebyshev\",\"manhattan\",\"chebyshev\",\"manhattan\",\"chebyshev\",\"manhattan\",\"chebyshev\",\"manhattan\",\"chebyshev\",\"manhattan\",\"chebyshev\",\"manhattan\",\"euclidean\",\"chebyshev\",\"manhattan\",\"chebyshev\",\"manhattan\",\"chebyshev\",\"manhattan\",\"minkowski\",\"chebyshev\",\"manhattan\",\"chebyshev\",\"manhattan\",\"manhattan\",\"chebyshev\",\"manhattan\",\"chebyshev\",\"manhattan\",\"chebyshev\",\"manhattan\",\"chebyshev\",\"manhattan\",\"chebyshev\",\"manhattan\",\"chebyshev\",\"euclidean\",\"manhattan\",\"chebyshev\",\"manhattan\",\"chebyshev\",\"manhattan\",\"chebyshev\",\"manhattan\",\"chebyshev\",\"minkowski\",\"manhattan\",\"chebyshev\",\"manhattan\",\"chebyshev\",\"manhattan\",\"chebyshev\",\"manhattan\",\"manhattan\",\"chebyshev\",\"manhattan\",\"chebyshev\",\"manhattan\",\"chebyshev\",\"manhattan\",\"euclidean\",\"chebyshev\",\"manhattan\",\"chebyshev\",\"manhattan\",\"chebyshev\",\"manhattan\",\"chebyshev\",\"minkowski\",\"manhattan\",\"chebyshev\",\"manhattan\",\"chebyshev\",\"manhattan\",\"chebyshev\",\"manhattan\",\"chebyshev\",\"manhattan\",\"chebyshev\",\"manhattan\",\"chebyshev\",\"manhattan\",\"manhattan\",\"chebyshev\",\"manhattan\",\"euclidean\",\"chebyshev\",\"manhattan\",\"chebyshev\",\"manhattan\",\"chebyshev\",\"manhattan\",\"chebyshev\",\"minkowski\",\"manhattan\",\"chebyshev\",\"manhattan\",\"chebyshev\",\"manhattan\",\"chebyshev\",\"manhattan\",\"chebyshev\",\"manhattan\",\"chebyshev\",\"manhattan\",\"chebyshev\",\"manhattan\",\"euclidean\",\"chebyshev\",\"manhattan\",\"chebyshev\",\"manhattan\",\"manhattan\",\"chebyshev\",\"manhattan\",\"chebyshev\",\"minkowski\",\"manhattan\",\"chebyshev\",\"manhattan\",\"chebyshev\",\"manhattan\",\"chebyshev\",\"manhattan\",\"chebyshev\",\"manhattan\",\"chebyshev\",\"manhattan\",\"chebyshev\",\"manhattan\",\"chebyshev\",\"manhattan\",\"chebyshev\",\"manhattan\",\"euclidean\",\"chebyshev\",\"manhattan\",\"chebyshev\",\"manhattan\",\"chebyshev\",\"manhattan\",\"minkowski\",\"chebyshev\",\"manhattan\",\"manhattan\",\"chebyshev\",\"manhattan\",\"chebyshev\",\"manhattan\",\"chebyshev\",\"manhattan\",\"chebyshev\",\"manhattan\",\"chebyshev\",\"manhattan\",\"chebyshev\",\"euclidean\",\"manhattan\",\"chebyshev\",\"manhattan\",\"chebyshev\",\"manhattan\",\"chebyshev\",\"manhattan\",\"chebyshev\",\"manhattan\",\"minkowski\",\"chebyshev\",\"manhattan\",\"chebyshev\",\"manhattan\",\"chebyshev\",\"manhattan\",\"manhattan\",\"chebyshev\",\"manhattan\",\"chebyshev\",\"manhattan\",\"chebyshev\",\"manhattan\",\"euclidean\",\"chebyshev\",\"manhattan\",\"chebyshev\",\"manhattan\",\"chebyshev\",\"manhattan\",\"chebyshev\",\"manhattan\",\"chebyshev\",\"manhattan\",\"minkowski\",\"chebyshev\",\"manhattan\",\"chebyshev\",\"manhattan\",\"chebyshev\",\"manhattan\",\"chebyshev\",\"manhattan\",\"chebyshev\",\"manhattan\",\"manhattan\",\"chebyshev\",\"manhattan\",\"euclidean\",\"chebyshev\",\"manhattan\",\"chebyshev\",\"manhattan\",\"chebyshev\",\"manhattan\",\"chebyshev\",\"minkowski\",\"manhattan\",\"chebyshev\",\"manhattan\",\"chebyshev\",\"manhattan\",\"chebyshev\",\"manhattan\",\"chebyshev\",\"manhattan\",\"chebyshev\",\"manhattan\",\"chebyshev\",\"manhattan\",\"chebyshev\",\"manhattan\",\"euclidean\",\"chebyshev\",\"manhattan\",\"manhattan\",\"chebyshev\",\"manhattan\",\"chebyshev\",\"manhattan\",\"chebyshev\",\"manhattan\",\"chebyshev\",\"minkowski\",\"manhattan\",\"chebyshev\",\"manhattan\",\"chebyshev\",\"manhattan\",\"chebyshev\",\"manhattan\",\"chebyshev\",\"manhattan\"],\"y\":[4886.360554442493,5154.069020265029,4935.916210924576,5146.540508397751,4774.027433856023,4973.073511290455,4121.887446545337,4826.124233021871,5168.263875443831,4762.8956379763695,3070.8987010700253,3841.009957328154,3070.8987010700253,4603.356006636722,3070.8987010700253,5078.173747653229,4660.48534988204,5006.560109271813,4528.5810284713225,5037.345727529945,4528.5810284713225,3070.8987010700253,4384.845258618256,4709.442632738852,3586.325763235942,4853.149485004742,4428.045308086619,4603.356006636722,5082.400732729732,4916.2527198382495,4334.884684584816,3586.325763235942,3070.8987010700253,4694.141815359486,4384.845258618256,4774.027433856023,3070.8987010700253,4334.884684584816,4555.016986871412,4835.219970698422,4736.6277143147345,4206.458287027927,3070.8987010700253,4121.887446545337,4625.044663202976,4497.798438248811,4206.458287027927,5142.519701979853,4966.944556356028,4785.651199627076,4642.452428150509,3070.8987010700253,4005.9150305658145,3070.8987010700253,4497.798438248811,4206.458287027927,4464.551264729626,4121.887446545337,4555.016986871412,3070.8987010700253,4384.845258618256,3070.8987010700253,4005.9150305658145,4206.458287027927,4384.845258618256,4580.496166314265,4677.786791115154,5001.20520844586,3841.009957328154,4334.884684584816,4893.97251570672,3070.8987010700253,3070.8987010700253,4005.9150305658145,4464.551264729626,4334.884684584816,5078.173747653229,4005.9150305658145,5107.52968095669,4276.457684983897,4580.496166314265,3070.8987010700253,3841.009957328154,3070.8987010700253,4206.458287027927,4428.045308086619,4005.9150305658145,4497.798438248811,3841.009957328154,4276.457684983897,4428.045308086619,3070.8987010700253,3841.009957328154,4206.458287027927,3070.8987010700253,4121.887446545337,4942.141027134422,4528.5810284713225,4334.884684584816,3841.009957328154,4121.887446545337,3070.8987010700253,3070.8987010700253,3841.009957328154,4276.457684983897,4428.045308086619,5032.508288143288,4121.887446545337,3841.009957328154,5175.166948373778,4276.457684983897,3070.8987010700253,3070.8987010700253,3841.009957328154,4121.887446545337,4384.845258618256,3841.009957328154,4276.457684983897,3070.8987010700253,4464.551264729626,4625.044663202976,3070.8987010700253,4005.9150305658145,4121.887446545337,3841.009957328154,4334.884684584816,3070.8987010700253,4807.574189280954,4206.458287027927,3841.009957328154,4121.887446545337,3070.8987010700253,3070.8987010700253,3841.009957328154,4870.27708156853,4334.884684584816,4121.887446545337,3070.8987010700253,4206.458287027927,3841.009957328154,4428.045308086619,3070.8987010700253,3841.009957328154,4121.887446545337,4276.457684983897,3070.8987010700253,3841.009957328154,4005.9150305658145,3070.8987010700253,4384.845258618256,5103.483581188891,3070.8987010700253,3841.009957328154,4206.458287027927,3070.8987010700253,4121.887446545337,3841.009957328154,4005.9150305658145,4276.457684983897,3070.8987010700253,4121.887446545337,3070.8987010700253,3841.009957328154,3070.8987010700253,3841.009957328154,4206.458287027927,3070.8987010700253,4334.884684584816,4984.3211891501915,4005.9150305658145,3841.009957328154,3070.8987010700253,5154.069020265029,3070.8987010700253,4121.887446545337,3841.009957328154,3070.8987010700253,4276.457684983897,4121.887446545337,3841.009957328154,3841.009957328154,3070.8987010700253,3070.8987010700253,4121.887446545337,3841.009957328154,3070.8987010700253,5051.261603566716,4121.887446545337,3841.009957328154,4276.457684983897,3070.8987010700253,3070.8987010700253,3841.009957328154,4005.9150305658145,3070.8987010700253,3841.009957328154,4121.887446545337,3070.8987010700253,4206.458287027927,3841.009957328154,3070.8987010700253,3070.8987010700253,3841.009957328154,4005.9150305658145,3070.8987010700253,3841.009957328154,4206.458287027927,3070.8987010700253,4121.887446545337,3841.009957328154,4334.884684584816,3070.8987010700253,3070.8987010700253,3841.009957328154,3841.009957328154,4736.6277143147345,4121.887446545337,3070.8987010700253,3841.009957328154,3070.8987010700253,4121.887446545337,3070.8987010700253,3841.009957328154,3070.8987010700253,4935.916210924576,3841.009957328154,4121.887446545337,3070.8987010700253,3841.009957328154,4908.764163529728,3070.8987010700253,3070.8987010700253,3841.009957328154,4005.9150305658145,3070.8987010700253,3841.009957328154,4206.458287027927,3070.8987010700253,4005.9150305658145,3841.009957328154,3070.8987010700253,3070.8987010700253,3841.009957328154,3070.8987010700253,4121.887446545337,3841.009957328154,3070.8987010700253,3841.009957328154,4121.887446545337,3070.8987010700253,3841.009957328154,3070.8987010700253,4276.457684983897,4121.887446545337,3841.009957328154,3070.8987010700253,4121.887446545337,3841.009957328154,5127.327385587506,3070.8987010700253,3841.009957328154,4121.887446545337,3070.8987010700253,3841.009957328154,3070.8987010700253,4276.457684983897,4005.9150305658145,3841.009957328154,3070.8987010700253,4206.458287027927,3841.009957328154,3070.8987010700253,4121.887446545337,3841.009957328154,3070.8987010700253,4276.457684983897,4005.9150305658145,3070.8987010700253,3841.009957328154,4121.887446545337,3070.8987010700253,3841.009957328154,4334.884684584816,4121.887446545337,3070.8987010700253,4835.219970698422,3841.009957328154,3841.009957328154,3070.8987010700253,5055.543823168687,4206.458287027927,3841.009957328154,3070.8987010700253,4121.887446545337,3841.009957328154,3070.8987010700253,4276.457684983897,4005.9150305658145,3070.8987010700253,4121.887446545337,4384.845258618256,3841.009957328154,3070.8987010700253,3841.009957328154,4121.887446545337,3070.8987010700253,3841.009957328154,4276.457684983897,3070.8987010700253,3841.009957328154,4121.887446545337,3070.8987010700253,3841.009957328154,4121.887446545337,3070.8987010700253,4954.771189399921,3841.009957328154,4276.457684983897,3070.8987010700253,4005.9150305658145,3841.009957328154,3070.8987010700253,4121.887446545337,3841.009957328154,4861.583489139057,3070.8987010700253,4206.458287027927,3841.009957328154,3070.8987010700253,4121.887446545337,4428.045308086619,3841.009957328154,3070.8987010700253,4276.457684983897,3841.009957328154,4121.887446545337,4807.574189280954,3070.8987010700253,3841.009957328154,3070.8987010700253,4005.9150305658145,3841.009957328154,3070.8987010700253,4206.458287027927,4384.845258618256,3841.009957328154,5027.4053524579795,4121.887446545337,3070.8987010700253,3841.009957328154,3070.8987010700253,4276.457684983897,4005.9150305658145,3070.8987010700253,4121.887446545337,3841.009957328154,3070.8987010700253,3841.009957328154,4121.887446545337,3070.8987010700253,3841.009957328154,4694.141815359486,4334.884684584816,4990.171834350707,3841.009957328154,3070.8987010700253,4121.887446545337,3841.009957328154,3070.8987010700253,4276.457684983897,4121.887446545337,3841.009957328154,5086.64738728327,3070.8987010700253,3841.009957328154,3070.8987010700253,4121.887446545337,3841.009957328154,3070.8987010700253,4749.986369917271,4276.457684983897,4121.887446545337,3841.009957328154,3070.8987010700253,4005.9150305658145,3070.8987010700253,3841.009957328154,4206.458287027927,3070.8987010700253,4384.845258618256,3841.009957328154,4121.887446545337,3070.8987010700253,3841.009957328154,4121.887446545337,3070.8987010700253,4916.2527198382495,5175.166948373778,5127.327385587506,3841.009957328154,4276.457684983897,3070.8987010700253,4005.9150305658145,3841.009957328154,3070.8987010700253,4206.458287027927,3841.009957328154,3070.8987010700253,4121.887446545337,3841.009957328154,5016.75113924875,3070.8987010700253,4005.9150305658145,3841.009957328154,4276.457684983897,3070.8987010700253,4121.887446545337,3841.009957328154,3070.8987010700253,4384.845258618256,3841.009957328154,3070.8987010700253,4206.458287027927,4497.798438248811,4005.9150305658145,3070.8987010700253,3841.009957328154,5164.754262546907,4660.48534988204,4121.887446545337,3070.8987010700253,3841.009957328154,4276.457684983897,3070.8987010700253,4121.887446545337,3841.009957328154,3070.8987010700253,3841.009957328154,4121.887446545337,3070.8987010700253,4886.360554442493,3841.009957328154,4121.887446545337,4334.884684584816,3070.8987010700253,3841.009957328154,3841.009957328154,3070.8987010700253,4206.458287027927,4005.9150305658145,3070.8987010700253,3841.009957328154,4121.887446545337,3070.8987010700253,4276.457684983897,3841.009957328154,3070.8987010700253,3841.009957328154,4603.356006636722,4121.887446545337,4428.045308086619,3070.8987010700253,3841.009957328154,4121.887446545337,3070.8987010700253,4276.457684983897,3841.009957328154,4774.027433856023,3070.8987010700253,4005.9150305658145,3841.009957328154,3070.8987010700253,4121.887446545337,3841.009957328154,3070.8987010700253,4276.457684983897,3841.009957328154,4121.887446545337,3070.8987010700253,4954.771189399921,3841.009957328154,4723.126229647229,3070.8987010700253,4121.887446545337,5046.827868472032,4384.845258618256,3841.009957328154,3070.8987010700253,4206.458287027927,3841.009957328154,3070.8987010700253,4005.9150305658145,3841.009957328154,4276.457684983897,3070.8987010700253,3841.009957328154,4121.887446545337,3070.8987010700253,4121.887446545337,3841.009957328154,3070.8987010700253,3841.009957328154,4334.884684584816,3070.8987010700253,4121.887446545337,3841.009957328154,3070.8987010700253,4206.458287027927,3841.009957328154,3070.8987010700253,4005.9150305658145,3070.8987010700253,4121.887446545337,3841.009957328154,4276.457684983897,3070.8987010700253,3841.009957328154,4121.887446545337,5073.937110848369,3070.8987010700253,3841.009957328154,3841.009957328154,3070.8987010700253,4464.551264729626,4817.208164649399,4121.887446545337,4334.884684584816,3841.009957328154,3070.8987010700253,4206.458287027927,3841.009957328154,4844.646786813006,3070.8987010700253,4005.9150305658145,4978.820520604018,3070.8987010700253,4121.887446545337,3841.009957328154,3070.8987010700253,4923.542907063325,3841.009957328154,4206.458287027927,3070.8987010700253,4005.9150305658145,4334.884684584816,3841.009957328154,3070.8987010700253,4121.887446545337,3841.009957328154,3070.8987010700253,4276.457684983897,5142.519701979853,3841.009957328154,4121.887446545337,3070.8987010700253,3841.009957328154,5006.560109271813,3070.8987010700253,4121.887446545337,3841.009957328154,3070.8987010700253,5127.327385587506,4555.016986871412,4276.457684983897,3841.009957328154,4121.887446545337,3070.8987010700253,3841.009957328154,4384.845258618256,3070.8987010700253,4121.887446545337,3841.009957328154,3070.8987010700253,3841.009957328154,4206.458287027927,4005.9150305658145,3070.8987010700253,3841.009957328154,3070.8987010700253,4121.887446545337,3841.009957328154,4276.457684983897,3070.8987010700253,4005.9150305658145,3070.8987010700253,3841.009957328154,4121.887446545337,3070.8987010700253,3841.009957328154,4206.458287027927,3070.8987010700253,3841.009957328154,4121.887446545337,4384.845258618256,3070.8987010700253,3841.009957328154,4276.457684983897,3841.009957328154,3070.8987010700253,4121.887446545337,3841.009957328154,3070.8987010700253,4005.9150305658145,3070.8987010700253,4276.457684983897,3841.009957328154,4121.887446545337,3070.8987010700253,3841.009957328154,3070.8987010700253,4121.887446545337,3841.009957328154,3070.8987010700253,5064.739351253655,3841.009957328154,4464.551264729626,4206.458287027927,3070.8987010700253,4005.9150305658145,3841.009957328154,3070.8987010700253,4334.884684584816,4121.887446545337,3841.009957328154,5095.414951314923,4870.27708156853,3070.8987010700253,4121.887446545337,3841.009957328154,4276.457684983897,3070.8987010700253,3841.009957328154,3070.8987010700253,5115.717957022782,4121.887446545337,3841.009957328154,3070.8987010700253,4121.887446545337,3841.009957328154,3070.8987010700253,4276.457684983897,3841.009957328154,3070.8987010700253,4384.845258618256,4796.7703176196055,4966.944556356028,4121.887446545337,3841.009957328154,3070.8987010700253,4005.9150305658145,3841.009957328154,3070.8987010700253,4206.458287027927,3841.009957328154,3070.8987010700253,4121.887446545337,3841.009957328154,3070.8987010700253,4276.457684983897,4005.9150305658145,3070.8987010700253,3841.009957328154,4121.887446545337,3070.8987010700253,3841.009957328154,4276.457684983897,3070.8987010700253,4121.887446545337,4893.97251570672,3841.009957328154,3070.8987010700253,3841.009957328154,4121.887446545337,3070.8987010700253,4428.045308086619,3841.009957328154,4206.458287027927,3841.009957328154,3070.8987010700253,4005.9150305658145,3070.8987010700253,4334.884684584816,4121.887446545337,3841.009957328154,3070.8987010700253,3841.009957328154,4206.458287027927,3070.8987010700253,4005.9150305658145,3841.009957328154,3070.8987010700253,4121.887446545337,3841.009957328154,4276.457684983897,3070.8987010700253,3841.009957328154,3070.8987010700253,4121.887446545337,3841.009957328154,3070.8987010700253,4121.887446545337,3841.009957328154,4384.845258618256,3070.8987010700253,3841.009957328154,4276.457684983897,3070.8987010700253,4121.887446545337,3841.009957328154,3070.8987010700253,4121.887446545337,4935.916210924576,3841.009957328154,3070.8987010700253,4660.48534988204,5168.263875443831,4276.457684983897,3841.009957328154,4121.887446545337,3841.009957328154,3070.8987010700253,3070.8987010700253,4005.9150305658145,3841.009957328154,4528.5810284713225,4206.458287027927,3070.8987010700253,3841.009957328154,3070.8987010700253,4121.887446545337,3841.009957328154,3070.8987010700253,4334.884684584816,4121.887446545337,3841.009957328154,4996.091784624338,3070.8987010700253,4005.9150305658145,4276.457684983897,3070.8987010700253,5042.090631175219,3841.009957328154,4121.887446545337,3070.8987010700253,3841.009957328154,3070.8987010700253,4121.887446545337,3841.009957328154,4276.457684983897,3070.8987010700253,3841.009957328154,4384.845258618256,4121.887446545337,3070.8987010700253,3841.009957328154,4709.442632738852,3841.009957328154,3070.8987010700253,4206.458287027927,3841.009957328154,3070.8987010700253,4121.887446545337,4762.8956379763695,4005.9150305658145,3070.8987010700253,3841.009957328154,4276.457684983897,3070.8987010700253,4005.9150305658145,3841.009957328154,3070.8987010700253,4121.887446545337,5016.75113924875,3841.009957328154,3070.8987010700253,4206.458287027927,3841.009957328154,3070.8987010700253,4384.845258618256,4121.887446545337,3841.009957328154,5142.519701979853,3070.8987010700253,3841.009957328154,4121.887446545337,3070.8987010700253,4276.457684983897,3841.009957328154,3070.8987010700253,4121.887446545337,3841.009957328154,4464.551264729626,3070.8987010700253,4005.9150305658145,4276.457684983897,3841.009957328154,3070.8987010700253,4603.356006636722,4121.887446545337,3841.009957328154,3070.8987010700253,3841.009957328154,3070.8987010700253,4121.887446545337,4276.457684983897,3841.009957328154,3070.8987010700253,4121.887446545337,3841.009957328154,3070.8987010700253,3841.009957328154,3070.8987010700253,4121.887446545337,3841.009957328154,4826.124233021871,4276.457684983897,3070.8987010700253,4005.9150305658145,3070.8987010700253,4384.845258618256,3841.009957328154,4206.458287027927,3070.8987010700253,4005.9150305658145,3841.009957328154,3070.8987010700253,4121.887446545337,5157.778628209766,3841.009957328154,3070.8987010700253,4206.458287027927,3841.009957328154,3070.8987010700253,4870.27708156853,4121.887446545337,3841.009957328154,4334.884684584816,3070.8987010700253,4908.764163529728,3841.009957328154,4121.887446545337,3070.8987010700253,3841.009957328154,3070.8987010700253,4121.887446545337,3841.009957328154,3070.8987010700253,4206.458287027927,3841.009957328154,4276.457684983897,4005.9150305658145,3070.8987010700253,5111.746243620142,3841.009957328154,3070.8987010700253,5060.213573406844,4121.887446545337,3841.009957328154,3070.8987010700253,4384.845258618256,4005.9150305658145,3070.8987010700253,4276.457684983897,3841.009957328154,4121.887446545337,3070.8987010700253,3841.009957328154,3841.009957328154,3070.8987010700253,4121.887446545337,3841.009957328154,3070.8987010700253,4276.457684983897,5027.4053524579795,4121.887446545337,3841.009957328154,3070.8987010700253,3841.009957328154,4121.887446545337,3070.8987010700253,4464.551264729626,3841.009957328154,3070.8987010700253,4206.458287027927,3841.009957328154,3070.8987010700253,4121.887446545337,4334.884684584816,3841.009957328154,3070.8987010700253,4005.9150305658145,3070.8987010700253,3841.009957328154,4206.458287027927,3841.009957328154,3070.8987010700253,4121.887446545337,5086.64738728327,3841.009957328154,3070.8987010700253,4954.771189399921,4121.887446545337,4276.457684983897,3070.8987010700253,3841.009957328154,4005.9150305658145,4384.845258618256,3070.8987010700253,3841.009957328154,4121.887446545337,3070.8987010700253,3841.009957328154,5073.937110848369,3070.8987010700253,4206.458287027927,3841.009957328154,3070.8987010700253,4005.9150305658145,4276.457684983897,3841.009957328154,5099.409113912332,3070.8987010700253,4121.887446545337,3841.009957328154,3070.8987010700253,4121.887446545337,3841.009957328154,3070.8987010700253,4276.457684983897,3841.009957328154,3070.8987010700253,4121.887446545337,3841.009957328154,3070.8987010700253,4121.887446545337,3841.009957328154,4334.884684584816,3070.8987010700253,3841.009957328154,4121.887446545337,3070.8987010700253,3841.009957328154,3070.8987010700253,4276.457684983897,4005.9150305658145,3841.009957328154,3070.8987010700253,4121.887446545337,4428.045308086619,3841.009957328154,3070.8987010700253,4121.887446545337,3841.009957328154,3070.8987010700253,4736.6277143147345,4276.457684983897,3070.8987010700253,3841.009957328154,4844.646786813006,4121.887446545337,3841.009957328154,3070.8987010700253,4206.458287027927,5178.840227798743,3841.009957328154,4785.651199627076,3070.8987010700253,4005.9150305658145,3070.8987010700253,4978.820520604018,4121.887446545337,3841.009957328154,4334.884684584816,3070.8987010700253,5135.0441467166975,3841.009957328154,4206.458287027927,3841.009957328154,3070.8987010700253,4121.887446545337,3841.009957328154,3070.8987010700253,4528.5810284713225,4005.9150305658145,3070.8987010700253,4276.457684983897,3841.009957328154,4121.887446545337,3070.8987010700253,4384.845258618256,3841.009957328154,3070.8987010700253,4121.887446545337,3841.009957328154,3070.8987010700253,3841.009957328154,4121.887446545337,3070.8987010700253,4276.457684983897,3841.009957328154],\"type\":\"scatter\",\"xaxis\":\"x\",\"yaxis\":\"y\"},{\"marker\":{\"color\":[0,1,2,3,4,5,6,7,8,9,10,11,12,13,14,15,16,17,18,19,20,21,22,23,24,25,26,27,28,29,30,31,32,33,34,35,36,37,38,39,40,41,42,43,44,45,46,47,48,49,50,51,52,53,54,55,56,57,58,59,60,61,62,63,64,65,66,67,68,69,70,71,72,73,74,75,76,77,78,79,80,81,82,83,84,85,86,87,88,89,90,91,92,93,94,95,96,97,98,99,100,101,102,103,104,105,106,107,108,109,110,111,112,113,114,115,116,117,118,119,120,121,122,123,124,125,126,127,128,129,130,131,132,133,134,135,136,137,138,139,140,141,142,143,144,145,146,147,148,149,150,151,152,153,154,155,156,157,158,159,160,161,162,163,164,165,166,167,168,169,170,171,172,173,174,175,176,177,178,179,180,181,182,183,184,185,186,187,188,189,190,191,192,193,194,195,196,197,198,199,200,201,202,203,204,205,206,207,208,209,210,211,212,213,214,215,216,217,218,219,220,221,222,223,224,225,226,227,228,229,230,231,232,233,234,235,236,237,238,239,240,241,242,243,244,245,246,247,248,249,250,251,252,253,254,255,256,257,258,259,260,261,262,263,264,265,266,267,268,269,270,271,272,273,274,275,276,277,278,279,280,281,282,283,284,285,286,287,288,289,290,291,292,293,294,295,296,297,298,299,300,301,302,303,304,305,306,307,308,309,310,311,312,313,314,315,316,317,318,319,320,321,322,323,324,325,326,327,328,329,330,331,332,333,334,335,336,337,338,339,340,341,342,343,344,345,346,347,348,349,350,351,352,353,354,355,356,357,358,359,360,361,362,363,364,365,366,367,368,369,370,371,372,373,374,375,376,377,378,379,380,381,382,383,384,385,386,387,388,389,390,391,392,393,394,395,396,397,398,399,400,401,402,403,404,405,406,407,408,409,410,411,412,413,414,415,416,417,418,419,420,421,422,423,424,425,426,427,428,429,430,431,432,433,434,435,436,437,438,439,440,441,442,443,444,445,446,447,448,449,450,451,452,453,454,455,456,457,458,459,460,461,462,463,464,465,466,467,468,469,470,471,472,473,474,475,476,477,478,479,480,481,482,483,484,485,486,487,488,489,490,491,492,493,494,495,496,497,498,499,500,501,502,503,504,505,506,507,508,509,510,511,512,513,514,515,516,517,518,519,520,521,522,523,524,525,526,527,528,529,530,531,532,533,534,535,536,537,538,539,540,541,542,543,544,545,546,547,548,549,550,551,552,553,554,555,556,557,558,559,560,561,562,563,564,565,566,567,568,569,570,571,572,573,574,575,576,577,578,579,580,581,582,583,584,585,586,587,588,589,590,591,592,593,594,595,596,597,598,599,600,601,602,603,604,605,606,607,608,609,610,611,612,613,614,615,616,617,618,619,620,621,622,623,624,625,626,627,628,629,630,631,632,633,634,635,636,637,638,639,640,641,642,643,644,645,646,647,648,649,650,651,652,653,654,655,656,657,658,659,660,661,662,663,664,665,666,667,668,669,670,671,672,673,674,675,676,677,678,679,680,681,682,683,684,685,686,687,688,689,690,691,692,693,694,695,696,697,698,699,700,701,702,703,704,705,706,707,708,709,710,711,712,713,714,715,716,717,718,719,720,721,722,723,724,725,726,727,728,729,730,731,732,733,734,735,736,737,738,739,740,741,742,743,744,745,746,747,748,749,750,751,752,753,754,755,756,757,758,759,760,761,762,763,764,765,766,767,768,769,770,771,772,773,774,775,776,777,778,779,780,781,782,783,784,785,786,787,788,789,790,791,792,793,794,795,796,797,798,799,800,801,802,803,804,805,806,807,808,809,810,811,812,813,814,815,816,817,818,819,820,821,822,823,824,825,826,827,828,829,830,831,832,833,834,835,836,837,838,839,840,841,842,843,844,845,846,847,848,849,850,851,852,853,854,855,856,857,858,859,860,861,862,863,864,865,866,867,868,869,870,871,872,873,874,875,876,877,878,879,880,881,882,883,884,885,886,887,888,889,890,891,892,893,894,895,896,897,898,899,900,901,902,903,904,905,906,907,908,909,910,911,912,913,914,915,916,917,918,919,920,921,922,923,924,925,926,927,928,929,930,931,932,933,934,935,936,937,938,939,940,941,942,943,944,945,946,947,948,949,950,951,952,953,954,955,956,957,958,959,960,961,962,963,964,965,966,967,968,969,970,971,972,973,974,975,976,977,978,979,980,981,982,983,984,985,986,987,988,989,990,991,992,993,994,995,996,997,998,999],\"colorbar\":{\"title\":{\"text\":\"Trial\"},\"x\":1.0,\"xpad\":40},\"colorscale\":[[0.0,\"rgb(247,251,255)\"],[0.125,\"rgb(222,235,247)\"],[0.25,\"rgb(198,219,239)\"],[0.375,\"rgb(158,202,225)\"],[0.5,\"rgb(107,174,214)\"],[0.625,\"rgb(66,146,198)\"],[0.75,\"rgb(33,113,181)\"],[0.875,\"rgb(8,81,156)\"],[1.0,\"rgb(8,48,107)\"]],\"line\":{\"color\":\"Grey\",\"width\":0.5},\"showscale\":false},\"mode\":\"markers\",\"showlegend\":false,\"x\":[40,93,47,91,28,53,6,33,97,27,2,4,2,17,2,74,20,59,14,65,14,2,10,23,3,36,11,17,75,44,9,3,2,22,10,28,2,9,15,34,25,7,2,6,18,13,7,90,52,29,19,2,5,2,13,7,12,6,15,2,10,2,5,7,10,16,21,58,4,9,41,2,2,5,12,9,74,5,81,8,16,2,4,2,7,11,5,13,4,8,11,2,4,7,2,6,48,14,9,4,6,2,2,4,8,11,64,6,4,99,8,2,2,4,6,10,4,8,2,12,18,2,5,6,4,9,2,31,7,4,6,2,2,4,38,9,6,2,7,4,11,2,4,6,8,2,4,5,2,10,80,2,4,7,2,6,4,5,8,2,6,2,4,2,4,7,2,9,55,5,4,2,93,2,6,4,2,8,6,4,4,2,2,6,4,2,68,6,4,8,2,2,4,5,2,4,6,2,7,4,2,2,4,5,2,4,7,2,6,4,9,2,2,4,4,25,6,2,4,2,6,2,4,2,47,4,6,2,4,43,2,2,4,5,2,4,7,2,5,4,2,2,4,2,6,4,2,4,6,2,4,2,8,6,4,2,6,4,86,2,4,6,2,4,2,8,5,4,2,7,4,2,6,4,2,8,5,2,4,6,2,4,9,6,2,34,4,4,2,69,7,4,2,6,4,2,8,5,2,6,10,4,2,4,6,2,4,8,2,4,6,2,4,6,2,50,4,8,2,5,4,2,6,4,37,2,7,4,2,6,11,4,2,8,4,6,31,2,4,2,5,4,2,7,10,4,63,6,2,4,2,8,5,2,6,4,2,4,6,2,4,22,9,56,4,2,6,4,2,8,6,4,76,2,4,2,6,4,2,26,8,6,4,2,5,2,4,7,2,10,4,6,2,4,6,2,44,99,86,4,8,2,5,4,2,7,4,2,6,4,61,2,5,4,8,2,6,4,2,10,4,2,7,13,5,2,4,96,20,6,2,4,8,2,6,4,2,4,6,2,40,4,6,9,2,4,4,2,7,5,2,4,6,2,8,4,2,4,17,6,11,2,4,6,2,8,4,28,2,5,4,2,6,4,2,8,4,6,2,50,4,24,2,6,67,10,4,2,7,4,2,5,4,8,2,4,6,2,6,4,2,4,9,2,6,4,2,7,4,2,5,2,6,4,8,2,4,6,73,2,4,4,2,12,32,6,9,4,2,7,4,35,2,5,54,2,6,4,2,45,4,7,2,5,9,4,2,6,4,2,8,90,4,6,2,4,59,2,6,4,2,86,15,8,4,6,2,4,10,2,6,4,2,4,7,5,2,4,2,6,4,8,2,5,2,4,6,2,4,7,2,4,6,10,2,4,8,4,2,6,4,2,5,2,8,4,6,2,4,2,6,4,2,71,4,12,7,2,5,4,2,9,6,4,78,38,2,6,4,8,2,4,2,83,6,4,2,6,4,2,8,4,2,10,30,52,6,4,2,5,4,2,7,4,2,6,4,2,8,5,2,4,6,2,4,8,2,6,41,4,2,4,6,2,11,4,7,4,2,5,2,9,6,4,2,4,7,2,5,4,2,6,4,8,2,4,2,6,4,2,6,4,10,2,4,8,2,6,4,2,6,47,4,2,20,97,8,4,6,4,2,2,5,4,14,7,2,4,2,6,4,2,9,6,4,57,2,5,8,2,66,4,6,2,4,2,6,4,8,2,4,10,6,2,4,23,4,2,7,4,2,6,27,5,2,4,8,2,5,4,2,6,61,4,2,7,4,2,10,6,4,90,2,4,6,2,8,4,2,6,4,12,2,5,8,4,2,17,6,4,2,4,2,6,8,4,2,6,4,2,4,2,6,4,33,8,2,5,2,10,4,7,2,5,4,2,6,94,4,2,7,4,2,38,6,4,9,2,43,4,6,2,4,2,6,4,2,7,4,8,5,2,82,4,2,70,6,4,2,10,5,2,8,4,6,2,4,4,2,6,4,2,8,63,6,4,2,4,6,2,12,4,2,7,4,2,6,9,4,2,5,2,4,7,4,2,6,76,4,2,50,6,8,2,4,5,10,2,4,6,2,4,73,2,7,4,2,5,8,4,79,2,6,4,2,6,4,2,8,4,2,6,4,2,6,4,9,2,4,6,2,4,2,8,5,4,2,6,11,4,2,6,4,2,25,8,2,4,35,6,4,2,7,100,4,29,2,5,2,54,6,4,9,2,88,4,7,4,2,6,4,2,14,5,2,8,4,6,2,10,4,2,6,4,2,4,6,2,8,4],\"y\":[4886.360554442493,5154.069020265029,4935.916210924576,5146.540508397751,4774.027433856023,4973.073511290455,4121.887446545337,4826.124233021871,5168.263875443831,4762.8956379763695,3070.8987010700253,3841.009957328154,3070.8987010700253,4603.356006636722,3070.8987010700253,5078.173747653229,4660.48534988204,5006.560109271813,4528.5810284713225,5037.345727529945,4528.5810284713225,3070.8987010700253,4384.845258618256,4709.442632738852,3586.325763235942,4853.149485004742,4428.045308086619,4603.356006636722,5082.400732729732,4916.2527198382495,4334.884684584816,3586.325763235942,3070.8987010700253,4694.141815359486,4384.845258618256,4774.027433856023,3070.8987010700253,4334.884684584816,4555.016986871412,4835.219970698422,4736.6277143147345,4206.458287027927,3070.8987010700253,4121.887446545337,4625.044663202976,4497.798438248811,4206.458287027927,5142.519701979853,4966.944556356028,4785.651199627076,4642.452428150509,3070.8987010700253,4005.9150305658145,3070.8987010700253,4497.798438248811,4206.458287027927,4464.551264729626,4121.887446545337,4555.016986871412,3070.8987010700253,4384.845258618256,3070.8987010700253,4005.9150305658145,4206.458287027927,4384.845258618256,4580.496166314265,4677.786791115154,5001.20520844586,3841.009957328154,4334.884684584816,4893.97251570672,3070.8987010700253,3070.8987010700253,4005.9150305658145,4464.551264729626,4334.884684584816,5078.173747653229,4005.9150305658145,5107.52968095669,4276.457684983897,4580.496166314265,3070.8987010700253,3841.009957328154,3070.8987010700253,4206.458287027927,4428.045308086619,4005.9150305658145,4497.798438248811,3841.009957328154,4276.457684983897,4428.045308086619,3070.8987010700253,3841.009957328154,4206.458287027927,3070.8987010700253,4121.887446545337,4942.141027134422,4528.5810284713225,4334.884684584816,3841.009957328154,4121.887446545337,3070.8987010700253,3070.8987010700253,3841.009957328154,4276.457684983897,4428.045308086619,5032.508288143288,4121.887446545337,3841.009957328154,5175.166948373778,4276.457684983897,3070.8987010700253,3070.8987010700253,3841.009957328154,4121.887446545337,4384.845258618256,3841.009957328154,4276.457684983897,3070.8987010700253,4464.551264729626,4625.044663202976,3070.8987010700253,4005.9150305658145,4121.887446545337,3841.009957328154,4334.884684584816,3070.8987010700253,4807.574189280954,4206.458287027927,3841.009957328154,4121.887446545337,3070.8987010700253,3070.8987010700253,3841.009957328154,4870.27708156853,4334.884684584816,4121.887446545337,3070.8987010700253,4206.458287027927,3841.009957328154,4428.045308086619,3070.8987010700253,3841.009957328154,4121.887446545337,4276.457684983897,3070.8987010700253,3841.009957328154,4005.9150305658145,3070.8987010700253,4384.845258618256,5103.483581188891,3070.8987010700253,3841.009957328154,4206.458287027927,3070.8987010700253,4121.887446545337,3841.009957328154,4005.9150305658145,4276.457684983897,3070.8987010700253,4121.887446545337,3070.8987010700253,3841.009957328154,3070.8987010700253,3841.009957328154,4206.458287027927,3070.8987010700253,4334.884684584816,4984.3211891501915,4005.9150305658145,3841.009957328154,3070.8987010700253,5154.069020265029,3070.8987010700253,4121.887446545337,3841.009957328154,3070.8987010700253,4276.457684983897,4121.887446545337,3841.009957328154,3841.009957328154,3070.8987010700253,3070.8987010700253,4121.887446545337,3841.009957328154,3070.8987010700253,5051.261603566716,4121.887446545337,3841.009957328154,4276.457684983897,3070.8987010700253,3070.8987010700253,3841.009957328154,4005.9150305658145,3070.8987010700253,3841.009957328154,4121.887446545337,3070.8987010700253,4206.458287027927,3841.009957328154,3070.8987010700253,3070.8987010700253,3841.009957328154,4005.9150305658145,3070.8987010700253,3841.009957328154,4206.458287027927,3070.8987010700253,4121.887446545337,3841.009957328154,4334.884684584816,3070.8987010700253,3070.8987010700253,3841.009957328154,3841.009957328154,4736.6277143147345,4121.887446545337,3070.8987010700253,3841.009957328154,3070.8987010700253,4121.887446545337,3070.8987010700253,3841.009957328154,3070.8987010700253,4935.916210924576,3841.009957328154,4121.887446545337,3070.8987010700253,3841.009957328154,4908.764163529728,3070.8987010700253,3070.8987010700253,3841.009957328154,4005.9150305658145,3070.8987010700253,3841.009957328154,4206.458287027927,3070.8987010700253,4005.9150305658145,3841.009957328154,3070.8987010700253,3070.8987010700253,3841.009957328154,3070.8987010700253,4121.887446545337,3841.009957328154,3070.8987010700253,3841.009957328154,4121.887446545337,3070.8987010700253,3841.009957328154,3070.8987010700253,4276.457684983897,4121.887446545337,3841.009957328154,3070.8987010700253,4121.887446545337,3841.009957328154,5127.327385587506,3070.8987010700253,3841.009957328154,4121.887446545337,3070.8987010700253,3841.009957328154,3070.8987010700253,4276.457684983897,4005.9150305658145,3841.009957328154,3070.8987010700253,4206.458287027927,3841.009957328154,3070.8987010700253,4121.887446545337,3841.009957328154,3070.8987010700253,4276.457684983897,4005.9150305658145,3070.8987010700253,3841.009957328154,4121.887446545337,3070.8987010700253,3841.009957328154,4334.884684584816,4121.887446545337,3070.8987010700253,4835.219970698422,3841.009957328154,3841.009957328154,3070.8987010700253,5055.543823168687,4206.458287027927,3841.009957328154,3070.8987010700253,4121.887446545337,3841.009957328154,3070.8987010700253,4276.457684983897,4005.9150305658145,3070.8987010700253,4121.887446545337,4384.845258618256,3841.009957328154,3070.8987010700253,3841.009957328154,4121.887446545337,3070.8987010700253,3841.009957328154,4276.457684983897,3070.8987010700253,3841.009957328154,4121.887446545337,3070.8987010700253,3841.009957328154,4121.887446545337,3070.8987010700253,4954.771189399921,3841.009957328154,4276.457684983897,3070.8987010700253,4005.9150305658145,3841.009957328154,3070.8987010700253,4121.887446545337,3841.009957328154,4861.583489139057,3070.8987010700253,4206.458287027927,3841.009957328154,3070.8987010700253,4121.887446545337,4428.045308086619,3841.009957328154,3070.8987010700253,4276.457684983897,3841.009957328154,4121.887446545337,4807.574189280954,3070.8987010700253,3841.009957328154,3070.8987010700253,4005.9150305658145,3841.009957328154,3070.8987010700253,4206.458287027927,4384.845258618256,3841.009957328154,5027.4053524579795,4121.887446545337,3070.8987010700253,3841.009957328154,3070.8987010700253,4276.457684983897,4005.9150305658145,3070.8987010700253,4121.887446545337,3841.009957328154,3070.8987010700253,3841.009957328154,4121.887446545337,3070.8987010700253,3841.009957328154,4694.141815359486,4334.884684584816,4990.171834350707,3841.009957328154,3070.8987010700253,4121.887446545337,3841.009957328154,3070.8987010700253,4276.457684983897,4121.887446545337,3841.009957328154,5086.64738728327,3070.8987010700253,3841.009957328154,3070.8987010700253,4121.887446545337,3841.009957328154,3070.8987010700253,4749.986369917271,4276.457684983897,4121.887446545337,3841.009957328154,3070.8987010700253,4005.9150305658145,3070.8987010700253,3841.009957328154,4206.458287027927,3070.8987010700253,4384.845258618256,3841.009957328154,4121.887446545337,3070.8987010700253,3841.009957328154,4121.887446545337,3070.8987010700253,4916.2527198382495,5175.166948373778,5127.327385587506,3841.009957328154,4276.457684983897,3070.8987010700253,4005.9150305658145,3841.009957328154,3070.8987010700253,4206.458287027927,3841.009957328154,3070.8987010700253,4121.887446545337,3841.009957328154,5016.75113924875,3070.8987010700253,4005.9150305658145,3841.009957328154,4276.457684983897,3070.8987010700253,4121.887446545337,3841.009957328154,3070.8987010700253,4384.845258618256,3841.009957328154,3070.8987010700253,4206.458287027927,4497.798438248811,4005.9150305658145,3070.8987010700253,3841.009957328154,5164.754262546907,4660.48534988204,4121.887446545337,3070.8987010700253,3841.009957328154,4276.457684983897,3070.8987010700253,4121.887446545337,3841.009957328154,3070.8987010700253,3841.009957328154,4121.887446545337,3070.8987010700253,4886.360554442493,3841.009957328154,4121.887446545337,4334.884684584816,3070.8987010700253,3841.009957328154,3841.009957328154,3070.8987010700253,4206.458287027927,4005.9150305658145,3070.8987010700253,3841.009957328154,4121.887446545337,3070.8987010700253,4276.457684983897,3841.009957328154,3070.8987010700253,3841.009957328154,4603.356006636722,4121.887446545337,4428.045308086619,3070.8987010700253,3841.009957328154,4121.887446545337,3070.8987010700253,4276.457684983897,3841.009957328154,4774.027433856023,3070.8987010700253,4005.9150305658145,3841.009957328154,3070.8987010700253,4121.887446545337,3841.009957328154,3070.8987010700253,4276.457684983897,3841.009957328154,4121.887446545337,3070.8987010700253,4954.771189399921,3841.009957328154,4723.126229647229,3070.8987010700253,4121.887446545337,5046.827868472032,4384.845258618256,3841.009957328154,3070.8987010700253,4206.458287027927,3841.009957328154,3070.8987010700253,4005.9150305658145,3841.009957328154,4276.457684983897,3070.8987010700253,3841.009957328154,4121.887446545337,3070.8987010700253,4121.887446545337,3841.009957328154,3070.8987010700253,3841.009957328154,4334.884684584816,3070.8987010700253,4121.887446545337,3841.009957328154,3070.8987010700253,4206.458287027927,3841.009957328154,3070.8987010700253,4005.9150305658145,3070.8987010700253,4121.887446545337,3841.009957328154,4276.457684983897,3070.8987010700253,3841.009957328154,4121.887446545337,5073.937110848369,3070.8987010700253,3841.009957328154,3841.009957328154,3070.8987010700253,4464.551264729626,4817.208164649399,4121.887446545337,4334.884684584816,3841.009957328154,3070.8987010700253,4206.458287027927,3841.009957328154,4844.646786813006,3070.8987010700253,4005.9150305658145,4978.820520604018,3070.8987010700253,4121.887446545337,3841.009957328154,3070.8987010700253,4923.542907063325,3841.009957328154,4206.458287027927,3070.8987010700253,4005.9150305658145,4334.884684584816,3841.009957328154,3070.8987010700253,4121.887446545337,3841.009957328154,3070.8987010700253,4276.457684983897,5142.519701979853,3841.009957328154,4121.887446545337,3070.8987010700253,3841.009957328154,5006.560109271813,3070.8987010700253,4121.887446545337,3841.009957328154,3070.8987010700253,5127.327385587506,4555.016986871412,4276.457684983897,3841.009957328154,4121.887446545337,3070.8987010700253,3841.009957328154,4384.845258618256,3070.8987010700253,4121.887446545337,3841.009957328154,3070.8987010700253,3841.009957328154,4206.458287027927,4005.9150305658145,3070.8987010700253,3841.009957328154,3070.8987010700253,4121.887446545337,3841.009957328154,4276.457684983897,3070.8987010700253,4005.9150305658145,3070.8987010700253,3841.009957328154,4121.887446545337,3070.8987010700253,3841.009957328154,4206.458287027927,3070.8987010700253,3841.009957328154,4121.887446545337,4384.845258618256,3070.8987010700253,3841.009957328154,4276.457684983897,3841.009957328154,3070.8987010700253,4121.887446545337,3841.009957328154,3070.8987010700253,4005.9150305658145,3070.8987010700253,4276.457684983897,3841.009957328154,4121.887446545337,3070.8987010700253,3841.009957328154,3070.8987010700253,4121.887446545337,3841.009957328154,3070.8987010700253,5064.739351253655,3841.009957328154,4464.551264729626,4206.458287027927,3070.8987010700253,4005.9150305658145,3841.009957328154,3070.8987010700253,4334.884684584816,4121.887446545337,3841.009957328154,5095.414951314923,4870.27708156853,3070.8987010700253,4121.887446545337,3841.009957328154,4276.457684983897,3070.8987010700253,3841.009957328154,3070.8987010700253,5115.717957022782,4121.887446545337,3841.009957328154,3070.8987010700253,4121.887446545337,3841.009957328154,3070.8987010700253,4276.457684983897,3841.009957328154,3070.8987010700253,4384.845258618256,4796.7703176196055,4966.944556356028,4121.887446545337,3841.009957328154,3070.8987010700253,4005.9150305658145,3841.009957328154,3070.8987010700253,4206.458287027927,3841.009957328154,3070.8987010700253,4121.887446545337,3841.009957328154,3070.8987010700253,4276.457684983897,4005.9150305658145,3070.8987010700253,3841.009957328154,4121.887446545337,3070.8987010700253,3841.009957328154,4276.457684983897,3070.8987010700253,4121.887446545337,4893.97251570672,3841.009957328154,3070.8987010700253,3841.009957328154,4121.887446545337,3070.8987010700253,4428.045308086619,3841.009957328154,4206.458287027927,3841.009957328154,3070.8987010700253,4005.9150305658145,3070.8987010700253,4334.884684584816,4121.887446545337,3841.009957328154,3070.8987010700253,3841.009957328154,4206.458287027927,3070.8987010700253,4005.9150305658145,3841.009957328154,3070.8987010700253,4121.887446545337,3841.009957328154,4276.457684983897,3070.8987010700253,3841.009957328154,3070.8987010700253,4121.887446545337,3841.009957328154,3070.8987010700253,4121.887446545337,3841.009957328154,4384.845258618256,3070.8987010700253,3841.009957328154,4276.457684983897,3070.8987010700253,4121.887446545337,3841.009957328154,3070.8987010700253,4121.887446545337,4935.916210924576,3841.009957328154,3070.8987010700253,4660.48534988204,5168.263875443831,4276.457684983897,3841.009957328154,4121.887446545337,3841.009957328154,3070.8987010700253,3070.8987010700253,4005.9150305658145,3841.009957328154,4528.5810284713225,4206.458287027927,3070.8987010700253,3841.009957328154,3070.8987010700253,4121.887446545337,3841.009957328154,3070.8987010700253,4334.884684584816,4121.887446545337,3841.009957328154,4996.091784624338,3070.8987010700253,4005.9150305658145,4276.457684983897,3070.8987010700253,5042.090631175219,3841.009957328154,4121.887446545337,3070.8987010700253,3841.009957328154,3070.8987010700253,4121.887446545337,3841.009957328154,4276.457684983897,3070.8987010700253,3841.009957328154,4384.845258618256,4121.887446545337,3070.8987010700253,3841.009957328154,4709.442632738852,3841.009957328154,3070.8987010700253,4206.458287027927,3841.009957328154,3070.8987010700253,4121.887446545337,4762.8956379763695,4005.9150305658145,3070.8987010700253,3841.009957328154,4276.457684983897,3070.8987010700253,4005.9150305658145,3841.009957328154,3070.8987010700253,4121.887446545337,5016.75113924875,3841.009957328154,3070.8987010700253,4206.458287027927,3841.009957328154,3070.8987010700253,4384.845258618256,4121.887446545337,3841.009957328154,5142.519701979853,3070.8987010700253,3841.009957328154,4121.887446545337,3070.8987010700253,4276.457684983897,3841.009957328154,3070.8987010700253,4121.887446545337,3841.009957328154,4464.551264729626,3070.8987010700253,4005.9150305658145,4276.457684983897,3841.009957328154,3070.8987010700253,4603.356006636722,4121.887446545337,3841.009957328154,3070.8987010700253,3841.009957328154,3070.8987010700253,4121.887446545337,4276.457684983897,3841.009957328154,3070.8987010700253,4121.887446545337,3841.009957328154,3070.8987010700253,3841.009957328154,3070.8987010700253,4121.887446545337,3841.009957328154,4826.124233021871,4276.457684983897,3070.8987010700253,4005.9150305658145,3070.8987010700253,4384.845258618256,3841.009957328154,4206.458287027927,3070.8987010700253,4005.9150305658145,3841.009957328154,3070.8987010700253,4121.887446545337,5157.778628209766,3841.009957328154,3070.8987010700253,4206.458287027927,3841.009957328154,3070.8987010700253,4870.27708156853,4121.887446545337,3841.009957328154,4334.884684584816,3070.8987010700253,4908.764163529728,3841.009957328154,4121.887446545337,3070.8987010700253,3841.009957328154,3070.8987010700253,4121.887446545337,3841.009957328154,3070.8987010700253,4206.458287027927,3841.009957328154,4276.457684983897,4005.9150305658145,3070.8987010700253,5111.746243620142,3841.009957328154,3070.8987010700253,5060.213573406844,4121.887446545337,3841.009957328154,3070.8987010700253,4384.845258618256,4005.9150305658145,3070.8987010700253,4276.457684983897,3841.009957328154,4121.887446545337,3070.8987010700253,3841.009957328154,3841.009957328154,3070.8987010700253,4121.887446545337,3841.009957328154,3070.8987010700253,4276.457684983897,5027.4053524579795,4121.887446545337,3841.009957328154,3070.8987010700253,3841.009957328154,4121.887446545337,3070.8987010700253,4464.551264729626,3841.009957328154,3070.8987010700253,4206.458287027927,3841.009957328154,3070.8987010700253,4121.887446545337,4334.884684584816,3841.009957328154,3070.8987010700253,4005.9150305658145,3070.8987010700253,3841.009957328154,4206.458287027927,3841.009957328154,3070.8987010700253,4121.887446545337,5086.64738728327,3841.009957328154,3070.8987010700253,4954.771189399921,4121.887446545337,4276.457684983897,3070.8987010700253,3841.009957328154,4005.9150305658145,4384.845258618256,3070.8987010700253,3841.009957328154,4121.887446545337,3070.8987010700253,3841.009957328154,5073.937110848369,3070.8987010700253,4206.458287027927,3841.009957328154,3070.8987010700253,4005.9150305658145,4276.457684983897,3841.009957328154,5099.409113912332,3070.8987010700253,4121.887446545337,3841.009957328154,3070.8987010700253,4121.887446545337,3841.009957328154,3070.8987010700253,4276.457684983897,3841.009957328154,3070.8987010700253,4121.887446545337,3841.009957328154,3070.8987010700253,4121.887446545337,3841.009957328154,4334.884684584816,3070.8987010700253,3841.009957328154,4121.887446545337,3070.8987010700253,3841.009957328154,3070.8987010700253,4276.457684983897,4005.9150305658145,3841.009957328154,3070.8987010700253,4121.887446545337,4428.045308086619,3841.009957328154,3070.8987010700253,4121.887446545337,3841.009957328154,3070.8987010700253,4736.6277143147345,4276.457684983897,3070.8987010700253,3841.009957328154,4844.646786813006,4121.887446545337,3841.009957328154,3070.8987010700253,4206.458287027927,5178.840227798743,3841.009957328154,4785.651199627076,3070.8987010700253,4005.9150305658145,3070.8987010700253,4978.820520604018,4121.887446545337,3841.009957328154,4334.884684584816,3070.8987010700253,5135.0441467166975,3841.009957328154,4206.458287027927,3841.009957328154,3070.8987010700253,4121.887446545337,3841.009957328154,3070.8987010700253,4528.5810284713225,4005.9150305658145,3070.8987010700253,4276.457684983897,3841.009957328154,4121.887446545337,3070.8987010700253,4384.845258618256,3841.009957328154,3070.8987010700253,4121.887446545337,3841.009957328154,3070.8987010700253,3841.009957328154,4121.887446545337,3070.8987010700253,4276.457684983897,3841.009957328154],\"type\":\"scatter\",\"xaxis\":\"x2\",\"yaxis\":\"y2\"}],                        {\"template\":{\"data\":{\"bar\":[{\"error_x\":{\"color\":\"#2a3f5f\"},\"error_y\":{\"color\":\"#2a3f5f\"},\"marker\":{\"line\":{\"color\":\"#E5ECF6\",\"width\":0.5},\"pattern\":{\"fillmode\":\"overlay\",\"size\":10,\"solidity\":0.2}},\"type\":\"bar\"}],\"barpolar\":[{\"marker\":{\"line\":{\"color\":\"#E5ECF6\",\"width\":0.5},\"pattern\":{\"fillmode\":\"overlay\",\"size\":10,\"solidity\":0.2}},\"type\":\"barpolar\"}],\"carpet\":[{\"aaxis\":{\"endlinecolor\":\"#2a3f5f\",\"gridcolor\":\"white\",\"linecolor\":\"white\",\"minorgridcolor\":\"white\",\"startlinecolor\":\"#2a3f5f\"},\"baxis\":{\"endlinecolor\":\"#2a3f5f\",\"gridcolor\":\"white\",\"linecolor\":\"white\",\"minorgridcolor\":\"white\",\"startlinecolor\":\"#2a3f5f\"},\"type\":\"carpet\"}],\"choropleth\":[{\"colorbar\":{\"outlinewidth\":0,\"ticks\":\"\"},\"type\":\"choropleth\"}],\"contour\":[{\"colorbar\":{\"outlinewidth\":0,\"ticks\":\"\"},\"colorscale\":[[0.0,\"#0d0887\"],[0.1111111111111111,\"#46039f\"],[0.2222222222222222,\"#7201a8\"],[0.3333333333333333,\"#9c179e\"],[0.4444444444444444,\"#bd3786\"],[0.5555555555555556,\"#d8576b\"],[0.6666666666666666,\"#ed7953\"],[0.7777777777777778,\"#fb9f3a\"],[0.8888888888888888,\"#fdca26\"],[1.0,\"#f0f921\"]],\"type\":\"contour\"}],\"contourcarpet\":[{\"colorbar\":{\"outlinewidth\":0,\"ticks\":\"\"},\"type\":\"contourcarpet\"}],\"heatmap\":[{\"colorbar\":{\"outlinewidth\":0,\"ticks\":\"\"},\"colorscale\":[[0.0,\"#0d0887\"],[0.1111111111111111,\"#46039f\"],[0.2222222222222222,\"#7201a8\"],[0.3333333333333333,\"#9c179e\"],[0.4444444444444444,\"#bd3786\"],[0.5555555555555556,\"#d8576b\"],[0.6666666666666666,\"#ed7953\"],[0.7777777777777778,\"#fb9f3a\"],[0.8888888888888888,\"#fdca26\"],[1.0,\"#f0f921\"]],\"type\":\"heatmap\"}],\"heatmapgl\":[{\"colorbar\":{\"outlinewidth\":0,\"ticks\":\"\"},\"colorscale\":[[0.0,\"#0d0887\"],[0.1111111111111111,\"#46039f\"],[0.2222222222222222,\"#7201a8\"],[0.3333333333333333,\"#9c179e\"],[0.4444444444444444,\"#bd3786\"],[0.5555555555555556,\"#d8576b\"],[0.6666666666666666,\"#ed7953\"],[0.7777777777777778,\"#fb9f3a\"],[0.8888888888888888,\"#fdca26\"],[1.0,\"#f0f921\"]],\"type\":\"heatmapgl\"}],\"histogram\":[{\"marker\":{\"pattern\":{\"fillmode\":\"overlay\",\"size\":10,\"solidity\":0.2}},\"type\":\"histogram\"}],\"histogram2d\":[{\"colorbar\":{\"outlinewidth\":0,\"ticks\":\"\"},\"colorscale\":[[0.0,\"#0d0887\"],[0.1111111111111111,\"#46039f\"],[0.2222222222222222,\"#7201a8\"],[0.3333333333333333,\"#9c179e\"],[0.4444444444444444,\"#bd3786\"],[0.5555555555555556,\"#d8576b\"],[0.6666666666666666,\"#ed7953\"],[0.7777777777777778,\"#fb9f3a\"],[0.8888888888888888,\"#fdca26\"],[1.0,\"#f0f921\"]],\"type\":\"histogram2d\"}],\"histogram2dcontour\":[{\"colorbar\":{\"outlinewidth\":0,\"ticks\":\"\"},\"colorscale\":[[0.0,\"#0d0887\"],[0.1111111111111111,\"#46039f\"],[0.2222222222222222,\"#7201a8\"],[0.3333333333333333,\"#9c179e\"],[0.4444444444444444,\"#bd3786\"],[0.5555555555555556,\"#d8576b\"],[0.6666666666666666,\"#ed7953\"],[0.7777777777777778,\"#fb9f3a\"],[0.8888888888888888,\"#fdca26\"],[1.0,\"#f0f921\"]],\"type\":\"histogram2dcontour\"}],\"mesh3d\":[{\"colorbar\":{\"outlinewidth\":0,\"ticks\":\"\"},\"type\":\"mesh3d\"}],\"parcoords\":[{\"line\":{\"colorbar\":{\"outlinewidth\":0,\"ticks\":\"\"}},\"type\":\"parcoords\"}],\"pie\":[{\"automargin\":true,\"type\":\"pie\"}],\"scatter\":[{\"marker\":{\"colorbar\":{\"outlinewidth\":0,\"ticks\":\"\"}},\"type\":\"scatter\"}],\"scatter3d\":[{\"line\":{\"colorbar\":{\"outlinewidth\":0,\"ticks\":\"\"}},\"marker\":{\"colorbar\":{\"outlinewidth\":0,\"ticks\":\"\"}},\"type\":\"scatter3d\"}],\"scattercarpet\":[{\"marker\":{\"colorbar\":{\"outlinewidth\":0,\"ticks\":\"\"}},\"type\":\"scattercarpet\"}],\"scattergeo\":[{\"marker\":{\"colorbar\":{\"outlinewidth\":0,\"ticks\":\"\"}},\"type\":\"scattergeo\"}],\"scattergl\":[{\"marker\":{\"colorbar\":{\"outlinewidth\":0,\"ticks\":\"\"}},\"type\":\"scattergl\"}],\"scattermapbox\":[{\"marker\":{\"colorbar\":{\"outlinewidth\":0,\"ticks\":\"\"}},\"type\":\"scattermapbox\"}],\"scatterpolar\":[{\"marker\":{\"colorbar\":{\"outlinewidth\":0,\"ticks\":\"\"}},\"type\":\"scatterpolar\"}],\"scatterpolargl\":[{\"marker\":{\"colorbar\":{\"outlinewidth\":0,\"ticks\":\"\"}},\"type\":\"scatterpolargl\"}],\"scatterternary\":[{\"marker\":{\"colorbar\":{\"outlinewidth\":0,\"ticks\":\"\"}},\"type\":\"scatterternary\"}],\"surface\":[{\"colorbar\":{\"outlinewidth\":0,\"ticks\":\"\"},\"colorscale\":[[0.0,\"#0d0887\"],[0.1111111111111111,\"#46039f\"],[0.2222222222222222,\"#7201a8\"],[0.3333333333333333,\"#9c179e\"],[0.4444444444444444,\"#bd3786\"],[0.5555555555555556,\"#d8576b\"],[0.6666666666666666,\"#ed7953\"],[0.7777777777777778,\"#fb9f3a\"],[0.8888888888888888,\"#fdca26\"],[1.0,\"#f0f921\"]],\"type\":\"surface\"}],\"table\":[{\"cells\":{\"fill\":{\"color\":\"#EBF0F8\"},\"line\":{\"color\":\"white\"}},\"header\":{\"fill\":{\"color\":\"#C8D4E3\"},\"line\":{\"color\":\"white\"}},\"type\":\"table\"}]},\"layout\":{\"annotationdefaults\":{\"arrowcolor\":\"#2a3f5f\",\"arrowhead\":0,\"arrowwidth\":1},\"autotypenumbers\":\"strict\",\"coloraxis\":{\"colorbar\":{\"outlinewidth\":0,\"ticks\":\"\"}},\"colorscale\":{\"diverging\":[[0,\"#8e0152\"],[0.1,\"#c51b7d\"],[0.2,\"#de77ae\"],[0.3,\"#f1b6da\"],[0.4,\"#fde0ef\"],[0.5,\"#f7f7f7\"],[0.6,\"#e6f5d0\"],[0.7,\"#b8e186\"],[0.8,\"#7fbc41\"],[0.9,\"#4d9221\"],[1,\"#276419\"]],\"sequential\":[[0.0,\"#0d0887\"],[0.1111111111111111,\"#46039f\"],[0.2222222222222222,\"#7201a8\"],[0.3333333333333333,\"#9c179e\"],[0.4444444444444444,\"#bd3786\"],[0.5555555555555556,\"#d8576b\"],[0.6666666666666666,\"#ed7953\"],[0.7777777777777778,\"#fb9f3a\"],[0.8888888888888888,\"#fdca26\"],[1.0,\"#f0f921\"]],\"sequentialminus\":[[0.0,\"#0d0887\"],[0.1111111111111111,\"#46039f\"],[0.2222222222222222,\"#7201a8\"],[0.3333333333333333,\"#9c179e\"],[0.4444444444444444,\"#bd3786\"],[0.5555555555555556,\"#d8576b\"],[0.6666666666666666,\"#ed7953\"],[0.7777777777777778,\"#fb9f3a\"],[0.8888888888888888,\"#fdca26\"],[1.0,\"#f0f921\"]]},\"colorway\":[\"#636efa\",\"#EF553B\",\"#00cc96\",\"#ab63fa\",\"#FFA15A\",\"#19d3f3\",\"#FF6692\",\"#B6E880\",\"#FF97FF\",\"#FECB52\"],\"font\":{\"color\":\"#2a3f5f\"},\"geo\":{\"bgcolor\":\"white\",\"lakecolor\":\"white\",\"landcolor\":\"#E5ECF6\",\"showlakes\":true,\"showland\":true,\"subunitcolor\":\"white\"},\"hoverlabel\":{\"align\":\"left\"},\"hovermode\":\"closest\",\"mapbox\":{\"style\":\"light\"},\"paper_bgcolor\":\"white\",\"plot_bgcolor\":\"#E5ECF6\",\"polar\":{\"angularaxis\":{\"gridcolor\":\"white\",\"linecolor\":\"white\",\"ticks\":\"\"},\"bgcolor\":\"#E5ECF6\",\"radialaxis\":{\"gridcolor\":\"white\",\"linecolor\":\"white\",\"ticks\":\"\"}},\"scene\":{\"xaxis\":{\"backgroundcolor\":\"#E5ECF6\",\"gridcolor\":\"white\",\"gridwidth\":2,\"linecolor\":\"white\",\"showbackground\":true,\"ticks\":\"\",\"zerolinecolor\":\"white\"},\"yaxis\":{\"backgroundcolor\":\"#E5ECF6\",\"gridcolor\":\"white\",\"gridwidth\":2,\"linecolor\":\"white\",\"showbackground\":true,\"ticks\":\"\",\"zerolinecolor\":\"white\"},\"zaxis\":{\"backgroundcolor\":\"#E5ECF6\",\"gridcolor\":\"white\",\"gridwidth\":2,\"linecolor\":\"white\",\"showbackground\":true,\"ticks\":\"\",\"zerolinecolor\":\"white\"}},\"shapedefaults\":{\"line\":{\"color\":\"#2a3f5f\"}},\"ternary\":{\"aaxis\":{\"gridcolor\":\"white\",\"linecolor\":\"white\",\"ticks\":\"\"},\"baxis\":{\"gridcolor\":\"white\",\"linecolor\":\"white\",\"ticks\":\"\"},\"bgcolor\":\"#E5ECF6\",\"caxis\":{\"gridcolor\":\"white\",\"linecolor\":\"white\",\"ticks\":\"\"}},\"title\":{\"x\":0.05},\"xaxis\":{\"automargin\":true,\"gridcolor\":\"white\",\"linecolor\":\"white\",\"ticks\":\"\",\"title\":{\"standoff\":15},\"zerolinecolor\":\"white\",\"zerolinewidth\":2},\"yaxis\":{\"automargin\":true,\"gridcolor\":\"white\",\"linecolor\":\"white\",\"ticks\":\"\",\"title\":{\"standoff\":15},\"zerolinecolor\":\"white\",\"zerolinewidth\":2}}},\"xaxis\":{\"anchor\":\"y\",\"domain\":[0.0,0.45],\"title\":{\"text\":\"metric\"}},\"yaxis\":{\"anchor\":\"x\",\"domain\":[0.0,1.0],\"title\":{\"text\":\"Objective Value\"}},\"xaxis2\":{\"anchor\":\"y2\",\"domain\":[0.55,1.0],\"title\":{\"text\":\"n_neighbors\"}},\"yaxis2\":{\"anchor\":\"x2\",\"domain\":[0.0,1.0],\"matches\":\"y\",\"showticklabels\":false},\"title\":{\"text\":\"Slice Plot\"}},                        {\"responsive\": true}                    ).then(function(){\n",
              "                            \n",
              "var gd = document.getElementById('3c03b11d-3fbe-4450-b167-0d1358bdea53');\n",
              "var x = new MutationObserver(function (mutations, observer) {{\n",
              "        var display = window.getComputedStyle(gd).display;\n",
              "        if (!display || display === 'none') {{\n",
              "            console.log([gd, 'removed!']);\n",
              "            Plotly.purge(gd);\n",
              "            observer.disconnect();\n",
              "        }}\n",
              "}});\n",
              "\n",
              "// Listen for the removal of the full notebook cells\n",
              "var notebookContainer = gd.closest('#notebook-container');\n",
              "if (notebookContainer) {{\n",
              "    x.observe(notebookContainer, {childList: true});\n",
              "}}\n",
              "\n",
              "// Listen for the clearing of the current output cell\n",
              "var outputEl = gd.closest('.output');\n",
              "if (outputEl) {{\n",
              "    x.observe(outputEl, {childList: true});\n",
              "}}\n",
              "\n",
              "                        })                };                            </script>        </div>\n",
              "</body>\n",
              "</html>"
            ]
          },
          "metadata": {}
        }
      ],
      "source": [
        "# plot_slice: shows the change of the hyperparamters space over the search. \n",
        "fig = optuna.visualization.plot_slice(study)\n",
        "py.plot(fig, filename='slice_KNR_Optuna_1000_GPU.html')\n",
        "fig.show()"
      ]
    },
    {
      "cell_type": "code",
      "execution_count": null,
      "metadata": {
        "id": "e3q-XWKf14Xe",
        "colab": {
          "base_uri": "https://localhost:8080/",
          "height": 542
        },
        "outputId": "d9893b64-e73e-4f58-f751-2a22e317cf89"
      },
      "outputs": [
        {
          "output_type": "display_data",
          "data": {
            "text/html": [
              "<html>\n",
              "<head><meta charset=\"utf-8\" /></head>\n",
              "<body>\n",
              "    <div>            <script src=\"https://cdnjs.cloudflare.com/ajax/libs/mathjax/2.7.5/MathJax.js?config=TeX-AMS-MML_SVG\"></script><script type=\"text/javascript\">if (window.MathJax) {MathJax.Hub.Config({SVG: {font: \"STIX-Web\"}});}</script>                <script type=\"text/javascript\">window.PlotlyConfig = {MathJaxConfig: 'local'};</script>\n",
              "        <script src=\"https://cdn.plot.ly/plotly-2.8.3.min.js\"></script>                <div id=\"21f77bec-4cd8-4785-b7b1-764e827d540f\" class=\"plotly-graph-div\" style=\"height:525px; width:100%;\"></div>            <script type=\"text/javascript\">                                    window.PLOTLYENV=window.PLOTLYENV || {};                                    if (document.getElementById(\"21f77bec-4cd8-4785-b7b1-764e827d540f\")) {                    Plotly.newPlot(                        \"21f77bec-4cd8-4785-b7b1-764e827d540f\",                        [{\"mode\":\"lines\",\"name\":\"dask_optuna_knr_rmse_tpe\",\"x\":[3070.8987010700253,3092.1910397238507,3113.483378377676,3134.7757170315017,3156.068055685327,3177.3603943391527,3198.6527329929777,3219.945071646803,3241.2374103006287,3262.529748954454,3283.8220876082796,3305.114426262105,3326.4067649159306,3347.699103569756,3368.9914422235815,3390.2837808774066,3411.576119531232,3432.8684581850575,3454.160796838883,3475.4531354927085,3496.745474146534,3518.0378128003595,3539.330151454185,3560.6224901080104,3581.9148287618355,3603.2071674156614,3624.4995060694864,3645.791844723312,3667.0841833771374,3688.376522030963,3709.6688606847883,3730.961199338614,3752.2535379924393,3773.545876646265,3794.8382153000903,3816.1305539539153,3837.422892607741,3858.7152312615663,3880.0075699153917,3901.299908569217,3922.5922472230427,3943.884585876868,3965.1769245306937,3986.469263184519,4007.761601838344,4029.05394049217,4050.346279145995,4071.6386177998206,4092.930956453646,4114.223295107471,4135.515633761297,4156.807972415123,4178.100311068948,4199.392649722773,4220.684988376599,4241.977327030424,4263.26966568425,4284.562004338075,4305.854342991901,4327.146681645726,4348.439020299551,4369.731358953377,4391.023697607202,4412.316036261028,4433.608374914853,4454.900713568679,4476.193052222504,4497.485390876329,4518.777729530155,4540.070068183981,4561.362406837806,4582.654745491631,4603.947084145457,4625.239422799282,4646.531761453108,4667.824100106933,4689.116438760759,4710.408777414584,4731.701116068409,4752.993454722235,4774.285793376061,4795.578132029886,4816.870470683711,4838.162809337537,4859.455147991362,4880.747486645188,4902.039825299013,4923.3321639528385,4944.624502606664,4965.916841260489,4987.2091799143145,5008.50151856814,5029.7938572219655,5051.0861958757905,5072.378534529616,5093.6708731834415,5114.9632118372665,5136.255550491092,5157.547889144918,5178.840227798743],\"y\":[0.281,0.281,0.281,0.281,0.281,0.281,0.281,0.281,0.281,0.281,0.281,0.281,0.281,0.281,0.281,0.281,0.281,0.281,0.281,0.281,0.281,0.281,0.281,0.281,0.281,0.283,0.283,0.283,0.283,0.283,0.283,0.283,0.283,0.283,0.283,0.283,0.283,0.533,0.533,0.533,0.533,0.533,0.533,0.533,0.585,0.585,0.585,0.585,0.585,0.585,0.718,0.718,0.718,0.718,0.76,0.76,0.76,0.816,0.816,0.816,0.838,0.838,0.859,0.859,0.868,0.868,0.875,0.875,0.879,0.884,0.887,0.889,0.893,0.895,0.896,0.899,0.9,0.904,0.905,0.909,0.914,0.916,0.919,0.924,0.927,0.931,0.935,0.939,0.944,0.947,0.953,0.958,0.962,0.966,0.97,0.977,0.982,0.987,0.993,1.0],\"type\":\"scatter\"}],                        {\"title\":{\"text\":\"Empirical Distribution Function Plot\"},\"xaxis\":{\"title\":{\"text\":\"Objective Value\"}},\"yaxis\":{\"title\":{\"text\":\"Cumulative Probability\"},\"range\":[0,1]},\"template\":{\"data\":{\"bar\":[{\"error_x\":{\"color\":\"#2a3f5f\"},\"error_y\":{\"color\":\"#2a3f5f\"},\"marker\":{\"line\":{\"color\":\"#E5ECF6\",\"width\":0.5},\"pattern\":{\"fillmode\":\"overlay\",\"size\":10,\"solidity\":0.2}},\"type\":\"bar\"}],\"barpolar\":[{\"marker\":{\"line\":{\"color\":\"#E5ECF6\",\"width\":0.5},\"pattern\":{\"fillmode\":\"overlay\",\"size\":10,\"solidity\":0.2}},\"type\":\"barpolar\"}],\"carpet\":[{\"aaxis\":{\"endlinecolor\":\"#2a3f5f\",\"gridcolor\":\"white\",\"linecolor\":\"white\",\"minorgridcolor\":\"white\",\"startlinecolor\":\"#2a3f5f\"},\"baxis\":{\"endlinecolor\":\"#2a3f5f\",\"gridcolor\":\"white\",\"linecolor\":\"white\",\"minorgridcolor\":\"white\",\"startlinecolor\":\"#2a3f5f\"},\"type\":\"carpet\"}],\"choropleth\":[{\"colorbar\":{\"outlinewidth\":0,\"ticks\":\"\"},\"type\":\"choropleth\"}],\"contour\":[{\"colorbar\":{\"outlinewidth\":0,\"ticks\":\"\"},\"colorscale\":[[0.0,\"#0d0887\"],[0.1111111111111111,\"#46039f\"],[0.2222222222222222,\"#7201a8\"],[0.3333333333333333,\"#9c179e\"],[0.4444444444444444,\"#bd3786\"],[0.5555555555555556,\"#d8576b\"],[0.6666666666666666,\"#ed7953\"],[0.7777777777777778,\"#fb9f3a\"],[0.8888888888888888,\"#fdca26\"],[1.0,\"#f0f921\"]],\"type\":\"contour\"}],\"contourcarpet\":[{\"colorbar\":{\"outlinewidth\":0,\"ticks\":\"\"},\"type\":\"contourcarpet\"}],\"heatmap\":[{\"colorbar\":{\"outlinewidth\":0,\"ticks\":\"\"},\"colorscale\":[[0.0,\"#0d0887\"],[0.1111111111111111,\"#46039f\"],[0.2222222222222222,\"#7201a8\"],[0.3333333333333333,\"#9c179e\"],[0.4444444444444444,\"#bd3786\"],[0.5555555555555556,\"#d8576b\"],[0.6666666666666666,\"#ed7953\"],[0.7777777777777778,\"#fb9f3a\"],[0.8888888888888888,\"#fdca26\"],[1.0,\"#f0f921\"]],\"type\":\"heatmap\"}],\"heatmapgl\":[{\"colorbar\":{\"outlinewidth\":0,\"ticks\":\"\"},\"colorscale\":[[0.0,\"#0d0887\"],[0.1111111111111111,\"#46039f\"],[0.2222222222222222,\"#7201a8\"],[0.3333333333333333,\"#9c179e\"],[0.4444444444444444,\"#bd3786\"],[0.5555555555555556,\"#d8576b\"],[0.6666666666666666,\"#ed7953\"],[0.7777777777777778,\"#fb9f3a\"],[0.8888888888888888,\"#fdca26\"],[1.0,\"#f0f921\"]],\"type\":\"heatmapgl\"}],\"histogram\":[{\"marker\":{\"pattern\":{\"fillmode\":\"overlay\",\"size\":10,\"solidity\":0.2}},\"type\":\"histogram\"}],\"histogram2d\":[{\"colorbar\":{\"outlinewidth\":0,\"ticks\":\"\"},\"colorscale\":[[0.0,\"#0d0887\"],[0.1111111111111111,\"#46039f\"],[0.2222222222222222,\"#7201a8\"],[0.3333333333333333,\"#9c179e\"],[0.4444444444444444,\"#bd3786\"],[0.5555555555555556,\"#d8576b\"],[0.6666666666666666,\"#ed7953\"],[0.7777777777777778,\"#fb9f3a\"],[0.8888888888888888,\"#fdca26\"],[1.0,\"#f0f921\"]],\"type\":\"histogram2d\"}],\"histogram2dcontour\":[{\"colorbar\":{\"outlinewidth\":0,\"ticks\":\"\"},\"colorscale\":[[0.0,\"#0d0887\"],[0.1111111111111111,\"#46039f\"],[0.2222222222222222,\"#7201a8\"],[0.3333333333333333,\"#9c179e\"],[0.4444444444444444,\"#bd3786\"],[0.5555555555555556,\"#d8576b\"],[0.6666666666666666,\"#ed7953\"],[0.7777777777777778,\"#fb9f3a\"],[0.8888888888888888,\"#fdca26\"],[1.0,\"#f0f921\"]],\"type\":\"histogram2dcontour\"}],\"mesh3d\":[{\"colorbar\":{\"outlinewidth\":0,\"ticks\":\"\"},\"type\":\"mesh3d\"}],\"parcoords\":[{\"line\":{\"colorbar\":{\"outlinewidth\":0,\"ticks\":\"\"}},\"type\":\"parcoords\"}],\"pie\":[{\"automargin\":true,\"type\":\"pie\"}],\"scatter\":[{\"marker\":{\"colorbar\":{\"outlinewidth\":0,\"ticks\":\"\"}},\"type\":\"scatter\"}],\"scatter3d\":[{\"line\":{\"colorbar\":{\"outlinewidth\":0,\"ticks\":\"\"}},\"marker\":{\"colorbar\":{\"outlinewidth\":0,\"ticks\":\"\"}},\"type\":\"scatter3d\"}],\"scattercarpet\":[{\"marker\":{\"colorbar\":{\"outlinewidth\":0,\"ticks\":\"\"}},\"type\":\"scattercarpet\"}],\"scattergeo\":[{\"marker\":{\"colorbar\":{\"outlinewidth\":0,\"ticks\":\"\"}},\"type\":\"scattergeo\"}],\"scattergl\":[{\"marker\":{\"colorbar\":{\"outlinewidth\":0,\"ticks\":\"\"}},\"type\":\"scattergl\"}],\"scattermapbox\":[{\"marker\":{\"colorbar\":{\"outlinewidth\":0,\"ticks\":\"\"}},\"type\":\"scattermapbox\"}],\"scatterpolar\":[{\"marker\":{\"colorbar\":{\"outlinewidth\":0,\"ticks\":\"\"}},\"type\":\"scatterpolar\"}],\"scatterpolargl\":[{\"marker\":{\"colorbar\":{\"outlinewidth\":0,\"ticks\":\"\"}},\"type\":\"scatterpolargl\"}],\"scatterternary\":[{\"marker\":{\"colorbar\":{\"outlinewidth\":0,\"ticks\":\"\"}},\"type\":\"scatterternary\"}],\"surface\":[{\"colorbar\":{\"outlinewidth\":0,\"ticks\":\"\"},\"colorscale\":[[0.0,\"#0d0887\"],[0.1111111111111111,\"#46039f\"],[0.2222222222222222,\"#7201a8\"],[0.3333333333333333,\"#9c179e\"],[0.4444444444444444,\"#bd3786\"],[0.5555555555555556,\"#d8576b\"],[0.6666666666666666,\"#ed7953\"],[0.7777777777777778,\"#fb9f3a\"],[0.8888888888888888,\"#fdca26\"],[1.0,\"#f0f921\"]],\"type\":\"surface\"}],\"table\":[{\"cells\":{\"fill\":{\"color\":\"#EBF0F8\"},\"line\":{\"color\":\"white\"}},\"header\":{\"fill\":{\"color\":\"#C8D4E3\"},\"line\":{\"color\":\"white\"}},\"type\":\"table\"}]},\"layout\":{\"annotationdefaults\":{\"arrowcolor\":\"#2a3f5f\",\"arrowhead\":0,\"arrowwidth\":1},\"autotypenumbers\":\"strict\",\"coloraxis\":{\"colorbar\":{\"outlinewidth\":0,\"ticks\":\"\"}},\"colorscale\":{\"diverging\":[[0,\"#8e0152\"],[0.1,\"#c51b7d\"],[0.2,\"#de77ae\"],[0.3,\"#f1b6da\"],[0.4,\"#fde0ef\"],[0.5,\"#f7f7f7\"],[0.6,\"#e6f5d0\"],[0.7,\"#b8e186\"],[0.8,\"#7fbc41\"],[0.9,\"#4d9221\"],[1,\"#276419\"]],\"sequential\":[[0.0,\"#0d0887\"],[0.1111111111111111,\"#46039f\"],[0.2222222222222222,\"#7201a8\"],[0.3333333333333333,\"#9c179e\"],[0.4444444444444444,\"#bd3786\"],[0.5555555555555556,\"#d8576b\"],[0.6666666666666666,\"#ed7953\"],[0.7777777777777778,\"#fb9f3a\"],[0.8888888888888888,\"#fdca26\"],[1.0,\"#f0f921\"]],\"sequentialminus\":[[0.0,\"#0d0887\"],[0.1111111111111111,\"#46039f\"],[0.2222222222222222,\"#7201a8\"],[0.3333333333333333,\"#9c179e\"],[0.4444444444444444,\"#bd3786\"],[0.5555555555555556,\"#d8576b\"],[0.6666666666666666,\"#ed7953\"],[0.7777777777777778,\"#fb9f3a\"],[0.8888888888888888,\"#fdca26\"],[1.0,\"#f0f921\"]]},\"colorway\":[\"#636efa\",\"#EF553B\",\"#00cc96\",\"#ab63fa\",\"#FFA15A\",\"#19d3f3\",\"#FF6692\",\"#B6E880\",\"#FF97FF\",\"#FECB52\"],\"font\":{\"color\":\"#2a3f5f\"},\"geo\":{\"bgcolor\":\"white\",\"lakecolor\":\"white\",\"landcolor\":\"#E5ECF6\",\"showlakes\":true,\"showland\":true,\"subunitcolor\":\"white\"},\"hoverlabel\":{\"align\":\"left\"},\"hovermode\":\"closest\",\"mapbox\":{\"style\":\"light\"},\"paper_bgcolor\":\"white\",\"plot_bgcolor\":\"#E5ECF6\",\"polar\":{\"angularaxis\":{\"gridcolor\":\"white\",\"linecolor\":\"white\",\"ticks\":\"\"},\"bgcolor\":\"#E5ECF6\",\"radialaxis\":{\"gridcolor\":\"white\",\"linecolor\":\"white\",\"ticks\":\"\"}},\"scene\":{\"xaxis\":{\"backgroundcolor\":\"#E5ECF6\",\"gridcolor\":\"white\",\"gridwidth\":2,\"linecolor\":\"white\",\"showbackground\":true,\"ticks\":\"\",\"zerolinecolor\":\"white\"},\"yaxis\":{\"backgroundcolor\":\"#E5ECF6\",\"gridcolor\":\"white\",\"gridwidth\":2,\"linecolor\":\"white\",\"showbackground\":true,\"ticks\":\"\",\"zerolinecolor\":\"white\"},\"zaxis\":{\"backgroundcolor\":\"#E5ECF6\",\"gridcolor\":\"white\",\"gridwidth\":2,\"linecolor\":\"white\",\"showbackground\":true,\"ticks\":\"\",\"zerolinecolor\":\"white\"}},\"shapedefaults\":{\"line\":{\"color\":\"#2a3f5f\"}},\"ternary\":{\"aaxis\":{\"gridcolor\":\"white\",\"linecolor\":\"white\",\"ticks\":\"\"},\"baxis\":{\"gridcolor\":\"white\",\"linecolor\":\"white\",\"ticks\":\"\"},\"bgcolor\":\"#E5ECF6\",\"caxis\":{\"gridcolor\":\"white\",\"linecolor\":\"white\",\"ticks\":\"\"}},\"title\":{\"x\":0.05},\"xaxis\":{\"automargin\":true,\"gridcolor\":\"white\",\"linecolor\":\"white\",\"ticks\":\"\",\"title\":{\"standoff\":15},\"zerolinecolor\":\"white\",\"zerolinewidth\":2},\"yaxis\":{\"automargin\":true,\"gridcolor\":\"white\",\"linecolor\":\"white\",\"ticks\":\"\",\"title\":{\"standoff\":15},\"zerolinecolor\":\"white\",\"zerolinewidth\":2}}}},                        {\"responsive\": true}                    ).then(function(){\n",
              "                            \n",
              "var gd = document.getElementById('21f77bec-4cd8-4785-b7b1-764e827d540f');\n",
              "var x = new MutationObserver(function (mutations, observer) {{\n",
              "        var display = window.getComputedStyle(gd).display;\n",
              "        if (!display || display === 'none') {{\n",
              "            console.log([gd, 'removed!']);\n",
              "            Plotly.purge(gd);\n",
              "            observer.disconnect();\n",
              "        }}\n",
              "}});\n",
              "\n",
              "// Listen for the removal of the full notebook cells\n",
              "var notebookContainer = gd.closest('#notebook-container');\n",
              "if (notebookContainer) {{\n",
              "    x.observe(notebookContainer, {childList: true});\n",
              "}}\n",
              "\n",
              "// Listen for the clearing of the current output cell\n",
              "var outputEl = gd.closest('.output');\n",
              "if (outputEl) {{\n",
              "    x.observe(outputEl, {childList: true});\n",
              "}}\n",
              "\n",
              "                        })                };                            </script>        </div>\n",
              "</body>\n",
              "</html>"
            ]
          },
          "metadata": {}
        }
      ],
      "source": [
        "# Visualize empirical distribution function\n",
        "fig = optuna.visualization.plot_edf(study)\n",
        "py.plot(fig, filename='edf_KNR_Optuna_1000_GPU.html')\n",
        "fig.show()"
      ]
    },
    {
      "cell_type": "code",
      "execution_count": null,
      "metadata": {
        "id": "8slxCQPx14Xf",
        "colab": {
          "base_uri": "https://localhost:8080/"
        },
        "outputId": "4da97d7f-5013-4305-bb26-b6523a2a1254"
      },
      "outputs": [
        {
          "output_type": "execute_result",
          "data": {
            "text/plain": [
              "{'n_neighbors': 2, 'metric': 'manhattan'}"
            ]
          },
          "metadata": {},
          "execution_count": 54
        }
      ],
      "source": [
        "# Arrange best parameters to fit model for model metrics\n",
        "params = study.best_params   \n",
        "params"
      ]
    },
    {
      "cell_type": "code",
      "execution_count": null,
      "metadata": {
        "id": "O_ZodNHH14Xf",
        "colab": {
          "base_uri": "https://localhost:8080/"
        },
        "outputId": "c0efa8f4-6acf-43b9-9df2-2245174ea80d"
      },
      "outputs": [
        {
          "output_type": "stream",
          "name": "stdout",
          "text": [
            "/content/drive/MyDrive/UsedCarsCarGurus/Models/ML/KNR/Optuna/Model_PKL\n"
          ]
        }
      ],
      "source": [
        "# Write results to ML Results\n",
        "%cd /content/drive/MyDrive/UsedCarsCarGurus/Models/ML/KNR/Optuna/Model_PKL/"
      ]
    },
    {
      "cell_type": "code",
      "source": [
        "# Re-create the best model and train on the training data\n",
        "best_model = KNeighborsRegressor(n_neighbors=2, metric='manhattan')\n",
        "\n",
        "# Fit the model\n",
        "best_model.fit(X_train, y_train)\n",
        "\n",
        "# Save model\n",
        "Pkl_Filename = 'KNR_Optuna_trials1000_GPU_man.pkl'  \n",
        "\n",
        "with open(Pkl_Filename, 'wb') as file:  \n",
        "    pickle.dump(best_model, file)\n",
        "\n",
        "# =============================================================================\n",
        "# # To load saved model\n",
        "# model = joblib.load('KNR_Optuna_trials1000_GPU_man.pkl')\n",
        "# print(model)\n",
        "# ============================================================================="
      ],
      "metadata": {
        "id": "yXSSlBJl_dHr"
      },
      "execution_count": null,
      "outputs": []
    },
    {
      "cell_type": "code",
      "execution_count": null,
      "metadata": {
        "id": "iXpGE6IO_dHt",
        "colab": {
          "base_uri": "https://localhost:8080/"
        },
        "outputId": "92dcbc62-7393-462d-bb41-91948700a8db"
      },
      "outputs": [
        {
          "output_type": "stream",
          "name": "stdout",
          "text": [
            "\n",
            "Model Metrics for KNR HPO 1000 GPU trials - Manhattan\n",
            "MAE train: 1984.275, test: 1984.275\n",
            "MSE train: 8089934.424, test: 8089934.424\n",
            "RMSE train: 2844.281, test: 2844.281\n",
            "R^2 train: 0.912, test: 0.912\n"
          ]
        }
      ],
      "source": [
        "print('\\nModel Metrics for KNR HPO 1000 GPU trials - Manhattan')\n",
        "y_train_pred = best_model.predict(X_train)\n",
        "y_test_pred = best_model.predict(X_test)\n",
        "\n",
        "print('MAE train: %.3f, test: %.3f' % (\n",
        "        mean_absolute_error(y_train.to_numpy(), y_train_pred.to_numpy()),\n",
        "        mean_absolute_error(y_test.to_numpy(), y_test_pred.to_numpy())))\n",
        "print('MSE train: %.3f, test: %.3f' % (\n",
        "        mean_squared_error(y_train.to_numpy(), y_train_pred.to_numpy()),\n",
        "        mean_squared_error(y_test.to_numpy(), y_test_pred.to_numpy())))\n",
        "print('RMSE train: %.3f, test: %.3f' % (\n",
        "        mean_squared_error(y_train.to_numpy(), y_train_pred.to_numpy(), \n",
        "                           squared=False),\n",
        "        mean_squared_error(y_test.to_numpy(), y_test_pred.to_numpy(), \n",
        "                           squared=False)))\n",
        "print('R^2 train: %.3f, test: %.3f' % (\n",
        "        r2_score(y_train.to_numpy(), y_train_pred.to_numpy()),\n",
        "        r2_score(y_test.to_numpy(), y_test_pred.to_numpy())))"
      ]
    },
    {
      "cell_type": "code",
      "source": [
        "# Evaluate on the testing data \n",
        "print('The best model from optimization scores {:.5f} MSE on the test set.'.format(mean_squared_error(y_test.to_numpy(), \n",
        "                                                                                                      y_test_pred.to_numpy())))\n",
        "print('This was achieved using these conditions:')\n",
        "print(trials_df.iloc[0])"
      ],
      "metadata": {
        "colab": {
          "base_uri": "https://localhost:8080/"
        },
        "id": "sP8y3Y6-UAvx",
        "outputId": "bc6f02a7-642b-4dc4-8a2b-87d3223feeaf"
      },
      "execution_count": null,
      "outputs": [
        {
          "output_type": "stream",
          "name": "stdout",
          "text": [
            "The best model from optimization scores 9849685.25368 MSE on the test set.\n",
            "This was achieved using these conditions:\n",
            "iteration                                   706\n",
            "rmse                                3070.898701\n",
            "datetime_start       2023-02-25 06:06:16.039692\n",
            "datetime_complete    2023-02-25 06:06:20.842922\n",
            "duration                 0 days 00:00:04.803230\n",
            "metric                                chebyshev\n",
            "n_neighbors                                   2\n",
            "state                                  COMPLETE\n",
            "Name: 706, dtype: object\n"
          ]
        }
      ]
    },
    {
      "cell_type": "code",
      "source": [
        "# Re-create the best model and train on the training data\n",
        "# Tie for lowest RMSE\n",
        "best_model = KNeighborsRegressor(n_neighbors=2, metric='minkowski')\n",
        "\n",
        "# Fit the model\n",
        "best_model.fit(X_train, y_train)\n",
        "\n",
        "# Save model\n",
        "Pkl_Filename = 'KNR_Optuna_trials1000_GPU_min.pkl'  \n",
        "\n",
        "with open(Pkl_Filename, 'wb') as file:  \n",
        "    pickle.dump(best_model, file)\n",
        "\n",
        "# =============================================================================\n",
        "# # To load saved model\n",
        "# model = joblib.load('KNR_Optuna_trials1000_GPU_min.pkl')\n",
        "# print(model)\n",
        "# ============================================================================="
      ],
      "metadata": {
        "id": "lBhlZbsO14Xh"
      },
      "execution_count": null,
      "outputs": []
    },
    {
      "cell_type": "code",
      "execution_count": null,
      "metadata": {
        "id": "9j8LSenQ14Xi",
        "colab": {
          "base_uri": "https://localhost:8080/"
        },
        "outputId": "7d46862d-ba60-4b7f-c8fb-4d4dc05bf283"
      },
      "outputs": [
        {
          "output_type": "stream",
          "name": "stdout",
          "text": [
            "\n",
            "Model Metrics for KNR HPO 1000 GPU trials - Minkowski\n",
            "MAE train: 2180.592, test: 2180.592\n",
            "MSE train: 9430418.832, test: 9430418.832\n",
            "RMSE train: 3070.899, test: 3070.899\n",
            "R^2 train: 0.897, test: 0.897\n"
          ]
        }
      ],
      "source": [
        "print('\\nModel Metrics for KNR HPO 1000 GPU trials - Minkowski')\n",
        "y_train_pred = best_model.predict(X_train)\n",
        "y_test_pred = best_model.predict(X_test)\n",
        "\n",
        "print('MAE train: %.3f, test: %.3f' % (\n",
        "        mean_absolute_error(y_train.to_numpy(), y_train_pred.to_numpy()),\n",
        "        mean_absolute_error(y_test.to_numpy(), y_test_pred.to_numpy())))\n",
        "print('MSE train: %.3f, test: %.3f' % (\n",
        "        mean_squared_error(y_train.to_numpy(), y_train_pred.to_numpy()),\n",
        "        mean_squared_error(y_test.to_numpy(), y_test_pred.to_numpy())))\n",
        "print('RMSE train: %.3f, test: %.3f' % (\n",
        "        mean_squared_error(y_train.to_numpy(), y_train_pred.to_numpy(), \n",
        "                           squared=False),\n",
        "        mean_squared_error(y_test.to_numpy(), y_test_pred.to_numpy(), \n",
        "                           squared=False)))\n",
        "print('R^2 train: %.3f, test: %.3f' % (\n",
        "        r2_score(y_train.to_numpy(), y_train_pred.to_numpy()),\n",
        "        r2_score(y_test.to_numpy(), y_test_pred.to_numpy())))"
      ]
    },
    {
      "cell_type": "code",
      "source": [
        "# Re-create the best model and train on the training data\n",
        "# Test other distance\n",
        "best_model = KNeighborsRegressor(n_neighbors=2, metric='euclidean')\n",
        "\n",
        "# Fit the model\n",
        "best_model.fit(X_train, y_train)\n",
        "\n",
        "# Save model\n",
        "Pkl_Filename = 'KNR_Optuna_trials1000_GPU_euc.pkl'  \n",
        "\n",
        "with open(Pkl_Filename, 'wb') as file:  \n",
        "    pickle.dump(best_model, file)\n",
        "\n",
        "# =============================================================================\n",
        "# # To load saved model\n",
        "# model = joblib.load('KNR_Optuna_trials1000_GPU_euc.pkl')\n",
        "# print(model)\n",
        "# ============================================================================="
      ],
      "metadata": {
        "id": "v4zMzKaJHx42"
      },
      "execution_count": null,
      "outputs": []
    },
    {
      "cell_type": "code",
      "execution_count": null,
      "metadata": {
        "id": "uyMI0fyAHx43",
        "colab": {
          "base_uri": "https://localhost:8080/"
        },
        "outputId": "d66a4979-fa71-462a-8987-787ac2aac194"
      },
      "outputs": [
        {
          "output_type": "stream",
          "name": "stdout",
          "text": [
            "\n",
            "Model Metrics for KNR HPO 1000 GPU trials - Euclidean\n",
            "MAE train: 2180.592, test: 2180.592\n",
            "MSE train: 9430418.832, test: 9430418.832\n",
            "RMSE train: 3070.899, test: 3070.899\n",
            "R^2 train: 0.897, test: 0.897\n"
          ]
        }
      ],
      "source": [
        "print('\\nModel Metrics for KNR HPO 1000 GPU trials - Euclidean')\n",
        "y_train_pred = best_model.predict(X_train)\n",
        "y_test_pred = best_model.predict(X_test)\n",
        "\n",
        "print('MAE train: %.3f, test: %.3f' % (\n",
        "        mean_absolute_error(y_train.to_numpy(), y_train_pred.to_numpy()),\n",
        "        mean_absolute_error(y_test.to_numpy(), y_test_pred.to_numpy())))\n",
        "print('MSE train: %.3f, test: %.3f' % (\n",
        "        mean_squared_error(y_train.to_numpy(), y_train_pred.to_numpy()),\n",
        "        mean_squared_error(y_test.to_numpy(), y_test_pred.to_numpy())))\n",
        "print('RMSE train: %.3f, test: %.3f' % (\n",
        "        mean_squared_error(y_train.to_numpy(), y_train_pred.to_numpy(), \n",
        "                           squared=False),\n",
        "        mean_squared_error(y_test.to_numpy(), y_test_pred.to_numpy(), \n",
        "                           squared=False)))\n",
        "print('R^2 train: %.3f, test: %.3f' % (\n",
        "        r2_score(y_train.to_numpy(), y_train_pred.to_numpy()),\n",
        "        r2_score(y_test.to_numpy(), y_test_pred.to_numpy())))"
      ]
    },
    {
      "cell_type": "code",
      "source": [
        "# Re-create the best model and train on the training data\n",
        "# Test other distance\n",
        "best_model = KNeighborsRegressor(n_neighbors=2, metric='chebyshev')\n",
        "\n",
        "# Fit the model\n",
        "best_model.fit(X_train, y_train)\n",
        "\n",
        "# Save model\n",
        "Pkl_Filename = 'KNR_Optuna_trials1000_GPU_cheb.pkl'  \n",
        "\n",
        "with open(Pkl_Filename, 'wb') as file:  \n",
        "    pickle.dump(best_model, file)\n",
        "\n",
        "# =============================================================================\n",
        "# # To load saved model\n",
        "# model = joblib.load('KNR_Optuna_trials1000_GPU_cheb.pkl')\n",
        "# print(model)\n",
        "# ============================================================================="
      ],
      "metadata": {
        "id": "i9KXLAsCICFk"
      },
      "execution_count": null,
      "outputs": []
    },
    {
      "cell_type": "code",
      "execution_count": null,
      "metadata": {
        "id": "BjNf4k-gICFm",
        "colab": {
          "base_uri": "https://localhost:8080/"
        },
        "outputId": "c17e4a52-ec6e-4d60-d9be-cf383059e8ee"
      },
      "outputs": [
        {
          "output_type": "stream",
          "name": "stdout",
          "text": [
            "\n",
            "Model Metrics for KNR HPO 1000 GPU trials - Chebyshev\n",
            "MAE train: 2231.101, test: 2231.101\n",
            "MSE train: 9849685.254, test: 9849685.254\n",
            "RMSE train: 3138.421, test: 3138.421\n",
            "R^2 train: 0.892, test: 0.892\n"
          ]
        }
      ],
      "source": [
        "print('\\nModel Metrics for KNR HPO 1000 GPU trials - Chebyshev')\n",
        "y_train_pred = best_model.predict(X_train)\n",
        "y_test_pred = best_model.predict(X_test)\n",
        "\n",
        "print('MAE train: %.3f, test: %.3f' % (\n",
        "        mean_absolute_error(y_train.to_numpy(), y_train_pred.to_numpy()),\n",
        "        mean_absolute_error(y_test.to_numpy(), y_test_pred.to_numpy())))\n",
        "print('MSE train: %.3f, test: %.3f' % (\n",
        "        mean_squared_error(y_train.to_numpy(), y_train_pred.to_numpy()),\n",
        "        mean_squared_error(y_test.to_numpy(), y_test_pred.to_numpy())))\n",
        "print('RMSE train: %.3f, test: %.3f' % (\n",
        "        mean_squared_error(y_train.to_numpy(), y_train_pred.to_numpy(), \n",
        "                           squared=False),\n",
        "        mean_squared_error(y_test.to_numpy(), y_test_pred.to_numpy(),\n",
        "                           squared=False)))\n",
        "print('R^2 train: %.3f, test: %.3f' % (\n",
        "        r2_score(y_train.to_numpy(), y_train_pred.to_numpy()),\n",
        "        r2_score(y_test.to_numpy(), y_test_pred.to_numpy())))"
      ]
    }
  ],
  "metadata": {
    "accelerator": "GPU",
    "colab": {
      "machine_shape": "hm",
      "provenance": [],
      "toc_visible": true
    },
    "kernelspec": {
      "display_name": "Python 3",
      "name": "python3"
    },
    "language_info": {
      "name": "python"
    }
  },
  "nbformat": 4,
  "nbformat_minor": 0
}